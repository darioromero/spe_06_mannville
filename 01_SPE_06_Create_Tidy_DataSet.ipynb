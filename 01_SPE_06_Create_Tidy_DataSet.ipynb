{
 "cells": [
  {
   "cell_type": "code",
   "execution_count": 1,
   "metadata": {},
   "outputs": [
    {
     "name": "stderr",
     "output_type": "stream",
     "text": [
      "Python 3.6.3 :: Anaconda custom (64-bit)\n"
     ]
    }
   ],
   "source": [
    "!python -V"
   ]
  },
  {
   "cell_type": "markdown",
   "metadata": {},
   "source": [
    "# iPython Notebook -- Create Tidy DataSet\n",
    "\n",
    "- Change the location of your {home} dataset before running this notebook\n",
    "- The structure of files required in this notebook is similar to this:\n",
    "\n",
    "    {home}:\n",
    "      |\n",
    "      --> well_lat_lng.csv (latitude & longitude coordinates)\n",
    "      |\n",
    "      --> {SPE_006_originalData/OilSandsDB}\n",
    "            |\n",
    "            --> PICKS_DIC.TXT\n",
    "            --> PICKS.TXT\n",
    "            --> WELLS.TXT\n",
    "            --> {Logs}\n",
    "                  |\n",
    "                  --> All logs files (las files)\n",
    " "
   ]
  },
  {
   "cell_type": "markdown",
   "metadata": {},
   "source": [
    "## Import Libraries"
   ]
  },
  {
   "cell_type": "code",
   "execution_count": 4,
   "metadata": {},
   "outputs": [
    {
     "data": {
      "text/plain": [
       "'0.19'"
      ]
     },
     "execution_count": 4,
     "metadata": {},
     "output_type": "execute_result"
    }
   ],
   "source": [
    "import os\n",
    "import glob\n",
    "import pandas as pd\n",
    "import numpy as np\n",
    "import holoviews as hv\n",
    "import collections\n",
    "import matplotlib.pyplot as plt\n",
    "%matplotlib inline\n",
    "import lasio\n",
    "lasio.__version__"
   ]
  },
  {
   "cell_type": "markdown",
   "metadata": {},
   "source": [
    "## Home directory"
   ]
  },
  {
   "cell_type": "code",
   "execution_count": 5,
   "metadata": {},
   "outputs": [],
   "source": [
    "home = \"./SPE_006_originalData/OilSandsDB\"\n",
    "pd.set_option('display.width', 120)"
   ]
  },
  {
   "cell_type": "markdown",
   "metadata": {},
   "source": [
    "## Read well locations"
   ]
  },
  {
   "cell_type": "code",
   "execution_count": 6,
   "metadata": {},
   "outputs": [
    {
     "data": {
      "text/html": [
       "<div>\n",
       "<style scoped>\n",
       "    .dataframe tbody tr th:only-of-type {\n",
       "        vertical-align: middle;\n",
       "    }\n",
       "\n",
       "    .dataframe tbody tr th {\n",
       "        vertical-align: top;\n",
       "    }\n",
       "\n",
       "    .dataframe thead th {\n",
       "        text-align: right;\n",
       "    }\n",
       "</style>\n",
       "<table border=\"1\" class=\"dataframe\">\n",
       "  <thead>\n",
       "    <tr style=\"text-align: right;\">\n",
       "      <th></th>\n",
       "      <th>SitID</th>\n",
       "      <th>lng</th>\n",
       "      <th>lat</th>\n",
       "    </tr>\n",
       "  </thead>\n",
       "  <tbody>\n",
       "    <tr>\n",
       "      <th>0</th>\n",
       "      <td>102496</td>\n",
       "      <td>-110.12932</td>\n",
       "      <td>54.785907</td>\n",
       "    </tr>\n",
       "    <tr>\n",
       "      <th>1</th>\n",
       "      <td>102497</td>\n",
       "      <td>-110.269446</td>\n",
       "      <td>54.782284</td>\n",
       "    </tr>\n",
       "    <tr>\n",
       "      <th>2</th>\n",
       "      <td>102498</td>\n",
       "      <td>-110.186851</td>\n",
       "      <td>54.785892</td>\n",
       "    </tr>\n",
       "    <tr>\n",
       "      <th>3</th>\n",
       "      <td>102500</td>\n",
       "      <td>-110.269422</td>\n",
       "      <td>54.829624</td>\n",
       "    </tr>\n",
       "    <tr>\n",
       "      <th>4</th>\n",
       "      <td>102501</td>\n",
       "      <td>-110.224832</td>\n",
       "      <td>54.840471</td>\n",
       "    </tr>\n",
       "  </tbody>\n",
       "</table>\n",
       "</div>"
      ],
      "text/plain": [
       "    SitID          lng        lat\n",
       "0  102496   -110.12932  54.785907\n",
       "1  102497  -110.269446  54.782284\n",
       "2  102498  -110.186851  54.785892\n",
       "3  102500  -110.269422  54.829624\n",
       "4  102501  -110.224832  54.840471"
      ]
     },
     "execution_count": 6,
     "metadata": {},
     "output_type": "execute_result"
    }
   ],
   "source": [
    "# read Site ID (SitID) with lat and long coordinates\n",
    "locations = pd.read_csv(\"./well_lat_lng.csv\", delimiter=',', dtype=str)\n",
    "locations = locations[['SitID', 'lng', 'lat']]\n",
    "locations.head()"
   ]
  },
  {
   "cell_type": "markdown",
   "metadata": {},
   "source": [
    "## Read dictionary of Stratigraphic picks"
   ]
  },
  {
   "cell_type": "code",
   "execution_count": 7,
   "metadata": {},
   "outputs": [
    {
     "data": {
      "text/html": [
       "<div>\n",
       "<style scoped>\n",
       "    .dataframe tbody tr th:only-of-type {\n",
       "        vertical-align: middle;\n",
       "    }\n",
       "\n",
       "    .dataframe tbody tr th {\n",
       "        vertical-align: top;\n",
       "    }\n",
       "\n",
       "    .dataframe thead th {\n",
       "        text-align: right;\n",
       "    }\n",
       "</style>\n",
       "<table border=\"1\" class=\"dataframe\">\n",
       "  <thead>\n",
       "    <tr style=\"text-align: right;\">\n",
       "      <th></th>\n",
       "      <th>HorID</th>\n",
       "      <th>Description</th>\n",
       "    </tr>\n",
       "  </thead>\n",
       "  <tbody>\n",
       "    <tr>\n",
       "      <th>0</th>\n",
       "      <td>1000</td>\n",
       "      <td>mannville</td>\n",
       "    </tr>\n",
       "    <tr>\n",
       "      <th>1</th>\n",
       "      <td>2000</td>\n",
       "      <td>t61</td>\n",
       "    </tr>\n",
       "    <tr>\n",
       "      <th>2</th>\n",
       "      <td>3000</td>\n",
       "      <td>t51</td>\n",
       "    </tr>\n",
       "    <tr>\n",
       "      <th>3</th>\n",
       "      <td>4000</td>\n",
       "      <td>t41</td>\n",
       "    </tr>\n",
       "    <tr>\n",
       "      <th>4</th>\n",
       "      <td>5000</td>\n",
       "      <td>t31</td>\n",
       "    </tr>\n",
       "  </tbody>\n",
       "</table>\n",
       "</div>"
      ],
      "text/plain": [
       "  HorID Description\n",
       "0  1000   mannville\n",
       "1  2000         t61\n",
       "2  3000         t51\n",
       "3  4000         t41\n",
       "4  5000         t31"
      ]
     },
     "execution_count": 7,
     "metadata": {},
     "output_type": "execute_result"
    }
   ],
   "source": [
    "# describe the stratigraphic 'picks' used in Picks\n",
    "picks_dicts = pd.read_csv(home + \"/PICKS_DIC.TXT\", delimiter='\\t', dtype=str)\n",
    "picks_dicts.columns = ['HorID', 'Description']\n",
    "picks_dicts.head()"
   ]
  },
  {
   "cell_type": "markdown",
   "metadata": {},
   "source": [
    "## Read stratigraphic picks "
   ]
  },
  {
   "cell_type": "code",
   "execution_count": 8,
   "metadata": {},
   "outputs": [
    {
     "data": {
      "text/html": [
       "<div>\n",
       "<style scoped>\n",
       "    .dataframe tbody tr th:only-of-type {\n",
       "        vertical-align: middle;\n",
       "    }\n",
       "\n",
       "    .dataframe tbody tr th {\n",
       "        vertical-align: top;\n",
       "    }\n",
       "\n",
       "    .dataframe thead th {\n",
       "        text-align: right;\n",
       "    }\n",
       "</style>\n",
       "<table border=\"1\" class=\"dataframe\">\n",
       "  <thead>\n",
       "    <tr style=\"text-align: right;\">\n",
       "      <th></th>\n",
       "      <th>SitID</th>\n",
       "      <th>HorID</th>\n",
       "      <th>Pick</th>\n",
       "      <th>Quality</th>\n",
       "    </tr>\n",
       "  </thead>\n",
       "  <tbody>\n",
       "    <tr>\n",
       "      <th>0</th>\n",
       "      <td>102496</td>\n",
       "      <td>1000</td>\n",
       "      <td>321.0</td>\n",
       "      <td>1</td>\n",
       "    </tr>\n",
       "    <tr>\n",
       "      <th>4</th>\n",
       "      <td>102496</td>\n",
       "      <td>5000</td>\n",
       "      <td>438.0</td>\n",
       "      <td>2</td>\n",
       "    </tr>\n",
       "    <tr>\n",
       "      <th>6</th>\n",
       "      <td>102496</td>\n",
       "      <td>7000</td>\n",
       "      <td>458.0</td>\n",
       "      <td>3</td>\n",
       "    </tr>\n",
       "    <tr>\n",
       "      <th>7</th>\n",
       "      <td>102496</td>\n",
       "      <td>9000</td>\n",
       "      <td>468.0</td>\n",
       "      <td>3</td>\n",
       "    </tr>\n",
       "    <tr>\n",
       "      <th>8</th>\n",
       "      <td>102496</td>\n",
       "      <td>9500</td>\n",
       "      <td>468.0</td>\n",
       "      <td>3</td>\n",
       "    </tr>\n",
       "  </tbody>\n",
       "</table>\n",
       "</div>"
      ],
      "text/plain": [
       "    SitID HorID   Pick  Quality\n",
       "0  102496  1000  321.0        1\n",
       "4  102496  5000  438.0        2\n",
       "6  102496  7000  458.0        3\n",
       "7  102496  9000  468.0        3\n",
       "8  102496  9500  468.0        3"
      ]
     },
     "execution_count": 8,
     "metadata": {},
     "output_type": "execute_result"
    }
   ],
   "source": [
    "# stratigraphic picks and dropping NaN values\n",
    "picks = pd.read_csv(home + \"/PICKS.TXT\", delimiter='\\t')\n",
    "picks['SitID'] = picks['SitID'].astype(str)\n",
    "picks['HorID'] = picks['HorID'].astype(str)\n",
    "picks['Pick'] = picks['Pick'].str.strip()\n",
    "picks['Pick'] = pd.to_numeric(picks['Pick'])\n",
    "# drop rows with NA values\n",
    "picks = picks.dropna()\n",
    "picks.head()"
   ]
  },
  {
   "cell_type": "markdown",
   "metadata": {},
   "source": [
    "## Read wells with SiteID and UWI"
   ]
  },
  {
   "cell_type": "code",
   "execution_count": 9,
   "metadata": {},
   "outputs": [
    {
     "data": {
      "text/html": [
       "<div>\n",
       "<style scoped>\n",
       "    .dataframe tbody tr th:only-of-type {\n",
       "        vertical-align: middle;\n",
       "    }\n",
       "\n",
       "    .dataframe tbody tr th {\n",
       "        vertical-align: top;\n",
       "    }\n",
       "\n",
       "    .dataframe thead th {\n",
       "        text-align: right;\n",
       "    }\n",
       "</style>\n",
       "<table border=\"1\" class=\"dataframe\">\n",
       "  <thead>\n",
       "    <tr style=\"text-align: right;\">\n",
       "      <th></th>\n",
       "      <th>SitID</th>\n",
       "      <th>UWI (AGS)</th>\n",
       "      <th>UWI</th>\n",
       "    </tr>\n",
       "  </thead>\n",
       "  <tbody>\n",
       "    <tr>\n",
       "      <th>0</th>\n",
       "      <td>102496</td>\n",
       "      <td>0674010812000</td>\n",
       "      <td>00/12-08-067-01W4/0</td>\n",
       "    </tr>\n",
       "    <tr>\n",
       "      <th>1</th>\n",
       "      <td>102497</td>\n",
       "      <td>0674020807000</td>\n",
       "      <td>00/07-08-067-02W4/0</td>\n",
       "    </tr>\n",
       "    <tr>\n",
       "      <th>2</th>\n",
       "      <td>102498</td>\n",
       "      <td>0674021109000</td>\n",
       "      <td>00/09-11-067-02W4/0</td>\n",
       "    </tr>\n",
       "    <tr>\n",
       "      <th>3</th>\n",
       "      <td>102500</td>\n",
       "      <td>0674022910000</td>\n",
       "      <td>00/10-29-067-02W4/0</td>\n",
       "    </tr>\n",
       "    <tr>\n",
       "      <th>4</th>\n",
       "      <td>102501</td>\n",
       "      <td>0674023406000</td>\n",
       "      <td>00/06-34-067-02W4/0</td>\n",
       "    </tr>\n",
       "  </tbody>\n",
       "</table>\n",
       "</div>"
      ],
      "text/plain": [
       "    SitID      UWI (AGS)                  UWI\n",
       "0  102496  0674010812000  00/12-08-067-01W4/0\n",
       "1  102497  0674020807000  00/07-08-067-02W4/0\n",
       "2  102498  0674021109000  00/09-11-067-02W4/0\n",
       "3  102500  0674022910000  00/10-29-067-02W4/0\n",
       "4  102501  0674023406000  00/06-34-067-02W4/0"
      ]
     },
     "execution_count": 9,
     "metadata": {},
     "output_type": "execute_result"
    }
   ],
   "source": [
    "# list of wells\n",
    "wellst = pd.read_csv(home + \"/WELLS.TXT\", delimiter= '\\t', dtype=str)\n",
    "wellst.head()"
   ]
  },
  {
   "cell_type": "markdown",
   "metadata": {},
   "source": [
    "## Merging Wells, Locations, and Picks by SiteID"
   ]
  },
  {
   "cell_type": "code",
   "execution_count": 10,
   "metadata": {},
   "outputs": [
    {
     "data": {
      "text/plain": [
       "Index(['SitID', 'HorID', 'Pick', 'Quality', 'UWI (AGS)', 'UWI', 'lng', 'lat'], dtype='object')"
      ]
     },
     "execution_count": 10,
     "metadata": {},
     "output_type": "execute_result"
    }
   ],
   "source": [
    "# merge wellst, locations, and picks in one dataframe\n",
    "wl = pd.merge(left=wellst, right=locations, left_on=['SitID'], right_on=['SitID'], how='left')\n",
    "wlp = pd.merge(left=picks, right=wl, left_on=['SitID'], right_on=['SitID'], how='left')\n",
    "wlp.columns"
   ]
  },
  {
   "cell_type": "code",
   "execution_count": 11,
   "metadata": {},
   "outputs": [
    {
     "data": {
      "text/html": [
       "<div>\n",
       "<style scoped>\n",
       "    .dataframe tbody tr th:only-of-type {\n",
       "        vertical-align: middle;\n",
       "    }\n",
       "\n",
       "    .dataframe tbody tr th {\n",
       "        vertical-align: top;\n",
       "    }\n",
       "\n",
       "    .dataframe thead th {\n",
       "        text-align: right;\n",
       "    }\n",
       "</style>\n",
       "<table border=\"1\" class=\"dataframe\">\n",
       "  <thead>\n",
       "    <tr style=\"text-align: right;\">\n",
       "      <th></th>\n",
       "      <th>SitID</th>\n",
       "      <th>HorID</th>\n",
       "      <th>Pick</th>\n",
       "      <th>Quality</th>\n",
       "      <th>UWI (AGS)</th>\n",
       "      <th>UWI</th>\n",
       "      <th>lng</th>\n",
       "      <th>lat</th>\n",
       "    </tr>\n",
       "  </thead>\n",
       "  <tbody>\n",
       "    <tr>\n",
       "      <th>0</th>\n",
       "      <td>102496</td>\n",
       "      <td>1000</td>\n",
       "      <td>321.0</td>\n",
       "      <td>1</td>\n",
       "      <td>0674010812000</td>\n",
       "      <td>00/12-08-067-01W4/0</td>\n",
       "      <td>-110.12932</td>\n",
       "      <td>54.785907</td>\n",
       "    </tr>\n",
       "    <tr>\n",
       "      <th>1</th>\n",
       "      <td>102496</td>\n",
       "      <td>5000</td>\n",
       "      <td>438.0</td>\n",
       "      <td>2</td>\n",
       "      <td>0674010812000</td>\n",
       "      <td>00/12-08-067-01W4/0</td>\n",
       "      <td>-110.12932</td>\n",
       "      <td>54.785907</td>\n",
       "    </tr>\n",
       "    <tr>\n",
       "      <th>2</th>\n",
       "      <td>102496</td>\n",
       "      <td>7000</td>\n",
       "      <td>458.0</td>\n",
       "      <td>3</td>\n",
       "      <td>0674010812000</td>\n",
       "      <td>00/12-08-067-01W4/0</td>\n",
       "      <td>-110.12932</td>\n",
       "      <td>54.785907</td>\n",
       "    </tr>\n",
       "    <tr>\n",
       "      <th>3</th>\n",
       "      <td>102496</td>\n",
       "      <td>9000</td>\n",
       "      <td>468.0</td>\n",
       "      <td>3</td>\n",
       "      <td>0674010812000</td>\n",
       "      <td>00/12-08-067-01W4/0</td>\n",
       "      <td>-110.12932</td>\n",
       "      <td>54.785907</td>\n",
       "    </tr>\n",
       "    <tr>\n",
       "      <th>4</th>\n",
       "      <td>102496</td>\n",
       "      <td>9500</td>\n",
       "      <td>468.0</td>\n",
       "      <td>3</td>\n",
       "      <td>0674010812000</td>\n",
       "      <td>00/12-08-067-01W4/0</td>\n",
       "      <td>-110.12932</td>\n",
       "      <td>54.785907</td>\n",
       "    </tr>\n",
       "  </tbody>\n",
       "</table>\n",
       "</div>"
      ],
      "text/plain": [
       "    SitID HorID   Pick  Quality      UWI (AGS)                  UWI         lng        lat\n",
       "0  102496  1000  321.0        1  0674010812000  00/12-08-067-01W4/0  -110.12932  54.785907\n",
       "1  102496  5000  438.0        2  0674010812000  00/12-08-067-01W4/0  -110.12932  54.785907\n",
       "2  102496  7000  458.0        3  0674010812000  00/12-08-067-01W4/0  -110.12932  54.785907\n",
       "3  102496  9000  468.0        3  0674010812000  00/12-08-067-01W4/0  -110.12932  54.785907\n",
       "4  102496  9500  468.0        3  0674010812000  00/12-08-067-01W4/0  -110.12932  54.785907"
      ]
     },
     "execution_count": 11,
     "metadata": {},
     "output_type": "execute_result"
    }
   ],
   "source": [
    "wlp.head()"
   ]
  },
  {
   "cell_type": "markdown",
   "metadata": {},
   "source": [
    "## Read LAS files (display number of files read)"
   ]
  },
  {
   "cell_type": "code",
   "execution_count": 12,
   "metadata": {},
   "outputs": [],
   "source": [
    "# las files\n",
    "path_logs = home + \"/Logs\"\n",
    "# las = [x for x in os.listdir(path_logs + \"/\") if x.endswith(\".LAS\")]\n",
    "# print(\"# LAS files: \" + str(len(las)))"
   ]
  },
  {
   "cell_type": "code",
   "execution_count": 13,
   "metadata": {},
   "outputs": [],
   "source": [
    "# # a sample of curves from a log file\n",
    "# wellname = 'AB-07-12-093-10W4-0'\n",
    "# lasio.read(path_logs + \"/\" + wellname + \".LAS\").df().head()"
   ]
  },
  {
   "cell_type": "markdown",
   "metadata": {},
   "source": [
    "## Reading actual LAS Files with lasio library"
   ]
  },
  {
   "cell_type": "code",
   "execution_count": 14,
   "metadata": {},
   "outputs": [
    {
     "name": "stderr",
     "output_type": "stream",
     "text": [
      "Header section Parameter regexp=~P was not found.\n"
     ]
    },
    {
     "data": {
      "text/plain": [
       "(list, lasio.las.LASFile)"
      ]
     },
     "execution_count": 14,
     "metadata": {},
     "output_type": "execute_result"
    }
   ],
   "source": [
    "las = [lasio.read(path_logs + \"/\" + filename) for filename in os.listdir(path_logs) if filename.endswith(\".LAS\")]\n",
    "type(las), type(las[0])"
   ]
  },
  {
   "cell_type": "markdown",
   "metadata": {},
   "source": [
    "## Display some components of lasio datatype"
   ]
  },
  {
   "cell_type": "markdown",
   "metadata": {},
   "source": [
    "### Header"
   ]
  },
  {
   "cell_type": "code",
   "execution_count": 15,
   "metadata": {},
   "outputs": [],
   "source": [
    "# las[2153].header['Well']"
   ]
  },
  {
   "cell_type": "markdown",
   "metadata": {},
   "source": [
    "### Parameters"
   ]
  },
  {
   "cell_type": "code",
   "execution_count": 16,
   "metadata": {},
   "outputs": [],
   "source": [
    "# las[2153].header['Parameter']"
   ]
  },
  {
   "cell_type": "markdown",
   "metadata": {},
   "source": [
    "### Version"
   ]
  },
  {
   "cell_type": "code",
   "execution_count": 17,
   "metadata": {},
   "outputs": [],
   "source": [
    "# las[2153].header['Version']"
   ]
  },
  {
   "cell_type": "markdown",
   "metadata": {},
   "source": [
    "### Curves available"
   ]
  },
  {
   "cell_type": "code",
   "execution_count": 18,
   "metadata": {},
   "outputs": [],
   "source": [
    "# las[2153].header['Curves']"
   ]
  },
  {
   "cell_type": "markdown",
   "metadata": {},
   "source": [
    "### Type of Curves available"
   ]
  },
  {
   "cell_type": "code",
   "execution_count": 19,
   "metadata": {},
   "outputs": [],
   "source": [
    "# # type of curves (logs) present in the las file\n",
    "# las[2153].header['Curves'].keys()"
   ]
  },
  {
   "cell_type": "markdown",
   "metadata": {},
   "source": [
    "### Location of UWI may vary inside the file - Function to retrieve UWI"
   ]
  },
  {
   "cell_type": "code",
   "execution_count": 20,
   "metadata": {},
   "outputs": [],
   "source": [
    "# function to retrieve UWI (location of the UWI may vary within the LAS file)\n",
    "keywds = ['UWI', 'UWI:1', 'UWI:2', 'UWI:3']\n",
    "def getKeyValue(idx, keywds):\n",
    "    for keywd in keywds:\n",
    "        if (keywd) not in las[idx].header[\"Well\"]:\n",
    "            pass\n",
    "        else:\n",
    "            return [keywd, las[idx].header[\"Well\"][keywd].value]"
   ]
  },
  {
   "cell_type": "markdown",
   "metadata": {},
   "source": [
    "### Counting how many curves exists across all wells"
   ]
  },
  {
   "cell_type": "code",
   "execution_count": 21,
   "metadata": {},
   "outputs": [],
   "source": [
    "# counting more common curves\n",
    "curves = []\n",
    "for i in range(len(las)):\n",
    "    df_las = las[i].df()\n",
    "    curves.extend(list(df_las.columns))"
   ]
  },
  {
   "cell_type": "markdown",
   "metadata": {},
   "source": [
    "### Counting and Ordering unique data set of curves"
   ]
  },
  {
   "cell_type": "code",
   "execution_count": 22,
   "metadata": {},
   "outputs": [
    {
     "name": "stdout",
     "output_type": "stream",
     "text": [
      "odict_keys(['CALI', 'COND', 'DELT', 'DENS', 'DPHI', 'DPHI:1', 'DPHI:2', 'DT', 'GR', 'GR:1', 'GR:2', 'IL', 'ILD', 'ILD:1', 'ILD:2', 'ILM', 'LITH', 'LLD', 'LLS', 'NPHI', 'PHID', 'PHIN', 'RESD', 'RHOB', 'RT', 'SFL', 'SFLU', 'SN', 'SNP', 'SP'])\n",
      "odict_values([783, 3, 98, 4, 1917, 1, 1, 14, 2169, 1, 1, 2, 2154, 1, 1, 6, 1, 2, 1, 2008, 8, 4, 6, 132, 1, 3, 6, 1, 2, 14])\n"
     ]
    }
   ],
   "source": [
    "# ordered set of curves across all logs files\n",
    "counter = collections.Counter(curves)\n",
    "counter = collections.OrderedDict(sorted(counter.items()))\n",
    "print(counter.keys())\n",
    "print(counter.values())"
   ]
  },
  {
   "cell_type": "markdown",
   "metadata": {},
   "source": [
    "### Selecting common set of curves across all wells"
   ]
  },
  {
   "cell_type": "code",
   "execution_count": 23,
   "metadata": {},
   "outputs": [],
   "source": [
    "# Selecting only those wells which have common curves: DEPT; DPHI; GR; ILD; NPHI\n",
    "keys = ['DEPT', 'DPHI', 'DPHI:1', 'DPHI:2', 'GR', 'GR:1', 'GR:2', 'ILD', 'ILD:1', 'ILD:2', \\\n",
    "        'NPHI', 'NPHI:1', 'NPHI:2', 'PHIN', 'PHIN:1', 'PHIN:2']\n",
    "values = ['DEPT', 'DPHI', 'DPHI', 'DPHI', 'GR', 'GR', 'GR', 'ILD', 'ILD', 'ILD', \\\n",
    "          'NPHI', 'NPHI', 'NPHI', 'NPHI', 'NPHI', 'NPHI']\n",
    "dictOfCurves = dict(zip(keys, values))\n",
    "\n",
    "columns = ['i', 'key_uwi', 'uwi', 'curvesNew', 'curvesOld']\n",
    "rows = []"
   ]
  },
  {
   "cell_type": "markdown",
   "metadata": {},
   "source": [
    "### Create dataframe with standardized set of curves [GR, DPHI, ILD, DEPT, NPHI]"
   ]
  },
  {
   "cell_type": "code",
   "execution_count": 24,
   "metadata": {},
   "outputs": [],
   "source": [
    "# create dataframe with standardized set of curves [GR, DPHI, ILD, DEPT, NPHI]\n",
    "for i in range(len(las)):\n",
    "    las_curves = las[i].header['Curves'].keys()\n",
    "    c = [str(dictOfCurves[c]) for c in keys if c in las_curves]\n",
    "    key_uwi, uwi = getKeyValue(i, keywds)\n",
    "    rows.append([i, key_uwi, uwi, list(set(c)), las_curves])\n",
    "    \n",
    "df = pd.DataFrame(rows, columns=columns)\n",
    "rows = []\n",
    "df = df.reset_index(drop=True)"
   ]
  },
  {
   "cell_type": "code",
   "execution_count": 25,
   "metadata": {},
   "outputs": [
    {
     "data": {
      "text/html": [
       "<div>\n",
       "<style scoped>\n",
       "    .dataframe tbody tr th:only-of-type {\n",
       "        vertical-align: middle;\n",
       "    }\n",
       "\n",
       "    .dataframe tbody tr th {\n",
       "        vertical-align: top;\n",
       "    }\n",
       "\n",
       "    .dataframe thead th {\n",
       "        text-align: right;\n",
       "    }\n",
       "</style>\n",
       "<table border=\"1\" class=\"dataframe\">\n",
       "  <thead>\n",
       "    <tr style=\"text-align: right;\">\n",
       "      <th></th>\n",
       "      <th>i</th>\n",
       "      <th>key_uwi</th>\n",
       "      <th>uwi</th>\n",
       "      <th>curvesNew</th>\n",
       "      <th>curvesOld</th>\n",
       "    </tr>\n",
       "  </thead>\n",
       "  <tbody>\n",
       "    <tr>\n",
       "      <th>0</th>\n",
       "      <td>0</td>\n",
       "      <td>UWI</td>\n",
       "      <td>00/01-01-073-05W5/0</td>\n",
       "      <td>[GR, DPHI, NPHI, ILD, DEPT]</td>\n",
       "      <td>[DEPT, DPHI, NPHI, GR, CALI, ILD]</td>\n",
       "    </tr>\n",
       "    <tr>\n",
       "      <th>1</th>\n",
       "      <td>1</td>\n",
       "      <td>UWI</td>\n",
       "      <td>00/01-01-095-19W4/0</td>\n",
       "      <td>[GR, DPHI, NPHI, ILD, DEPT]</td>\n",
       "      <td>[DEPT, GR, CALI, NPHI, DPHI, ILD]</td>\n",
       "    </tr>\n",
       "    <tr>\n",
       "      <th>2</th>\n",
       "      <td>2</td>\n",
       "      <td>UWI</td>\n",
       "      <td>00/01-03-085-15W400</td>\n",
       "      <td>[GR, DPHI, NPHI, ILD, DEPT]</td>\n",
       "      <td>[DEPT, DPHI, NPHI, GR, ILD]</td>\n",
       "    </tr>\n",
       "    <tr>\n",
       "      <th>3</th>\n",
       "      <td>3</td>\n",
       "      <td>UWI</td>\n",
       "      <td>00/01-04-075-23W4/0</td>\n",
       "      <td>[GR, DPHI, NPHI, ILD, DEPT]</td>\n",
       "      <td>[DEPT, ILD, NPHI, DPHI, GR, CALI]</td>\n",
       "    </tr>\n",
       "    <tr>\n",
       "      <th>4</th>\n",
       "      <td>4</td>\n",
       "      <td>UWI</td>\n",
       "      <td>00/01-05-085-15W400</td>\n",
       "      <td>[GR, DPHI, NPHI, ILD, DEPT]</td>\n",
       "      <td>[DEPT, GR, NPHI, DPHI, ILD]</td>\n",
       "    </tr>\n",
       "  </tbody>\n",
       "</table>\n",
       "</div>"
      ],
      "text/plain": [
       "   i key_uwi                  uwi                    curvesNew                          curvesOld\n",
       "0  0     UWI  00/01-01-073-05W5/0  [GR, DPHI, NPHI, ILD, DEPT]  [DEPT, DPHI, NPHI, GR, CALI, ILD]\n",
       "1  1     UWI  00/01-01-095-19W4/0  [GR, DPHI, NPHI, ILD, DEPT]  [DEPT, GR, CALI, NPHI, DPHI, ILD]\n",
       "2  2     UWI  00/01-03-085-15W400  [GR, DPHI, NPHI, ILD, DEPT]        [DEPT, DPHI, NPHI, GR, ILD]\n",
       "3  3     UWI  00/01-04-075-23W4/0  [GR, DPHI, NPHI, ILD, DEPT]  [DEPT, ILD, NPHI, DPHI, GR, CALI]\n",
       "4  4     UWI  00/01-05-085-15W400  [GR, DPHI, NPHI, ILD, DEPT]        [DEPT, GR, NPHI, DPHI, ILD]"
      ]
     },
     "execution_count": 25,
     "metadata": {},
     "output_type": "execute_result"
    }
   ],
   "source": [
    "df.head()"
   ]
  },
  {
   "cell_type": "code",
   "execution_count": 26,
   "metadata": {},
   "outputs": [
    {
     "data": {
      "text/plain": [
       "2171"
      ]
     },
     "execution_count": 26,
     "metadata": {},
     "output_type": "execute_result"
    }
   ],
   "source": [
    "len(df)"
   ]
  },
  {
   "cell_type": "code",
   "execution_count": 27,
   "metadata": {},
   "outputs": [],
   "source": [
    "# drop rows with less than 5 curves including DEPT\n",
    "dfl = df[df['curvesNew'].map(len) > 4]\n",
    "dfl = dfl.reset_index(drop=True)"
   ]
  },
  {
   "cell_type": "code",
   "execution_count": 28,
   "metadata": {},
   "outputs": [
    {
     "data": {
      "text/plain": [
       "1848"
      ]
     },
     "execution_count": 28,
     "metadata": {},
     "output_type": "execute_result"
    }
   ],
   "source": [
    "len(dfl)"
   ]
  },
  {
   "cell_type": "code",
   "execution_count": 29,
   "metadata": {},
   "outputs": [
    {
     "data": {
      "text/html": [
       "<div>\n",
       "<style scoped>\n",
       "    .dataframe tbody tr th:only-of-type {\n",
       "        vertical-align: middle;\n",
       "    }\n",
       "\n",
       "    .dataframe tbody tr th {\n",
       "        vertical-align: top;\n",
       "    }\n",
       "\n",
       "    .dataframe thead th {\n",
       "        text-align: right;\n",
       "    }\n",
       "</style>\n",
       "<table border=\"1\" class=\"dataframe\">\n",
       "  <thead>\n",
       "    <tr style=\"text-align: right;\">\n",
       "      <th></th>\n",
       "      <th>i</th>\n",
       "      <th>key_uwi</th>\n",
       "      <th>uwi</th>\n",
       "      <th>curvesNew</th>\n",
       "      <th>curvesOld</th>\n",
       "    </tr>\n",
       "  </thead>\n",
       "  <tbody>\n",
       "    <tr>\n",
       "      <th>0</th>\n",
       "      <td>0</td>\n",
       "      <td>UWI</td>\n",
       "      <td>00/01-01-073-05W5/0</td>\n",
       "      <td>[GR, DPHI, NPHI, ILD, DEPT]</td>\n",
       "      <td>[DEPT, DPHI, NPHI, GR, CALI, ILD]</td>\n",
       "    </tr>\n",
       "    <tr>\n",
       "      <th>1</th>\n",
       "      <td>1</td>\n",
       "      <td>UWI</td>\n",
       "      <td>00/01-01-095-19W4/0</td>\n",
       "      <td>[GR, DPHI, NPHI, ILD, DEPT]</td>\n",
       "      <td>[DEPT, GR, CALI, NPHI, DPHI, ILD]</td>\n",
       "    </tr>\n",
       "    <tr>\n",
       "      <th>2</th>\n",
       "      <td>2</td>\n",
       "      <td>UWI</td>\n",
       "      <td>00/01-03-085-15W400</td>\n",
       "      <td>[GR, DPHI, NPHI, ILD, DEPT]</td>\n",
       "      <td>[DEPT, DPHI, NPHI, GR, ILD]</td>\n",
       "    </tr>\n",
       "    <tr>\n",
       "      <th>3</th>\n",
       "      <td>3</td>\n",
       "      <td>UWI</td>\n",
       "      <td>00/01-04-075-23W4/0</td>\n",
       "      <td>[GR, DPHI, NPHI, ILD, DEPT]</td>\n",
       "      <td>[DEPT, ILD, NPHI, DPHI, GR, CALI]</td>\n",
       "    </tr>\n",
       "    <tr>\n",
       "      <th>4</th>\n",
       "      <td>4</td>\n",
       "      <td>UWI</td>\n",
       "      <td>00/01-05-085-15W400</td>\n",
       "      <td>[GR, DPHI, NPHI, ILD, DEPT]</td>\n",
       "      <td>[DEPT, GR, NPHI, DPHI, ILD]</td>\n",
       "    </tr>\n",
       "  </tbody>\n",
       "</table>\n",
       "</div>"
      ],
      "text/plain": [
       "   i key_uwi                  uwi                    curvesNew                          curvesOld\n",
       "0  0     UWI  00/01-01-073-05W5/0  [GR, DPHI, NPHI, ILD, DEPT]  [DEPT, DPHI, NPHI, GR, CALI, ILD]\n",
       "1  1     UWI  00/01-01-095-19W4/0  [GR, DPHI, NPHI, ILD, DEPT]  [DEPT, GR, CALI, NPHI, DPHI, ILD]\n",
       "2  2     UWI  00/01-03-085-15W400  [GR, DPHI, NPHI, ILD, DEPT]        [DEPT, DPHI, NPHI, GR, ILD]\n",
       "3  3     UWI  00/01-04-075-23W4/0  [GR, DPHI, NPHI, ILD, DEPT]  [DEPT, ILD, NPHI, DPHI, GR, CALI]\n",
       "4  4     UWI  00/01-05-085-15W400  [GR, DPHI, NPHI, ILD, DEPT]        [DEPT, GR, NPHI, DPHI, ILD]"
      ]
     },
     "execution_count": 29,
     "metadata": {},
     "output_type": "execute_result"
    }
   ],
   "source": [
    "dfl.head()"
   ]
  },
  {
   "cell_type": "code",
   "execution_count": 30,
   "metadata": {},
   "outputs": [],
   "source": [
    "# final dataframe with wells having these curves [DEPT, DPHI, GR, ILD, NPHI]\n",
    "dl = pd.DataFrame([], columns=['UWI', 'DEPT', 'DPHI', 'GR', 'ILD', 'NPHI'])\n",
    "dl.columns\n",
    "\n",
    "for i in range(len(dfl)):\n",
    "    well_num = dfl.iloc[i]['i']\n",
    "    uwi_type = dfl.iloc[i]['key_uwi']\n",
    "    uwi = las[well_num].header['Well'][uwi_type].value\n",
    "\n",
    "    nrecords = len(las[well_num].header['Curves']['DEPT'].data)\n",
    "\n",
    "    UWI = pd.Series([uwi] * nrecords)\n",
    "    DEPT = pd.Series(las[well_num].header['Curves']['DEPT'].data)\n",
    "    DPHI = pd.Series(las[well_num].header['Curves']['DPHI'].data)\n",
    "    GR = pd.Series(las[well_num].header['Curves']['GR'].data)\n",
    "    ILD = pd.Series(las[well_num].header['Curves']['ILD'].data)\n",
    "    NPHI = pd.Series(las[well_num].header['Curves']['NPHI'].data)\n",
    "\n",
    "    d = {\n",
    "        'UWI': UWI,\n",
    "        'DEPT': DEPT,\n",
    "        'DPHI': DPHI,\n",
    "        'GR': GR,\n",
    "        'ILD': ILD,\n",
    "        'NPHI': NPHI\n",
    "    }\n",
    "    dl = dl.append(pd.DataFrame(d), ignore_index=True)"
   ]
  },
  {
   "cell_type": "code",
   "execution_count": 31,
   "metadata": {},
   "outputs": [
    {
     "data": {
      "text/html": [
       "<div>\n",
       "<style scoped>\n",
       "    .dataframe tbody tr th:only-of-type {\n",
       "        vertical-align: middle;\n",
       "    }\n",
       "\n",
       "    .dataframe tbody tr th {\n",
       "        vertical-align: top;\n",
       "    }\n",
       "\n",
       "    .dataframe thead th {\n",
       "        text-align: right;\n",
       "    }\n",
       "</style>\n",
       "<table border=\"1\" class=\"dataframe\">\n",
       "  <thead>\n",
       "    <tr style=\"text-align: right;\">\n",
       "      <th></th>\n",
       "      <th>DEPT</th>\n",
       "      <th>DPHI</th>\n",
       "      <th>GR</th>\n",
       "      <th>ILD</th>\n",
       "      <th>NPHI</th>\n",
       "      <th>UWI</th>\n",
       "    </tr>\n",
       "  </thead>\n",
       "  <tbody>\n",
       "    <tr>\n",
       "      <th>0</th>\n",
       "      <td>390.00</td>\n",
       "      <td>0.199</td>\n",
       "      <td>82.478</td>\n",
       "      <td>2.923</td>\n",
       "      <td>0.457</td>\n",
       "      <td>00/01-01-073-05W5/0</td>\n",
       "    </tr>\n",
       "    <tr>\n",
       "      <th>1</th>\n",
       "      <td>390.25</td>\n",
       "      <td>0.208</td>\n",
       "      <td>86.413</td>\n",
       "      <td>2.925</td>\n",
       "      <td>0.456</td>\n",
       "      <td>00/01-01-073-05W5/0</td>\n",
       "    </tr>\n",
       "    <tr>\n",
       "      <th>2</th>\n",
       "      <td>390.50</td>\n",
       "      <td>0.246</td>\n",
       "      <td>90.229</td>\n",
       "      <td>2.917</td>\n",
       "      <td>0.452</td>\n",
       "      <td>00/01-01-073-05W5/0</td>\n",
       "    </tr>\n",
       "    <tr>\n",
       "      <th>3</th>\n",
       "      <td>390.75</td>\n",
       "      <td>0.266</td>\n",
       "      <td>90.944</td>\n",
       "      <td>2.898</td>\n",
       "      <td>0.475</td>\n",
       "      <td>00/01-01-073-05W5/0</td>\n",
       "    </tr>\n",
       "    <tr>\n",
       "      <th>4</th>\n",
       "      <td>391.00</td>\n",
       "      <td>0.287</td>\n",
       "      <td>88.866</td>\n",
       "      <td>2.890</td>\n",
       "      <td>0.484</td>\n",
       "      <td>00/01-01-073-05W5/0</td>\n",
       "    </tr>\n",
       "  </tbody>\n",
       "</table>\n",
       "</div>"
      ],
      "text/plain": [
       "     DEPT   DPHI      GR    ILD   NPHI                  UWI\n",
       "0  390.00  0.199  82.478  2.923  0.457  00/01-01-073-05W5/0\n",
       "1  390.25  0.208  86.413  2.925  0.456  00/01-01-073-05W5/0\n",
       "2  390.50  0.246  90.229  2.917  0.452  00/01-01-073-05W5/0\n",
       "3  390.75  0.266  90.944  2.898  0.475  00/01-01-073-05W5/0\n",
       "4  391.00  0.287  88.866  2.890  0.484  00/01-01-073-05W5/0"
      ]
     },
     "execution_count": 31,
     "metadata": {},
     "output_type": "execute_result"
    }
   ],
   "source": [
    "dl.head()"
   ]
  },
  {
   "cell_type": "code",
   "execution_count": 32,
   "metadata": {},
   "outputs": [],
   "source": [
    "# get UWI (AGS) using a not-well-formed  UWI\n",
    "def getUWIAGS(wrongUWI):\n",
    "\n",
    "    s1 = wrongUWI[9:12]\n",
    "    s2 = wrongUWI[16:17]\n",
    "    s3 = wrongUWI[13:15]\n",
    "    s4 = wrongUWI[6:8]\n",
    "    s5 = wrongUWI[3:5]\n",
    "    s6 = wrongUWI[0:2]\n",
    "    s7 = wrongUWI[18:19]\n",
    "    \n",
    "    return(s1 + s2 + s3 + s4 + s5 + s6 + s7)"
   ]
  },
  {
   "cell_type": "code",
   "execution_count": 33,
   "metadata": {},
   "outputs": [],
   "source": [
    "# getUWIAGS('AD/05-15-088-08W400')"
   ]
  },
  {
   "cell_type": "code",
   "execution_count": 34,
   "metadata": {},
   "outputs": [],
   "source": [
    "# len(dl)"
   ]
  },
  {
   "cell_type": "code",
   "execution_count": 35,
   "metadata": {},
   "outputs": [],
   "source": [
    "# (dl.iloc[1474750].UWI, getUWIAGS(dl.iloc[1474750].UWI))"
   ]
  },
  {
   "cell_type": "code",
   "execution_count": 36,
   "metadata": {},
   "outputs": [],
   "source": [
    "# adding UWI_AGS column to join table Wellst which has the SitID. SitID is common to all data tables\n",
    "dl['UWI_AGS'] = [getUWIAGS(dl.iloc[i].UWI) for i in range(len(dl))]"
   ]
  },
  {
   "cell_type": "code",
   "execution_count": 37,
   "metadata": {},
   "outputs": [
    {
     "data": {
      "text/html": [
       "<div>\n",
       "<style scoped>\n",
       "    .dataframe tbody tr th:only-of-type {\n",
       "        vertical-align: middle;\n",
       "    }\n",
       "\n",
       "    .dataframe tbody tr th {\n",
       "        vertical-align: top;\n",
       "    }\n",
       "\n",
       "    .dataframe thead th {\n",
       "        text-align: right;\n",
       "    }\n",
       "</style>\n",
       "<table border=\"1\" class=\"dataframe\">\n",
       "  <thead>\n",
       "    <tr style=\"text-align: right;\">\n",
       "      <th></th>\n",
       "      <th>DEPT</th>\n",
       "      <th>DPHI</th>\n",
       "      <th>GR</th>\n",
       "      <th>ILD</th>\n",
       "      <th>NPHI</th>\n",
       "      <th>UWI</th>\n",
       "      <th>UWI_AGS</th>\n",
       "    </tr>\n",
       "  </thead>\n",
       "  <tbody>\n",
       "    <tr>\n",
       "      <th>0</th>\n",
       "      <td>390.00</td>\n",
       "      <td>0.199</td>\n",
       "      <td>82.478</td>\n",
       "      <td>2.923</td>\n",
       "      <td>0.457</td>\n",
       "      <td>00/01-01-073-05W5/0</td>\n",
       "      <td>0735050101000</td>\n",
       "    </tr>\n",
       "    <tr>\n",
       "      <th>1</th>\n",
       "      <td>390.25</td>\n",
       "      <td>0.208</td>\n",
       "      <td>86.413</td>\n",
       "      <td>2.925</td>\n",
       "      <td>0.456</td>\n",
       "      <td>00/01-01-073-05W5/0</td>\n",
       "      <td>0735050101000</td>\n",
       "    </tr>\n",
       "    <tr>\n",
       "      <th>2</th>\n",
       "      <td>390.50</td>\n",
       "      <td>0.246</td>\n",
       "      <td>90.229</td>\n",
       "      <td>2.917</td>\n",
       "      <td>0.452</td>\n",
       "      <td>00/01-01-073-05W5/0</td>\n",
       "      <td>0735050101000</td>\n",
       "    </tr>\n",
       "    <tr>\n",
       "      <th>3</th>\n",
       "      <td>390.75</td>\n",
       "      <td>0.266</td>\n",
       "      <td>90.944</td>\n",
       "      <td>2.898</td>\n",
       "      <td>0.475</td>\n",
       "      <td>00/01-01-073-05W5/0</td>\n",
       "      <td>0735050101000</td>\n",
       "    </tr>\n",
       "    <tr>\n",
       "      <th>4</th>\n",
       "      <td>391.00</td>\n",
       "      <td>0.287</td>\n",
       "      <td>88.866</td>\n",
       "      <td>2.890</td>\n",
       "      <td>0.484</td>\n",
       "      <td>00/01-01-073-05W5/0</td>\n",
       "      <td>0735050101000</td>\n",
       "    </tr>\n",
       "  </tbody>\n",
       "</table>\n",
       "</div>"
      ],
      "text/plain": [
       "     DEPT   DPHI      GR    ILD   NPHI                  UWI        UWI_AGS\n",
       "0  390.00  0.199  82.478  2.923  0.457  00/01-01-073-05W5/0  0735050101000\n",
       "1  390.25  0.208  86.413  2.925  0.456  00/01-01-073-05W5/0  0735050101000\n",
       "2  390.50  0.246  90.229  2.917  0.452  00/01-01-073-05W5/0  0735050101000\n",
       "3  390.75  0.266  90.944  2.898  0.475  00/01-01-073-05W5/0  0735050101000\n",
       "4  391.00  0.287  88.866  2.890  0.484  00/01-01-073-05W5/0  0735050101000"
      ]
     },
     "execution_count": 37,
     "metadata": {},
     "output_type": "execute_result"
    }
   ],
   "source": [
    "dl.head()"
   ]
  },
  {
   "cell_type": "code",
   "execution_count": 38,
   "metadata": {},
   "outputs": [
    {
     "data": {
      "text/html": [
       "<div>\n",
       "<style scoped>\n",
       "    .dataframe tbody tr th:only-of-type {\n",
       "        vertical-align: middle;\n",
       "    }\n",
       "\n",
       "    .dataframe tbody tr th {\n",
       "        vertical-align: top;\n",
       "    }\n",
       "\n",
       "    .dataframe thead th {\n",
       "        text-align: right;\n",
       "    }\n",
       "</style>\n",
       "<table border=\"1\" class=\"dataframe\">\n",
       "  <thead>\n",
       "    <tr style=\"text-align: right;\">\n",
       "      <th></th>\n",
       "      <th>DEPT</th>\n",
       "      <th>DPHI</th>\n",
       "      <th>GR</th>\n",
       "      <th>ILD</th>\n",
       "      <th>NPHI</th>\n",
       "      <th>UWI</th>\n",
       "      <th>UWI_AGS</th>\n",
       "    </tr>\n",
       "  </thead>\n",
       "  <tbody>\n",
       "    <tr>\n",
       "      <th>1474746</th>\n",
       "      <td>142.00</td>\n",
       "      <td>0.039</td>\n",
       "      <td>64.370</td>\n",
       "      <td>50.572</td>\n",
       "      <td>0.149</td>\n",
       "      <td>AD/05-15-088-08W400</td>\n",
       "      <td>0884081505AD0</td>\n",
       "    </tr>\n",
       "    <tr>\n",
       "      <th>1474747</th>\n",
       "      <td>142.25</td>\n",
       "      <td>0.034</td>\n",
       "      <td>64.406</td>\n",
       "      <td>51.559</td>\n",
       "      <td>0.152</td>\n",
       "      <td>AD/05-15-088-08W400</td>\n",
       "      <td>0884081505AD0</td>\n",
       "    </tr>\n",
       "    <tr>\n",
       "      <th>1474748</th>\n",
       "      <td>142.50</td>\n",
       "      <td>0.032</td>\n",
       "      <td>60.770</td>\n",
       "      <td>56.706</td>\n",
       "      <td>0.156</td>\n",
       "      <td>AD/05-15-088-08W400</td>\n",
       "      <td>0884081505AD0</td>\n",
       "    </tr>\n",
       "    <tr>\n",
       "      <th>1474749</th>\n",
       "      <td>142.75</td>\n",
       "      <td>0.039</td>\n",
       "      <td>53.479</td>\n",
       "      <td>61.181</td>\n",
       "      <td>0.148</td>\n",
       "      <td>AD/05-15-088-08W400</td>\n",
       "      <td>0884081505AD0</td>\n",
       "    </tr>\n",
       "    <tr>\n",
       "      <th>1474750</th>\n",
       "      <td>143.00</td>\n",
       "      <td>0.030</td>\n",
       "      <td>48.631</td>\n",
       "      <td>61.220</td>\n",
       "      <td>0.150</td>\n",
       "      <td>AD/05-15-088-08W400</td>\n",
       "      <td>0884081505AD0</td>\n",
       "    </tr>\n",
       "  </tbody>\n",
       "</table>\n",
       "</div>"
      ],
      "text/plain": [
       "           DEPT   DPHI      GR     ILD   NPHI                  UWI        UWI_AGS\n",
       "1474746  142.00  0.039  64.370  50.572  0.149  AD/05-15-088-08W400  0884081505AD0\n",
       "1474747  142.25  0.034  64.406  51.559  0.152  AD/05-15-088-08W400  0884081505AD0\n",
       "1474748  142.50  0.032  60.770  56.706  0.156  AD/05-15-088-08W400  0884081505AD0\n",
       "1474749  142.75  0.039  53.479  61.181  0.148  AD/05-15-088-08W400  0884081505AD0\n",
       "1474750  143.00  0.030  48.631  61.220  0.150  AD/05-15-088-08W400  0884081505AD0"
      ]
     },
     "execution_count": 38,
     "metadata": {},
     "output_type": "execute_result"
    }
   ],
   "source": [
    "# see how this 'not-well-formed UWI': AD/05-15-088-08W400, should be this: AD/05-15-088-08W4/0\n",
    "dl.tail()"
   ]
  },
  {
   "cell_type": "markdown",
   "metadata": {},
   "source": [
    "### Merging dataframe 'dl' with logs and wells table (wellst) to get SitID"
   ]
  },
  {
   "cell_type": "code",
   "execution_count": 39,
   "metadata": {},
   "outputs": [
    {
     "data": {
      "text/html": [
       "<div>\n",
       "<style scoped>\n",
       "    .dataframe tbody tr th:only-of-type {\n",
       "        vertical-align: middle;\n",
       "    }\n",
       "\n",
       "    .dataframe tbody tr th {\n",
       "        vertical-align: top;\n",
       "    }\n",
       "\n",
       "    .dataframe thead th {\n",
       "        text-align: right;\n",
       "    }\n",
       "</style>\n",
       "<table border=\"1\" class=\"dataframe\">\n",
       "  <thead>\n",
       "    <tr style=\"text-align: right;\">\n",
       "      <th></th>\n",
       "      <th>SitID</th>\n",
       "      <th>DEPT</th>\n",
       "      <th>DPHI</th>\n",
       "      <th>GR</th>\n",
       "      <th>ILD</th>\n",
       "      <th>NPHI</th>\n",
       "    </tr>\n",
       "  </thead>\n",
       "  <tbody>\n",
       "    <tr>\n",
       "      <th>0</th>\n",
       "      <td>142218</td>\n",
       "      <td>390.00</td>\n",
       "      <td>0.199</td>\n",
       "      <td>82.478</td>\n",
       "      <td>2.923</td>\n",
       "      <td>0.457</td>\n",
       "    </tr>\n",
       "    <tr>\n",
       "      <th>1</th>\n",
       "      <td>142218</td>\n",
       "      <td>390.25</td>\n",
       "      <td>0.208</td>\n",
       "      <td>86.413</td>\n",
       "      <td>2.925</td>\n",
       "      <td>0.456</td>\n",
       "    </tr>\n",
       "    <tr>\n",
       "      <th>2</th>\n",
       "      <td>142218</td>\n",
       "      <td>390.50</td>\n",
       "      <td>0.246</td>\n",
       "      <td>90.229</td>\n",
       "      <td>2.917</td>\n",
       "      <td>0.452</td>\n",
       "    </tr>\n",
       "    <tr>\n",
       "      <th>3</th>\n",
       "      <td>142218</td>\n",
       "      <td>390.75</td>\n",
       "      <td>0.266</td>\n",
       "      <td>90.944</td>\n",
       "      <td>2.898</td>\n",
       "      <td>0.475</td>\n",
       "    </tr>\n",
       "    <tr>\n",
       "      <th>4</th>\n",
       "      <td>142218</td>\n",
       "      <td>391.00</td>\n",
       "      <td>0.287</td>\n",
       "      <td>88.866</td>\n",
       "      <td>2.890</td>\n",
       "      <td>0.484</td>\n",
       "    </tr>\n",
       "  </tbody>\n",
       "</table>\n",
       "</div>"
      ],
      "text/plain": [
       "    SitID    DEPT   DPHI      GR    ILD   NPHI\n",
       "0  142218  390.00  0.199  82.478  2.923  0.457\n",
       "1  142218  390.25  0.208  86.413  2.925  0.456\n",
       "2  142218  390.50  0.246  90.229  2.917  0.452\n",
       "3  142218  390.75  0.266  90.944  2.898  0.475\n",
       "4  142218  391.00  0.287  88.866  2.890  0.484"
      ]
     },
     "execution_count": 39,
     "metadata": {},
     "output_type": "execute_result"
    }
   ],
   "source": [
    "# merging dataframe 'dl' with logs and wells table (wellst) to get SitID  \n",
    "dl = pd.merge(dl, wellst[['SitID', 'UWI (AGS)']], left_on='UWI_AGS', right_on='UWI (AGS)', how='left')\n",
    "dt = dl[['SitID', 'DEPT', 'DPHI', 'GR', 'ILD', 'NPHI']]\n",
    "dt.head()"
   ]
  },
  {
   "cell_type": "code",
   "execution_count": 40,
   "metadata": {},
   "outputs": [
    {
     "data": {
      "text/plain": [
       "1474751"
      ]
     },
     "execution_count": 40,
     "metadata": {},
     "output_type": "execute_result"
    }
   ],
   "source": [
    "len(dt)"
   ]
  },
  {
   "cell_type": "code",
   "execution_count": 41,
   "metadata": {},
   "outputs": [
    {
     "data": {
      "text/html": [
       "<div>\n",
       "<style scoped>\n",
       "    .dataframe tbody tr th:only-of-type {\n",
       "        vertical-align: middle;\n",
       "    }\n",
       "\n",
       "    .dataframe tbody tr th {\n",
       "        vertical-align: top;\n",
       "    }\n",
       "\n",
       "    .dataframe thead th {\n",
       "        text-align: right;\n",
       "    }\n",
       "</style>\n",
       "<table border=\"1\" class=\"dataframe\">\n",
       "  <thead>\n",
       "    <tr style=\"text-align: right;\">\n",
       "      <th></th>\n",
       "      <th>SitID</th>\n",
       "      <th>DEPT</th>\n",
       "      <th>DPHI</th>\n",
       "      <th>GR</th>\n",
       "      <th>ILD</th>\n",
       "      <th>NPHI</th>\n",
       "    </tr>\n",
       "  </thead>\n",
       "  <tbody>\n",
       "    <tr>\n",
       "      <th>1474746</th>\n",
       "      <td>117119</td>\n",
       "      <td>142.00</td>\n",
       "      <td>0.039</td>\n",
       "      <td>64.370</td>\n",
       "      <td>50.572</td>\n",
       "      <td>0.149</td>\n",
       "    </tr>\n",
       "    <tr>\n",
       "      <th>1474747</th>\n",
       "      <td>117119</td>\n",
       "      <td>142.25</td>\n",
       "      <td>0.034</td>\n",
       "      <td>64.406</td>\n",
       "      <td>51.559</td>\n",
       "      <td>0.152</td>\n",
       "    </tr>\n",
       "    <tr>\n",
       "      <th>1474748</th>\n",
       "      <td>117119</td>\n",
       "      <td>142.50</td>\n",
       "      <td>0.032</td>\n",
       "      <td>60.770</td>\n",
       "      <td>56.706</td>\n",
       "      <td>0.156</td>\n",
       "    </tr>\n",
       "    <tr>\n",
       "      <th>1474749</th>\n",
       "      <td>117119</td>\n",
       "      <td>142.75</td>\n",
       "      <td>0.039</td>\n",
       "      <td>53.479</td>\n",
       "      <td>61.181</td>\n",
       "      <td>0.148</td>\n",
       "    </tr>\n",
       "    <tr>\n",
       "      <th>1474750</th>\n",
       "      <td>117119</td>\n",
       "      <td>143.00</td>\n",
       "      <td>0.030</td>\n",
       "      <td>48.631</td>\n",
       "      <td>61.220</td>\n",
       "      <td>0.150</td>\n",
       "    </tr>\n",
       "  </tbody>\n",
       "</table>\n",
       "</div>"
      ],
      "text/plain": [
       "          SitID    DEPT   DPHI      GR     ILD   NPHI\n",
       "1474746  117119  142.00  0.039  64.370  50.572  0.149\n",
       "1474747  117119  142.25  0.034  64.406  51.559  0.152\n",
       "1474748  117119  142.50  0.032  60.770  56.706  0.156\n",
       "1474749  117119  142.75  0.039  53.479  61.181  0.148\n",
       "1474750  117119  143.00  0.030  48.631  61.220  0.150"
      ]
     },
     "execution_count": 41,
     "metadata": {},
     "output_type": "execute_result"
    }
   ],
   "source": [
    "dt.tail()"
   ]
  },
  {
   "cell_type": "code",
   "execution_count": 42,
   "metadata": {},
   "outputs": [
    {
     "data": {
      "text/plain": [
       "Int64Index([      0,       1,       2,       3,       4,       5,       6,       7,       8,       9,\n",
       "            ...\n",
       "            1474741, 1474742, 1474743, 1474744, 1474745, 1474746, 1474747, 1474748, 1474749, 1474750],\n",
       "           dtype='int64', length=1474751)"
      ]
     },
     "execution_count": 42,
     "metadata": {},
     "output_type": "execute_result"
    }
   ],
   "source": [
    "dt.index"
   ]
  },
  {
   "cell_type": "markdown",
   "metadata": {},
   "source": [
    "### Merging dataframe 'dt' with 'wlp' on SitID and [DEPT/Pick]"
   ]
  },
  {
   "cell_type": "code",
   "execution_count": 43,
   "metadata": {},
   "outputs": [
    {
     "data": {
      "text/html": [
       "<div>\n",
       "<style scoped>\n",
       "    .dataframe tbody tr th:only-of-type {\n",
       "        vertical-align: middle;\n",
       "    }\n",
       "\n",
       "    .dataframe tbody tr th {\n",
       "        vertical-align: top;\n",
       "    }\n",
       "\n",
       "    .dataframe thead th {\n",
       "        text-align: right;\n",
       "    }\n",
       "</style>\n",
       "<table border=\"1\" class=\"dataframe\">\n",
       "  <thead>\n",
       "    <tr style=\"text-align: right;\">\n",
       "      <th></th>\n",
       "      <th>SitID</th>\n",
       "      <th>DEPT</th>\n",
       "      <th>DPHI</th>\n",
       "      <th>GR</th>\n",
       "      <th>ILD</th>\n",
       "      <th>NPHI</th>\n",
       "      <th>HorID</th>\n",
       "      <th>Pick</th>\n",
       "      <th>Quality</th>\n",
       "      <th>UWI (AGS)</th>\n",
       "      <th>UWI</th>\n",
       "      <th>lng</th>\n",
       "      <th>lat</th>\n",
       "    </tr>\n",
       "  </thead>\n",
       "  <tbody>\n",
       "    <tr>\n",
       "      <th>12</th>\n",
       "      <td>142218</td>\n",
       "      <td>393.0</td>\n",
       "      <td>0.299</td>\n",
       "      <td>72.249</td>\n",
       "      <td>3.338</td>\n",
       "      <td>0.429</td>\n",
       "      <td>1000</td>\n",
       "      <td>393.0</td>\n",
       "      <td>1.0</td>\n",
       "      <td>0735050101000</td>\n",
       "      <td>00/01-01-073-05W5/0</td>\n",
       "      <td>-114.620656</td>\n",
       "      <td>55.288691</td>\n",
       "    </tr>\n",
       "    <tr>\n",
       "      <th>636</th>\n",
       "      <td>142218</td>\n",
       "      <td>549.0</td>\n",
       "      <td>0.247</td>\n",
       "      <td>76.644</td>\n",
       "      <td>4.313</td>\n",
       "      <td>0.427</td>\n",
       "      <td>4000</td>\n",
       "      <td>549.0</td>\n",
       "      <td>1.0</td>\n",
       "      <td>0735050101000</td>\n",
       "      <td>00/01-01-073-05W5/0</td>\n",
       "      <td>-114.620656</td>\n",
       "      <td>55.288691</td>\n",
       "    </tr>\n",
       "    <tr>\n",
       "      <th>776</th>\n",
       "      <td>142218</td>\n",
       "      <td>584.0</td>\n",
       "      <td>0.184</td>\n",
       "      <td>72.472</td>\n",
       "      <td>5.379</td>\n",
       "      <td>0.357</td>\n",
       "      <td>5000</td>\n",
       "      <td>584.0</td>\n",
       "      <td>1.0</td>\n",
       "      <td>0735050101000</td>\n",
       "      <td>00/01-01-073-05W5/0</td>\n",
       "      <td>-114.620656</td>\n",
       "      <td>55.288691</td>\n",
       "    </tr>\n",
       "    <tr>\n",
       "      <th>828</th>\n",
       "      <td>142218</td>\n",
       "      <td>597.0</td>\n",
       "      <td>0.180</td>\n",
       "      <td>69.942</td>\n",
       "      <td>4.265</td>\n",
       "      <td>0.367</td>\n",
       "      <td>7000</td>\n",
       "      <td>597.0</td>\n",
       "      <td>1.0</td>\n",
       "      <td>0735050101000</td>\n",
       "      <td>00/01-01-073-05W5/0</td>\n",
       "      <td>-114.620656</td>\n",
       "      <td>55.288691</td>\n",
       "    </tr>\n",
       "    <tr>\n",
       "      <th>868</th>\n",
       "      <td>142218</td>\n",
       "      <td>607.0</td>\n",
       "      <td>0.191</td>\n",
       "      <td>57.457</td>\n",
       "      <td>9.279</td>\n",
       "      <td>0.312</td>\n",
       "      <td>11000</td>\n",
       "      <td>607.0</td>\n",
       "      <td>1.0</td>\n",
       "      <td>0735050101000</td>\n",
       "      <td>00/01-01-073-05W5/0</td>\n",
       "      <td>-114.620656</td>\n",
       "      <td>55.288691</td>\n",
       "    </tr>\n",
       "  </tbody>\n",
       "</table>\n",
       "</div>"
      ],
      "text/plain": [
       "      SitID   DEPT   DPHI      GR    ILD   NPHI  HorID   Pick  Quality      UWI (AGS)                  UWI  \\\n",
       "12   142218  393.0  0.299  72.249  3.338  0.429   1000  393.0      1.0  0735050101000  00/01-01-073-05W5/0   \n",
       "636  142218  549.0  0.247  76.644  4.313  0.427   4000  549.0      1.0  0735050101000  00/01-01-073-05W5/0   \n",
       "776  142218  584.0  0.184  72.472  5.379  0.357   5000  584.0      1.0  0735050101000  00/01-01-073-05W5/0   \n",
       "828  142218  597.0  0.180  69.942  4.265  0.367   7000  597.0      1.0  0735050101000  00/01-01-073-05W5/0   \n",
       "868  142218  607.0  0.191  57.457  9.279  0.312  11000  607.0      1.0  0735050101000  00/01-01-073-05W5/0   \n",
       "\n",
       "             lng        lat  \n",
       "12   -114.620656  55.288691  \n",
       "636  -114.620656  55.288691  \n",
       "776  -114.620656  55.288691  \n",
       "828  -114.620656  55.288691  \n",
       "868  -114.620656  55.288691  "
      ]
     },
     "execution_count": 43,
     "metadata": {},
     "output_type": "execute_result"
    }
   ],
   "source": [
    "# merging dataframe 'dt' with 'wlp' on SitID and [DEPT/Pick]\n",
    "m = pd.merge(left=dt, right=wlp, left_on=['SitID', 'DEPT'], right_on=['SitID', 'Pick'], how='left')\n",
    "# change HorID to string\n",
    "m['HorID'] = m['HorID'].astype(str)\n",
    "# drop NA values\n",
    "m = m.dropna()\n",
    "m.head()"
   ]
  },
  {
   "cell_type": "code",
   "execution_count": 44,
   "metadata": {},
   "outputs": [
    {
     "data": {
      "text/plain": [
       "10220"
      ]
     },
     "execution_count": 44,
     "metadata": {},
     "output_type": "execute_result"
    }
   ],
   "source": [
    "len(m)"
   ]
  },
  {
   "cell_type": "markdown",
   "metadata": {},
   "source": [
    "### Saving Final dataset for ML Modeling"
   ]
  },
  {
   "cell_type": "code",
   "execution_count": 45,
   "metadata": {},
   "outputs": [],
   "source": [
    "m = m.reset_index(drop=True)\n",
    "m['Id'] = m.index.values\n",
    "m = m[['Id', 'SitID', 'DPHI', 'GR', 'ILD', 'NPHI', 'lng', 'lat', 'HorID', 'Pick']]\n",
    "# m.to_csv('m_out.csv', sep=\"\\t\", index=None)"
   ]
  },
  {
   "cell_type": "markdown",
   "metadata": {},
   "source": [
    "### Adding 5 obervations before & after to every single observation at the DEPT indicated"
   ]
  },
  {
   "cell_type": "code",
   "execution_count": 46,
   "metadata": {},
   "outputs": [],
   "source": [
    "# reading data file with 5 observation before and after. Prepared in R by Arun Atmacharan\n",
    "obs_befr_aftr = pd.read_csv(\"./obs_reduced.csv\", delimiter=',')"
   ]
  },
  {
   "cell_type": "code",
   "execution_count": 47,
   "metadata": {},
   "outputs": [
    {
     "data": {
      "text/html": [
       "<div>\n",
       "<style scoped>\n",
       "    .dataframe tbody tr th:only-of-type {\n",
       "        vertical-align: middle;\n",
       "    }\n",
       "\n",
       "    .dataframe tbody tr th {\n",
       "        vertical-align: top;\n",
       "    }\n",
       "\n",
       "    .dataframe thead th {\n",
       "        text-align: right;\n",
       "    }\n",
       "</style>\n",
       "<table border=\"1\" class=\"dataframe\">\n",
       "  <thead>\n",
       "    <tr style=\"text-align: right;\">\n",
       "      <th></th>\n",
       "      <th>SitIDr</th>\n",
       "      <th>DEPTr</th>\n",
       "      <th>HorIDr</th>\n",
       "      <th>Pickr</th>\n",
       "      <th>DPHIr1</th>\n",
       "      <th>GRr1</th>\n",
       "      <th>ILDr1</th>\n",
       "      <th>NPHIr1</th>\n",
       "      <th>DPHIr2</th>\n",
       "      <th>GRr2</th>\n",
       "      <th>...</th>\n",
       "      <th>ILDr8</th>\n",
       "      <th>NPHIr8</th>\n",
       "      <th>DPHIr9</th>\n",
       "      <th>GRr9</th>\n",
       "      <th>ILDr9</th>\n",
       "      <th>NPHIr9</th>\n",
       "      <th>DPHIr10</th>\n",
       "      <th>GRr10</th>\n",
       "      <th>ILDr10</th>\n",
       "      <th>NPHIr10</th>\n",
       "    </tr>\n",
       "  </thead>\n",
       "  <tbody>\n",
       "    <tr>\n",
       "      <th>0</th>\n",
       "      <td>142218</td>\n",
       "      <td>393.0</td>\n",
       "      <td>1000</td>\n",
       "      <td>393.0</td>\n",
       "      <td>0.215</td>\n",
       "      <td>88.403</td>\n",
       "      <td>2.725</td>\n",
       "      <td>0.471</td>\n",
       "      <td>0.190</td>\n",
       "      <td>91.038</td>\n",
       "      <td>...</td>\n",
       "      <td>4.097</td>\n",
       "      <td>0.355</td>\n",
       "      <td>0.374</td>\n",
       "      <td>54.888</td>\n",
       "      <td>3.848</td>\n",
       "      <td>0.481</td>\n",
       "      <td>0.454</td>\n",
       "      <td>61.614</td>\n",
       "      <td>3.267</td>\n",
       "      <td>0.536</td>\n",
       "    </tr>\n",
       "    <tr>\n",
       "      <th>1</th>\n",
       "      <td>142218</td>\n",
       "      <td>549.0</td>\n",
       "      <td>4000</td>\n",
       "      <td>549.0</td>\n",
       "      <td>0.226</td>\n",
       "      <td>78.224</td>\n",
       "      <td>4.498</td>\n",
       "      <td>0.399</td>\n",
       "      <td>0.239</td>\n",
       "      <td>78.255</td>\n",
       "      <td>...</td>\n",
       "      <td>4.750</td>\n",
       "      <td>0.410</td>\n",
       "      <td>0.229</td>\n",
       "      <td>55.811</td>\n",
       "      <td>5.105</td>\n",
       "      <td>0.438</td>\n",
       "      <td>0.201</td>\n",
       "      <td>56.461</td>\n",
       "      <td>5.621</td>\n",
       "      <td>0.296</td>\n",
       "    </tr>\n",
       "    <tr>\n",
       "      <th>2</th>\n",
       "      <td>142218</td>\n",
       "      <td>584.0</td>\n",
       "      <td>5000</td>\n",
       "      <td>584.0</td>\n",
       "      <td>0.210</td>\n",
       "      <td>82.798</td>\n",
       "      <td>4.723</td>\n",
       "      <td>0.390</td>\n",
       "      <td>0.197</td>\n",
       "      <td>83.507</td>\n",
       "      <td>...</td>\n",
       "      <td>6.752</td>\n",
       "      <td>0.330</td>\n",
       "      <td>0.120</td>\n",
       "      <td>70.858</td>\n",
       "      <td>7.297</td>\n",
       "      <td>0.326</td>\n",
       "      <td>0.132</td>\n",
       "      <td>74.797</td>\n",
       "      <td>7.740</td>\n",
       "      <td>0.308</td>\n",
       "    </tr>\n",
       "    <tr>\n",
       "      <th>3</th>\n",
       "      <td>142218</td>\n",
       "      <td>597.0</td>\n",
       "      <td>7000</td>\n",
       "      <td>597.0</td>\n",
       "      <td>0.528</td>\n",
       "      <td>78.466</td>\n",
       "      <td>1.863</td>\n",
       "      <td>0.513</td>\n",
       "      <td>0.483</td>\n",
       "      <td>77.323</td>\n",
       "      <td>...</td>\n",
       "      <td>6.046</td>\n",
       "      <td>0.403</td>\n",
       "      <td>0.280</td>\n",
       "      <td>74.096</td>\n",
       "      <td>6.132</td>\n",
       "      <td>0.399</td>\n",
       "      <td>0.221</td>\n",
       "      <td>74.690</td>\n",
       "      <td>6.103</td>\n",
       "      <td>0.372</td>\n",
       "    </tr>\n",
       "    <tr>\n",
       "      <th>4</th>\n",
       "      <td>142218</td>\n",
       "      <td>607.0</td>\n",
       "      <td>11000</td>\n",
       "      <td>607.0</td>\n",
       "      <td>0.150</td>\n",
       "      <td>93.824</td>\n",
       "      <td>5.979</td>\n",
       "      <td>0.365</td>\n",
       "      <td>0.137</td>\n",
       "      <td>90.261</td>\n",
       "      <td>...</td>\n",
       "      <td>10.898</td>\n",
       "      <td>0.312</td>\n",
       "      <td>0.204</td>\n",
       "      <td>46.169</td>\n",
       "      <td>11.922</td>\n",
       "      <td>0.308</td>\n",
       "      <td>0.199</td>\n",
       "      <td>41.485</td>\n",
       "      <td>11.464</td>\n",
       "      <td>0.302</td>\n",
       "    </tr>\n",
       "  </tbody>\n",
       "</table>\n",
       "<p>5 rows × 44 columns</p>\n",
       "</div>"
      ],
      "text/plain": [
       "   SitIDr  DEPTr  HorIDr  Pickr  DPHIr1    GRr1  ILDr1  NPHIr1  DPHIr2    GRr2   ...      ILDr8  NPHIr8  DPHIr9  \\\n",
       "0  142218  393.0    1000  393.0   0.215  88.403  2.725   0.471   0.190  91.038   ...      4.097   0.355   0.374   \n",
       "1  142218  549.0    4000  549.0   0.226  78.224  4.498   0.399   0.239  78.255   ...      4.750   0.410   0.229   \n",
       "2  142218  584.0    5000  584.0   0.210  82.798  4.723   0.390   0.197  83.507   ...      6.752   0.330   0.120   \n",
       "3  142218  597.0    7000  597.0   0.528  78.466  1.863   0.513   0.483  77.323   ...      6.046   0.403   0.280   \n",
       "4  142218  607.0   11000  607.0   0.150  93.824  5.979   0.365   0.137  90.261   ...     10.898   0.312   0.204   \n",
       "\n",
       "     GRr9   ILDr9  NPHIr9  DPHIr10   GRr10  ILDr10  NPHIr10  \n",
       "0  54.888   3.848   0.481    0.454  61.614   3.267    0.536  \n",
       "1  55.811   5.105   0.438    0.201  56.461   5.621    0.296  \n",
       "2  70.858   7.297   0.326    0.132  74.797   7.740    0.308  \n",
       "3  74.096   6.132   0.399    0.221  74.690   6.103    0.372  \n",
       "4  46.169  11.922   0.308    0.199  41.485  11.464    0.302  \n",
       "\n",
       "[5 rows x 44 columns]"
      ]
     },
     "execution_count": 47,
     "metadata": {},
     "output_type": "execute_result"
    }
   ],
   "source": [
    "obs_befr_aftr.head()"
   ]
  },
  {
   "cell_type": "code",
   "execution_count": 48,
   "metadata": {},
   "outputs": [
    {
     "data": {
      "text/plain": [
       "{dtype('int64'): Index(['SitIDr', 'HorIDr'], dtype='object'),\n",
       " dtype('float64'): Index(['DEPTr', 'Pickr', 'DPHIr1', 'GRr1', 'ILDr1', 'NPHIr1', 'DPHIr2', 'GRr2', 'ILDr2', 'NPHIr2', 'DPHIr3', 'GRr3',\n",
       "        'ILDr3', 'NPHIr3', 'DPHIr4', 'GRr4', 'ILDr4', 'NPHIr4', 'DPHIr5', 'GRr5', 'ILDr5', 'NPHIr5', 'DPHIr6', 'GRr6',\n",
       "        'ILDr6', 'NPHIr6', 'DPHIr7', 'GRr7', 'ILDr7', 'NPHIr7', 'DPHIr8', 'GRr8', 'ILDr8', 'NPHIr8', 'DPHIr9', 'GRr9',\n",
       "        'ILDr9', 'NPHIr9', 'DPHIr10', 'GRr10', 'ILDr10', 'NPHIr10'],\n",
       "       dtype='object')}"
      ]
     },
     "execution_count": 48,
     "metadata": {},
     "output_type": "execute_result"
    }
   ],
   "source": [
    "obs_befr_aftr.columns.to_series().groupby(obs_befr_aftr.dtypes).groups"
   ]
  },
  {
   "cell_type": "code",
   "execution_count": 50,
   "metadata": {},
   "outputs": [
    {
     "data": {
      "text/plain": [
       "{dtype('int64'): Index(['HorIDr'], dtype='object'),\n",
       " dtype('float64'): Index(['DEPTr', 'Pickr', 'DPHIr1', 'GRr1', 'ILDr1', 'NPHIr1', 'DPHIr2', 'GRr2', 'ILDr2', 'NPHIr2', 'DPHIr3', 'GRr3',\n",
       "        'ILDr3', 'NPHIr3', 'DPHIr4', 'GRr4', 'ILDr4', 'NPHIr4', 'DPHIr5', 'GRr5', 'ILDr5', 'NPHIr5', 'DPHIr6', 'GRr6',\n",
       "        'ILDr6', 'NPHIr6', 'DPHIr7', 'GRr7', 'ILDr7', 'NPHIr7', 'DPHIr8', 'GRr8', 'ILDr8', 'NPHIr8', 'DPHIr9', 'GRr9',\n",
       "        'ILDr9', 'NPHIr9', 'DPHIr10', 'GRr10', 'ILDr10', 'NPHIr10'],\n",
       "       dtype='object'),\n",
       " dtype('O'): Index(['SitIDr'], dtype='object')}"
      ]
     },
     "execution_count": 50,
     "metadata": {},
     "output_type": "execute_result"
    }
   ],
   "source": [
    "obs_befr_aftr.SitIDr = obs_befr_aftr.SitIDr.astype(str)\n",
    "obs_befr_aftr.columns.to_series().groupby(obs_befr_aftr.dtypes).groups"
   ]
  },
  {
   "cell_type": "code",
   "execution_count": 51,
   "metadata": {},
   "outputs": [
    {
     "data": {
      "text/html": [
       "<div>\n",
       "<style scoped>\n",
       "    .dataframe tbody tr th:only-of-type {\n",
       "        vertical-align: middle;\n",
       "    }\n",
       "\n",
       "    .dataframe tbody tr th {\n",
       "        vertical-align: top;\n",
       "    }\n",
       "\n",
       "    .dataframe thead th {\n",
       "        text-align: right;\n",
       "    }\n",
       "</style>\n",
       "<table border=\"1\" class=\"dataframe\">\n",
       "  <thead>\n",
       "    <tr style=\"text-align: right;\">\n",
       "      <th></th>\n",
       "      <th>Id</th>\n",
       "      <th>SitID</th>\n",
       "      <th>DPHI</th>\n",
       "      <th>GR</th>\n",
       "      <th>ILD</th>\n",
       "      <th>NPHI</th>\n",
       "      <th>lng</th>\n",
       "      <th>lat</th>\n",
       "      <th>HorID</th>\n",
       "      <th>Pick</th>\n",
       "    </tr>\n",
       "  </thead>\n",
       "  <tbody>\n",
       "    <tr>\n",
       "      <th>0</th>\n",
       "      <td>0</td>\n",
       "      <td>142218</td>\n",
       "      <td>0.299</td>\n",
       "      <td>72.249</td>\n",
       "      <td>3.338</td>\n",
       "      <td>0.429</td>\n",
       "      <td>-114.620656</td>\n",
       "      <td>55.288691</td>\n",
       "      <td>1000</td>\n",
       "      <td>393.0</td>\n",
       "    </tr>\n",
       "    <tr>\n",
       "      <th>1</th>\n",
       "      <td>1</td>\n",
       "      <td>142218</td>\n",
       "      <td>0.247</td>\n",
       "      <td>76.644</td>\n",
       "      <td>4.313</td>\n",
       "      <td>0.427</td>\n",
       "      <td>-114.620656</td>\n",
       "      <td>55.288691</td>\n",
       "      <td>4000</td>\n",
       "      <td>549.0</td>\n",
       "    </tr>\n",
       "    <tr>\n",
       "      <th>2</th>\n",
       "      <td>2</td>\n",
       "      <td>142218</td>\n",
       "      <td>0.184</td>\n",
       "      <td>72.472</td>\n",
       "      <td>5.379</td>\n",
       "      <td>0.357</td>\n",
       "      <td>-114.620656</td>\n",
       "      <td>55.288691</td>\n",
       "      <td>5000</td>\n",
       "      <td>584.0</td>\n",
       "    </tr>\n",
       "    <tr>\n",
       "      <th>3</th>\n",
       "      <td>3</td>\n",
       "      <td>142218</td>\n",
       "      <td>0.180</td>\n",
       "      <td>69.942</td>\n",
       "      <td>4.265</td>\n",
       "      <td>0.367</td>\n",
       "      <td>-114.620656</td>\n",
       "      <td>55.288691</td>\n",
       "      <td>7000</td>\n",
       "      <td>597.0</td>\n",
       "    </tr>\n",
       "    <tr>\n",
       "      <th>4</th>\n",
       "      <td>4</td>\n",
       "      <td>142218</td>\n",
       "      <td>0.191</td>\n",
       "      <td>57.457</td>\n",
       "      <td>9.279</td>\n",
       "      <td>0.312</td>\n",
       "      <td>-114.620656</td>\n",
       "      <td>55.288691</td>\n",
       "      <td>11000</td>\n",
       "      <td>607.0</td>\n",
       "    </tr>\n",
       "  </tbody>\n",
       "</table>\n",
       "</div>"
      ],
      "text/plain": [
       "   Id   SitID   DPHI      GR    ILD   NPHI          lng        lat  HorID   Pick\n",
       "0   0  142218  0.299  72.249  3.338  0.429  -114.620656  55.288691   1000  393.0\n",
       "1   1  142218  0.247  76.644  4.313  0.427  -114.620656  55.288691   4000  549.0\n",
       "2   2  142218  0.184  72.472  5.379  0.357  -114.620656  55.288691   5000  584.0\n",
       "3   3  142218  0.180  69.942  4.265  0.367  -114.620656  55.288691   7000  597.0\n",
       "4   4  142218  0.191  57.457  9.279  0.312  -114.620656  55.288691  11000  607.0"
      ]
     },
     "execution_count": 51,
     "metadata": {},
     "output_type": "execute_result"
    }
   ],
   "source": [
    "m.head()"
   ]
  },
  {
   "cell_type": "code",
   "execution_count": 52,
   "metadata": {},
   "outputs": [
    {
     "data": {
      "text/plain": [
       "{dtype('int64'): Index(['Id'], dtype='object'),\n",
       " dtype('float64'): Index(['DPHI', 'GR', 'ILD', 'NPHI', 'Pick'], dtype='object'),\n",
       " dtype('O'): Index(['SitID', 'lng', 'lat', 'HorID'], dtype='object')}"
      ]
     },
     "execution_count": 52,
     "metadata": {},
     "output_type": "execute_result"
    }
   ],
   "source": [
    "m.columns.to_series().groupby(m.dtypes).groups"
   ]
  },
  {
   "cell_type": "code",
   "execution_count": 63,
   "metadata": {},
   "outputs": [],
   "source": [
    "# merging dataframe 'm' with 'obs_befr_aftr' on SitID and [DEPT/Pick]\n",
    "ds = pd.merge(left=m, right=obs_befr_aftr, left_on=['SitID', 'Pick'], right_on=['SitIDr', 'DEPTr'], how='left')"
   ]
  },
  {
   "cell_type": "code",
   "execution_count": 64,
   "metadata": {},
   "outputs": [
    {
     "data": {
      "text/plain": [
       "16830"
      ]
     },
     "execution_count": 64,
     "metadata": {},
     "output_type": "execute_result"
    }
   ],
   "source": [
    "len(ds)"
   ]
  },
  {
   "cell_type": "code",
   "execution_count": 65,
   "metadata": {},
   "outputs": [],
   "source": [
    "ds = ds.dropna() # to be sure we don't get null values or incomplete observations"
   ]
  },
  {
   "cell_type": "code",
   "execution_count": 66,
   "metadata": {},
   "outputs": [
    {
     "data": {
      "text/plain": [
       "16829"
      ]
     },
     "execution_count": 66,
     "metadata": {},
     "output_type": "execute_result"
    }
   ],
   "source": [
    "len(ds)"
   ]
  },
  {
   "cell_type": "code",
   "execution_count": 67,
   "metadata": {},
   "outputs": [
    {
     "data": {
      "text/html": [
       "<div>\n",
       "<style scoped>\n",
       "    .dataframe tbody tr th:only-of-type {\n",
       "        vertical-align: middle;\n",
       "    }\n",
       "\n",
       "    .dataframe tbody tr th {\n",
       "        vertical-align: top;\n",
       "    }\n",
       "\n",
       "    .dataframe thead th {\n",
       "        text-align: right;\n",
       "    }\n",
       "</style>\n",
       "<table border=\"1\" class=\"dataframe\">\n",
       "  <thead>\n",
       "    <tr style=\"text-align: right;\">\n",
       "      <th></th>\n",
       "      <th>Id</th>\n",
       "      <th>SitID</th>\n",
       "      <th>DPHI</th>\n",
       "      <th>GR</th>\n",
       "      <th>ILD</th>\n",
       "      <th>NPHI</th>\n",
       "      <th>lng</th>\n",
       "      <th>lat</th>\n",
       "      <th>HorID</th>\n",
       "      <th>Pick</th>\n",
       "      <th>...</th>\n",
       "      <th>ILDr8</th>\n",
       "      <th>NPHIr8</th>\n",
       "      <th>DPHIr9</th>\n",
       "      <th>GRr9</th>\n",
       "      <th>ILDr9</th>\n",
       "      <th>NPHIr9</th>\n",
       "      <th>DPHIr10</th>\n",
       "      <th>GRr10</th>\n",
       "      <th>ILDr10</th>\n",
       "      <th>NPHIr10</th>\n",
       "    </tr>\n",
       "  </thead>\n",
       "  <tbody>\n",
       "    <tr>\n",
       "      <th>0</th>\n",
       "      <td>0</td>\n",
       "      <td>142218</td>\n",
       "      <td>0.299</td>\n",
       "      <td>72.249</td>\n",
       "      <td>3.338</td>\n",
       "      <td>0.429</td>\n",
       "      <td>-114.620656</td>\n",
       "      <td>55.288691</td>\n",
       "      <td>1000</td>\n",
       "      <td>393.0</td>\n",
       "      <td>...</td>\n",
       "      <td>4.097</td>\n",
       "      <td>0.355</td>\n",
       "      <td>0.374</td>\n",
       "      <td>54.888</td>\n",
       "      <td>3.848</td>\n",
       "      <td>0.481</td>\n",
       "      <td>0.454</td>\n",
       "      <td>61.614</td>\n",
       "      <td>3.267</td>\n",
       "      <td>0.536</td>\n",
       "    </tr>\n",
       "    <tr>\n",
       "      <th>1</th>\n",
       "      <td>1</td>\n",
       "      <td>142218</td>\n",
       "      <td>0.247</td>\n",
       "      <td>76.644</td>\n",
       "      <td>4.313</td>\n",
       "      <td>0.427</td>\n",
       "      <td>-114.620656</td>\n",
       "      <td>55.288691</td>\n",
       "      <td>4000</td>\n",
       "      <td>549.0</td>\n",
       "      <td>...</td>\n",
       "      <td>4.750</td>\n",
       "      <td>0.410</td>\n",
       "      <td>0.229</td>\n",
       "      <td>55.811</td>\n",
       "      <td>5.105</td>\n",
       "      <td>0.438</td>\n",
       "      <td>0.201</td>\n",
       "      <td>56.461</td>\n",
       "      <td>5.621</td>\n",
       "      <td>0.296</td>\n",
       "    </tr>\n",
       "    <tr>\n",
       "      <th>2</th>\n",
       "      <td>2</td>\n",
       "      <td>142218</td>\n",
       "      <td>0.184</td>\n",
       "      <td>72.472</td>\n",
       "      <td>5.379</td>\n",
       "      <td>0.357</td>\n",
       "      <td>-114.620656</td>\n",
       "      <td>55.288691</td>\n",
       "      <td>5000</td>\n",
       "      <td>584.0</td>\n",
       "      <td>...</td>\n",
       "      <td>6.752</td>\n",
       "      <td>0.330</td>\n",
       "      <td>0.120</td>\n",
       "      <td>70.858</td>\n",
       "      <td>7.297</td>\n",
       "      <td>0.326</td>\n",
       "      <td>0.132</td>\n",
       "      <td>74.797</td>\n",
       "      <td>7.740</td>\n",
       "      <td>0.308</td>\n",
       "    </tr>\n",
       "    <tr>\n",
       "      <th>3</th>\n",
       "      <td>3</td>\n",
       "      <td>142218</td>\n",
       "      <td>0.180</td>\n",
       "      <td>69.942</td>\n",
       "      <td>4.265</td>\n",
       "      <td>0.367</td>\n",
       "      <td>-114.620656</td>\n",
       "      <td>55.288691</td>\n",
       "      <td>7000</td>\n",
       "      <td>597.0</td>\n",
       "      <td>...</td>\n",
       "      <td>6.046</td>\n",
       "      <td>0.403</td>\n",
       "      <td>0.280</td>\n",
       "      <td>74.096</td>\n",
       "      <td>6.132</td>\n",
       "      <td>0.399</td>\n",
       "      <td>0.221</td>\n",
       "      <td>74.690</td>\n",
       "      <td>6.103</td>\n",
       "      <td>0.372</td>\n",
       "    </tr>\n",
       "    <tr>\n",
       "      <th>4</th>\n",
       "      <td>4</td>\n",
       "      <td>142218</td>\n",
       "      <td>0.191</td>\n",
       "      <td>57.457</td>\n",
       "      <td>9.279</td>\n",
       "      <td>0.312</td>\n",
       "      <td>-114.620656</td>\n",
       "      <td>55.288691</td>\n",
       "      <td>11000</td>\n",
       "      <td>607.0</td>\n",
       "      <td>...</td>\n",
       "      <td>10.898</td>\n",
       "      <td>0.312</td>\n",
       "      <td>0.204</td>\n",
       "      <td>46.169</td>\n",
       "      <td>11.922</td>\n",
       "      <td>0.308</td>\n",
       "      <td>0.199</td>\n",
       "      <td>41.485</td>\n",
       "      <td>11.464</td>\n",
       "      <td>0.302</td>\n",
       "    </tr>\n",
       "  </tbody>\n",
       "</table>\n",
       "<p>5 rows × 54 columns</p>\n",
       "</div>"
      ],
      "text/plain": [
       "   Id   SitID   DPHI      GR    ILD   NPHI          lng        lat  HorID   Pick   ...      ILDr8  NPHIr8  DPHIr9  \\\n",
       "0   0  142218  0.299  72.249  3.338  0.429  -114.620656  55.288691   1000  393.0   ...      4.097   0.355   0.374   \n",
       "1   1  142218  0.247  76.644  4.313  0.427  -114.620656  55.288691   4000  549.0   ...      4.750   0.410   0.229   \n",
       "2   2  142218  0.184  72.472  5.379  0.357  -114.620656  55.288691   5000  584.0   ...      6.752   0.330   0.120   \n",
       "3   3  142218  0.180  69.942  4.265  0.367  -114.620656  55.288691   7000  597.0   ...      6.046   0.403   0.280   \n",
       "4   4  142218  0.191  57.457  9.279  0.312  -114.620656  55.288691  11000  607.0   ...     10.898   0.312   0.204   \n",
       "\n",
       "     GRr9   ILDr9  NPHIr9  DPHIr10   GRr10  ILDr10  NPHIr10  \n",
       "0  54.888   3.848   0.481    0.454  61.614   3.267    0.536  \n",
       "1  55.811   5.105   0.438    0.201  56.461   5.621    0.296  \n",
       "2  70.858   7.297   0.326    0.132  74.797   7.740    0.308  \n",
       "3  74.096   6.132   0.399    0.221  74.690   6.103    0.372  \n",
       "4  46.169  11.922   0.308    0.199  41.485  11.464    0.302  \n",
       "\n",
       "[5 rows x 54 columns]"
      ]
     },
     "execution_count": 67,
     "metadata": {},
     "output_type": "execute_result"
    }
   ],
   "source": [
    "ds.head()"
   ]
  },
  {
   "cell_type": "code",
   "execution_count": 68,
   "metadata": {},
   "outputs": [
    {
     "data": {
      "text/plain": [
       "Index(['Id', 'SitID', 'DPHI', 'GR', 'ILD', 'NPHI', 'lng', 'lat', 'HorID', 'Pick', 'SitIDr', 'DEPTr', 'HorIDr', 'Pickr',\n",
       "       'DPHIr1', 'GRr1', 'ILDr1', 'NPHIr1', 'DPHIr2', 'GRr2', 'ILDr2', 'NPHIr2', 'DPHIr3', 'GRr3', 'ILDr3', 'NPHIr3',\n",
       "       'DPHIr4', 'GRr4', 'ILDr4', 'NPHIr4', 'DPHIr5', 'GRr5', 'ILDr5', 'NPHIr5', 'DPHIr6', 'GRr6', 'ILDr6', 'NPHIr6',\n",
       "       'DPHIr7', 'GRr7', 'ILDr7', 'NPHIr7', 'DPHIr8', 'GRr8', 'ILDr8', 'NPHIr8', 'DPHIr9', 'GRr9', 'ILDr9', 'NPHIr9',\n",
       "       'DPHIr10', 'GRr10', 'ILDr10', 'NPHIr10'],\n",
       "      dtype='object')"
      ]
     },
     "execution_count": 68,
     "metadata": {},
     "output_type": "execute_result"
    }
   ],
   "source": [
    "ds.columns"
   ]
  },
  {
   "cell_type": "code",
   "execution_count": 69,
   "metadata": {},
   "outputs": [
    {
     "data": {
      "text/html": [
       "<div>\n",
       "<style scoped>\n",
       "    .dataframe tbody tr th:only-of-type {\n",
       "        vertical-align: middle;\n",
       "    }\n",
       "\n",
       "    .dataframe tbody tr th {\n",
       "        vertical-align: top;\n",
       "    }\n",
       "\n",
       "    .dataframe thead th {\n",
       "        text-align: right;\n",
       "    }\n",
       "</style>\n",
       "<table border=\"1\" class=\"dataframe\">\n",
       "  <thead>\n",
       "    <tr style=\"text-align: right;\">\n",
       "      <th></th>\n",
       "      <th>SitID</th>\n",
       "      <th>HorID</th>\n",
       "      <th>lng</th>\n",
       "      <th>lat</th>\n",
       "      <th>DPHI</th>\n",
       "      <th>GR</th>\n",
       "      <th>ILD</th>\n",
       "      <th>NPHI</th>\n",
       "      <th>DPHIr1</th>\n",
       "      <th>GRr1</th>\n",
       "      <th>...</th>\n",
       "      <th>NPHIr8</th>\n",
       "      <th>DPHIr9</th>\n",
       "      <th>GRr9</th>\n",
       "      <th>ILDr9</th>\n",
       "      <th>NPHIr9</th>\n",
       "      <th>DPHIr10</th>\n",
       "      <th>GRr10</th>\n",
       "      <th>ILDr10</th>\n",
       "      <th>NPHIr10</th>\n",
       "      <th>Pick</th>\n",
       "    </tr>\n",
       "  </thead>\n",
       "  <tbody>\n",
       "    <tr>\n",
       "      <th>0</th>\n",
       "      <td>142218</td>\n",
       "      <td>1000</td>\n",
       "      <td>-114.620656</td>\n",
       "      <td>55.288691</td>\n",
       "      <td>0.299</td>\n",
       "      <td>72.249</td>\n",
       "      <td>3.338</td>\n",
       "      <td>0.429</td>\n",
       "      <td>0.215</td>\n",
       "      <td>88.403</td>\n",
       "      <td>...</td>\n",
       "      <td>0.355</td>\n",
       "      <td>0.374</td>\n",
       "      <td>54.888</td>\n",
       "      <td>3.848</td>\n",
       "      <td>0.481</td>\n",
       "      <td>0.454</td>\n",
       "      <td>61.614</td>\n",
       "      <td>3.267</td>\n",
       "      <td>0.536</td>\n",
       "      <td>393.0</td>\n",
       "    </tr>\n",
       "    <tr>\n",
       "      <th>1</th>\n",
       "      <td>142218</td>\n",
       "      <td>4000</td>\n",
       "      <td>-114.620656</td>\n",
       "      <td>55.288691</td>\n",
       "      <td>0.247</td>\n",
       "      <td>76.644</td>\n",
       "      <td>4.313</td>\n",
       "      <td>0.427</td>\n",
       "      <td>0.226</td>\n",
       "      <td>78.224</td>\n",
       "      <td>...</td>\n",
       "      <td>0.410</td>\n",
       "      <td>0.229</td>\n",
       "      <td>55.811</td>\n",
       "      <td>5.105</td>\n",
       "      <td>0.438</td>\n",
       "      <td>0.201</td>\n",
       "      <td>56.461</td>\n",
       "      <td>5.621</td>\n",
       "      <td>0.296</td>\n",
       "      <td>549.0</td>\n",
       "    </tr>\n",
       "    <tr>\n",
       "      <th>2</th>\n",
       "      <td>142218</td>\n",
       "      <td>5000</td>\n",
       "      <td>-114.620656</td>\n",
       "      <td>55.288691</td>\n",
       "      <td>0.184</td>\n",
       "      <td>72.472</td>\n",
       "      <td>5.379</td>\n",
       "      <td>0.357</td>\n",
       "      <td>0.210</td>\n",
       "      <td>82.798</td>\n",
       "      <td>...</td>\n",
       "      <td>0.330</td>\n",
       "      <td>0.120</td>\n",
       "      <td>70.858</td>\n",
       "      <td>7.297</td>\n",
       "      <td>0.326</td>\n",
       "      <td>0.132</td>\n",
       "      <td>74.797</td>\n",
       "      <td>7.740</td>\n",
       "      <td>0.308</td>\n",
       "      <td>584.0</td>\n",
       "    </tr>\n",
       "    <tr>\n",
       "      <th>3</th>\n",
       "      <td>142218</td>\n",
       "      <td>7000</td>\n",
       "      <td>-114.620656</td>\n",
       "      <td>55.288691</td>\n",
       "      <td>0.180</td>\n",
       "      <td>69.942</td>\n",
       "      <td>4.265</td>\n",
       "      <td>0.367</td>\n",
       "      <td>0.528</td>\n",
       "      <td>78.466</td>\n",
       "      <td>...</td>\n",
       "      <td>0.403</td>\n",
       "      <td>0.280</td>\n",
       "      <td>74.096</td>\n",
       "      <td>6.132</td>\n",
       "      <td>0.399</td>\n",
       "      <td>0.221</td>\n",
       "      <td>74.690</td>\n",
       "      <td>6.103</td>\n",
       "      <td>0.372</td>\n",
       "      <td>597.0</td>\n",
       "    </tr>\n",
       "    <tr>\n",
       "      <th>4</th>\n",
       "      <td>142218</td>\n",
       "      <td>11000</td>\n",
       "      <td>-114.620656</td>\n",
       "      <td>55.288691</td>\n",
       "      <td>0.191</td>\n",
       "      <td>57.457</td>\n",
       "      <td>9.279</td>\n",
       "      <td>0.312</td>\n",
       "      <td>0.150</td>\n",
       "      <td>93.824</td>\n",
       "      <td>...</td>\n",
       "      <td>0.312</td>\n",
       "      <td>0.204</td>\n",
       "      <td>46.169</td>\n",
       "      <td>11.922</td>\n",
       "      <td>0.308</td>\n",
       "      <td>0.199</td>\n",
       "      <td>41.485</td>\n",
       "      <td>11.464</td>\n",
       "      <td>0.302</td>\n",
       "      <td>607.0</td>\n",
       "    </tr>\n",
       "  </tbody>\n",
       "</table>\n",
       "<p>5 rows × 49 columns</p>\n",
       "</div>"
      ],
      "text/plain": [
       "    SitID  HorID          lng        lat   DPHI      GR    ILD   NPHI  DPHIr1    GRr1  ...    NPHIr8  DPHIr9    GRr9  \\\n",
       "0  142218   1000  -114.620656  55.288691  0.299  72.249  3.338  0.429   0.215  88.403  ...     0.355   0.374  54.888   \n",
       "1  142218   4000  -114.620656  55.288691  0.247  76.644  4.313  0.427   0.226  78.224  ...     0.410   0.229  55.811   \n",
       "2  142218   5000  -114.620656  55.288691  0.184  72.472  5.379  0.357   0.210  82.798  ...     0.330   0.120  70.858   \n",
       "3  142218   7000  -114.620656  55.288691  0.180  69.942  4.265  0.367   0.528  78.466  ...     0.403   0.280  74.096   \n",
       "4  142218  11000  -114.620656  55.288691  0.191  57.457  9.279  0.312   0.150  93.824  ...     0.312   0.204  46.169   \n",
       "\n",
       "    ILDr9  NPHIr9  DPHIr10   GRr10  ILDr10  NPHIr10   Pick  \n",
       "0   3.848   0.481    0.454  61.614   3.267    0.536  393.0  \n",
       "1   5.105   0.438    0.201  56.461   5.621    0.296  549.0  \n",
       "2   7.297   0.326    0.132  74.797   7.740    0.308  584.0  \n",
       "3   6.132   0.399    0.221  74.690   6.103    0.372  597.0  \n",
       "4  11.922   0.308    0.199  41.485  11.464    0.302  607.0  \n",
       "\n",
       "[5 rows x 49 columns]"
      ]
     },
     "execution_count": 69,
     "metadata": {},
     "output_type": "execute_result"
    }
   ],
   "source": [
    "ds = ds[['SitID', 'HorID', 'lng', 'lat', \\\n",
    "         'DPHI', 'GR', 'ILD', 'NPHI', \\\n",
    "         'DPHIr1', 'GRr1', 'ILDr1', 'NPHIr1', \\\n",
    "         'DPHIr2', 'GRr2', 'ILDr2', 'NPHIr2', \\\n",
    "         'DPHIr3', 'GRr3', 'ILDr3', 'NPHIr3', \\\n",
    "         'DPHIr4', 'GRr4', 'ILDr4', 'NPHIr4', \\\n",
    "         'DPHIr5', 'GRr5', 'ILDr5', 'NPHIr5', \\\n",
    "         'DPHIr6', 'GRr6', 'ILDr6', 'NPHIr6', \\\n",
    "         'DPHIr7', 'GRr7', 'ILDr7', 'NPHIr7', \\\n",
    "         'DPHIr8', 'GRr8', 'ILDr8', 'NPHIr8', \\\n",
    "         'DPHIr9', 'GRr9', 'ILDr9', 'NPHIr9', \\\n",
    "         'DPHIr10', 'GRr10', 'ILDr10', 'NPHIr10', \\\n",
    "         'Pick']]\n",
    "ds.head()"
   ]
  },
  {
   "cell_type": "code",
   "execution_count": 70,
   "metadata": {},
   "outputs": [
    {
     "data": {
      "text/plain": [
       "13000    2655\n",
       "12000    2580\n",
       "11000    2394\n",
       "9500     1750\n",
       "9000     1729\n",
       "5000     1057\n",
       "10000    1048\n",
       "14000     999\n",
       "7000      862\n",
       "1000      857\n",
       "4000      252\n",
       "6000      251\n",
       "3000      205\n",
       "2000      190\n",
       "Name: HorID, dtype: int64"
      ]
     },
     "execution_count": 70,
     "metadata": {},
     "output_type": "execute_result"
    }
   ],
   "source": [
    "# occurrences of every HorID\n",
    "ds.HorID.value_counts()"
   ]
  },
  {
   "cell_type": "code",
   "execution_count": 78,
   "metadata": {},
   "outputs": [],
   "source": [
    "# ds['id'] = ds.index\n",
    "cols = ['id', 'SitID', 'HorID', 'lng', 'lat', 'DPHI', 'GR', 'ILD', 'NPHI',\n",
    "       'DPHIr1', 'GRr1', 'ILDr1', 'NPHIr1', 'DPHIr2', 'GRr2', 'ILDr2',\n",
    "       'NPHIr2', 'DPHIr3', 'GRr3', 'ILDr3', 'NPHIr3', 'DPHIr4', 'GRr4',\n",
    "       'ILDr4', 'NPHIr4', 'DPHIr5', 'GRr5', 'ILDr5', 'NPHIr5', 'DPHIr6',\n",
    "       'GRr6', 'ILDr6', 'NPHIr6', 'DPHIr7', 'GRr7', 'ILDr7', 'NPHIr7',\n",
    "       'DPHIr8', 'GRr8', 'ILDr8', 'NPHIr8', 'DPHIr9', 'GRr9', 'ILDr9',\n",
    "       'NPHIr9', 'DPHIr10', 'GRr10', 'ILDr10', 'NPHIr10', 'Pick']\n",
    "ds = ds[['id', 'SitID', 'HorID', 'lng', 'lat', 'DPHI', 'GR', 'ILD', 'NPHI',\n",
    "       'DPHIr1', 'GRr1', 'ILDr1', 'NPHIr1', 'DPHIr2', 'GRr2', 'ILDr2',\n",
    "       'NPHIr2', 'DPHIr3', 'GRr3', 'ILDr3', 'NPHIr3', 'DPHIr4', 'GRr4',\n",
    "       'ILDr4', 'NPHIr4', 'DPHIr5', 'GRr5', 'ILDr5', 'NPHIr5', 'DPHIr6',\n",
    "       'GRr6', 'ILDr6', 'NPHIr6', 'DPHIr7', 'GRr7', 'ILDr7', 'NPHIr7',\n",
    "       'DPHIr8', 'GRr8', 'ILDr8', 'NPHIr8', 'DPHIr9', 'GRr9', 'ILDr9',\n",
    "       'NPHIr9', 'DPHIr10', 'GRr10', 'ILDr10', 'NPHIr10', 'Pick']]"
   ]
  },
  {
   "cell_type": "code",
   "execution_count": 79,
   "metadata": {},
   "outputs": [
    {
     "data": {
      "text/html": [
       "<div>\n",
       "<style scoped>\n",
       "    .dataframe tbody tr th:only-of-type {\n",
       "        vertical-align: middle;\n",
       "    }\n",
       "\n",
       "    .dataframe tbody tr th {\n",
       "        vertical-align: top;\n",
       "    }\n",
       "\n",
       "    .dataframe thead th {\n",
       "        text-align: right;\n",
       "    }\n",
       "</style>\n",
       "<table border=\"1\" class=\"dataframe\">\n",
       "  <thead>\n",
       "    <tr style=\"text-align: right;\">\n",
       "      <th></th>\n",
       "      <th>id</th>\n",
       "      <th>SitID</th>\n",
       "      <th>HorID</th>\n",
       "      <th>lng</th>\n",
       "      <th>lat</th>\n",
       "      <th>DPHI</th>\n",
       "      <th>GR</th>\n",
       "      <th>ILD</th>\n",
       "      <th>NPHI</th>\n",
       "      <th>DPHIr1</th>\n",
       "      <th>...</th>\n",
       "      <th>NPHIr8</th>\n",
       "      <th>DPHIr9</th>\n",
       "      <th>GRr9</th>\n",
       "      <th>ILDr9</th>\n",
       "      <th>NPHIr9</th>\n",
       "      <th>DPHIr10</th>\n",
       "      <th>GRr10</th>\n",
       "      <th>ILDr10</th>\n",
       "      <th>NPHIr10</th>\n",
       "      <th>Pick</th>\n",
       "    </tr>\n",
       "  </thead>\n",
       "  <tbody>\n",
       "    <tr>\n",
       "      <th>0</th>\n",
       "      <td>0</td>\n",
       "      <td>142218</td>\n",
       "      <td>1000</td>\n",
       "      <td>-114.620656</td>\n",
       "      <td>55.288691</td>\n",
       "      <td>0.299</td>\n",
       "      <td>72.249</td>\n",
       "      <td>3.338</td>\n",
       "      <td>0.429</td>\n",
       "      <td>0.215</td>\n",
       "      <td>...</td>\n",
       "      <td>0.355</td>\n",
       "      <td>0.374</td>\n",
       "      <td>54.888</td>\n",
       "      <td>3.848</td>\n",
       "      <td>0.481</td>\n",
       "      <td>0.454</td>\n",
       "      <td>61.614</td>\n",
       "      <td>3.267</td>\n",
       "      <td>0.536</td>\n",
       "      <td>393.0</td>\n",
       "    </tr>\n",
       "    <tr>\n",
       "      <th>1</th>\n",
       "      <td>1</td>\n",
       "      <td>142218</td>\n",
       "      <td>4000</td>\n",
       "      <td>-114.620656</td>\n",
       "      <td>55.288691</td>\n",
       "      <td>0.247</td>\n",
       "      <td>76.644</td>\n",
       "      <td>4.313</td>\n",
       "      <td>0.427</td>\n",
       "      <td>0.226</td>\n",
       "      <td>...</td>\n",
       "      <td>0.410</td>\n",
       "      <td>0.229</td>\n",
       "      <td>55.811</td>\n",
       "      <td>5.105</td>\n",
       "      <td>0.438</td>\n",
       "      <td>0.201</td>\n",
       "      <td>56.461</td>\n",
       "      <td>5.621</td>\n",
       "      <td>0.296</td>\n",
       "      <td>549.0</td>\n",
       "    </tr>\n",
       "    <tr>\n",
       "      <th>2</th>\n",
       "      <td>2</td>\n",
       "      <td>142218</td>\n",
       "      <td>5000</td>\n",
       "      <td>-114.620656</td>\n",
       "      <td>55.288691</td>\n",
       "      <td>0.184</td>\n",
       "      <td>72.472</td>\n",
       "      <td>5.379</td>\n",
       "      <td>0.357</td>\n",
       "      <td>0.210</td>\n",
       "      <td>...</td>\n",
       "      <td>0.330</td>\n",
       "      <td>0.120</td>\n",
       "      <td>70.858</td>\n",
       "      <td>7.297</td>\n",
       "      <td>0.326</td>\n",
       "      <td>0.132</td>\n",
       "      <td>74.797</td>\n",
       "      <td>7.740</td>\n",
       "      <td>0.308</td>\n",
       "      <td>584.0</td>\n",
       "    </tr>\n",
       "    <tr>\n",
       "      <th>3</th>\n",
       "      <td>3</td>\n",
       "      <td>142218</td>\n",
       "      <td>7000</td>\n",
       "      <td>-114.620656</td>\n",
       "      <td>55.288691</td>\n",
       "      <td>0.180</td>\n",
       "      <td>69.942</td>\n",
       "      <td>4.265</td>\n",
       "      <td>0.367</td>\n",
       "      <td>0.528</td>\n",
       "      <td>...</td>\n",
       "      <td>0.403</td>\n",
       "      <td>0.280</td>\n",
       "      <td>74.096</td>\n",
       "      <td>6.132</td>\n",
       "      <td>0.399</td>\n",
       "      <td>0.221</td>\n",
       "      <td>74.690</td>\n",
       "      <td>6.103</td>\n",
       "      <td>0.372</td>\n",
       "      <td>597.0</td>\n",
       "    </tr>\n",
       "    <tr>\n",
       "      <th>4</th>\n",
       "      <td>4</td>\n",
       "      <td>142218</td>\n",
       "      <td>11000</td>\n",
       "      <td>-114.620656</td>\n",
       "      <td>55.288691</td>\n",
       "      <td>0.191</td>\n",
       "      <td>57.457</td>\n",
       "      <td>9.279</td>\n",
       "      <td>0.312</td>\n",
       "      <td>0.150</td>\n",
       "      <td>...</td>\n",
       "      <td>0.312</td>\n",
       "      <td>0.204</td>\n",
       "      <td>46.169</td>\n",
       "      <td>11.922</td>\n",
       "      <td>0.308</td>\n",
       "      <td>0.199</td>\n",
       "      <td>41.485</td>\n",
       "      <td>11.464</td>\n",
       "      <td>0.302</td>\n",
       "      <td>607.0</td>\n",
       "    </tr>\n",
       "  </tbody>\n",
       "</table>\n",
       "<p>5 rows × 50 columns</p>\n",
       "</div>"
      ],
      "text/plain": [
       "   id   SitID  HorID          lng        lat   DPHI      GR    ILD   NPHI  DPHIr1  ...    NPHIr8  DPHIr9    GRr9  \\\n",
       "0   0  142218   1000  -114.620656  55.288691  0.299  72.249  3.338  0.429   0.215  ...     0.355   0.374  54.888   \n",
       "1   1  142218   4000  -114.620656  55.288691  0.247  76.644  4.313  0.427   0.226  ...     0.410   0.229  55.811   \n",
       "2   2  142218   5000  -114.620656  55.288691  0.184  72.472  5.379  0.357   0.210  ...     0.330   0.120  70.858   \n",
       "3   3  142218   7000  -114.620656  55.288691  0.180  69.942  4.265  0.367   0.528  ...     0.403   0.280  74.096   \n",
       "4   4  142218  11000  -114.620656  55.288691  0.191  57.457  9.279  0.312   0.150  ...     0.312   0.204  46.169   \n",
       "\n",
       "    ILDr9  NPHIr9  DPHIr10   GRr10  ILDr10  NPHIr10   Pick  \n",
       "0   3.848   0.481    0.454  61.614   3.267    0.536  393.0  \n",
       "1   5.105   0.438    0.201  56.461   5.621    0.296  549.0  \n",
       "2   7.297   0.326    0.132  74.797   7.740    0.308  584.0  \n",
       "3   6.132   0.399    0.221  74.690   6.103    0.372  597.0  \n",
       "4  11.922   0.308    0.199  41.485  11.464    0.302  607.0  \n",
       "\n",
       "[5 rows x 50 columns]"
      ]
     },
     "execution_count": 79,
     "metadata": {},
     "output_type": "execute_result"
    }
   ],
   "source": [
    "ds.head()"
   ]
  },
  {
   "cell_type": "code",
   "execution_count": 80,
   "metadata": {},
   "outputs": [],
   "source": [
    "# writing final dataset to disk - ready for NIA\n",
    "ds.to_csv('ds_out_ready.csv', sep=\"\\t\", index=None)"
   ]
  },
  {
   "cell_type": "markdown",
   "metadata": {},
   "source": [
    "### end of Create tidy dataset"
   ]
  }
 ],
 "metadata": {
  "anaconda-cloud": {},
  "kernelspec": {
   "display_name": "Python 3",
   "language": "python",
   "name": "python3"
  },
  "language_info": {
   "codemirror_mode": {
    "name": "ipython",
    "version": 3
   },
   "file_extension": ".py",
   "mimetype": "text/x-python",
   "name": "python",
   "nbconvert_exporter": "python",
   "pygments_lexer": "ipython3",
   "version": "3.6.3"
  }
 },
 "nbformat": 4,
 "nbformat_minor": 1
}
