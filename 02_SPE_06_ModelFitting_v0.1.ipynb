{
 "cells": [
  {
   "cell_type": "code",
   "execution_count": null,
   "metadata": {},
   "outputs": [],
   "source": [
    "# Install a conda package in the current Jupyter kernel\n",
    "import sys\n",
    "# !conda install --yes --prefix {sys.prefix} -c conda-forge auto-sklearn\n",
    "!conda install --yes --prefix {sys.prefix} -c conda-forge pyrfr"
   ]
  },
  {
   "cell_type": "code",
   "execution_count": 8,
   "metadata": {},
   "outputs": [],
   "source": [
    "import os\n",
    "import pandas as pd\n",
    "import numpy as np\n",
    "import holoviews as hv\n",
    "import collections\n",
    "import matplotlib.pyplot as plt\n",
    "%matplotlib inline"
   ]
  },
  {
   "cell_type": "code",
   "execution_count": 7,
   "metadata": {},
   "outputs": [
    {
     "ename": "ImportError",
     "evalue": "No module named 'autosklearn'",
     "output_type": "error",
     "traceback": [
      "\u001b[1;31m---------------------------------------------------------------------------\u001b[0m",
      "\u001b[1;31mImportError\u001b[0m                               Traceback (most recent call last)",
      "\u001b[1;32m<ipython-input-7-5e2a74eec622>\u001b[0m in \u001b[0;36m<module>\u001b[1;34m()\u001b[0m\n\u001b[0;32m      3\u001b[0m \u001b[1;32mimport\u001b[0m \u001b[0msklearn\u001b[0m\u001b[1;33m.\u001b[0m\u001b[0mmetrics\u001b[0m\u001b[1;33m\u001b[0m\u001b[0m\n\u001b[0;32m      4\u001b[0m \u001b[1;33m\u001b[0m\u001b[0m\n\u001b[1;32m----> 5\u001b[1;33m \u001b[1;32mimport\u001b[0m \u001b[0mautosklearn\u001b[0m\u001b[1;33m.\u001b[0m\u001b[0mregression\u001b[0m\u001b[1;33m\u001b[0m\u001b[0m\n\u001b[0m",
      "\u001b[1;31mImportError\u001b[0m: No module named 'autosklearn'"
     ]
    }
   ],
   "source": [
    "import sklearn.model_selection\n",
    "import sklearn.datasets\n",
    "import sklearn.metrics\n",
    "\n",
    "import autosklearn.regression"
   ]
  },
  {
   "cell_type": "markdown",
   "metadata": {},
   "source": [
    "### Read dataset"
   ]
  },
  {
   "cell_type": "code",
   "execution_count": 9,
   "metadata": {
    "collapsed": true
   },
   "outputs": [],
   "source": [
    "ds = pd.read_csv(\"./ds_out_ready.csv\", delimiter='\\t', dtype=str)"
   ]
  },
  {
   "cell_type": "code",
   "execution_count": 10,
   "metadata": {},
   "outputs": [
    {
     "data": {
      "text/plain": [
       "Index(['id', 'SitID', 'HorID', 'lng', 'lat', 'DPHI', 'GR', 'ILD', 'NPHI',\n",
       "       'DPHIr1', 'GRr1', 'ILDr1', 'NPHIr1', 'DPHIr2', 'GRr2', 'ILDr2',\n",
       "       'NPHIr2', 'DPHIr3', 'GRr3', 'ILDr3', 'NPHIr3', 'DPHIr4', 'GRr4',\n",
       "       'ILDr4', 'NPHIr4', 'DPHIr5', 'GRr5', 'ILDr5', 'NPHIr5', 'DPHIr6',\n",
       "       'GRr6', 'ILDr6', 'NPHIr6', 'DPHIr7', 'GRr7', 'ILDr7', 'NPHIr7',\n",
       "       'DPHIr8', 'GRr8', 'ILDr8', 'NPHIr8', 'DPHIr9', 'GRr9', 'ILDr9',\n",
       "       'NPHIr9', 'DPHIr10', 'GRr10', 'ILDr10', 'NPHIr10', 'Pick'],\n",
       "      dtype='object')"
      ]
     },
     "execution_count": 10,
     "metadata": {},
     "output_type": "execute_result"
    }
   ],
   "source": [
    "ds.columns"
   ]
  },
  {
   "cell_type": "code",
   "execution_count": 11,
   "metadata": {
    "collapsed": true
   },
   "outputs": [],
   "source": [
    "ds = ds[['Pick', 'HorID', 'lng', 'lat', 'DPHI', 'GR', 'ILD', 'NPHI',\n",
    "       'DPHIr1', 'GRr1', 'ILDr1', 'NPHIr1', 'DPHIr2', 'GRr2', 'ILDr2',\n",
    "       'NPHIr2', 'DPHIr3', 'GRr3', 'ILDr3', 'NPHIr3', 'DPHIr4', 'GRr4',\n",
    "       'ILDr4', 'NPHIr4', 'DPHIr5', 'GRr5', 'ILDr5', 'NPHIr5', 'DPHIr6',\n",
    "       'GRr6', 'ILDr6', 'NPHIr6', 'DPHIr7', 'GRr7', 'ILDr7', 'NPHIr7',\n",
    "       'DPHIr8', 'GRr8', 'ILDr8', 'NPHIr8', 'DPHIr9', 'GRr9', 'ILDr9',\n",
    "       'NPHIr9', 'DPHIr10', 'GRr10', 'ILDr10', 'NPHIr10']]"
   ]
  },
  {
   "cell_type": "code",
   "execution_count": 12,
   "metadata": {},
   "outputs": [
    {
     "data": {
      "text/html": [
       "<div>\n",
       "<style>\n",
       "    .dataframe thead tr:only-child th {\n",
       "        text-align: right;\n",
       "    }\n",
       "\n",
       "    .dataframe thead th {\n",
       "        text-align: left;\n",
       "    }\n",
       "\n",
       "    .dataframe tbody tr th {\n",
       "        vertical-align: top;\n",
       "    }\n",
       "</style>\n",
       "<table border=\"1\" class=\"dataframe\">\n",
       "  <thead>\n",
       "    <tr style=\"text-align: right;\">\n",
       "      <th></th>\n",
       "      <th>Pick</th>\n",
       "      <th>HorID</th>\n",
       "      <th>lng</th>\n",
       "      <th>lat</th>\n",
       "      <th>DPHI</th>\n",
       "      <th>GR</th>\n",
       "      <th>ILD</th>\n",
       "      <th>NPHI</th>\n",
       "      <th>DPHIr1</th>\n",
       "      <th>GRr1</th>\n",
       "      <th>...</th>\n",
       "      <th>ILDr8</th>\n",
       "      <th>NPHIr8</th>\n",
       "      <th>DPHIr9</th>\n",
       "      <th>GRr9</th>\n",
       "      <th>ILDr9</th>\n",
       "      <th>NPHIr9</th>\n",
       "      <th>DPHIr10</th>\n",
       "      <th>GRr10</th>\n",
       "      <th>ILDr10</th>\n",
       "      <th>NPHIr10</th>\n",
       "    </tr>\n",
       "  </thead>\n",
       "  <tbody>\n",
       "    <tr>\n",
       "      <th>0</th>\n",
       "      <td>393.0</td>\n",
       "      <td>1000</td>\n",
       "      <td>-114.620656</td>\n",
       "      <td>55.288691</td>\n",
       "      <td>0.299</td>\n",
       "      <td>72.249</td>\n",
       "      <td>3.338</td>\n",
       "      <td>0.429</td>\n",
       "      <td>0.215</td>\n",
       "      <td>88.40299999999999</td>\n",
       "      <td>...</td>\n",
       "      <td>4.0969999999999995</td>\n",
       "      <td>0.355</td>\n",
       "      <td>0.374</td>\n",
       "      <td>54.888000000000005</td>\n",
       "      <td>3.8480000000000003</td>\n",
       "      <td>0.48100000000000004</td>\n",
       "      <td>0.45399999999999996</td>\n",
       "      <td>61.614</td>\n",
       "      <td>3.267</td>\n",
       "      <td>0.536</td>\n",
       "    </tr>\n",
       "    <tr>\n",
       "      <th>1</th>\n",
       "      <td>549.0</td>\n",
       "      <td>4000</td>\n",
       "      <td>-114.620656</td>\n",
       "      <td>55.288691</td>\n",
       "      <td>0.247</td>\n",
       "      <td>76.644</td>\n",
       "      <td>4.313</td>\n",
       "      <td>0.427</td>\n",
       "      <td>0.226</td>\n",
       "      <td>78.22399999999999</td>\n",
       "      <td>...</td>\n",
       "      <td>4.75</td>\n",
       "      <td>0.41</td>\n",
       "      <td>0.22899999999999998</td>\n",
       "      <td>55.81100000000001</td>\n",
       "      <td>5.105</td>\n",
       "      <td>0.43799999999999994</td>\n",
       "      <td>0.201</td>\n",
       "      <td>56.461000000000006</td>\n",
       "      <td>5.621</td>\n",
       "      <td>0.29600000000000004</td>\n",
       "    </tr>\n",
       "    <tr>\n",
       "      <th>2</th>\n",
       "      <td>584.0</td>\n",
       "      <td>5000</td>\n",
       "      <td>-114.620656</td>\n",
       "      <td>55.288691</td>\n",
       "      <td>0.184</td>\n",
       "      <td>72.472</td>\n",
       "      <td>5.379</td>\n",
       "      <td>0.357</td>\n",
       "      <td>0.21</td>\n",
       "      <td>82.79799999999999</td>\n",
       "      <td>...</td>\n",
       "      <td>6.752000000000001</td>\n",
       "      <td>0.33</td>\n",
       "      <td>0.12</td>\n",
       "      <td>70.858</td>\n",
       "      <td>7.297000000000001</td>\n",
       "      <td>0.326</td>\n",
       "      <td>0.132</td>\n",
       "      <td>74.797</td>\n",
       "      <td>7.74</td>\n",
       "      <td>0.308</td>\n",
       "    </tr>\n",
       "    <tr>\n",
       "      <th>3</th>\n",
       "      <td>597.0</td>\n",
       "      <td>7000</td>\n",
       "      <td>-114.620656</td>\n",
       "      <td>55.288691</td>\n",
       "      <td>0.18</td>\n",
       "      <td>69.942</td>\n",
       "      <td>4.265</td>\n",
       "      <td>0.367</td>\n",
       "      <td>0.528</td>\n",
       "      <td>78.46600000000001</td>\n",
       "      <td>...</td>\n",
       "      <td>6.046</td>\n",
       "      <td>0.40299999999999997</td>\n",
       "      <td>0.28</td>\n",
       "      <td>74.096</td>\n",
       "      <td>6.132000000000001</td>\n",
       "      <td>0.39899999999999997</td>\n",
       "      <td>0.221</td>\n",
       "      <td>74.69</td>\n",
       "      <td>6.103</td>\n",
       "      <td>0.37200000000000005</td>\n",
       "    </tr>\n",
       "    <tr>\n",
       "      <th>4</th>\n",
       "      <td>607.0</td>\n",
       "      <td>11000</td>\n",
       "      <td>-114.620656</td>\n",
       "      <td>55.288691</td>\n",
       "      <td>0.191</td>\n",
       "      <td>57.457</td>\n",
       "      <td>9.279</td>\n",
       "      <td>0.312</td>\n",
       "      <td>0.15</td>\n",
       "      <td>93.824</td>\n",
       "      <td>...</td>\n",
       "      <td>10.898</td>\n",
       "      <td>0.312</td>\n",
       "      <td>0.204</td>\n",
       "      <td>46.169</td>\n",
       "      <td>11.922</td>\n",
       "      <td>0.308</td>\n",
       "      <td>0.19899999999999998</td>\n",
       "      <td>41.485</td>\n",
       "      <td>11.464</td>\n",
       "      <td>0.302</td>\n",
       "    </tr>\n",
       "  </tbody>\n",
       "</table>\n",
       "<p>5 rows × 48 columns</p>\n",
       "</div>"
      ],
      "text/plain": [
       "    Pick  HorID          lng        lat   DPHI      GR    ILD   NPHI DPHIr1  \\\n",
       "0  393.0   1000  -114.620656  55.288691  0.299  72.249  3.338  0.429  0.215   \n",
       "1  549.0   4000  -114.620656  55.288691  0.247  76.644  4.313  0.427  0.226   \n",
       "2  584.0   5000  -114.620656  55.288691  0.184  72.472  5.379  0.357   0.21   \n",
       "3  597.0   7000  -114.620656  55.288691   0.18  69.942  4.265  0.367  0.528   \n",
       "4  607.0  11000  -114.620656  55.288691  0.191  57.457  9.279  0.312   0.15   \n",
       "\n",
       "                GRr1         ...                        ILDr8  \\\n",
       "0  88.40299999999999         ...           4.0969999999999995   \n",
       "1  78.22399999999999         ...                         4.75   \n",
       "2  82.79799999999999         ...            6.752000000000001   \n",
       "3  78.46600000000001         ...                        6.046   \n",
       "4             93.824         ...                       10.898   \n",
       "\n",
       "                NPHIr8               DPHIr9                GRr9  \\\n",
       "0                0.355                0.374  54.888000000000005   \n",
       "1                 0.41  0.22899999999999998   55.81100000000001   \n",
       "2                 0.33                 0.12              70.858   \n",
       "3  0.40299999999999997                 0.28              74.096   \n",
       "4                0.312                0.204              46.169   \n",
       "\n",
       "                ILDr9               NPHIr9              DPHIr10  \\\n",
       "0  3.8480000000000003  0.48100000000000004  0.45399999999999996   \n",
       "1               5.105  0.43799999999999994                0.201   \n",
       "2   7.297000000000001                0.326                0.132   \n",
       "3   6.132000000000001  0.39899999999999997                0.221   \n",
       "4              11.922                0.308  0.19899999999999998   \n",
       "\n",
       "                GRr10  ILDr10              NPHIr10  \n",
       "0              61.614   3.267                0.536  \n",
       "1  56.461000000000006   5.621  0.29600000000000004  \n",
       "2              74.797    7.74                0.308  \n",
       "3               74.69   6.103  0.37200000000000005  \n",
       "4              41.485  11.464                0.302  \n",
       "\n",
       "[5 rows x 48 columns]"
      ]
     },
     "execution_count": 12,
     "metadata": {},
     "output_type": "execute_result"
    }
   ],
   "source": [
    "ds.head()"
   ]
  },
  {
   "cell_type": "code",
   "execution_count": null,
   "metadata": {
    "collapsed": true
   },
   "outputs": [],
   "source": []
  }
 ],
 "metadata": {
  "kernelspec": {
   "display_name": "Python 3",
   "language": "python",
   "name": "python3"
  },
  "language_info": {
   "codemirror_mode": {
    "name": "ipython",
    "version": 3
   },
   "file_extension": ".py",
   "mimetype": "text/x-python",
   "name": "python",
   "nbconvert_exporter": "python",
   "pygments_lexer": "ipython3",
   "version": "3.6.3"
  }
 },
 "nbformat": 4,
 "nbformat_minor": 2
}
