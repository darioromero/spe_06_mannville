{
 "cells": [
  {
   "cell_type": "code",
   "execution_count": 3,
   "metadata": {},
   "outputs": [
    {
     "name": "stderr",
     "output_type": "stream",
     "text": [
      "-- Attaching packages --------------------------------------- tidyverse 1.2.0 --\n",
      "v ggplot2 2.2.1     v purrr   0.2.4\n",
      "v tibble  1.3.4     v dplyr   0.7.4\n",
      "v tidyr   0.7.2     v stringr 1.2.0\n",
      "v readr   1.1.1     v forcats 0.2.0\n",
      "-- Conflicts ------------------------------------------ tidyverse_conflicts() --\n",
      "x dplyr::filter() masks stats::filter()\n",
      "x dplyr::lag()    masks stats::lag()\n"
     ]
    }
   ],
   "source": [
    "library('tidyverse')\n",
    "library(\"stringr\")"
   ]
  },
  {
   "cell_type": "code",
   "execution_count": 4,
   "metadata": {},
   "outputs": [
    {
     "name": "stdout",
     "output_type": "stream",
     "text": [
      "[1] \"D:/Users/drome/gitrepos/spe 06/MannvilleGroup_Strat_Hackathon\"\n"
     ]
    }
   ],
   "source": [
    "print(getwd())"
   ]
  },
  {
   "cell_type": "code",
   "execution_count": 5,
   "metadata": {},
   "outputs": [
    {
     "name": "stderr",
     "output_type": "stream",
     "text": [
      "Parsed with column specification:\n",
      "cols(\n",
      "  .default = col_double(),\n",
      "  id = col_integer(),\n",
      "  SitID = col_integer(),\n",
      "  HorID = col_integer(),\n",
      "  Quality = col_integer(),\n",
      "  `UWI (AGS)` = col_character(),\n",
      "  UWI = col_character(),\n",
      "  Picked = col_integer()\n",
      ")\n",
      "See spec(...) for full column specifications.\n"
     ]
    }
   ],
   "source": [
    "data <- read_csv(\"10aroundPlus3Near.csv\")"
   ]
  },
  {
   "cell_type": "code",
   "execution_count": 6,
   "metadata": {},
   "outputs": [
    {
     "data": {
      "text/html": [
       "<table>\n",
       "<thead><tr><th scope=col>id</th><th scope=col>SitID</th><th scope=col>DEPT</th><th scope=col>DPHI</th><th scope=col>GR</th><th scope=col>ILD</th><th scope=col>NPHI</th><th scope=col>HorID</th><th scope=col>Pick</th><th scope=col>Quality</th><th scope=col>...</th><th scope=col>ILD.near.1</th><th scope=col>NPHI.near.1</th><th scope=col>DPHI.near.2</th><th scope=col>GR.near.2</th><th scope=col>ILD.near.2</th><th scope=col>NPHI.near.2</th><th scope=col>DPHI.near.3</th><th scope=col>GR.near.3</th><th scope=col>ILD.near.3</th><th scope=col>NPHI.near.3</th></tr></thead>\n",
       "<tbody>\n",
       "\t<tr><td>1      </td><td>142218 </td><td>393    </td><td>0.299  </td><td>72.249 </td><td>3.338  </td><td>0.429  </td><td> 1000  </td><td>393    </td><td>1      </td><td>...    </td><td>2.392  </td><td>0.649  </td><td>0.338  </td><td> 59.914</td><td> 4.215 </td><td>0.410  </td><td>0.364  </td><td> 63.731</td><td>5.886  </td><td>0.425  </td></tr>\n",
       "\t<tr><td>2      </td><td>142218 </td><td>549    </td><td>0.247  </td><td>76.644 </td><td>4.313  </td><td>0.427  </td><td> 4000  </td><td>549    </td><td>1      </td><td>...    </td><td>4.029  </td><td>0.422  </td><td>0.121  </td><td> 86.346</td><td> 5.408 </td><td>0.331  </td><td>0.586  </td><td> 73.881</td><td>1.408  </td><td>0.606  </td></tr>\n",
       "\t<tr><td>3      </td><td>142218 </td><td>584    </td><td>0.184  </td><td>72.472 </td><td>5.379  </td><td>0.357  </td><td> 5000  </td><td>584    </td><td>1      </td><td>...    </td><td>4.227  </td><td>0.379  </td><td>0.299  </td><td> 67.125</td><td>12.487 </td><td>0.400  </td><td>0.183  </td><td>102.454</td><td>6.332  </td><td>0.416  </td></tr>\n",
       "\t<tr><td>4      </td><td>142218 </td><td>597    </td><td>0.180  </td><td>69.942 </td><td>4.265  </td><td>0.367  </td><td> 7000  </td><td>597    </td><td>1      </td><td>...    </td><td>4.840  </td><td>0.362  </td><td>0.334  </td><td> 94.444</td><td> 4.500 </td><td>0.450  </td><td>0.136  </td><td>124.856</td><td>4.074  </td><td>0.413  </td></tr>\n",
       "\t<tr><td>5      </td><td>142218 </td><td>607    </td><td>0.191  </td><td>57.457 </td><td>9.279  </td><td>0.312  </td><td>11000  </td><td>607    </td><td>1      </td><td>...    </td><td>3.501  </td><td>0.873  </td><td>0.228  </td><td>109.653</td><td> 4.482 </td><td>0.485  </td><td>0.180  </td><td> 64.791</td><td>8.441  </td><td>0.369  </td></tr>\n",
       "\t<tr><td>6      </td><td>142218 </td><td>607    </td><td>0.191  </td><td>57.457 </td><td>9.279  </td><td>0.312  </td><td>12000  </td><td>607    </td><td>1      </td><td>...    </td><td>3.501  </td><td>0.873  </td><td>0.148  </td><td> 92.905</td><td> 8.885 </td><td>0.350  </td><td>0.240  </td><td> 75.455</td><td>6.986  </td><td>0.457  </td></tr>\n",
       "</tbody>\n",
       "</table>\n"
      ],
      "text/latex": [
       "\\begin{tabular}{r|lllllllllllllllllllllllllllllllllllllllllllllllllllllllllllllllllll}\n",
       " id & SitID & DEPT & DPHI & GR & ILD & NPHI & HorID & Pick & Quality & ... & ILD.near.1 & NPHI.near.1 & DPHI.near.2 & GR.near.2 & ILD.near.2 & NPHI.near.2 & DPHI.near.3 & GR.near.3 & ILD.near.3 & NPHI.near.3\\\\\n",
       "\\hline\n",
       "\t 1       & 142218  & 393     & 0.299   & 72.249  & 3.338   & 0.429   &  1000   & 393     & 1       & ...     & 2.392   & 0.649   & 0.338   &  59.914 &  4.215  & 0.410   & 0.364   &  63.731 & 5.886   & 0.425  \\\\\n",
       "\t 2       & 142218  & 549     & 0.247   & 76.644  & 4.313   & 0.427   &  4000   & 549     & 1       & ...     & 4.029   & 0.422   & 0.121   &  86.346 &  5.408  & 0.331   & 0.586   &  73.881 & 1.408   & 0.606  \\\\\n",
       "\t 3       & 142218  & 584     & 0.184   & 72.472  & 5.379   & 0.357   &  5000   & 584     & 1       & ...     & 4.227   & 0.379   & 0.299   &  67.125 & 12.487  & 0.400   & 0.183   & 102.454 & 6.332   & 0.416  \\\\\n",
       "\t 4       & 142218  & 597     & 0.180   & 69.942  & 4.265   & 0.367   &  7000   & 597     & 1       & ...     & 4.840   & 0.362   & 0.334   &  94.444 &  4.500  & 0.450   & 0.136   & 124.856 & 4.074   & 0.413  \\\\\n",
       "\t 5       & 142218  & 607     & 0.191   & 57.457  & 9.279   & 0.312   & 11000   & 607     & 1       & ...     & 3.501   & 0.873   & 0.228   & 109.653 &  4.482  & 0.485   & 0.180   &  64.791 & 8.441   & 0.369  \\\\\n",
       "\t 6       & 142218  & 607     & 0.191   & 57.457  & 9.279   & 0.312   & 12000   & 607     & 1       & ...     & 3.501   & 0.873   & 0.148   &  92.905 &  8.885  & 0.350   & 0.240   &  75.455 & 6.986   & 0.457  \\\\\n",
       "\\end{tabular}\n"
      ],
      "text/markdown": [
       "\n",
       "id | SitID | DEPT | DPHI | GR | ILD | NPHI | HorID | Pick | Quality | ... | ILD.near.1 | NPHI.near.1 | DPHI.near.2 | GR.near.2 | ILD.near.2 | NPHI.near.2 | DPHI.near.3 | GR.near.3 | ILD.near.3 | NPHI.near.3 | \n",
       "|---|---|---|---|---|---|\n",
       "| 1       | 142218  | 393     | 0.299   | 72.249  | 3.338   | 0.429   |  1000   | 393     | 1       | ...     | 2.392   | 0.649   | 0.338   |  59.914 |  4.215  | 0.410   | 0.364   |  63.731 | 5.886   | 0.425   | \n",
       "| 2       | 142218  | 549     | 0.247   | 76.644  | 4.313   | 0.427   |  4000   | 549     | 1       | ...     | 4.029   | 0.422   | 0.121   |  86.346 |  5.408  | 0.331   | 0.586   |  73.881 | 1.408   | 0.606   | \n",
       "| 3       | 142218  | 584     | 0.184   | 72.472  | 5.379   | 0.357   |  5000   | 584     | 1       | ...     | 4.227   | 0.379   | 0.299   |  67.125 | 12.487  | 0.400   | 0.183   | 102.454 | 6.332   | 0.416   | \n",
       "| 4       | 142218  | 597     | 0.180   | 69.942  | 4.265   | 0.367   |  7000   | 597     | 1       | ...     | 4.840   | 0.362   | 0.334   |  94.444 |  4.500  | 0.450   | 0.136   | 124.856 | 4.074   | 0.413   | \n",
       "| 5       | 142218  | 607     | 0.191   | 57.457  | 9.279   | 0.312   | 11000   | 607     | 1       | ...     | 3.501   | 0.873   | 0.228   | 109.653 |  4.482  | 0.485   | 0.180   |  64.791 | 8.441   | 0.369   | \n",
       "| 6       | 142218  | 607     | 0.191   | 57.457  | 9.279   | 0.312   | 12000   | 607     | 1       | ...     | 3.501   | 0.873   | 0.148   |  92.905 |  8.885  | 0.350   | 0.240   |  75.455 | 6.986   | 0.457   | \n",
       "\n",
       "\n"
      ],
      "text/plain": [
       "  id SitID  DEPT DPHI  GR     ILD   NPHI  HorID Pick Quality ... ILD.near.1\n",
       "1 1  142218 393  0.299 72.249 3.338 0.429  1000 393  1       ... 2.392     \n",
       "2 2  142218 549  0.247 76.644 4.313 0.427  4000 549  1       ... 4.029     \n",
       "3 3  142218 584  0.184 72.472 5.379 0.357  5000 584  1       ... 4.227     \n",
       "4 4  142218 597  0.180 69.942 4.265 0.367  7000 597  1       ... 4.840     \n",
       "5 5  142218 607  0.191 57.457 9.279 0.312 11000 607  1       ... 3.501     \n",
       "6 6  142218 607  0.191 57.457 9.279 0.312 12000 607  1       ... 3.501     \n",
       "  NPHI.near.1 DPHI.near.2 GR.near.2 ILD.near.2 NPHI.near.2 DPHI.near.3\n",
       "1 0.649       0.338        59.914    4.215     0.410       0.364      \n",
       "2 0.422       0.121        86.346    5.408     0.331       0.586      \n",
       "3 0.379       0.299        67.125   12.487     0.400       0.183      \n",
       "4 0.362       0.334        94.444    4.500     0.450       0.136      \n",
       "5 0.873       0.228       109.653    4.482     0.485       0.180      \n",
       "6 0.873       0.148        92.905    8.885     0.350       0.240      \n",
       "  GR.near.3 ILD.near.3 NPHI.near.3\n",
       "1  63.731   5.886      0.425      \n",
       "2  73.881   1.408      0.606      \n",
       "3 102.454   6.332      0.416      \n",
       "4 124.856   4.074      0.413      \n",
       "5  64.791   8.441      0.369      \n",
       "6  75.455   6.986      0.457      "
      ]
     },
     "metadata": {},
     "output_type": "display_data"
    }
   ],
   "source": [
    "head(data)"
   ]
  },
  {
   "cell_type": "code",
   "execution_count": 7,
   "metadata": {},
   "outputs": [
    {
     "data": {
      "text/html": [
       "<ol class=list-inline>\n",
       "\t<li>'id'</li>\n",
       "\t<li>'SitID'</li>\n",
       "\t<li>'DEPT'</li>\n",
       "\t<li>'DPHI'</li>\n",
       "\t<li>'GR'</li>\n",
       "\t<li>'ILD'</li>\n",
       "\t<li>'NPHI'</li>\n",
       "\t<li>'HorID'</li>\n",
       "\t<li>'Pick'</li>\n",
       "\t<li>'Quality'</li>\n",
       "\t<li>'UWI (AGS)'</li>\n",
       "\t<li>'UWI'</li>\n",
       "\t<li>'lng'</li>\n",
       "\t<li>'lat'</li>\n",
       "\t<li>'Picked'</li>\n",
       "\t<li>'DPHI1'</li>\n",
       "\t<li>'GR1'</li>\n",
       "\t<li>'ILD1'</li>\n",
       "\t<li>'NPHI1'</li>\n",
       "\t<li>'DPHI2'</li>\n",
       "\t<li>'GR2'</li>\n",
       "\t<li>'ILD2'</li>\n",
       "\t<li>'NPHI2'</li>\n",
       "\t<li>'DPHI3'</li>\n",
       "\t<li>'GR3'</li>\n",
       "\t<li>'ILD3'</li>\n",
       "\t<li>'NPHI3'</li>\n",
       "\t<li>'DPHI4'</li>\n",
       "\t<li>'GR4'</li>\n",
       "\t<li>'ILD4'</li>\n",
       "\t<li>'NPHI4'</li>\n",
       "\t<li>'DPHI5'</li>\n",
       "\t<li>'GR5'</li>\n",
       "\t<li>'ILD5'</li>\n",
       "\t<li>'NPHI5'</li>\n",
       "\t<li>'DPHI6'</li>\n",
       "\t<li>'GR6'</li>\n",
       "\t<li>'ILD6'</li>\n",
       "\t<li>'NPHI6'</li>\n",
       "\t<li>'DPHI7'</li>\n",
       "\t<li>'GR7'</li>\n",
       "\t<li>'ILD7'</li>\n",
       "\t<li>'NPHI7'</li>\n",
       "\t<li>'DPHI8'</li>\n",
       "\t<li>'GR8'</li>\n",
       "\t<li>'ILD8'</li>\n",
       "\t<li>'NPHI8'</li>\n",
       "\t<li>'DPHI9'</li>\n",
       "\t<li>'GR9'</li>\n",
       "\t<li>'ILD9'</li>\n",
       "\t<li>'NPHI9'</li>\n",
       "\t<li>'DPHI10'</li>\n",
       "\t<li>'GR10'</li>\n",
       "\t<li>'ILD10'</li>\n",
       "\t<li>'NPHI10'</li>\n",
       "\t<li>'DPHI_near_1'</li>\n",
       "\t<li>'GR_near_1'</li>\n",
       "\t<li>'ILD_near_1'</li>\n",
       "\t<li>'NPHI_near_1'</li>\n",
       "\t<li>'DPHI_near_2'</li>\n",
       "\t<li>'GR_near_2'</li>\n",
       "\t<li>'ILD_near_2'</li>\n",
       "\t<li>'NPHI_near_2'</li>\n",
       "\t<li>'DPHI_near_3'</li>\n",
       "\t<li>'GR_near_3'</li>\n",
       "\t<li>'ILD_near_3'</li>\n",
       "\t<li>'NPHI_near_3'</li>\n",
       "</ol>\n"
      ],
      "text/latex": [
       "\\begin{enumerate*}\n",
       "\\item 'id'\n",
       "\\item 'SitID'\n",
       "\\item 'DEPT'\n",
       "\\item 'DPHI'\n",
       "\\item 'GR'\n",
       "\\item 'ILD'\n",
       "\\item 'NPHI'\n",
       "\\item 'HorID'\n",
       "\\item 'Pick'\n",
       "\\item 'Quality'\n",
       "\\item 'UWI (AGS)'\n",
       "\\item 'UWI'\n",
       "\\item 'lng'\n",
       "\\item 'lat'\n",
       "\\item 'Picked'\n",
       "\\item 'DPHI1'\n",
       "\\item 'GR1'\n",
       "\\item 'ILD1'\n",
       "\\item 'NPHI1'\n",
       "\\item 'DPHI2'\n",
       "\\item 'GR2'\n",
       "\\item 'ILD2'\n",
       "\\item 'NPHI2'\n",
       "\\item 'DPHI3'\n",
       "\\item 'GR3'\n",
       "\\item 'ILD3'\n",
       "\\item 'NPHI3'\n",
       "\\item 'DPHI4'\n",
       "\\item 'GR4'\n",
       "\\item 'ILD4'\n",
       "\\item 'NPHI4'\n",
       "\\item 'DPHI5'\n",
       "\\item 'GR5'\n",
       "\\item 'ILD5'\n",
       "\\item 'NPHI5'\n",
       "\\item 'DPHI6'\n",
       "\\item 'GR6'\n",
       "\\item 'ILD6'\n",
       "\\item 'NPHI6'\n",
       "\\item 'DPHI7'\n",
       "\\item 'GR7'\n",
       "\\item 'ILD7'\n",
       "\\item 'NPHI7'\n",
       "\\item 'DPHI8'\n",
       "\\item 'GR8'\n",
       "\\item 'ILD8'\n",
       "\\item 'NPHI8'\n",
       "\\item 'DPHI9'\n",
       "\\item 'GR9'\n",
       "\\item 'ILD9'\n",
       "\\item 'NPHI9'\n",
       "\\item 'DPHI10'\n",
       "\\item 'GR10'\n",
       "\\item 'ILD10'\n",
       "\\item 'NPHI10'\n",
       "\\item 'DPHI\\_near\\_1'\n",
       "\\item 'GR\\_near\\_1'\n",
       "\\item 'ILD\\_near\\_1'\n",
       "\\item 'NPHI\\_near\\_1'\n",
       "\\item 'DPHI\\_near\\_2'\n",
       "\\item 'GR\\_near\\_2'\n",
       "\\item 'ILD\\_near\\_2'\n",
       "\\item 'NPHI\\_near\\_2'\n",
       "\\item 'DPHI\\_near\\_3'\n",
       "\\item 'GR\\_near\\_3'\n",
       "\\item 'ILD\\_near\\_3'\n",
       "\\item 'NPHI\\_near\\_3'\n",
       "\\end{enumerate*}\n"
      ],
      "text/markdown": [
       "1. 'id'\n",
       "2. 'SitID'\n",
       "3. 'DEPT'\n",
       "4. 'DPHI'\n",
       "5. 'GR'\n",
       "6. 'ILD'\n",
       "7. 'NPHI'\n",
       "8. 'HorID'\n",
       "9. 'Pick'\n",
       "10. 'Quality'\n",
       "11. 'UWI (AGS)'\n",
       "12. 'UWI'\n",
       "13. 'lng'\n",
       "14. 'lat'\n",
       "15. 'Picked'\n",
       "16. 'DPHI1'\n",
       "17. 'GR1'\n",
       "18. 'ILD1'\n",
       "19. 'NPHI1'\n",
       "20. 'DPHI2'\n",
       "21. 'GR2'\n",
       "22. 'ILD2'\n",
       "23. 'NPHI2'\n",
       "24. 'DPHI3'\n",
       "25. 'GR3'\n",
       "26. 'ILD3'\n",
       "27. 'NPHI3'\n",
       "28. 'DPHI4'\n",
       "29. 'GR4'\n",
       "30. 'ILD4'\n",
       "31. 'NPHI4'\n",
       "32. 'DPHI5'\n",
       "33. 'GR5'\n",
       "34. 'ILD5'\n",
       "35. 'NPHI5'\n",
       "36. 'DPHI6'\n",
       "37. 'GR6'\n",
       "38. 'ILD6'\n",
       "39. 'NPHI6'\n",
       "40. 'DPHI7'\n",
       "41. 'GR7'\n",
       "42. 'ILD7'\n",
       "43. 'NPHI7'\n",
       "44. 'DPHI8'\n",
       "45. 'GR8'\n",
       "46. 'ILD8'\n",
       "47. 'NPHI8'\n",
       "48. 'DPHI9'\n",
       "49. 'GR9'\n",
       "50. 'ILD9'\n",
       "51. 'NPHI9'\n",
       "52. 'DPHI10'\n",
       "53. 'GR10'\n",
       "54. 'ILD10'\n",
       "55. 'NPHI10'\n",
       "56. 'DPHI_near_1'\n",
       "57. 'GR_near_1'\n",
       "58. 'ILD_near_1'\n",
       "59. 'NPHI_near_1'\n",
       "60. 'DPHI_near_2'\n",
       "61. 'GR_near_2'\n",
       "62. 'ILD_near_2'\n",
       "63. 'NPHI_near_2'\n",
       "64. 'DPHI_near_3'\n",
       "65. 'GR_near_3'\n",
       "66. 'ILD_near_3'\n",
       "67. 'NPHI_near_3'\n",
       "\n",
       "\n"
      ],
      "text/plain": [
       " [1] \"id\"          \"SitID\"       \"DEPT\"        \"DPHI\"        \"GR\"         \n",
       " [6] \"ILD\"         \"NPHI\"        \"HorID\"       \"Pick\"        \"Quality\"    \n",
       "[11] \"UWI (AGS)\"   \"UWI\"         \"lng\"         \"lat\"         \"Picked\"     \n",
       "[16] \"DPHI1\"       \"GR1\"         \"ILD1\"        \"NPHI1\"       \"DPHI2\"      \n",
       "[21] \"GR2\"         \"ILD2\"        \"NPHI2\"       \"DPHI3\"       \"GR3\"        \n",
       "[26] \"ILD3\"        \"NPHI3\"       \"DPHI4\"       \"GR4\"         \"ILD4\"       \n",
       "[31] \"NPHI4\"       \"DPHI5\"       \"GR5\"         \"ILD5\"        \"NPHI5\"      \n",
       "[36] \"DPHI6\"       \"GR6\"         \"ILD6\"        \"NPHI6\"       \"DPHI7\"      \n",
       "[41] \"GR7\"         \"ILD7\"        \"NPHI7\"       \"DPHI8\"       \"GR8\"        \n",
       "[46] \"ILD8\"        \"NPHI8\"       \"DPHI9\"       \"GR9\"         \"ILD9\"       \n",
       "[51] \"NPHI9\"       \"DPHI10\"      \"GR10\"        \"ILD10\"       \"NPHI10\"     \n",
       "[56] \"DPHI_near_1\" \"GR_near_1\"   \"ILD_near_1\"  \"NPHI_near_1\" \"DPHI_near_2\"\n",
       "[61] \"GR_near_2\"   \"ILD_near_2\"  \"NPHI_near_2\" \"DPHI_near_3\" \"GR_near_3\"  \n",
       "[66] \"ILD_near_3\"  \"NPHI_near_3\""
      ]
     },
     "metadata": {},
     "output_type": "display_data"
    }
   ],
   "source": [
    "to_Colnames <- colnames(data)\n",
    "colnames(data) <- stringr::str_replace_all(string = to_Colnames, pattern = \"\\\\.\", replacement = \"_\")\n",
    "colnames(data)"
   ]
  },
  {
   "cell_type": "code",
   "execution_count": 8,
   "metadata": {},
   "outputs": [
    {
     "data": {
      "text/html": [
       "10235"
      ],
      "text/latex": [
       "10235"
      ],
      "text/markdown": [
       "10235"
      ],
      "text/plain": [
       "[1] 10235"
      ]
     },
     "metadata": {},
     "output_type": "display_data"
    }
   ],
   "source": [
    "length(data$id)"
   ]
  },
  {
   "cell_type": "code",
   "execution_count": 9,
   "metadata": {},
   "outputs": [
    {
     "data": {
      "text/html": [
       "<ol class=list-inline>\n",
       "\t<li>1</li>\n",
       "\t<li>3</li>\n",
       "\t<li>2</li>\n",
       "\t<li>4</li>\n",
       "</ol>\n"
      ],
      "text/latex": [
       "\\begin{enumerate*}\n",
       "\\item 1\n",
       "\\item 3\n",
       "\\item 2\n",
       "\\item 4\n",
       "\\end{enumerate*}\n"
      ],
      "text/markdown": [
       "1. 1\n",
       "2. 3\n",
       "3. 2\n",
       "4. 4\n",
       "\n",
       "\n"
      ],
      "text/plain": [
       "[1] 1 3 2 4"
      ]
     },
     "metadata": {},
     "output_type": "display_data"
    }
   ],
   "source": [
    "unique(data$Quality)"
   ]
  },
  {
   "cell_type": "code",
   "execution_count": 10,
   "metadata": {
    "collapsed": true
   },
   "outputs": [],
   "source": [
    "# exclude variables 'SitID', 'Pick', 'UWI (AGS)', 'UWI', 'Picked'\n",
    "theseVars <- names(data) %in% c('SitID', 'Pick', 'UWI (AGS)', 'UWI', 'Picked') \n",
    "data <- data[!theseVars]"
   ]
  },
  {
   "cell_type": "code",
   "execution_count": 11,
   "metadata": {
    "collapsed": true
   },
   "outputs": [],
   "source": [
    "df <- data[, c('id', 'Quality')]"
   ]
  },
  {
   "cell_type": "code",
   "execution_count": 12,
   "metadata": {
    "collapsed": true
   },
   "outputs": [],
   "source": [
    "# onehot encoding is a representation of categorical variables as binary vectors. \n",
    "# What this means is that we want to transform a categorical variable or variables \n",
    "# to a format that works better with classification and regression algorithms.\n",
    "for(unique_value in unique(df$Quality)) {\n",
    "    df[paste(\"Quality\", unique_value, sep = \"_\")] <- ifelse(df$Quality == unique_value, 1, 0)\n",
    "}\n",
    "df$Quality <- NULL"
   ]
  },
  {
   "cell_type": "code",
   "execution_count": 13,
   "metadata": {
    "collapsed": true
   },
   "outputs": [],
   "source": [
    "dfmerged <- merge(x = data, y = df, by = \"id\", all.x = TRUE)\n",
    "dfmerged$Quality <- NULL"
   ]
  },
  {
   "cell_type": "code",
   "execution_count": 14,
   "metadata": {
    "collapsed": true
   },
   "outputs": [],
   "source": [
    "dfmerged$HorID <- as.character(dfmerged$HorID)\n",
    "dfmerged$Quality_1 <- as.character(dfmerged$Quality_1)\n",
    "dfmerged$Quality_2 <- as.character(dfmerged$Quality_2)\n",
    "dfmerged$Quality_3 <- as.character(dfmerged$Quality_3)\n",
    "dfmerged$Quality_4 <- as.character(dfmerged$Quality_4)"
   ]
  },
  {
   "cell_type": "code",
   "execution_count": 15,
   "metadata": {},
   "outputs": [
    {
     "name": "stdout",
     "output_type": "stream",
     "text": [
      "'data.frame':\t10235 obs. of  65 variables:\n",
      " $ id         : int  1 2 3 4 5 6 7 8 9 10 ...\n",
      " $ DEPT       : num  393 549 584 597 607 ...\n",
      " $ DPHI       : num  0.299 0.247 0.184 0.18 0.191 0.191 0.191 0.004 0.241 0.266 ...\n",
      " $ GR         : num  72.2 76.6 72.5 69.9 57.5 ...\n",
      " $ ILD        : num  3.34 4.31 5.38 4.26 9.28 ...\n",
      " $ NPHI       : num  0.429 0.427 0.357 0.367 0.312 0.312 0.312 0.09 0.451 0.456 ...\n",
      " $ HorID      : chr  \"1000\" \"4000\" \"5000\" \"7000\" ...\n",
      " $ lng        : num  -115 -115 -115 -115 -115 ...\n",
      " $ lat        : num  55.3 55.3 55.3 55.3 55.3 ...\n",
      " $ DPHI1      : num  0.215 0.226 0.21 0.528 0.15 0.137 0.16 0.509 0.224 0.286 ...\n",
      " $ GR1        : num  88.4 78.2 82.8 78.5 93.8 ...\n",
      " $ ILD1       : num  2.73 4.5 4.72 1.86 5.98 ...\n",
      " $ NPHI1      : num  0.471 0.399 0.39 0.513 0.365 0.342 0.366 0.381 0.481 0.494 ...\n",
      " $ DPHI2      : num  0.19 0.239 0.197 0.483 0.137 0.16 0.187 0.595 0.224 0.28 ...\n",
      " $ GR2        : num  91 78.3 83.5 77.3 90.3 ...\n",
      " $ ILD2       : num  2.75 4.42 4.56 2.06 6.09 ...\n",
      " $ NPHI2      : num  0.448 0.385 0.408 0.487 0.342 0.366 0.365 0.535 0.485 0.498 ...\n",
      " $ DPHI3      : num  0.219 0.251 0.206 0.563 0.16 0.187 0.174 0.34 0.228 0.279 ...\n",
      " $ GR3        : num  89.6 81 83 68.1 86.8 ...\n",
      " $ ILD3       : num  2.85 4.39 4.5 2.44 6.53 ...\n",
      " $ NPHI3      : num  0.478 0.403 0.401 0.652 0.366 0.365 0.328 0.24 0.49 0.495 ...\n",
      " $ DPHI4      : num  0.269 0.267 0.213 0.642 0.187 0.174 0.191 0.224 0.235 0.28 ...\n",
      " $ GR4        : num  84.1 80.1 78.5 65.5 79.2 ...\n",
      " $ ILD4       : num  2.94 4.37 4.6 2.94 7.5 ...\n",
      " $ NPHI4      : num  0.552 0.427 0.392 0.371 0.365 0.328 0.312 0.203 0.495 0.486 ...\n",
      " $ DPHI5      : num  0.316 0.254 0.204 0.367 0.174 0.191 0.191 0.16 0.249 0.281 ...\n",
      " $ GR5        : num  78.5 78.2 75.4 67.2 68.7 ...\n",
      " $ ILD5       : num  3.09 4.33 4.93 3.64 7.99 ...\n",
      " $ NPHI5      : num  0.458 0.449 0.383 0.353 0.328 0.312 0.312 0.152 0.47 0.463 ...\n",
      " $ DPHI6      : num  0.241 0.238 0.159 0.219 0.191 0.191 0.212 0.01 0.234 0.248 ...\n",
      " $ GR6        : num  69.2 72.8 70.1 72 57.5 ...\n",
      " $ ILD6       : num  3.58 4.37 5.86 5.07 9.28 ...\n",
      " $ NPHI6      : num  0.385 0.409 0.314 0.39 0.312 0.312 0.312 0.091 0.447 0.448 ...\n",
      " $ DPHI7      : num  0.216 0.229 0.116 0.269 0.191 0.212 0.204 0.018 0.229 0.234 ...\n",
      " $ GR7        : num  67.3 67.2 67.4 72.7 57.5 ...\n",
      " $ ILD7       : num  3.87 4.49 6.33 5.76 9.28 ...\n",
      " $ NPHI7      : num  0.329 0.397 0.306 0.4 0.312 0.312 0.308 0.097 0.447 0.44 ...\n",
      " $ DPHI8      : num  0.293 0.218 0.096 0.31 0.212 0.204 0.199 0.021 0.224 0.236 ...\n",
      " $ GR8        : num  58.4 61 66.6 73.6 50.7 ...\n",
      " $ ILD8       : num  4.1 4.75 6.75 6.05 10.9 ...\n",
      " $ NPHI8      : num  0.355 0.41 0.33 0.403 0.312 0.308 0.302 0.088 0.431 0.431 ...\n",
      " $ DPHI9      : num  0.374 0.229 0.12 0.28 0.204 0.199 0.295 0.015 0.219 0.23 ...\n",
      " $ GR9        : num  54.9 55.8 70.9 74.1 46.2 ...\n",
      " $ ILD9       : num  3.85 5.11 7.3 6.13 11.92 ...\n",
      " $ NPHI9      : num  0.481 0.438 0.326 0.399 0.308 0.302 0.285 0.065 0.412 0.43 ...\n",
      " $ DPHI10     : num  0.454 0.201 0.132 0.221 0.199 0.295 0.388 0.003 0.218 0.22 ...\n",
      " $ GR10       : num  61.6 56.5 74.8 74.7 41.5 ...\n",
      " $ ILD10      : num  3.27 5.62 7.74 6.1 11.46 ...\n",
      " $ NPHI10     : num  0.536 0.296 0.308 0.372 0.302 0.285 0.278 0.055 0.408 0.429 ...\n",
      " $ DPHI_near_1: num  0.389 0.213 0.195 0.173 0.279 0.279 0.279 0.255 0.241 0.032 ...\n",
      " $ GR_near_1  : num  48.3 68 50.2 56.1 54.7 ...\n",
      " $ ILD_near_1 : num  2.39 4.03 4.23 4.84 3.5 ...\n",
      " $ NPHI_near_1: num  0.649 0.422 0.379 0.362 0.873 0.873 0.873 0.495 0.396 0.267 ...\n",
      " $ DPHI_near_2: num  0.338 0.121 0.299 0.334 0.228 0.148 0.186 0.187 0.192 0.239 ...\n",
      " $ GR_near_2  : num  59.9 86.3 67.1 94.4 109.7 ...\n",
      " $ ILD_near_2 : num  4.21 5.41 12.49 4.5 4.48 ...\n",
      " $ NPHI_near_2: num  0.41 0.331 0.4 0.45 0.485 0.35 0.453 0.321 0.318 0.299 ...\n",
      " $ DPHI_near_3: num  0.364 0.586 0.183 0.136 0.18 0.24 0.23 0.23 0.189 0.217 ...\n",
      " $ GR_near_3  : num  63.7 73.9 102.5 124.9 64.8 ...\n",
      " $ ILD_near_3 : num  5.89 1.41 6.33 4.07 8.44 ...\n",
      " $ NPHI_near_3: num  0.425 0.606 0.416 0.413 0.369 0.457 0.496 0.496 0.456 0.432 ...\n",
      " $ Quality_1  : chr  \"1\" \"1\" \"1\" \"1\" ...\n",
      " $ Quality_3  : chr  \"0\" \"0\" \"0\" \"0\" ...\n",
      " $ Quality_2  : chr  \"0\" \"0\" \"0\" \"0\" ...\n",
      " $ Quality_4  : chr  \"0\" \"0\" \"0\" \"0\" ...\n"
     ]
    }
   ],
   "source": [
    "str(dfmerged)"
   ]
  },
  {
   "cell_type": "code",
   "execution_count": 16,
   "metadata": {
    "collapsed": true
   },
   "outputs": [],
   "source": [
    "# write.csv(file = \"onehotEncodedQualityDSet.csv\", x = dfmerged, \n",
    "#           quote = c(7, 62, 63, 64, 65), row.names = FALSE)\n",
    "write.table(x = dfmerged, file = \"onehotEncodedQualityDSet.csv\", \n",
    "            row.names = FALSE, sep=\"\\t\")"
   ]
  }
 ],
 "metadata": {
  "kernelspec": {
   "display_name": "R",
   "language": "R",
   "name": "ir"
  },
  "language_info": {
   "codemirror_mode": "r",
   "file_extension": ".r",
   "mimetype": "text/x-r-source",
   "name": "R",
   "pygments_lexer": "r",
   "version": "3.4.3"
  }
 },
 "nbformat": 4,
 "nbformat_minor": 2
}
