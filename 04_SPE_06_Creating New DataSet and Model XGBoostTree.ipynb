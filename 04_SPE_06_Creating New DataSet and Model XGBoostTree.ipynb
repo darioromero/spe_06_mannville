{
 "cells": [
  {
   "cell_type": "code",
   "execution_count": 3,
   "metadata": {},
   "outputs": [
    {
     "data": {
      "text/html": [
       "'D:/Users/drome/gitrepos/spe 06/MannvilleGroup_Strat_Hackathon'"
      ],
      "text/latex": [
       "'D:/Users/drome/gitrepos/spe 06/MannvilleGroup\\_Strat\\_Hackathon'"
      ],
      "text/markdown": [
       "'D:/Users/drome/gitrepos/spe 06/MannvilleGroup_Strat_Hackathon'"
      ],
      "text/plain": [
       "[1] \"D:/Users/drome/gitrepos/spe 06/MannvilleGroup_Strat_Hackathon\""
      ]
     },
     "metadata": {},
     "output_type": "display_data"
    }
   ],
   "source": [
    "getwd()"
   ]
  },
  {
   "cell_type": "markdown",
   "metadata": {},
   "source": [
    "## 1.0 Import Libraries"
   ]
  },
  {
   "cell_type": "code",
   "execution_count": 2,
   "metadata": {},
   "outputs": [],
   "source": [
    "library(tidyverse)\n",
    "library(stringr)\n",
    "library(ggplot2)\n",
    "library(RMySQL)"
   ]
  },
  {
   "cell_type": "markdown",
   "metadata": {},
   "source": [
    "## 2.0 Read Data"
   ]
  },
  {
   "cell_type": "markdown",
   "metadata": {},
   "source": [
    "### 2.1 Connect database"
   ]
  },
  {
   "cell_type": "code",
   "execution_count": 5,
   "metadata": {
    "hide_input": true
   },
   "outputs": [],
   "source": [
    "# set credentials\n",
    "user <- \"root\"\n",
    "password <- \"Dario5793\"\n",
    "database_name <- \"dblas\"\n",
    "host <- \"localhost\""
   ]
  },
  {
   "cell_type": "code",
   "execution_count": 6,
   "metadata": {
    "collapsed": true
   },
   "outputs": [],
   "source": [
    "# open connection\n",
    "con = dbConnect(MySQL(), user=user, password=password, dbname=database_name, host=host)"
   ]
  },
  {
   "cell_type": "markdown",
   "metadata": {},
   "source": [
    "### 2.2 Create generic SQL Statements"
   ]
  },
  {
   "cell_type": "code",
   "execution_count": 46,
   "metadata": {
    "collapsed": true
   },
   "outputs": [],
   "source": [
    "# sql statements\n",
    "statement_well <- \"select SitID, HorID, Pick, lat, lng from well_lat_lng;\"\n",
    "statement_logs <- \"select * from logs limit 10;\""
   ]
  },
  {
   "cell_type": "markdown",
   "metadata": {},
   "source": [
    "### 2.3 Read data"
   ]
  },
  {
   "cell_type": "markdown",
   "metadata": {},
   "source": [
    "### 2.3.1 Well data"
   ]
  },
  {
   "cell_type": "code",
   "execution_count": 7,
   "metadata": {},
   "outputs": [
    {
     "data": {
      "text/html": [
       "<ol class=list-inline>\n",
       "\t<li>'tbl_df'</li>\n",
       "\t<li>'tbl'</li>\n",
       "\t<li>'data.frame'</li>\n",
       "</ol>\n"
      ],
      "text/latex": [
       "\\begin{enumerate*}\n",
       "\\item 'tbl\\_df'\n",
       "\\item 'tbl'\n",
       "\\item 'data.frame'\n",
       "\\end{enumerate*}\n"
      ],
      "text/markdown": [
       "1. 'tbl_df'\n",
       "2. 'tbl'\n",
       "3. 'data.frame'\n",
       "\n",
       "\n"
      ],
      "text/plain": [
       "[1] \"tbl_df\"     \"tbl\"        \"data.frame\""
      ]
     },
     "metadata": {},
     "output_type": "display_data"
    }
   ],
   "source": [
    "# create sql statement\n",
    "statement <- \"select SitID, HorID, Pick, lat, lng from well_lat_lng;\"\n",
    "rs <- dbSendQuery(con, statement)\n",
    "# fetch data from result set and convert to a tibble\n",
    "well <- as_tibble(fetch(rs, n = 20))\n",
    "class(well)\n",
    "hasCompltd <- dbHasCompleted(rs)\n",
    "isCleardRS <- dbClearResult(rs)"
   ]
  },
  {
   "cell_type": "code",
   "execution_count": 8,
   "metadata": {},
   "outputs": [
    {
     "data": {
      "text/html": [
       "<table>\n",
       "<thead><tr><th scope=col>SitID</th><th scope=col>HorID</th><th scope=col>Pick</th><th scope=col>lat</th><th scope=col>lng</th></tr></thead>\n",
       "<tbody>\n",
       "\t<tr><td>102496   </td><td>13000    </td><td>475.0    </td><td>54.78591 </td><td>-110.1293</td></tr>\n",
       "\t<tr><td>102497   </td><td>13000    </td><td>515.0    </td><td>54.78228 </td><td>-110.2694</td></tr>\n",
       "\t<tr><td>102498   </td><td>13000    </td><td>480.0    </td><td>54.78589 </td><td>-110.1869</td></tr>\n",
       "\t<tr><td>102500   </td><td>13000    </td><td>549.0    </td><td>54.82962 </td><td>-110.2694</td></tr>\n",
       "\t<tr><td>102501   </td><td>13000    </td><td>529.0    </td><td>54.84047 </td><td>-110.2248</td></tr>\n",
       "\t<tr><td>102503   </td><td>13000    </td><td>488.5    </td><td>54.77145 </td><td>-110.4030</td></tr>\n",
       "</tbody>\n",
       "</table>\n"
      ],
      "text/latex": [
       "\\begin{tabular}{r|lllll}\n",
       " SitID & HorID & Pick & lat & lng\\\\\n",
       "\\hline\n",
       "\t 102496    & 13000     & 475.0     & 54.78591  & -110.1293\\\\\n",
       "\t 102497    & 13000     & 515.0     & 54.78228  & -110.2694\\\\\n",
       "\t 102498    & 13000     & 480.0     & 54.78589  & -110.1869\\\\\n",
       "\t 102500    & 13000     & 549.0     & 54.82962  & -110.2694\\\\\n",
       "\t 102501    & 13000     & 529.0     & 54.84047  & -110.2248\\\\\n",
       "\t 102503    & 13000     & 488.5     & 54.77145  & -110.4030\\\\\n",
       "\\end{tabular}\n"
      ],
      "text/markdown": [
       "\n",
       "SitID | HorID | Pick | lat | lng | \n",
       "|---|---|---|---|---|---|\n",
       "| 102496    | 13000     | 475.0     | 54.78591  | -110.1293 | \n",
       "| 102497    | 13000     | 515.0     | 54.78228  | -110.2694 | \n",
       "| 102498    | 13000     | 480.0     | 54.78589  | -110.1869 | \n",
       "| 102500    | 13000     | 549.0     | 54.82962  | -110.2694 | \n",
       "| 102501    | 13000     | 529.0     | 54.84047  | -110.2248 | \n",
       "| 102503    | 13000     | 488.5     | 54.77145  | -110.4030 | \n",
       "\n",
       "\n"
      ],
      "text/plain": [
       "  SitID  HorID Pick  lat      lng      \n",
       "1 102496 13000 475.0 54.78591 -110.1293\n",
       "2 102497 13000 515.0 54.78228 -110.2694\n",
       "3 102498 13000 480.0 54.78589 -110.1869\n",
       "4 102500 13000 549.0 54.82962 -110.2694\n",
       "5 102501 13000 529.0 54.84047 -110.2248\n",
       "6 102503 13000 488.5 54.77145 -110.4030"
      ]
     },
     "metadata": {},
     "output_type": "display_data"
    }
   ],
   "source": [
    "head(well)"
   ]
  },
  {
   "cell_type": "markdown",
   "metadata": {},
   "source": [
    "### 2.3.2 Logs data"
   ]
  },
  {
   "cell_type": "code",
   "execution_count": 9,
   "metadata": {},
   "outputs": [
    {
     "data": {
      "text/html": [
       "<ol class=list-inline>\n",
       "\t<li>'tbl_df'</li>\n",
       "\t<li>'tbl'</li>\n",
       "\t<li>'data.frame'</li>\n",
       "</ol>\n"
      ],
      "text/latex": [
       "\\begin{enumerate*}\n",
       "\\item 'tbl\\_df'\n",
       "\\item 'tbl'\n",
       "\\item 'data.frame'\n",
       "\\end{enumerate*}\n"
      ],
      "text/markdown": [
       "1. 'tbl_df'\n",
       "2. 'tbl'\n",
       "3. 'data.frame'\n",
       "\n",
       "\n"
      ],
      "text/plain": [
       "[1] \"tbl_df\"     \"tbl\"        \"data.frame\""
      ]
     },
     "metadata": {},
     "output_type": "display_data"
    }
   ],
   "source": [
    "# create sql statement\n",
    "statement <- \"select * from logs limit 20;\"\n",
    "rs <- dbSendQuery(con, statement)\n",
    "# fetch data from result set and convert to a tibble\n",
    "logs <- as_tibble(fetch(rs, n = 20))\n",
    "class(logs)\n",
    "hasCompltd <- dbHasCompleted(rs)\n",
    "isCleardRS <- dbClearResult(rs)"
   ]
  },
  {
   "cell_type": "code",
   "execution_count": 167,
   "metadata": {},
   "outputs": [
    {
     "data": {
      "text/html": [
       "<table>\n",
       "<thead><tr><th scope=col>SitID</th><th scope=col>DEPT</th><th scope=col>DPHI</th><th scope=col>GR</th><th scope=col>ILD</th><th scope=col>NPHI</th></tr></thead>\n",
       "<tbody>\n",
       "\t<tr><td>142218</td><td>390.00</td><td>0.199 </td><td>82.478</td><td>2.923 </td><td>0.457 </td></tr>\n",
       "\t<tr><td>142218</td><td>390.25</td><td>0.208 </td><td>86.413</td><td>2.925 </td><td>0.456 </td></tr>\n",
       "\t<tr><td>142218</td><td>390.50</td><td>0.246 </td><td>90.229</td><td>2.917 </td><td>0.452 </td></tr>\n",
       "\t<tr><td>142218</td><td>390.75</td><td>0.266 </td><td>90.944</td><td>2.898 </td><td>0.475 </td></tr>\n",
       "\t<tr><td>142218</td><td>391.00</td><td>0.287 </td><td>88.866</td><td>2.890 </td><td>0.484 </td></tr>\n",
       "\t<tr><td>142218</td><td>391.25</td><td>0.288 </td><td>82.638</td><td>2.844 </td><td>0.474 </td></tr>\n",
       "</tbody>\n",
       "</table>\n"
      ],
      "text/latex": [
       "\\begin{tabular}{r|llllll}\n",
       " SitID & DEPT & DPHI & GR & ILD & NPHI\\\\\n",
       "\\hline\n",
       "\t 142218 & 390.00 & 0.199  & 82.478 & 2.923  & 0.457 \\\\\n",
       "\t 142218 & 390.25 & 0.208  & 86.413 & 2.925  & 0.456 \\\\\n",
       "\t 142218 & 390.50 & 0.246  & 90.229 & 2.917  & 0.452 \\\\\n",
       "\t 142218 & 390.75 & 0.266  & 90.944 & 2.898  & 0.475 \\\\\n",
       "\t 142218 & 391.00 & 0.287  & 88.866 & 2.890  & 0.484 \\\\\n",
       "\t 142218 & 391.25 & 0.288  & 82.638 & 2.844  & 0.474 \\\\\n",
       "\\end{tabular}\n"
      ],
      "text/markdown": [
       "\n",
       "SitID | DEPT | DPHI | GR | ILD | NPHI | \n",
       "|---|---|---|---|---|---|\n",
       "| 142218 | 390.00 | 0.199  | 82.478 | 2.923  | 0.457  | \n",
       "| 142218 | 390.25 | 0.208  | 86.413 | 2.925  | 0.456  | \n",
       "| 142218 | 390.50 | 0.246  | 90.229 | 2.917  | 0.452  | \n",
       "| 142218 | 390.75 | 0.266  | 90.944 | 2.898  | 0.475  | \n",
       "| 142218 | 391.00 | 0.287  | 88.866 | 2.890  | 0.484  | \n",
       "| 142218 | 391.25 | 0.288  | 82.638 | 2.844  | 0.474  | \n",
       "\n",
       "\n"
      ],
      "text/plain": [
       "  SitID  DEPT   DPHI  GR     ILD   NPHI \n",
       "1 142218 390.00 0.199 82.478 2.923 0.457\n",
       "2 142218 390.25 0.208 86.413 2.925 0.456\n",
       "3 142218 390.50 0.246 90.229 2.917 0.452\n",
       "4 142218 390.75 0.266 90.944 2.898 0.475\n",
       "5 142218 391.00 0.287 88.866 2.890 0.484\n",
       "6 142218 391.25 0.288 82.638 2.844 0.474"
      ]
     },
     "metadata": {},
     "output_type": "display_data"
    }
   ],
   "source": [
    "head(logs)"
   ]
  },
  {
   "cell_type": "code",
   "execution_count": 63,
   "metadata": {
    "collapsed": true
   },
   "outputs": [],
   "source": [
    "require(purrr)"
   ]
  },
  {
   "cell_type": "code",
   "execution_count": 129,
   "metadata": {},
   "outputs": [],
   "source": [
    "row_num <- 7\n",
    "# data <- as.matrix(filter(logs, between(row_number(), row_num + 1, row_num + row_num - 1)))\n",
    "data <- as.matrix(filter(logs, between(row_number(), row_num + 1, row_num + 5)))\n",
    "data_aft <- as_tibble(cbind(nms = names(c('SitID', 'DEPT', 'DPHI', 'GR', 'ILD', 'NPHI')), t(data)))"
   ]
  },
  {
   "cell_type": "code",
   "execution_count": 136,
   "metadata": {},
   "outputs": [],
   "source": [
    "data <- as.matrix(filter(logs, between(row_number(), -row_num, row_num)))\n",
    "data_bef <- as_tibble(cbind(nms = names(c('SitID', 'DEPT', 'DPHI', 'GR', 'ILD', 'NPHI')), t(data)))"
   ]
  },
  {
   "cell_type": "code",
   "execution_count": 132,
   "metadata": {},
   "outputs": [
    {
     "data": {
      "text/html": [
       "<table>\n",
       "<thead><tr><th scope=col>V1</th><th scope=col>V2</th></tr></thead>\n",
       "<tbody>\n",
       "\t<tr><td>142218</td><td>142218</td></tr>\n",
       "\t<tr><td>390.00</td><td>390.25</td></tr>\n",
       "\t<tr><td>0.199 </td><td>0.208 </td></tr>\n",
       "\t<tr><td>82.478</td><td>86.413</td></tr>\n",
       "\t<tr><td>2.923 </td><td>2.925 </td></tr>\n",
       "\t<tr><td>0.457 </td><td>0.456 </td></tr>\n",
       "</tbody>\n",
       "</table>\n"
      ],
      "text/latex": [
       "\\begin{tabular}{r|ll}\n",
       " V1 & V2\\\\\n",
       "\\hline\n",
       "\t 142218 & 142218\\\\\n",
       "\t 390.00 & 390.25\\\\\n",
       "\t 0.199  & 0.208 \\\\\n",
       "\t 82.478 & 86.413\\\\\n",
       "\t 2.923  & 2.925 \\\\\n",
       "\t 0.457  & 0.456 \\\\\n",
       "\\end{tabular}\n"
      ],
      "text/markdown": [
       "\n",
       "V1 | V2 | \n",
       "|---|---|---|---|---|---|\n",
       "| 142218 | 142218 | \n",
       "| 390.00 | 390.25 | \n",
       "| 0.199  | 0.208  | \n",
       "| 82.478 | 86.413 | \n",
       "| 2.923  | 2.925  | \n",
       "| 0.457  | 0.456  | \n",
       "\n",
       "\n"
      ],
      "text/plain": [
       "  V1     V2    \n",
       "1 142218 142218\n",
       "2 390.00 390.25\n",
       "3 0.199  0.208 \n",
       "4 82.478 86.413\n",
       "5 2.923  2.925 \n",
       "6 0.457  0.456 "
      ]
     },
     "metadata": {},
     "output_type": "display_data"
    }
   ],
   "source": [
    "data_bef"
   ]
  },
  {
   "cell_type": "code",
   "execution_count": 137,
   "metadata": {},
   "outputs": [
    {
     "data": {
      "text/html": [
       "<table>\n",
       "<thead><tr><th scope=col>SitID</th><th scope=col>DEPT</th><th scope=col>DPHI</th><th scope=col>GR</th><th scope=col>ILD</th><th scope=col>NPHI</th></tr></thead>\n",
       "<tbody>\n",
       "\t<tr><td>142218</td><td>390.00</td><td>0.199 </td><td>82.478</td><td>2.923 </td><td>0.457 </td></tr>\n",
       "\t<tr><td>142218</td><td>390.25</td><td>0.208 </td><td>86.413</td><td>2.925 </td><td>0.456 </td></tr>\n",
       "\t<tr><td>142218</td><td>390.50</td><td>0.246 </td><td>90.229</td><td>2.917 </td><td>0.452 </td></tr>\n",
       "\t<tr><td>142218</td><td>390.75</td><td>0.266 </td><td>90.944</td><td>2.898 </td><td>0.475 </td></tr>\n",
       "\t<tr><td>142218</td><td>391.00</td><td>0.287 </td><td>88.866</td><td>2.890 </td><td>0.484 </td></tr>\n",
       "\t<tr><td>142218</td><td>391.25</td><td>0.288 </td><td>82.638</td><td>2.844 </td><td>0.474 </td></tr>\n",
       "\t<tr><td>142218</td><td>391.50</td><td>0.241 </td><td>83.345</td><td>2.748 </td><td>0.461 </td></tr>\n",
       "</tbody>\n",
       "</table>\n"
      ],
      "text/latex": [
       "\\begin{tabular}{llllll}\n",
       " SitID & DEPT & DPHI & GR & ILD & NPHI\\\\\n",
       "\\hline\n",
       "\t 142218 & 390.00 & 0.199  & 82.478 & 2.923  & 0.457 \\\\\n",
       "\t 142218 & 390.25 & 0.208  & 86.413 & 2.925  & 0.456 \\\\\n",
       "\t 142218 & 390.50 & 0.246  & 90.229 & 2.917  & 0.452 \\\\\n",
       "\t 142218 & 390.75 & 0.266  & 90.944 & 2.898  & 0.475 \\\\\n",
       "\t 142218 & 391.00 & 0.287  & 88.866 & 2.890  & 0.484 \\\\\n",
       "\t 142218 & 391.25 & 0.288  & 82.638 & 2.844  & 0.474 \\\\\n",
       "\t 142218 & 391.50 & 0.241  & 83.345 & 2.748  & 0.461 \\\\\n",
       "\\end{tabular}\n"
      ],
      "text/markdown": [
       "\n",
       "SitID | DEPT | DPHI | GR | ILD | NPHI | \n",
       "|---|---|---|---|---|---|---|\n",
       "| 142218 | 390.00 | 0.199  | 82.478 | 2.923  | 0.457  | \n",
       "| 142218 | 390.25 | 0.208  | 86.413 | 2.925  | 0.456  | \n",
       "| 142218 | 390.50 | 0.246  | 90.229 | 2.917  | 0.452  | \n",
       "| 142218 | 390.75 | 0.266  | 90.944 | 2.898  | 0.475  | \n",
       "| 142218 | 391.00 | 0.287  | 88.866 | 2.890  | 0.484  | \n",
       "| 142218 | 391.25 | 0.288  | 82.638 | 2.844  | 0.474  | \n",
       "| 142218 | 391.50 | 0.241  | 83.345 | 2.748  | 0.461  | \n",
       "\n",
       "\n"
      ],
      "text/plain": [
       "     SitID  DEPT   DPHI  GR     ILD   NPHI \n",
       "[1,] 142218 390.00 0.199 82.478 2.923 0.457\n",
       "[2,] 142218 390.25 0.208 86.413 2.925 0.456\n",
       "[3,] 142218 390.50 0.246 90.229 2.917 0.452\n",
       "[4,] 142218 390.75 0.266 90.944 2.898 0.475\n",
       "[5,] 142218 391.00 0.287 88.866 2.890 0.484\n",
       "[6,] 142218 391.25 0.288 82.638 2.844 0.474\n",
       "[7,] 142218 391.50 0.241 83.345 2.748 0.461"
      ]
     },
     "metadata": {},
     "output_type": "display_data"
    }
   ],
   "source": [
    "data"
   ]
  },
  {
   "cell_type": "code",
   "execution_count": 165,
   "metadata": {},
   "outputs": [
    {
     "data": {
      "text/html": [
       "<table>\n",
       "<tbody>\n",
       "\t<tr><th scope=row>value</th><td>2</td><td>3</td><td>4</td><td>5</td><td>6</td></tr>\n",
       "</tbody>\n",
       "</table>\n"
      ],
      "text/latex": [
       "\\begin{tabular}{r|lllll}\n",
       "\tvalue & 2 & 3 & 4 & 5 & 6\\\\\n",
       "\\end{tabular}\n"
      ],
      "text/markdown": [
       "\n",
       "| value | 2 | 3 | 4 | 5 | 6 | \n",
       "\n",
       "\n"
      ],
      "text/plain": [
       "      [,1] [,2] [,3] [,4] [,5]\n",
       "value 2    3    4    5    6   "
      ]
     },
     "metadata": {},
     "output_type": "display_data"
    }
   ],
   "source": [
    "x = tibble(value = c(1,2,3,4,5,6,7,8,9,10,11,12,13,14,15,16,17,18,19,20))\n",
    "# x\n",
    "row_righ = 7\n",
    "row_left = row_righ - 5\n",
    "t(filter(x, between(row_number(), left = row_left, right = row_righ - 1)))"
   ]
  },
  {
   "cell_type": "code",
   "execution_count": 166,
   "metadata": {},
   "outputs": [
    {
     "data": {
      "text/html": [
       "<table>\n",
       "<tbody>\n",
       "\t<tr><th scope=row>value</th><td>8 </td><td>9 </td><td>10</td><td>11</td><td>12</td></tr>\n",
       "</tbody>\n",
       "</table>\n"
      ],
      "text/latex": [
       "\\begin{tabular}{r|lllll}\n",
       "\tvalue & 8  & 9  & 10 & 11 & 12\\\\\n",
       "\\end{tabular}\n"
      ],
      "text/markdown": [
       "\n",
       "| value | 8  | 9  | 10 | 11 | 12 | \n",
       "\n",
       "\n"
      ],
      "text/plain": [
       "      [,1] [,2] [,3] [,4] [,5]\n",
       "value 8    9    10   11   12  "
      ]
     },
     "metadata": {},
     "output_type": "display_data"
    }
   ],
   "source": [
    "row_left = 7\n",
    "row_righ = row_left + 5\n",
    "t(filter(x, between(row_number(), left = row_left + 1, right = row_righ)))"
   ]
  },
  {
   "cell_type": "code",
   "execution_count": 37,
   "metadata": {},
   "outputs": [
    {
     "data": {
      "text/html": [
       "TRUE"
      ],
      "text/latex": [
       "TRUE"
      ],
      "text/markdown": [
       "TRUE"
      ],
      "text/plain": [
       "[1] TRUE"
      ]
     },
     "metadata": {},
     "output_type": "display_data"
    }
   ],
   "source": [
    "dbDisconnect(con)"
   ]
  },
  {
   "cell_type": "markdown",
   "metadata": {},
   "source": [
    "## 3.0 Create Model"
   ]
  },
  {
   "cell_type": "markdown",
   "metadata": {},
   "source": [
    "## 4.0 Train Model"
   ]
  },
  {
   "cell_type": "markdown",
   "metadata": {},
   "source": [
    "## 5.0 Test Model"
   ]
  }
 ],
 "metadata": {
  "celltoolbar": "Raw Cell Format",
  "kernelspec": {
   "display_name": "R",
   "language": "R",
   "name": "ir"
  },
  "language_info": {
   "codemirror_mode": "r",
   "file_extension": ".r",
   "mimetype": "text/x-r-source",
   "name": "R",
   "pygments_lexer": "r",
   "version": "3.4.3"
  }
 },
 "nbformat": 4,
 "nbformat_minor": 2
}
