{
 "cells": [
  {
   "cell_type": "markdown",
   "metadata": {},
   "source": [
    "# 1.0 Load libraries"
   ]
  },
  {
   "cell_type": "code",
   "execution_count": 1,
   "metadata": {},
   "outputs": [
    {
     "name": "stderr",
     "output_type": "stream",
     "text": [
      "Using TensorFlow backend.\n"
     ]
    }
   ],
   "source": [
    "import tensorflow as tf\n",
    "import pandas as pd\n",
    "import numpy as np\n",
    "from scipy.stats import zscore\n",
    "\n",
    "from pandas import read_csv \n",
    "from keras.models import Sequential \n",
    "from keras.layers import Dense \n",
    "from keras.wrappers.scikit_learn import KerasClassifier \n",
    "from keras.utils import np_utils \n",
    "from sklearn.model_selection import cross_val_score \n",
    "from sklearn.model_selection import KFold \n",
    "from sklearn.preprocessing import LabelEncoder \n",
    "from sklearn.pipeline import Pipeline"
   ]
  },
  {
   "cell_type": "markdown",
   "metadata": {},
   "source": [
    "# Read data"
   ]
  },
  {
   "cell_type": "code",
   "execution_count": 2,
   "metadata": {},
   "outputs": [],
   "source": [
    "# reading dataset created by Dario\n",
    "df = pd.read_csv('dataset_normalized_20180221_1637.csv')"
   ]
  },
  {
   "cell_type": "code",
   "execution_count": 21,
   "metadata": {},
   "outputs": [],
   "source": [
    "pd.set_option('display.width', 340)"
   ]
  },
  {
   "cell_type": "markdown",
   "metadata": {},
   "source": [
    "# Create a Model - hyperparameters"
   ]
  },
  {
   "cell_type": "code",
   "execution_count": 14,
   "metadata": {},
   "outputs": [],
   "source": [
    "# Parameters\n",
    "features = [x for x in df.columns if x != \"HorID\"]\n",
    "num_features = len(features)\n",
    "num_steps = 500 # Total steps to train\n",
    "batch_size = 1024 # The number of samples per batch\n",
    "classes = df['HorID'].unique()\n",
    "num_classes = len(classes) # The 14 HorID's\n",
    "num_trees = 10\n",
    "max_nodes = 1000"
   ]
  },
  {
   "cell_type": "code",
   "execution_count": 56,
   "metadata": {},
   "outputs": [],
   "source": [
    "# Only two classes 5000 & 14000 for a binary classification\n",
    "df_binary = df.loc[df['HorID'].isin([5000, 14000])]\n",
    "df_binary.HorID = df_binary.HorID.astype(str, inplace=True)\n",
    "# df_binary.dtypes"
   ]
  },
  {
   "cell_type": "code",
   "execution_count": 55,
   "metadata": {},
   "outputs": [],
   "source": [
    "horizon = tf.feature_column.categorical_column_with_vocabulary_list('horizon', ['5000', '14000'])"
   ]
  },
  {
   "cell_type": "code",
   "execution_count": null,
   "metadata": {},
   "outputs": [],
   "source": [
    "dept = tf.feature_column.numeric_column('DEPT')\n",
    "reading = tf.feature_column.numeric_column('reading')\n",
    "lng = tf.feature_column.numeric_column('lng')\n",
    "lat = tf.feature_column.numeric_column('lat')\n",
    "cType_DPHI = tf.feature_column.numeric_column('cType_DPHI')\n",
    "cType_GR = tf.feature_column.numeric_column('cType_GR')\n",
    "cType_ILD = tf.feature_column.numeric_column('cType_ILD')\n",
    "cType_NPHI = tf.feature_column.numeric_column('cType_NPHI')\n",
    "cType_DPHI1 = tf.feature_column.numeric_column('cType_DPHI1')\n",
    "cType_GR1 = tf.feature_column.numeric_column('cType_GR1')\n",
    "cType_ILD1 = tf.feature_column.numeric_column('cType_ILD1')\n",
    "cType_NPHI1 = tf.feature_column.numeric_column('cType_NPHI1')\n",
    "cType_DPHI2 = tf.feature_column.numeric_column('cType_DPHI2')\n",
    "cType_GR2 = tf.feature_column.numeric_column('cType_GR2')\n",
    "cType_ILD2 = tf.feature_column.numeric_column('cType_ILD2')\n",
    "cType_NPHI2 = tf.feature_column.numeric_column('cType_NPHI2')\n",
    "cType_DPHI3 = tf.feature_column.numeric_column('cType_DPHI3')\n",
    "cType_GR3 = tf.feature_column.numeric_column('cType_GR3')\n",
    "cType_ILD3 = tf.feature_column.numeric_column('cType_ILD3')\n",
    "cType_NPHI3 = tf.feature_column.numeric_column('cType_NPHI3')\n",
    "cType_DPHI4 = tf.feature_column.numeric_column('cType_DPHI4')\n",
    "cType_GR4 = tf.feature_column.numeric_column('cType_GR4')\n",
    "cType_ILD4 = tf.feature_column.numeric_column('cType_ILD4')\n",
    "cType_NPHI4 = tf.feature_column.numeric_column('cType_NPHI4')\n",
    "cType_DPHI5 = tf.feature_column.numeric_column('cType_DPHI5')\n",
    "cType_GR5 = tf.feature_column.numeric_column('cType_GR5')\n",
    "cType_ILD5 = tf.feature_column.numeric_column('cType_ILD5')\n",
    "cType_NPHI5 = tf.feature_column.numeric_column('cType_NPHI5')\n",
    "cType_DPHI6 = tf.feature_column.numeric_column('cType_DPHI6')\n",
    "cType_GR6 = tf.feature_column.numeric_column('cType_GR6')\n",
    "cType_ILD6 = tf.feature_column.numeric_column('cType_ILD6')\n",
    "cType_NPHI6 = tf.feature_column.numeric_column('cType_NPHI6')\n",
    "cType_DPHI7 = tf.feature_column.numeric_column('cType_DPHI7')\n",
    "cType_GR7 = tf.feature_column.numeric_column('cType_GR7')\n",
    "cType_ILD7 = tf.feature_column.numeric_column('cType_ILD7')\n",
    "cType_NPHI7 = tf.feature_column.numeric_column('cType_NPHI7')\n",
    "cType_DPHI8 = tf.feature_column.numeric_column('cType_DPHI8')\n",
    "cType_GR8 = tf.feature_column.numeric_column('cType_GR8')\n",
    "cType_ILD8 = tf.feature_column.numeric_column('cType_ILD8')\n",
    "cType_NPHI8 = tf.feature_column.numeric_column('cType_NPHI8')\n",
    "cType_DPHI9 = tf.feature_column.numeric_column('cType_DPHI9')\n",
    "cType_GR9 = tf.feature_column.numeric_column('cType_GR9')\n",
    "cType_ILD9 = tf.feature_column.numeric_column('cType_ILD9')\n",
    "cType_NPHI9 = tf.feature_column.numeric_column('cType_NPHI9')\n",
    "cType_DPHI10 = tf.feature_column.numeric_column('cType_DPHI10')\n",
    "cType_GR10 = tf.feature_column.numeric_column('cType_GR10')\n",
    "cType_ILD10 = tf.feature_column.numeric_column('cType_ILD10')\n",
    "cType_NPHI10 = tf.feature_column.numeric_column('cType_NPHI10')\n",
    "cType_DPHI_near_1 = tf.feature_column.numeric_column('cType_DPHI_near_1')\n",
    "cType_GR_near_1 = tf.feature_column.numeric_column('cType_GR_near_1')\n",
    "cType_ILD_near_1 = tf.feature_column.numeric_column('cType_ILD_near_1')\n",
    "cType_NPHI_near_1 = tf.feature_column.numeric_column('cType_NPHI_near_1')\n",
    "cType_DPHI_near_2 = tf.feature_column.numeric_column('cType_DPHI_near_2')\n",
    "cType_GR_near_2 = tf.feature_column.numeric_column('cType_GR_near_2')\n",
    "cType_ILD_near_2 = tf.feature_column.numeric_column('cType_ILD_near_2')\n",
    "cType_NPHI_near_2 = tf.feature_column.numeric_column('cType_NPHI_near_2')\n",
    "cType_DPHI_near_3 = tf.feature_column.numeric_column('cType_DPHI_near_3')\n",
    "cType_GR_near_3 = tf.feature_column.numeric_column('cType_GR_near_3')\n",
    "cType_ILD_near_3 = tf.feature_column.numeric_column('cType_ILD_near_3')\n",
    "cType_NPHI_near_3 = tf.feature_column.numeric_column('cType_NPHI_near_3')"
   ]
  }
 ],
 "metadata": {
  "kernelspec": {
   "display_name": "Python 3",
   "language": "python",
   "name": "python3"
  },
  "language_info": {
   "codemirror_mode": {
    "name": "ipython",
    "version": 3
   },
   "file_extension": ".py",
   "mimetype": "text/x-python",
   "name": "python",
   "nbconvert_exporter": "python",
   "pygments_lexer": "ipython3",
   "version": "3.6.3"
  }
 },
 "nbformat": 4,
 "nbformat_minor": 2
}
