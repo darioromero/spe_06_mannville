{
 "cells": [
  {
   "cell_type": "code",
   "execution_count": 77,
   "metadata": {},
   "outputs": [],
   "source": [
    "library(tfestimators)\n",
    "library(tensorflow)"
   ]
  },
  {
   "cell_type": "code",
   "execution_count": 78,
   "metadata": {},
   "outputs": [],
   "source": [
    "response <- function() \"Species\"\n",
    "features <- function() setdiff(names(iris), response())"
   ]
  },
  {
   "cell_type": "code",
   "execution_count": 79,
   "metadata": {},
   "outputs": [],
   "source": [
    "# split into train, test datasets\n",
    "set.seed(123)\n",
    "partitions <- modelr::resample_partition(iris, c(test = 0.2, train = 0.8))\n",
    "iris_train <- as.data.frame(partitions$train)\n",
    "iris_test  <- as.data.frame(partitions$test)"
   ]
  },
  {
   "cell_type": "code",
   "execution_count": 80,
   "metadata": {},
   "outputs": [],
   "source": [
    "# construct feature columns\n",
    "feature_columns <- feature_columns(\n",
    "  column_numeric(features())\n",
    ")"
   ]
  },
  {
   "cell_type": "code",
   "execution_count": 82,
   "metadata": {},
   "outputs": [],
   "source": [
    "# construct classifier\n",
    "classifier <- dnn_classifier(\n",
    "    feature_columns = feature_columns, \n",
    "#   hidden_units = c(10, 20, 10),\n",
    "    hidden_units = c(6, 20, 20, 20, 6), \n",
    "    n_classes = 3, \n",
    "    activation_fn = \"relu\"   \n",
    ")"
   ]
  },
  {
   "cell_type": "code",
   "execution_count": 73,
   "metadata": {},
   "outputs": [],
   "source": [
    "# construct input function \n",
    "iris_input_fn <- function(data) {\n",
    "  input_fn(data, features = features(), response = response())\n",
    "}"
   ]
  },
  {
   "cell_type": "code",
   "execution_count": 74,
   "metadata": {},
   "outputs": [
    {
     "name": "stderr",
     "output_type": "stream",
     "text": [
      "The following factor levels of \"Species\" have been encoded:\n",
      "- \"setosa\" => 0\n",
      "- \"versicolor\" => 1\n",
      "- \"virginica\" => 2\n"
     ]
    }
   ],
   "source": [
    "# train classifier with training dataset\n",
    "train(classifier, input_fn = iris_input_fn(iris_train))"
   ]
  },
  {
   "cell_type": "code",
   "execution_count": 75,
   "metadata": {},
   "outputs": [
    {
     "name": "stderr",
     "output_type": "stream",
     "text": [
      "The following factor levels of \"Species\" have been encoded:\n",
      "- \"setosa\" => 0\n",
      "- \"versicolor\" => 1\n",
      "- \"virginica\" => 2\n",
      "The following factor levels of \"Species\" have been encoded:\n",
      "- \"setosa\" => 0\n",
      "- \"versicolor\" => 1\n",
      "- \"virginica\" => 2\n"
     ]
    }
   ],
   "source": [
    "# valuate with test dataset\n",
    "predictions <- predict(classifier, input_fn = iris_input_fn(iris_test))\n",
    "evaluation <- evaluate(classifier, input_fn = iris_input_fn(iris_test))"
   ]
  },
  {
   "cell_type": "code",
   "execution_count": 76,
   "metadata": {},
   "outputs": [
    {
     "data": {
      "text/html": [
       "<table>\n",
       "<thead><tr><th scope=col>accuracy</th><th scope=col>average_loss</th><th scope=col>loss</th><th scope=col>global_step</th></tr></thead>\n",
       "<tbody>\n",
       "\t<tr><td>0.3793103</td><td>2.502139 </td><td>72.56204 </td><td>1        </td></tr>\n",
       "</tbody>\n",
       "</table>\n"
      ],
      "text/latex": [
       "\\begin{tabular}{r|llll}\n",
       " accuracy & average\\_loss & loss & global\\_step\\\\\n",
       "\\hline\n",
       "\t 0.3793103 & 2.502139  & 72.56204  & 1        \\\\\n",
       "\\end{tabular}\n"
      ],
      "text/markdown": [
       "\n",
       "accuracy | average_loss | loss | global_step | \n",
       "|---|\n",
       "| 0.3793103 | 2.502139  | 72.56204  | 1         | \n",
       "\n",
       "\n"
      ],
      "text/plain": [
       "  accuracy  average_loss loss     global_step\n",
       "1 0.3793103 2.502139     72.56204 1          "
      ]
     },
     "metadata": {},
     "output_type": "display_data"
    }
   ],
   "source": [
    "evaluation"
   ]
  },
  {
   "cell_type": "code",
   "execution_count": null,
   "metadata": {},
   "outputs": [],
   "source": []
  }
 ],
 "metadata": {
  "kernelspec": {
   "display_name": "R",
   "language": "R",
   "name": "ir"
  },
  "language_info": {
   "codemirror_mode": "r",
   "file_extension": ".r",
   "mimetype": "text/x-r-source",
   "name": "R",
   "pygments_lexer": "r",
   "version": "3.4.3"
  }
 },
 "nbformat": 4,
 "nbformat_minor": 2
}
