{
 "cells": [
  {
   "cell_type": "code",
   "execution_count": 1,
   "metadata": {},
   "outputs": [],
   "source": [
    "import numpy as np\n",
    "import pandas as pd\n",
    "import matplotlib.pyplot as plt\n",
    "%matplotlib inline\n",
    "import welly\n",
    "import os\n",
    "env = %env\n",
    "from welly import Well\n",
    "import lasio"
   ]
  },
  {
   "cell_type": "code",
   "execution_count": 2,
   "metadata": {},
   "outputs": [
    {
     "name": "stdout",
     "output_type": "stream",
     "text": [
      "D:\\Users\\drome\\gitrepos\\spe 06\\MannvilleGroup_Strat_Hackathon\n"
     ]
    }
   ],
   "source": [
    "import os\n",
    "home_path = os.getcwd()\n",
    "print(home_path)"
   ]
  },
  {
   "cell_type": "code",
   "execution_count": 3,
   "metadata": {},
   "outputs": [],
   "source": [
    "# D:\\Users\\drome\\gitrepos\\spe 06\\MannvilleGroup_Strat_Hackathon\\ds_extnd.csv\n",
    "# D:\\Users\\drome\\gitrepos\\spe 06\\MannvilleGroup_Strat_Hackathon\\SPE_006_originalData\\OilSandsDB\\Logs\\00-01-01-073-05W5-0.LAS\n",
    "# D:\\Users\\drome\\gitrepos\\spe 06\\MannvilleGroup_Strat_Hackathon\\SPE_006_originalData\\OilSandsDB\\WELLS.TXT"
   ]
  },
  {
   "cell_type": "code",
   "execution_count": 4,
   "metadata": {},
   "outputs": [],
   "source": [
    "wells = pd.read_csv(filepath_or_buffer=home_path + \"/SPE_006_originalData/OilSandsDB/WELLS.TXT\", delimiter=\"\\t\")\n",
    "cols = ['SitID', 'UWI']\n",
    "wells = wells[cols]\n",
    "wells['UWI_'] = wells.UWI.str.replace('/', '-')\n"
   ]
  },
  {
   "cell_type": "code",
   "execution_count": 5,
   "metadata": {},
   "outputs": [
    {
     "data": {
      "text/html": [
       "<div>\n",
       "<style>\n",
       "    .dataframe thead tr:only-child th {\n",
       "        text-align: right;\n",
       "    }\n",
       "\n",
       "    .dataframe thead th {\n",
       "        text-align: left;\n",
       "    }\n",
       "\n",
       "    .dataframe tbody tr th {\n",
       "        vertical-align: top;\n",
       "    }\n",
       "</style>\n",
       "<table border=\"1\" class=\"dataframe\">\n",
       "  <thead>\n",
       "    <tr style=\"text-align: right;\">\n",
       "      <th></th>\n",
       "      <th>SitID</th>\n",
       "      <th>UWI_</th>\n",
       "    </tr>\n",
       "    <tr>\n",
       "      <th>UWI</th>\n",
       "      <th></th>\n",
       "      <th></th>\n",
       "    </tr>\n",
       "  </thead>\n",
       "  <tbody>\n",
       "    <tr>\n",
       "      <th>00/12-08-067-01W4/0</th>\n",
       "      <td>102496</td>\n",
       "      <td>00-12-08-067-01W4-0</td>\n",
       "    </tr>\n",
       "    <tr>\n",
       "      <th>00/07-08-067-02W4/0</th>\n",
       "      <td>102497</td>\n",
       "      <td>00-07-08-067-02W4-0</td>\n",
       "    </tr>\n",
       "    <tr>\n",
       "      <th>00/09-11-067-02W4/0</th>\n",
       "      <td>102498</td>\n",
       "      <td>00-09-11-067-02W4-0</td>\n",
       "    </tr>\n",
       "    <tr>\n",
       "      <th>00/10-29-067-02W4/0</th>\n",
       "      <td>102500</td>\n",
       "      <td>00-10-29-067-02W4-0</td>\n",
       "    </tr>\n",
       "    <tr>\n",
       "      <th>00/06-34-067-02W4/0</th>\n",
       "      <td>102501</td>\n",
       "      <td>00-06-34-067-02W4-0</td>\n",
       "    </tr>\n",
       "  </tbody>\n",
       "</table>\n",
       "</div>"
      ],
      "text/plain": [
       "                      SitID                 UWI_\n",
       "UWI                                             \n",
       "00/12-08-067-01W4/0  102496  00-12-08-067-01W4-0\n",
       "00/07-08-067-02W4/0  102497  00-07-08-067-02W4-0\n",
       "00/09-11-067-02W4/0  102498  00-09-11-067-02W4-0\n",
       "00/10-29-067-02W4/0  102500  00-10-29-067-02W4-0\n",
       "00/06-34-067-02W4/0  102501  00-06-34-067-02W4-0"
      ]
     },
     "execution_count": 5,
     "metadata": {},
     "output_type": "execute_result"
    }
   ],
   "source": [
    "wells.set_index(wells.UWI, inplace=True)\n",
    "wells = wells.drop('UWI', axis=1)\n",
    "wells.head()"
   ]
  },
  {
   "cell_type": "code",
   "execution_count": 6,
   "metadata": {},
   "outputs": [
    {
     "data": {
      "text/plain": [
       "(102496, '00-12-08-067-01W4-0')"
      ]
     },
     "execution_count": 6,
     "metadata": {},
     "output_type": "execute_result"
    }
   ],
   "source": [
    "wells.loc['00/12-08-067-01W4/0'].SitID, wells.iloc[0].UWI_"
   ]
  },
  {
   "cell_type": "code",
   "execution_count": 7,
   "metadata": {},
   "outputs": [
    {
     "data": {
      "text/plain": [
       "'00-12-08-067-01W4-0'"
      ]
     },
     "execution_count": 7,
     "metadata": {},
     "output_type": "execute_result"
    }
   ],
   "source": [
    "wells.loc['00/12-08-067-01W4/0'].UWI_"
   ]
  },
  {
   "cell_type": "code",
   "execution_count": 8,
   "metadata": {},
   "outputs": [
    {
     "data": {
      "text/plain": [
       "Index(['00/12-08-067-01W4/0', '00/07-08-067-02W4/0', '00/09-11-067-02W4/0',\n",
       "       '00/10-29-067-02W4/0', '00/06-34-067-02W4/0', '00/11-04-067-03W4/0',\n",
       "       '00/10-08-067-03W4/0', '00/10-14-067-03W4/0', '00/10-28-067-03W4/0',\n",
       "       '00/07-36-067-03W4/0',\n",
       "       ...\n",
       "       'AA/06-31-101-12W4/0', 'AA/01-05-101-13W4/0', 'AA/15-14-101-13W4/0',\n",
       "       'AA/16-17-101-13W4/0', 'AA/11-27-101-13W4/0', 'AA/11-30-101-13W4/0',\n",
       "       'AA/11-08-101-14W4/0', 'AA/14-14-101-14W4/0', 'AA/06-29-101-14W4/0',\n",
       "       'AA/06-35-101-14W4/0'],\n",
       "      dtype='object', name='UWI', length=2193)"
      ]
     },
     "execution_count": 8,
     "metadata": {},
     "output_type": "execute_result"
    }
   ],
   "source": [
    "wells.index"
   ]
  },
  {
   "cell_type": "code",
   "execution_count": 9,
   "metadata": {},
   "outputs": [
    {
     "data": {
      "text/html": [
       "<div>\n",
       "<style>\n",
       "    .dataframe thead tr:only-child th {\n",
       "        text-align: right;\n",
       "    }\n",
       "\n",
       "    .dataframe thead th {\n",
       "        text-align: left;\n",
       "    }\n",
       "\n",
       "    .dataframe tbody tr th {\n",
       "        vertical-align: top;\n",
       "    }\n",
       "</style>\n",
       "<table border=\"1\" class=\"dataframe\">\n",
       "  <thead>\n",
       "    <tr style=\"text-align: right;\">\n",
       "      <th></th>\n",
       "      <th>SitID</th>\n",
       "      <th>UWI_</th>\n",
       "    </tr>\n",
       "    <tr>\n",
       "      <th>UWI</th>\n",
       "      <th></th>\n",
       "      <th></th>\n",
       "    </tr>\n",
       "  </thead>\n",
       "  <tbody>\n",
       "    <tr>\n",
       "      <th>00/12-08-067-01W4/0</th>\n",
       "      <td>102496</td>\n",
       "      <td>00-12-08-067-01W4-0</td>\n",
       "    </tr>\n",
       "    <tr>\n",
       "      <th>00/07-08-067-02W4/0</th>\n",
       "      <td>102497</td>\n",
       "      <td>00-07-08-067-02W4-0</td>\n",
       "    </tr>\n",
       "    <tr>\n",
       "      <th>00/09-11-067-02W4/0</th>\n",
       "      <td>102498</td>\n",
       "      <td>00-09-11-067-02W4-0</td>\n",
       "    </tr>\n",
       "    <tr>\n",
       "      <th>00/10-29-067-02W4/0</th>\n",
       "      <td>102500</td>\n",
       "      <td>00-10-29-067-02W4-0</td>\n",
       "    </tr>\n",
       "    <tr>\n",
       "      <th>00/06-34-067-02W4/0</th>\n",
       "      <td>102501</td>\n",
       "      <td>00-06-34-067-02W4-0</td>\n",
       "    </tr>\n",
       "  </tbody>\n",
       "</table>\n",
       "</div>"
      ],
      "text/plain": [
       "                      SitID                 UWI_\n",
       "UWI                                             \n",
       "00/12-08-067-01W4/0  102496  00-12-08-067-01W4-0\n",
       "00/07-08-067-02W4/0  102497  00-07-08-067-02W4-0\n",
       "00/09-11-067-02W4/0  102498  00-09-11-067-02W4-0\n",
       "00/10-29-067-02W4/0  102500  00-10-29-067-02W4-0\n",
       "00/06-34-067-02W4/0  102501  00-06-34-067-02W4-0"
      ]
     },
     "execution_count": 9,
     "metadata": {},
     "output_type": "execute_result"
    }
   ],
   "source": [
    "wells.head()"
   ]
  },
  {
   "cell_type": "code",
   "execution_count": 10,
   "metadata": {},
   "outputs": [
    {
     "data": {
      "text/html": [
       "<div>\n",
       "<style>\n",
       "    .dataframe thead tr:only-child th {\n",
       "        text-align: right;\n",
       "    }\n",
       "\n",
       "    .dataframe thead th {\n",
       "        text-align: left;\n",
       "    }\n",
       "\n",
       "    .dataframe tbody tr th {\n",
       "        vertical-align: top;\n",
       "    }\n",
       "</style>\n",
       "<table border=\"1\" class=\"dataframe\">\n",
       "  <thead>\n",
       "    <tr style=\"text-align: right;\">\n",
       "      <th></th>\n",
       "      <th>SitID</th>\n",
       "      <th>HorID</th>\n",
       "      <th>lng</th>\n",
       "      <th>lat</th>\n",
       "      <th>SitID1</th>\n",
       "      <th>SitID2</th>\n",
       "      <th>SitID3</th>\n",
       "      <th>SitID4</th>\n",
       "      <th>SitID5</th>\n",
       "      <th>SitID6</th>\n",
       "      <th>...</th>\n",
       "      <th>SitID11</th>\n",
       "      <th>SitID12</th>\n",
       "      <th>SitID13</th>\n",
       "      <th>SitID14</th>\n",
       "      <th>SitID15</th>\n",
       "      <th>SitID16</th>\n",
       "      <th>SitID17</th>\n",
       "      <th>SitID18</th>\n",
       "      <th>SitID19</th>\n",
       "      <th>SitID20</th>\n",
       "    </tr>\n",
       "  </thead>\n",
       "  <tbody>\n",
       "    <tr>\n",
       "      <th>0</th>\n",
       "      <td>142218</td>\n",
       "      <td>1000</td>\n",
       "      <td>-114.620656</td>\n",
       "      <td>55.288691</td>\n",
       "      <td>142140</td>\n",
       "      <td>108294</td>\n",
       "      <td>108229</td>\n",
       "      <td>108245</td>\n",
       "      <td>163925</td>\n",
       "      <td>163923</td>\n",
       "      <td>...</td>\n",
       "      <td>108236</td>\n",
       "      <td>142123</td>\n",
       "      <td>107548</td>\n",
       "      <td>107467</td>\n",
       "      <td>108911</td>\n",
       "      <td>108889</td>\n",
       "      <td>108915</td>\n",
       "      <td>107456</td>\n",
       "      <td>183487</td>\n",
       "      <td>106840</td>\n",
       "    </tr>\n",
       "    <tr>\n",
       "      <th>1</th>\n",
       "      <td>142218</td>\n",
       "      <td>4000</td>\n",
       "      <td>-114.620656</td>\n",
       "      <td>55.288691</td>\n",
       "      <td>142140</td>\n",
       "      <td>108225</td>\n",
       "      <td>108294</td>\n",
       "      <td>108229</td>\n",
       "      <td>108245</td>\n",
       "      <td>163925</td>\n",
       "      <td>...</td>\n",
       "      <td>108236</td>\n",
       "      <td>142123</td>\n",
       "      <td>107548</td>\n",
       "      <td>107467</td>\n",
       "      <td>108911</td>\n",
       "      <td>108889</td>\n",
       "      <td>108915</td>\n",
       "      <td>107456</td>\n",
       "      <td>183487</td>\n",
       "      <td>106840</td>\n",
       "    </tr>\n",
       "    <tr>\n",
       "      <th>2</th>\n",
       "      <td>142218</td>\n",
       "      <td>5000</td>\n",
       "      <td>-114.620656</td>\n",
       "      <td>55.288691</td>\n",
       "      <td>142140</td>\n",
       "      <td>108225</td>\n",
       "      <td>108294</td>\n",
       "      <td>108229</td>\n",
       "      <td>108245</td>\n",
       "      <td>163925</td>\n",
       "      <td>...</td>\n",
       "      <td>106841</td>\n",
       "      <td>108236</td>\n",
       "      <td>142123</td>\n",
       "      <td>107467</td>\n",
       "      <td>108911</td>\n",
       "      <td>108889</td>\n",
       "      <td>108915</td>\n",
       "      <td>107456</td>\n",
       "      <td>183487</td>\n",
       "      <td>106840</td>\n",
       "    </tr>\n",
       "    <tr>\n",
       "      <th>3</th>\n",
       "      <td>142218</td>\n",
       "      <td>7000</td>\n",
       "      <td>-114.620656</td>\n",
       "      <td>55.288691</td>\n",
       "      <td>142140</td>\n",
       "      <td>108225</td>\n",
       "      <td>108294</td>\n",
       "      <td>108229</td>\n",
       "      <td>108245</td>\n",
       "      <td>163925</td>\n",
       "      <td>...</td>\n",
       "      <td>106841</td>\n",
       "      <td>108236</td>\n",
       "      <td>142123</td>\n",
       "      <td>107548</td>\n",
       "      <td>107467</td>\n",
       "      <td>108911</td>\n",
       "      <td>108889</td>\n",
       "      <td>108915</td>\n",
       "      <td>107456</td>\n",
       "      <td>183487</td>\n",
       "    </tr>\n",
       "    <tr>\n",
       "      <th>4</th>\n",
       "      <td>142218</td>\n",
       "      <td>11000</td>\n",
       "      <td>-114.620656</td>\n",
       "      <td>55.288691</td>\n",
       "      <td>108225</td>\n",
       "      <td>108294</td>\n",
       "      <td>108229</td>\n",
       "      <td>163925</td>\n",
       "      <td>163923</td>\n",
       "      <td>108306</td>\n",
       "      <td>...</td>\n",
       "      <td>105987</td>\n",
       "      <td>105984</td>\n",
       "      <td>108207</td>\n",
       "      <td>109402</td>\n",
       "      <td>107468</td>\n",
       "      <td>108206</td>\n",
       "      <td>108872</td>\n",
       "      <td>105963</td>\n",
       "      <td>110057</td>\n",
       "      <td>178196</td>\n",
       "    </tr>\n",
       "  </tbody>\n",
       "</table>\n",
       "<p>5 rows × 24 columns</p>\n",
       "</div>"
      ],
      "text/plain": [
       "    SitID  HorID         lng        lat  SitID1  SitID2  SitID3  SitID4  \\\n",
       "0  142218   1000 -114.620656  55.288691  142140  108294  108229  108245   \n",
       "1  142218   4000 -114.620656  55.288691  142140  108225  108294  108229   \n",
       "2  142218   5000 -114.620656  55.288691  142140  108225  108294  108229   \n",
       "3  142218   7000 -114.620656  55.288691  142140  108225  108294  108229   \n",
       "4  142218  11000 -114.620656  55.288691  108225  108294  108229  163925   \n",
       "\n",
       "   SitID5  SitID6   ...     SitID11  SitID12  SitID13  SitID14  SitID15  \\\n",
       "0  163925  163923   ...      108236   142123   107548   107467   108911   \n",
       "1  108245  163925   ...      108236   142123   107548   107467   108911   \n",
       "2  108245  163925   ...      106841   108236   142123   107467   108911   \n",
       "3  108245  163925   ...      106841   108236   142123   107548   107467   \n",
       "4  163923  108306   ...      105987   105984   108207   109402   107468   \n",
       "\n",
       "   SitID16  SitID17  SitID18  SitID19  SitID20  \n",
       "0   108889   108915   107456   183487   106840  \n",
       "1   108889   108915   107456   183487   106840  \n",
       "2   108889   108915   107456   183487   106840  \n",
       "3   108911   108889   108915   107456   183487  \n",
       "4   108206   108872   105963   110057   178196  \n",
       "\n",
       "[5 rows x 24 columns]"
      ]
     },
     "execution_count": 10,
     "metadata": {},
     "output_type": "execute_result"
    }
   ],
   "source": [
    "ds = pd.read_csv(filepath_or_buffer=home_path + \"/ds_extnd.csv\")\n",
    "ds.head()"
   ]
  },
  {
   "cell_type": "code",
   "execution_count": 11,
   "metadata": {},
   "outputs": [
    {
     "data": {
      "text/plain": [
       "array(['00/12-08-067-01W4/0'], dtype=object)"
      ]
     },
     "execution_count": 11,
     "metadata": {},
     "output_type": "execute_result"
    }
   ],
   "source": [
    "wells.query('SitID == 102496').index.values"
   ]
  },
  {
   "cell_type": "code",
   "execution_count": 12,
   "metadata": {},
   "outputs": [
    {
     "data": {
      "text/html": [
       "<div>\n",
       "<style>\n",
       "    .dataframe thead tr:only-child th {\n",
       "        text-align: right;\n",
       "    }\n",
       "\n",
       "    .dataframe thead th {\n",
       "        text-align: left;\n",
       "    }\n",
       "\n",
       "    .dataframe tbody tr th {\n",
       "        vertical-align: top;\n",
       "    }\n",
       "</style>\n",
       "<table border=\"1\" class=\"dataframe\">\n",
       "  <thead>\n",
       "    <tr style=\"text-align: right;\">\n",
       "      <th></th>\n",
       "      <th>SitID</th>\n",
       "      <th>HorID</th>\n",
       "      <th>lng</th>\n",
       "      <th>lat</th>\n",
       "      <th>SitID1</th>\n",
       "      <th>SitID2</th>\n",
       "      <th>SitID3</th>\n",
       "      <th>SitID4</th>\n",
       "      <th>SitID5</th>\n",
       "      <th>SitID6</th>\n",
       "      <th>...</th>\n",
       "      <th>SitID11</th>\n",
       "      <th>SitID12</th>\n",
       "      <th>SitID13</th>\n",
       "      <th>SitID14</th>\n",
       "      <th>SitID15</th>\n",
       "      <th>SitID16</th>\n",
       "      <th>SitID17</th>\n",
       "      <th>SitID18</th>\n",
       "      <th>SitID19</th>\n",
       "      <th>SitID20</th>\n",
       "    </tr>\n",
       "  </thead>\n",
       "  <tbody>\n",
       "    <tr>\n",
       "      <th>7036</th>\n",
       "      <td>102496</td>\n",
       "      <td>1000</td>\n",
       "      <td>-110.12932</td>\n",
       "      <td>54.785907</td>\n",
       "      <td>102498</td>\n",
       "      <td>103698</td>\n",
       "      <td>103700</td>\n",
       "      <td>102501</td>\n",
       "      <td>102497</td>\n",
       "      <td>103703</td>\n",
       "      <td>...</td>\n",
       "      <td>102507</td>\n",
       "      <td>103710</td>\n",
       "      <td>153271</td>\n",
       "      <td>102514</td>\n",
       "      <td>102503</td>\n",
       "      <td>103711</td>\n",
       "      <td>102505</td>\n",
       "      <td>103707</td>\n",
       "      <td>103713</td>\n",
       "      <td>153272</td>\n",
       "    </tr>\n",
       "    <tr>\n",
       "      <th>7037</th>\n",
       "      <td>102496</td>\n",
       "      <td>5000</td>\n",
       "      <td>-110.12932</td>\n",
       "      <td>54.785907</td>\n",
       "      <td>102498</td>\n",
       "      <td>103698</td>\n",
       "      <td>103700</td>\n",
       "      <td>102501</td>\n",
       "      <td>102497</td>\n",
       "      <td>103703</td>\n",
       "      <td>...</td>\n",
       "      <td>102507</td>\n",
       "      <td>103710</td>\n",
       "      <td>153271</td>\n",
       "      <td>102514</td>\n",
       "      <td>102503</td>\n",
       "      <td>103711</td>\n",
       "      <td>102505</td>\n",
       "      <td>103707</td>\n",
       "      <td>103713</td>\n",
       "      <td>153272</td>\n",
       "    </tr>\n",
       "    <tr>\n",
       "      <th>7038</th>\n",
       "      <td>102496</td>\n",
       "      <td>7000</td>\n",
       "      <td>-110.12932</td>\n",
       "      <td>54.785907</td>\n",
       "      <td>102498</td>\n",
       "      <td>103698</td>\n",
       "      <td>103700</td>\n",
       "      <td>102501</td>\n",
       "      <td>102497</td>\n",
       "      <td>103703</td>\n",
       "      <td>...</td>\n",
       "      <td>102507</td>\n",
       "      <td>103710</td>\n",
       "      <td>153271</td>\n",
       "      <td>102514</td>\n",
       "      <td>102503</td>\n",
       "      <td>103711</td>\n",
       "      <td>102505</td>\n",
       "      <td>103707</td>\n",
       "      <td>103713</td>\n",
       "      <td>153272</td>\n",
       "    </tr>\n",
       "    <tr>\n",
       "      <th>7039</th>\n",
       "      <td>102496</td>\n",
       "      <td>9000</td>\n",
       "      <td>-110.12932</td>\n",
       "      <td>54.785907</td>\n",
       "      <td>102498</td>\n",
       "      <td>102501</td>\n",
       "      <td>102497</td>\n",
       "      <td>102500</td>\n",
       "      <td>103699</td>\n",
       "      <td>102517</td>\n",
       "      <td>...</td>\n",
       "      <td>102503</td>\n",
       "      <td>103711</td>\n",
       "      <td>102505</td>\n",
       "      <td>103707</td>\n",
       "      <td>103713</td>\n",
       "      <td>153272</td>\n",
       "      <td>102577</td>\n",
       "      <td>102518</td>\n",
       "      <td>103715</td>\n",
       "      <td>106445</td>\n",
       "    </tr>\n",
       "    <tr>\n",
       "      <th>7040</th>\n",
       "      <td>102496</td>\n",
       "      <td>9500</td>\n",
       "      <td>-110.12932</td>\n",
       "      <td>54.785907</td>\n",
       "      <td>102498</td>\n",
       "      <td>102501</td>\n",
       "      <td>102497</td>\n",
       "      <td>102500</td>\n",
       "      <td>103699</td>\n",
       "      <td>102517</td>\n",
       "      <td>...</td>\n",
       "      <td>102503</td>\n",
       "      <td>103711</td>\n",
       "      <td>102505</td>\n",
       "      <td>103707</td>\n",
       "      <td>103713</td>\n",
       "      <td>153272</td>\n",
       "      <td>102577</td>\n",
       "      <td>102518</td>\n",
       "      <td>103715</td>\n",
       "      <td>106445</td>\n",
       "    </tr>\n",
       "    <tr>\n",
       "      <th>7041</th>\n",
       "      <td>102496</td>\n",
       "      <td>10000</td>\n",
       "      <td>-110.12932</td>\n",
       "      <td>54.785907</td>\n",
       "      <td>102498</td>\n",
       "      <td>103698</td>\n",
       "      <td>103700</td>\n",
       "      <td>102501</td>\n",
       "      <td>102497</td>\n",
       "      <td>103703</td>\n",
       "      <td>...</td>\n",
       "      <td>102507</td>\n",
       "      <td>103710</td>\n",
       "      <td>153271</td>\n",
       "      <td>102514</td>\n",
       "      <td>102503</td>\n",
       "      <td>103711</td>\n",
       "      <td>102505</td>\n",
       "      <td>103707</td>\n",
       "      <td>103713</td>\n",
       "      <td>153272</td>\n",
       "    </tr>\n",
       "    <tr>\n",
       "      <th>7042</th>\n",
       "      <td>102496</td>\n",
       "      <td>11000</td>\n",
       "      <td>-110.12932</td>\n",
       "      <td>54.785907</td>\n",
       "      <td>102498</td>\n",
       "      <td>103698</td>\n",
       "      <td>103700</td>\n",
       "      <td>102501</td>\n",
       "      <td>102497</td>\n",
       "      <td>103703</td>\n",
       "      <td>...</td>\n",
       "      <td>102507</td>\n",
       "      <td>103710</td>\n",
       "      <td>153271</td>\n",
       "      <td>102514</td>\n",
       "      <td>102503</td>\n",
       "      <td>103711</td>\n",
       "      <td>102505</td>\n",
       "      <td>103707</td>\n",
       "      <td>103713</td>\n",
       "      <td>153272</td>\n",
       "    </tr>\n",
       "    <tr>\n",
       "      <th>7043</th>\n",
       "      <td>102496</td>\n",
       "      <td>12000</td>\n",
       "      <td>-110.12932</td>\n",
       "      <td>54.785907</td>\n",
       "      <td>102498</td>\n",
       "      <td>103698</td>\n",
       "      <td>103700</td>\n",
       "      <td>102501</td>\n",
       "      <td>102497</td>\n",
       "      <td>103703</td>\n",
       "      <td>...</td>\n",
       "      <td>102507</td>\n",
       "      <td>103710</td>\n",
       "      <td>153271</td>\n",
       "      <td>102514</td>\n",
       "      <td>102503</td>\n",
       "      <td>103711</td>\n",
       "      <td>102505</td>\n",
       "      <td>103707</td>\n",
       "      <td>103713</td>\n",
       "      <td>153272</td>\n",
       "    </tr>\n",
       "    <tr>\n",
       "      <th>7044</th>\n",
       "      <td>102496</td>\n",
       "      <td>13000</td>\n",
       "      <td>-110.12932</td>\n",
       "      <td>54.785907</td>\n",
       "      <td>102498</td>\n",
       "      <td>103698</td>\n",
       "      <td>103700</td>\n",
       "      <td>102501</td>\n",
       "      <td>102497</td>\n",
       "      <td>103703</td>\n",
       "      <td>...</td>\n",
       "      <td>102507</td>\n",
       "      <td>103710</td>\n",
       "      <td>153271</td>\n",
       "      <td>102514</td>\n",
       "      <td>102503</td>\n",
       "      <td>103711</td>\n",
       "      <td>102505</td>\n",
       "      <td>103707</td>\n",
       "      <td>103713</td>\n",
       "      <td>153272</td>\n",
       "    </tr>\n",
       "    <tr>\n",
       "      <th>7045</th>\n",
       "      <td>102496</td>\n",
       "      <td>14000</td>\n",
       "      <td>-110.12932</td>\n",
       "      <td>54.785907</td>\n",
       "      <td>102498</td>\n",
       "      <td>103698</td>\n",
       "      <td>103700</td>\n",
       "      <td>102501</td>\n",
       "      <td>102497</td>\n",
       "      <td>103703</td>\n",
       "      <td>...</td>\n",
       "      <td>102507</td>\n",
       "      <td>103710</td>\n",
       "      <td>153271</td>\n",
       "      <td>102514</td>\n",
       "      <td>102503</td>\n",
       "      <td>103711</td>\n",
       "      <td>102505</td>\n",
       "      <td>103707</td>\n",
       "      <td>103713</td>\n",
       "      <td>153272</td>\n",
       "    </tr>\n",
       "  </tbody>\n",
       "</table>\n",
       "<p>10 rows × 24 columns</p>\n",
       "</div>"
      ],
      "text/plain": [
       "       SitID  HorID        lng        lat  SitID1  SitID2  SitID3  SitID4  \\\n",
       "7036  102496   1000 -110.12932  54.785907  102498  103698  103700  102501   \n",
       "7037  102496   5000 -110.12932  54.785907  102498  103698  103700  102501   \n",
       "7038  102496   7000 -110.12932  54.785907  102498  103698  103700  102501   \n",
       "7039  102496   9000 -110.12932  54.785907  102498  102501  102497  102500   \n",
       "7040  102496   9500 -110.12932  54.785907  102498  102501  102497  102500   \n",
       "7041  102496  10000 -110.12932  54.785907  102498  103698  103700  102501   \n",
       "7042  102496  11000 -110.12932  54.785907  102498  103698  103700  102501   \n",
       "7043  102496  12000 -110.12932  54.785907  102498  103698  103700  102501   \n",
       "7044  102496  13000 -110.12932  54.785907  102498  103698  103700  102501   \n",
       "7045  102496  14000 -110.12932  54.785907  102498  103698  103700  102501   \n",
       "\n",
       "      SitID5  SitID6   ...     SitID11  SitID12  SitID13  SitID14  SitID15  \\\n",
       "7036  102497  103703   ...      102507   103710   153271   102514   102503   \n",
       "7037  102497  103703   ...      102507   103710   153271   102514   102503   \n",
       "7038  102497  103703   ...      102507   103710   153271   102514   102503   \n",
       "7039  103699  102517   ...      102503   103711   102505   103707   103713   \n",
       "7040  103699  102517   ...      102503   103711   102505   103707   103713   \n",
       "7041  102497  103703   ...      102507   103710   153271   102514   102503   \n",
       "7042  102497  103703   ...      102507   103710   153271   102514   102503   \n",
       "7043  102497  103703   ...      102507   103710   153271   102514   102503   \n",
       "7044  102497  103703   ...      102507   103710   153271   102514   102503   \n",
       "7045  102497  103703   ...      102507   103710   153271   102514   102503   \n",
       "\n",
       "      SitID16  SitID17  SitID18  SitID19  SitID20  \n",
       "7036   103711   102505   103707   103713   153272  \n",
       "7037   103711   102505   103707   103713   153272  \n",
       "7038   103711   102505   103707   103713   153272  \n",
       "7039   153272   102577   102518   103715   106445  \n",
       "7040   153272   102577   102518   103715   106445  \n",
       "7041   103711   102505   103707   103713   153272  \n",
       "7042   103711   102505   103707   103713   153272  \n",
       "7043   103711   102505   103707   103713   153272  \n",
       "7044   103711   102505   103707   103713   153272  \n",
       "7045   103711   102505   103707   103713   153272  \n",
       "\n",
       "[10 rows x 24 columns]"
      ]
     },
     "execution_count": 12,
     "metadata": {},
     "output_type": "execute_result"
    }
   ],
   "source": [
    "ds[ds.SitID == 102496]"
   ]
  },
  {
   "cell_type": "code",
   "execution_count": 13,
   "metadata": {},
   "outputs": [],
   "source": [
    "ds.SitID = ds.SitID.values.astype('int64')"
   ]
  },
  {
   "cell_type": "code",
   "execution_count": 14,
   "metadata": {},
   "outputs": [
    {
     "data": {
      "text/plain": [
       "array(['SitID', 'HorID', 'lng', 'lat', 'SitID1', 'SitID2', 'SitID3',\n",
       "       'SitID4', 'SitID5', 'SitID6', 'SitID7', 'SitID8', 'SitID9',\n",
       "       'SitID10', 'SitID11', 'SitID12', 'SitID13', 'SitID14', 'SitID15',\n",
       "       'SitID16', 'SitID17', 'SitID18', 'SitID19', 'SitID20'],\n",
       "      dtype=object)"
      ]
     },
     "execution_count": 14,
     "metadata": {},
     "output_type": "execute_result"
    }
   ],
   "source": [
    "sites_id_cols = ['SitID1', 'SitID2', 'SitID3', 'SitID4', 'SitID5', 'SitID6', 'SitID7', 'SitID8', 'SitID9', 'SitID10', \n",
    "         'SitID11', 'SitID12', 'SitID13', 'SitID14', 'SitID15', 'SitID16', 'SitID17', 'SitID18', 'SitID19', 'SitID20']\n",
    "ds[ds.SitID == 102496].columns.values"
   ]
  },
  {
   "cell_type": "code",
   "execution_count": 15,
   "metadata": {},
   "outputs": [
    {
     "data": {
      "text/html": [
       "<div>\n",
       "<style>\n",
       "    .dataframe thead tr:only-child th {\n",
       "        text-align: right;\n",
       "    }\n",
       "\n",
       "    .dataframe thead th {\n",
       "        text-align: left;\n",
       "    }\n",
       "\n",
       "    .dataframe tbody tr th {\n",
       "        vertical-align: top;\n",
       "    }\n",
       "</style>\n",
       "<table border=\"1\" class=\"dataframe\">\n",
       "  <thead>\n",
       "    <tr style=\"text-align: right;\">\n",
       "      <th></th>\n",
       "      <th>SitID1</th>\n",
       "      <th>SitID2</th>\n",
       "      <th>SitID3</th>\n",
       "      <th>SitID4</th>\n",
       "      <th>SitID5</th>\n",
       "      <th>SitID6</th>\n",
       "      <th>SitID7</th>\n",
       "      <th>SitID8</th>\n",
       "      <th>SitID9</th>\n",
       "      <th>SitID10</th>\n",
       "      <th>SitID11</th>\n",
       "      <th>SitID12</th>\n",
       "      <th>SitID13</th>\n",
       "      <th>SitID14</th>\n",
       "      <th>SitID15</th>\n",
       "      <th>SitID16</th>\n",
       "      <th>SitID17</th>\n",
       "      <th>SitID18</th>\n",
       "      <th>SitID19</th>\n",
       "      <th>SitID20</th>\n",
       "    </tr>\n",
       "  </thead>\n",
       "  <tbody>\n",
       "    <tr>\n",
       "      <th>7036</th>\n",
       "      <td>102498</td>\n",
       "      <td>103698</td>\n",
       "      <td>103700</td>\n",
       "      <td>102501</td>\n",
       "      <td>102497</td>\n",
       "      <td>103703</td>\n",
       "      <td>102500</td>\n",
       "      <td>103699</td>\n",
       "      <td>103704</td>\n",
       "      <td>102517</td>\n",
       "      <td>102507</td>\n",
       "      <td>103710</td>\n",
       "      <td>153271</td>\n",
       "      <td>102514</td>\n",
       "      <td>102503</td>\n",
       "      <td>103711</td>\n",
       "      <td>102505</td>\n",
       "      <td>103707</td>\n",
       "      <td>103713</td>\n",
       "      <td>153272</td>\n",
       "    </tr>\n",
       "    <tr>\n",
       "      <th>7037</th>\n",
       "      <td>102498</td>\n",
       "      <td>103698</td>\n",
       "      <td>103700</td>\n",
       "      <td>102501</td>\n",
       "      <td>102497</td>\n",
       "      <td>103703</td>\n",
       "      <td>102500</td>\n",
       "      <td>103699</td>\n",
       "      <td>103704</td>\n",
       "      <td>102517</td>\n",
       "      <td>102507</td>\n",
       "      <td>103710</td>\n",
       "      <td>153271</td>\n",
       "      <td>102514</td>\n",
       "      <td>102503</td>\n",
       "      <td>103711</td>\n",
       "      <td>102505</td>\n",
       "      <td>103707</td>\n",
       "      <td>103713</td>\n",
       "      <td>153272</td>\n",
       "    </tr>\n",
       "    <tr>\n",
       "      <th>7038</th>\n",
       "      <td>102498</td>\n",
       "      <td>103698</td>\n",
       "      <td>103700</td>\n",
       "      <td>102501</td>\n",
       "      <td>102497</td>\n",
       "      <td>103703</td>\n",
       "      <td>102500</td>\n",
       "      <td>103699</td>\n",
       "      <td>103704</td>\n",
       "      <td>102517</td>\n",
       "      <td>102507</td>\n",
       "      <td>103710</td>\n",
       "      <td>153271</td>\n",
       "      <td>102514</td>\n",
       "      <td>102503</td>\n",
       "      <td>103711</td>\n",
       "      <td>102505</td>\n",
       "      <td>103707</td>\n",
       "      <td>103713</td>\n",
       "      <td>153272</td>\n",
       "    </tr>\n",
       "    <tr>\n",
       "      <th>7039</th>\n",
       "      <td>102498</td>\n",
       "      <td>102501</td>\n",
       "      <td>102497</td>\n",
       "      <td>102500</td>\n",
       "      <td>103699</td>\n",
       "      <td>102517</td>\n",
       "      <td>102507</td>\n",
       "      <td>103710</td>\n",
       "      <td>153271</td>\n",
       "      <td>102514</td>\n",
       "      <td>102503</td>\n",
       "      <td>103711</td>\n",
       "      <td>102505</td>\n",
       "      <td>103707</td>\n",
       "      <td>103713</td>\n",
       "      <td>153272</td>\n",
       "      <td>102577</td>\n",
       "      <td>102518</td>\n",
       "      <td>103715</td>\n",
       "      <td>106445</td>\n",
       "    </tr>\n",
       "    <tr>\n",
       "      <th>7040</th>\n",
       "      <td>102498</td>\n",
       "      <td>102501</td>\n",
       "      <td>102497</td>\n",
       "      <td>102500</td>\n",
       "      <td>103699</td>\n",
       "      <td>102517</td>\n",
       "      <td>102507</td>\n",
       "      <td>103710</td>\n",
       "      <td>153271</td>\n",
       "      <td>102514</td>\n",
       "      <td>102503</td>\n",
       "      <td>103711</td>\n",
       "      <td>102505</td>\n",
       "      <td>103707</td>\n",
       "      <td>103713</td>\n",
       "      <td>153272</td>\n",
       "      <td>102577</td>\n",
       "      <td>102518</td>\n",
       "      <td>103715</td>\n",
       "      <td>106445</td>\n",
       "    </tr>\n",
       "    <tr>\n",
       "      <th>7041</th>\n",
       "      <td>102498</td>\n",
       "      <td>103698</td>\n",
       "      <td>103700</td>\n",
       "      <td>102501</td>\n",
       "      <td>102497</td>\n",
       "      <td>103703</td>\n",
       "      <td>102500</td>\n",
       "      <td>103699</td>\n",
       "      <td>103704</td>\n",
       "      <td>102517</td>\n",
       "      <td>102507</td>\n",
       "      <td>103710</td>\n",
       "      <td>153271</td>\n",
       "      <td>102514</td>\n",
       "      <td>102503</td>\n",
       "      <td>103711</td>\n",
       "      <td>102505</td>\n",
       "      <td>103707</td>\n",
       "      <td>103713</td>\n",
       "      <td>153272</td>\n",
       "    </tr>\n",
       "    <tr>\n",
       "      <th>7042</th>\n",
       "      <td>102498</td>\n",
       "      <td>103698</td>\n",
       "      <td>103700</td>\n",
       "      <td>102501</td>\n",
       "      <td>102497</td>\n",
       "      <td>103703</td>\n",
       "      <td>102500</td>\n",
       "      <td>103699</td>\n",
       "      <td>103704</td>\n",
       "      <td>102517</td>\n",
       "      <td>102507</td>\n",
       "      <td>103710</td>\n",
       "      <td>153271</td>\n",
       "      <td>102514</td>\n",
       "      <td>102503</td>\n",
       "      <td>103711</td>\n",
       "      <td>102505</td>\n",
       "      <td>103707</td>\n",
       "      <td>103713</td>\n",
       "      <td>153272</td>\n",
       "    </tr>\n",
       "    <tr>\n",
       "      <th>7043</th>\n",
       "      <td>102498</td>\n",
       "      <td>103698</td>\n",
       "      <td>103700</td>\n",
       "      <td>102501</td>\n",
       "      <td>102497</td>\n",
       "      <td>103703</td>\n",
       "      <td>102500</td>\n",
       "      <td>103699</td>\n",
       "      <td>103704</td>\n",
       "      <td>102517</td>\n",
       "      <td>102507</td>\n",
       "      <td>103710</td>\n",
       "      <td>153271</td>\n",
       "      <td>102514</td>\n",
       "      <td>102503</td>\n",
       "      <td>103711</td>\n",
       "      <td>102505</td>\n",
       "      <td>103707</td>\n",
       "      <td>103713</td>\n",
       "      <td>153272</td>\n",
       "    </tr>\n",
       "    <tr>\n",
       "      <th>7044</th>\n",
       "      <td>102498</td>\n",
       "      <td>103698</td>\n",
       "      <td>103700</td>\n",
       "      <td>102501</td>\n",
       "      <td>102497</td>\n",
       "      <td>103703</td>\n",
       "      <td>102500</td>\n",
       "      <td>103699</td>\n",
       "      <td>103704</td>\n",
       "      <td>102517</td>\n",
       "      <td>102507</td>\n",
       "      <td>103710</td>\n",
       "      <td>153271</td>\n",
       "      <td>102514</td>\n",
       "      <td>102503</td>\n",
       "      <td>103711</td>\n",
       "      <td>102505</td>\n",
       "      <td>103707</td>\n",
       "      <td>103713</td>\n",
       "      <td>153272</td>\n",
       "    </tr>\n",
       "    <tr>\n",
       "      <th>7045</th>\n",
       "      <td>102498</td>\n",
       "      <td>103698</td>\n",
       "      <td>103700</td>\n",
       "      <td>102501</td>\n",
       "      <td>102497</td>\n",
       "      <td>103703</td>\n",
       "      <td>102500</td>\n",
       "      <td>103699</td>\n",
       "      <td>103704</td>\n",
       "      <td>102517</td>\n",
       "      <td>102507</td>\n",
       "      <td>103710</td>\n",
       "      <td>153271</td>\n",
       "      <td>102514</td>\n",
       "      <td>102503</td>\n",
       "      <td>103711</td>\n",
       "      <td>102505</td>\n",
       "      <td>103707</td>\n",
       "      <td>103713</td>\n",
       "      <td>153272</td>\n",
       "    </tr>\n",
       "  </tbody>\n",
       "</table>\n",
       "</div>"
      ],
      "text/plain": [
       "      SitID1  SitID2  SitID3  SitID4  SitID5  SitID6  SitID7  SitID8  SitID9  \\\n",
       "7036  102498  103698  103700  102501  102497  103703  102500  103699  103704   \n",
       "7037  102498  103698  103700  102501  102497  103703  102500  103699  103704   \n",
       "7038  102498  103698  103700  102501  102497  103703  102500  103699  103704   \n",
       "7039  102498  102501  102497  102500  103699  102517  102507  103710  153271   \n",
       "7040  102498  102501  102497  102500  103699  102517  102507  103710  153271   \n",
       "7041  102498  103698  103700  102501  102497  103703  102500  103699  103704   \n",
       "7042  102498  103698  103700  102501  102497  103703  102500  103699  103704   \n",
       "7043  102498  103698  103700  102501  102497  103703  102500  103699  103704   \n",
       "7044  102498  103698  103700  102501  102497  103703  102500  103699  103704   \n",
       "7045  102498  103698  103700  102501  102497  103703  102500  103699  103704   \n",
       "\n",
       "      SitID10  SitID11  SitID12  SitID13  SitID14  SitID15  SitID16  SitID17  \\\n",
       "7036   102517   102507   103710   153271   102514   102503   103711   102505   \n",
       "7037   102517   102507   103710   153271   102514   102503   103711   102505   \n",
       "7038   102517   102507   103710   153271   102514   102503   103711   102505   \n",
       "7039   102514   102503   103711   102505   103707   103713   153272   102577   \n",
       "7040   102514   102503   103711   102505   103707   103713   153272   102577   \n",
       "7041   102517   102507   103710   153271   102514   102503   103711   102505   \n",
       "7042   102517   102507   103710   153271   102514   102503   103711   102505   \n",
       "7043   102517   102507   103710   153271   102514   102503   103711   102505   \n",
       "7044   102517   102507   103710   153271   102514   102503   103711   102505   \n",
       "7045   102517   102507   103710   153271   102514   102503   103711   102505   \n",
       "\n",
       "      SitID18  SitID19  SitID20  \n",
       "7036   103707   103713   153272  \n",
       "7037   103707   103713   153272  \n",
       "7038   103707   103713   153272  \n",
       "7039   102518   103715   106445  \n",
       "7040   102518   103715   106445  \n",
       "7041   103707   103713   153272  \n",
       "7042   103707   103713   153272  \n",
       "7043   103707   103713   153272  \n",
       "7044   103707   103713   153272  \n",
       "7045   103707   103713   153272  "
      ]
     },
     "execution_count": 15,
     "metadata": {},
     "output_type": "execute_result"
    }
   ],
   "source": [
    "pd.DataFrame(ds[ds.SitID == 102496], columns=sites_id_cols[0:])"
   ]
  },
  {
   "cell_type": "code",
   "execution_count": 17,
   "metadata": {},
   "outputs": [],
   "source": [
    "sid = 102496\n",
    "# get SitIDs of neighbor wells based on current SitID\n",
    "def get_sids(sid, sites_id_cols):\n",
    "    df = pd.DataFrame(ds[ds.SitID == sid], columns=sites_id_cols[0:])\n",
    "    l = []\n",
    "    for index, row in df.iterrows():\n",
    "        l.extend(row[sites_id_cols[0:]].values.tolist())\n",
    "    s = set(l)\n",
    "    l2 = list(s)\n",
    "    return l2"
   ]
  },
  {
   "cell_type": "code",
   "execution_count": 37,
   "metadata": {},
   "outputs": [
    {
     "name": "stdout",
     "output_type": "stream",
     "text": [
      "(<class 'list'>, [103698, 103699, 103700, 103703, 103704, 103707, 103710, 103711, 103713, 103715, 102577, 153271, 153272, 106445, 102497, 102498, 102500, 102501, 102503, 102505, 102507, 102514, 102517, 102518], 24)\n"
     ]
    }
   ],
   "source": [
    "l2 = get_sids(102496, sites_id_cols)\n",
    "print((type(l2), l2, len(l2)))"
   ]
  },
  {
   "cell_type": "code",
   "execution_count": 19,
   "metadata": {},
   "outputs": [
    {
     "data": {
      "text/plain": [
       "(array([142218, 144992, 153654], dtype=int64),\n",
       " pandas.core.frame.DataFrame,\n",
       " pandas.core.frame.DataFrame)"
      ]
     },
     "execution_count": 19,
     "metadata": {},
     "output_type": "execute_result"
    }
   ],
   "source": [
    "sitIDs = ds.SitID.unique()[:3] # set of unique SitIDs for testing\n",
    "sitIDs, type(ds), type(wells)"
   ]
  },
  {
   "cell_type": "code",
   "execution_count": 28,
   "metadata": {},
   "outputs": [],
   "source": [
    "#  welly/tutorial/Project.ipynb"
   ]
  },
  {
   "cell_type": "code",
   "execution_count": 20,
   "metadata": {},
   "outputs": [],
   "source": [
    "from welly import Project"
   ]
  },
  {
   "cell_type": "code",
   "execution_count": 21,
   "metadata": {},
   "outputs": [
    {
     "name": "stdout",
     "output_type": "stream",
     "text": [
      "scratch.las\n"
     ]
    }
   ],
   "source": [
    "!ls *.LAS"
   ]
  },
  {
   "cell_type": "code",
   "execution_count": 31,
   "metadata": {},
   "outputs": [],
   "source": [
    "# os.listdir(\"./SPE_006_originalData/OilSandsDB/Logs/\")\n",
    "# os.getcwd()"
   ]
  },
  {
   "cell_type": "code",
   "execution_count": 22,
   "metadata": {},
   "outputs": [
    {
     "name": "stderr",
     "output_type": "stream",
     "text": [
      "1595it [01:09, 22.90it/s]Header section Parameter regexp=~P was not found.\n",
      "2171it [01:30, 24.02it/s]\n"
     ]
    }
   ],
   "source": [
    "p = Project.from_las(\"./SPE_006_originalData/OilSandsDB/Logs/*.LAS\")"
   ]
  },
  {
   "cell_type": "code",
   "execution_count": 23,
   "metadata": {},
   "outputs": [
    {
     "data": {
      "text/plain": [
       "2171"
      ]
     },
     "execution_count": 23,
     "metadata": {},
     "output_type": "execute_result"
    }
   ],
   "source": [
    "len(p)"
   ]
  },
  {
   "cell_type": "code",
   "execution_count": 88,
   "metadata": {},
   "outputs": [
    {
     "data": {
      "text/html": [
       "<table><tr><th>Index</th><th>UWI</th><th>Data</th><th>Curves</th></tr><tr><td>0</td><td><strong>00/01-01-073-05W5/0</strong></td><td>5&nbsp;curves</td><td>DPHI, NPHI, GR, CALI, ILD</td></tr><tr><td>1</td><td><strong>00/01-01-095-19W4/0</strong></td><td>5&nbsp;curves</td><td>GR, CALI, NPHI, DPHI, ILD</td></tr><tr><td>2</td><td><strong>00/01-03-085-15W400</strong></td><td>4&nbsp;curves</td><td>DPHI, NPHI, GR, ILD</td></tr><tr><td>3</td><td><strong>00/01-04-075-23W4/0</strong></td><td>5&nbsp;curves</td><td>ILD, NPHI, DPHI, GR, CALI</td></tr><tr><td>4</td><td><strong>00/01-05-085-15W400</strong></td><td>4&nbsp;curves</td><td>GR, NPHI, DPHI, ILD</td></tr><tr><td>5</td><td><strong>00/01-08-080-21W4/0</strong></td><td>4&nbsp;curves</td><td>ILD, NPHI, DPHI, GR</td></tr><tr><td>6</td><td><strong>00/01-09-080-13W4/0</strong></td><td>4&nbsp;curves</td><td>GR, NPHI, DPHI, ILD</td></tr><tr><td>7</td><td><strong>00/01-10-078-26W4/0</strong></td><td>5&nbsp;curves</td><td>GR, ILD, NPHI, DPHI, CALI</td></tr><tr><td>8</td><td><strong>00/01-11-082-23W4/0</strong></td><td>5&nbsp;curves</td><td>GR, CALI, NPHI, DPHI, ILD</td></tr><tr><td>9</td><td><strong>00/01-12-079-14W4/0</strong></td><td>4&nbsp;curves</td><td>ILD, DPHI, NPHI, GR</td></tr></table>"
      ],
      "text/plain": [
       "Project(00/01-01-073-05W5/0\n",
       "00/01-01-095-19W4/0\n",
       "00/01-03-085-15W400\n",
       "00/01-04-075-23W4/0\n",
       "00/01-05-085-15W400\n",
       "00/01-08-080-21W4/0\n",
       "00/01-09-080-13W4/0\n",
       "00/01-10-078-26W4/0\n",
       "00/01-11-082-23W4/0\n",
       "00/01-12-079-14W4/0)"
      ]
     },
     "execution_count": 88,
     "metadata": {},
     "output_type": "execute_result"
    }
   ],
   "source": [
    "p[:10]"
   ]
  },
  {
   "cell_type": "code",
   "execution_count": 149,
   "metadata": {},
   "outputs": [],
   "source": [
    "def format_uwi(uwi):\n",
    "    import re\n",
    "    # Match incorrect uwi format.\n",
    "    m = re.compile(\"^(.{17})(\\d{1})(\\d{1})$\")\n",
    "    if m.match(uwi):\n",
    "        return (m.match(uwi)[1] + \"/\" + m.match(uwi)[3])\n",
    "    return(uwi)\n",
    "    "
   ]
  },
  {
   "cell_type": "code",
   "execution_count": 150,
   "metadata": {},
   "outputs": [
    {
     "data": {
      "text/plain": [
       "'00/01-01-095-19W4/0'"
      ]
     },
     "execution_count": 150,
     "metadata": {},
     "output_type": "execute_result"
    }
   ],
   "source": [
    "format_uwi(p[1].header.uwi)"
   ]
  },
  {
   "cell_type": "code",
   "execution_count": 151,
   "metadata": {},
   "outputs": [
    {
     "data": {
      "text/plain": [
       "'00/01-05-085-15W4/0'"
      ]
     },
     "execution_count": 151,
     "metadata": {},
     "output_type": "execute_result"
    }
   ],
   "source": [
    "format_uwi(p[4].header.uwi)"
   ]
  },
  {
   "cell_type": "code",
   "execution_count": 157,
   "metadata": {},
   "outputs": [],
   "source": [
    "# fix uwi's\n",
    "for i in range(len(p)):\n",
    "    try:\n",
    "        p[i].header.uwi = format_uwi(p[i].header.uwi)\n",
    "    except:\n",
    "        continue"
   ]
  },
  {
   "cell_type": "code",
   "execution_count": 161,
   "metadata": {},
   "outputs": [
    {
     "data": {
      "text/html": [
       "<table><tr><th>Index</th><th>UWI</th><th>Data</th><th>Curves</th></tr><tr><td>0</td><td><strong>00/01-01-073-05W5/0</strong></td><td>5&nbsp;curves</td><td>DPHI, NPHI, GR, CALI, ILD</td></tr><tr><td>1</td><td><strong>00/01-01-095-19W4/0</strong></td><td>5&nbsp;curves</td><td>GR, CALI, NPHI, DPHI, ILD</td></tr><tr><td>2</td><td><strong>00/01-03-085-15W4/0</strong></td><td>4&nbsp;curves</td><td>DPHI, NPHI, GR, ILD</td></tr><tr><td>3</td><td><strong>00/01-04-075-23W4/0</strong></td><td>5&nbsp;curves</td><td>ILD, NPHI, DPHI, GR, CALI</td></tr><tr><td>4</td><td><strong>00/01-05-085-15W4/0</strong></td><td>4&nbsp;curves</td><td>GR, NPHI, DPHI, ILD</td></tr><tr><td>5</td><td><strong>00/01-08-080-21W4/0</strong></td><td>4&nbsp;curves</td><td>ILD, NPHI, DPHI, GR</td></tr><tr><td>6</td><td><strong>00/01-09-080-13W4/0</strong></td><td>4&nbsp;curves</td><td>GR, NPHI, DPHI, ILD</td></tr><tr><td>7</td><td><strong>00/01-10-078-26W4/0</strong></td><td>5&nbsp;curves</td><td>GR, ILD, NPHI, DPHI, CALI</td></tr><tr><td>8</td><td><strong>00/01-11-082-23W4/0</strong></td><td>5&nbsp;curves</td><td>GR, CALI, NPHI, DPHI, ILD</td></tr><tr><td>9</td><td><strong>00/01-12-079-14W4/0</strong></td><td>4&nbsp;curves</td><td>ILD, DPHI, NPHI, GR</td></tr></table>"
      ],
      "text/plain": [
       "Project(00/01-01-073-05W5/0\n",
       "00/01-01-095-19W4/0\n",
       "00/01-03-085-15W4/0\n",
       "00/01-04-075-23W4/0\n",
       "00/01-05-085-15W4/0\n",
       "00/01-08-080-21W4/0\n",
       "00/01-09-080-13W4/0\n",
       "00/01-10-078-26W4/0\n",
       "00/01-11-082-23W4/0\n",
       "00/01-12-079-14W4/0)"
      ]
     },
     "execution_count": 161,
     "metadata": {},
     "output_type": "execute_result"
    }
   ],
   "source": [
    "p[:10]"
   ]
  },
  {
   "cell_type": "code",
   "execution_count": 25,
   "metadata": {},
   "outputs": [
    {
     "data": {
      "text/plain": [
       "(390.0, 650.25)"
      ]
     },
     "execution_count": 25,
     "metadata": {},
     "output_type": "execute_result"
    }
   ],
   "source": [
    "p[0].data['GR'].start, p[0].data['GR'].stop"
   ]
  },
  {
   "cell_type": "code",
   "execution_count": 26,
   "metadata": {},
   "outputs": [
    {
     "data": {
      "text/plain": [
       "'00/01-01-073-05W5/0'"
      ]
     },
     "execution_count": 26,
     "metadata": {},
     "output_type": "execute_result"
    }
   ],
   "source": [
    "p[0].header.uwi"
   ]
  },
  {
   "cell_type": "code",
   "execution_count": 27,
   "metadata": {},
   "outputs": [],
   "source": [
    "from striplog import Legend, Striplog\n",
    "legend = Legend.builtin('NSDOE')\n",
    "%matplotlib inline\n",
    "import matplotlib.pyplot as plt"
   ]
  },
  {
   "cell_type": "code",
   "execution_count": 28,
   "metadata": {},
   "outputs": [],
   "source": [
    "alias = {'GR': ['GR', 'GRC', 'NGT'], 'TVD': ['TD', 'TVD']}"
   ]
  },
  {
   "cell_type": "code",
   "execution_count": 107,
   "metadata": {},
   "outputs": [
    {
     "data": {
      "image/png": "[encoded data removed]",
      "text/plain": [
       "<matplotlib.figure.Figure at 0x16769745240>"
      ]
     },
     "metadata": {},
     "output_type": "display_data"
    }
   ],
   "source": [
    "# #ff0000,2.0,linear,GR\n",
    "# #006400,3.0,linear,ILD\n",
    "curve_legend_csv = \"\"\"colour,lw,xscale,curve mnemonic\n",
    "#663d00,2.0,linear,GR\n",
    "#000000,2.0,log,NPHI\n",
    "#00ff00,2.0,linear,DPHI\n",
    "#663d00,3.0,linear,ILD\n",
    "\"\"\"\n",
    "curve_legend = Legend.from_csv(text=curve_legend_csv)\n",
    "\n",
    "complete_legend = legend + curve_legend\n",
    "complete_legend[:11]\n",
    "\n",
    "fig, axs = plt.subplots(figsize=(30, 15), ncols=11)\n",
    "hx_line = [500, 340, 220, 550, 250, 350, 400, 450, 325, 400]\n",
    "\n",
    "for i, w in enumerate(p[:11]):\n",
    "    ax = axs[i]\n",
    "    gr = w.get_curve('ILD', alias=alias).to_basis(start=75, stop=675)\n",
    "    ax = gr.plot(ax=ax, legend=complete_legend)\n",
    "plt.show()"
   ]
  },
  {
   "cell_type": "code",
   "execution_count": 30,
   "metadata": {},
   "outputs": [
    {
     "data": {
      "text/plain": [
       "555.25"
      ]
     },
     "execution_count": 30,
     "metadata": {},
     "output_type": "execute_result"
    }
   ],
   "source": [
    "# type(w.get_curve('GR', alias=alias))\n",
    "# w.get_curve('ILD', alias=alias)\n",
    "gr = w.get_curve('GR', alias=alias)\n",
    "gr.stop"
   ]
  },
  {
   "cell_type": "code",
   "execution_count": 31,
   "metadata": {},
   "outputs": [
    {
     "data": {
      "text/html": [
       "<table><tr><th style=\"text-align:center;\" colspan=\"2\">GR [API]</th></tr><tr><td style=\"text-align:center;\" colspan=\"2\">325.0000 : 555.2500 : 0.2500</td></tr><tr><td><strong>run</strong></td><td>ONE</td></tr><tr><td><strong>null</strong></td><td>-999.25</td></tr><tr><td><strong>service_company</strong></td><td>SCHLUMBERGER</td></tr><tr><td><strong>date</strong></td><td>None</td></tr><tr><td><strong>code</strong></td><td>00 310 00 00</td></tr><tr><td><strong>description</strong></td><td>GR           - GAMMA RAY</td></tr><tr><th style=\"border-top: 2px solid #000; text-align:center;\" colspan=\"2\"><strong>Stats</strong></th></tr><tr><td><strong>samples (NaNs)</strong></td><td>921 (0)</td></tr><tr><td><strong><sub>min</sub> mean <sup>max</sup></strong></td><td><sub>12.87</sub> 69.478 <sup>136.57</sup></td></tr><tr><th style=\"border-top: 2px solid #000;\">Depth</th><th style=\"border-top: 2px solid #000;\">Value</th></tr><tr><td>325.0000</td><td>101.1490</td></tr><tr><td>325.2500</td><td>89.5960</td></tr><tr><td>325.5000</td><td>82.9160</td></tr><tr><td>⋮</td><td>⋮</td></tr><tr><td>554.5000</td><td>67.0900</td></tr><tr><td>554.7500</td><td>78.6880</td></tr><tr><td>555.0000</td><td>85.4180</td></tr></table>"
      ],
      "text/plain": [
       "Curve([101.149,  89.596,  82.916,  80.507,  86.007,  93.95 ,  97.018,\n",
       "        93.994,  82.441,  75.152,  67.863,  64.839,  81.926,  77.678,\n",
       "        69.171,  72.24 ,  84.453,  71.675,  52.816,  60.144,  72.357,\n",
       "        84.564,  85.811,  85.828,  91.339,  89.533,  95.034,  97.493,\n",
       "        90.813,  85.967,  90.858, 101.853, 100.047,  93.977,  86.079,\n",
       "        87.929,  95.263,  93.457,  86.174,  82.535,  75.855,  66.744,\n",
       "        63.715,  43.626,  33.29 ,  23.57 ,  22.983,  35.8  ,  54.71 ,\n",
       "        70.573,  79.125, 109.616, 102.327,  88.946,  81.048,  79.851,\n",
       "        85.966,  95.737, 102.461, 100.052,  98.247, 107.402, 115.351,\n",
       "       117.81 , 120.884, 122.729, 123.97 , 120.337, 109.392, 110.024,\n",
       "       114.311, 112.505, 107.654, 101.583,  96.128,  97.369,  95.563,\n",
       "        91.936,  90.728,  88.928,  90.773,  92.014,  89.605,  87.793,\n",
       "        84.775,  84.183,  87.861,  90.326,  82.422, 102.555, 116.591,\n",
       "       114.176,  94.093,  87.413,  78.296,  69.185,  72.858,  77.754,\n",
       "        78.995,  75.367,  80.264,  85.155,  89.448,  87.642,  87.664,\n",
       "        92.561, 101.113, 107.837, 115.78 , 121.895, 128.619, 136.568,\n",
       "       129.273, 101.878,  81.795,  79.99 ,  86.105,  96.484, 100.772,\n",
       "       103.846, 106.305, 111.202, 117.317, 119.782, 113.096, 100.324,\n",
       "        93.65 ,  90.621,  86.384,  81.532,  79.721,  76.093,  77.329,\n",
       "        81.616,  88.949,  91.409,  85.948,  79.268,  78.681,  84.187,\n",
       "        91.52 ,  84.237,  90.961,  84.276,  71.504,  73.963,  84.958,\n",
       "        84.986,  83.79 ,  81.369,  78.345,  86.897,  92.409,  88.77 ,\n",
       "        84.533,  90.033,  93.102,  98.607, 104.728, 110.234, 116.958,\n",
       "        95.047,  62.772,  34.159,  28.089,  27.508,  28.145,  29.374,\n",
       "        33.662,  39.167,  44.069,  47.742,  44.108,  41.084,  39.285,\n",
       "        39.307,  39.938,  39.961,  39.38 ,  40.011,  41.252,  42.487,\n",
       "        44.952,  46.802,  49.267,  50.497,  53.571,  48.714,  49.346,\n",
       "        49.977,  45.734,  42.711,  47.613,  52.509,  56.187,  58.646,\n",
       "        63.548,  70.267,  66.639,  69.703,  74.599,  70.356,  71.603,\n",
       "        67.964,  57.025,  66.796,  77.176,  82.072,  74.783,  65.057,\n",
       "        63.257,  63.883,  66.348,  65.761,  60.295,  53.615,  49.987,\n",
       "        55.488,  59.775,  65.281,  60.429,  52.531,  46.46 ,  41.005,\n",
       "        40.423,  41.044,  41.681,  42.313,  44.168,  47.846,  47.869,\n",
       "        41.189,  39.384,  39.4  ,  40.038,  40.669,  41.91 ,  43.157,\n",
       "        43.168,  43.19 ,  41.385,  36.533,  31.686,  30.49 ,  31.726,\n",
       "        37.841,  45.783,  59.215,  59.847,  47.086,  50.143,  55.649,\n",
       "        61.155,  63.614,  65.464,  59.394,  63.077,  67.968,  75.916,\n",
       "        83.256,  79.617,  69.891,  67.476,  61.411,  56.554,  51.093,\n",
       "        51.73 ,  54.184,  61.517,  66.414,  56.688,  51.227,  51.858,\n",
       "        58.583,  57.996,  56.805,  61.087,  62.333,  47.118,  46.532,\n",
       "        48.991,  53.278,  61.836,  73.434,  80.158,  90.538,  92.998,\n",
       "        65.603,  61.975,  82.098,  92.483,  91.287,  82.785,  80.974,\n",
       "        77.95 ,  79.8  , 109.677, 121.884, 124.344, 107.916,  94.534,\n",
       "        79.325,  76.301,  81.198,  86.094,  91.6  ,  95.278, 102.007,\n",
       "       105.685, 105.098,  91.108,  83.819,  79.576,  75.334,  75.367,\n",
       "        77.821,  78.447,  78.469,  78.492,  80.347,  82.812,  83.433,\n",
       "        84.674,  82.259,  78.022,  72.555,  75.015,  79.917,  83.589,\n",
       "        82.404,  78.156,  73.913,  70.286,  67.267,  65.451,  62.427,\n",
       "        56.966,  55.775,  59.453,  63.735,  69.24 ,  75.361,  72.952,\n",
       "        71.744,  62.628,  66.915,  76.076,  70.615,  58.452,  49.945,\n",
       "        53.623,  62.175,  81.09 ,  94.516,  98.194,  92.124,  81.179,\n",
       "        76.942,  73.303,  69.676,  71.52 ,  80.682,  85.584,  83.778,\n",
       "        80.76 ,  78.34 ,  80.19 ,  85.695,  84.499,  77.825,  72.973,\n",
       "        72.99 ,  77.283,  77.3  ,  73.063,  76.746,  77.976,  76.78 ,\n",
       "        70.111,  74.387,  81.112,  78.697,  89.082,  94.588,  95.834,\n",
       "        92.196,  74.544,  60.553,  54.483,  67.305,  60.62 ,  63.694,\n",
       "        74.074,  85.672, 102.754,  71.704,  66.852,  79.669,  85.175,\n",
       "        88.858,  68.16 ,  62.09 ,  54.801,  54.823,  60.944,  57.31 ,\n",
       "        52.453,  45.773,  39.094,  36.679,  37.316,  68.411,  77.573,\n",
       "        86.734,  96.504,  62.413,  60.608,  60.625,  64.308,  68.59 ,\n",
       "        73.486,  72.899,  74.14 ,  69.288,  65.046,  65.068,  66.32 ,\n",
       "        69.383,  73.067,  76.13 ,  82.854,  87.756,  90.21 ,  89.629,\n",
       "        89.651,  92.72 ,  97.616,  91.54 ,  81.82 ,  83.055,  92.222,\n",
       "        98.946,  92.882,  90.461,  89.874,  91.115,  90.528,  88.723,\n",
       "        88.751,  88.773,  90.014,  90.036,  88.846,  88.857,  88.879,\n",
       "        88.901,  87.102,  84.692,  82.272,  84.128,  89.019,  95.743,\n",
       "        96.374,  86.649,  80.578,  78.778,  84.888,  91.003,  92.244,\n",
       "        91.053,  92.288,  92.925,  93.557,  91.752,  88.118,  83.87 ,\n",
       "        80.237,  79.65 ,  88.208,  97.375, 102.265, 107.771, 105.971,\n",
       "       101.12 ,  97.481,  91.416,  87.777,  83.535,  90.259, 100.029,\n",
       "       100.052,  94.591,  84.87 ,  86.721,  90.398,  95.295,  92.88 ,\n",
       "        81.936,  74.038,  78.94 ,  84.44 ,  92.992, 100.935, 101.566,\n",
       "        96.105,  86.379,  82.148,  79.728,  73.652,  48.7  ,  47.503,\n",
       "        50.572,  54.25 ,  59.147,  60.387,  62.841,  82.975,  89.095,\n",
       "        81.192,  66.592,  75.144,  92.835,  67.877,  55.714,  61.22 ,\n",
       "        89.878, 100.258,  92.359,  83.243,  77.782,  72.93 ,  68.078,\n",
       "        75.412,  79.09 ,  74.853,  71.214,  63.321,  63.947,  66.412,\n",
       "        71.314,  74.987,  82.32 ,  89.654,  95.774,  90.917,  78.145,\n",
       "        71.465,  65.395,  72.728,  78.843,  81.303,  85.595,  87.446,\n",
       "        88.686,  89.318,  86.903,  77.177,  75.372,  79.05 ,  84.555,\n",
       "        87.624,  85.819,  85.847,  87.093,  87.104,  87.736,  88.982,\n",
       "        90.223,  92.073,  94.538,  95.779,  95.192,  95.824,  95.846,\n",
       "        94.644,  92.844,  91.033,  88.619,  88.032,  92.325,  95.388,\n",
       "        94.801,  91.173,  91.195,  91.832,  92.464,  89.44 ,  88.244,\n",
       "        88.876,  88.898,  87.087,  81.631,  76.165,  73.146,  79.865,\n",
       "        85.376,  78.082,  72.621,  77.523,  81.195,  86.701,  89.16 ,\n",
       "        94.057, 103.833, 113.603, 109.97 , 100.244,  95.392,  97.858,\n",
       "       100.311, 104.604, 107.667, 105.252,  89.434,  84.588,  88.26 ,\n",
       "        91.944,  88.919,  87.108,  84.699,  84.107,  84.738,  86.594,\n",
       "        87.226,  83.587,  81.787,  84.867,  85.487,  87.337,  87.969,\n",
       "        87.388,  85.588,  84.38 ,  81.966,  81.379,  83.234,  86.303,\n",
       "        89.981,  91.222,  91.244,  93.704,  97.382,  94.358,  88.896,\n",
       "        86.482,  85.285,  86.526,  88.986,  91.445,  90.858,  87.834,\n",
       "        82.982,  78.131,  92.775, 100.718, 101.35 ,  98.935,  91.037,\n",
       "        86.8  ,  84.38 ,  86.23 ,  95.402,  92.373,  85.693,  80.238,\n",
       "        79.645,  98.555, 131.483, 133.333, 108.37 ,  89.505,  84.055,\n",
       "        86.509,  92.618,  98.739,  97.537,  96.95 , 107.945, 106.139,\n",
       "        99.46 ,  89.125,  89.153,  90.997,  91.031,  91.657,  92.283,\n",
       "        94.133,  95.374,  96.626,  96.637,  97.883,  97.906,  96.1  ,\n",
       "        95.513,  93.093,  79.711,  65.721,  64.524,  79.778,  93.819,\n",
       "        77.386,  49.382,  29.908,  20.791,  20.204,  24.497,  26.951,\n",
       "        30.634,  31.26 ,  31.892,  31.914,  31.327,  32.568,  38.08 ,\n",
       "        52.115,  65.541,  40.584,  30.858,  35.754,  51.008,  60.169,\n",
       "        67.503,  62.042,  46.223,  37.107,  26.162,  21.92 ,  18.292,\n",
       "        15.872,  14.066,  12.87 ,  13.507,  16.57 ,  20.248,  23.932,\n",
       "        27.   ,  30.678,  41.058,  47.179,  49.638,  54.529,  60.65 ,\n",
       "        63.109,  66.787,  67.424,  62.567,  54.669,  36.407,  55.322,\n",
       "        83.371,  76.692,  61.482,  45.664,  26.799,  30.477,  34.764,\n",
       "        34.792,  34.21 ,  33.612,  33.025,  32.438,  33.685,  34.311,\n",
       "        36.161,  40.448,  41.689,  36.837,  32.595,  26.53 ,  24.11 ,\n",
       "        22.304,  20.504,  19.923,  19.945,  21.795,  23.036,  24.277,\n",
       "        26.133,  27.972,  35.915,  59.704,  74.349,  79.245,  78.049,\n",
       "        72.588,  64.69 ,  58.01 ,  59.86 ,  55.618,  46.507,  44.701,\n",
       "        34.97 ,  22.807,  22.22 ,  25.903,  30.794,  35.691,  29.62 ,\n",
       "        24.165,  22.969,  21.772,  24.835,  28.513,  33.41 ,  34.656,\n",
       "        31.632,  29.212,  28.636,  28.653,  29.894,  29.916,  28.72 ,\n",
       "        27.524,  25.109,  22.7  ,  20.285,  19.089,  19.721,  21.571,\n",
       "        24.03 ,  25.88 ,  24.684,  23.482,  21.073,  19.877,  19.894,\n",
       "        22.353,  26.042,  28.496,  30.346,  30.978,  31.   ,  29.804,\n",
       "        28.613,  29.854,  33.526,  39.032,  35.399,  30.547,  26.305,\n",
       "        23.286,  20.877,  20.279,  19.083,  17.892,  16.69 ,  16.109,\n",
       "        16.142,  16.154,  16.181,  16.204,  16.221,  16.243,  15.662,\n",
       "        15.684,  15.701,  15.729,  16.355,  17.607,  18.233,  20.088,\n",
       "        20.709,  24.387,  84.732, 100.601, 110.371,  98.818,  75.682,\n",
       "        20.876,  22.721,  27.008,  34.951,  36.192,  41.088,  60.003,\n",
       "        65.509,  69.187,  74.083,  65.576,  46.711,  30.283,  30.915,\n",
       "        39.467,  44.973,  45.604,  44.408,  27.98 ,  27.393,  29.243,\n",
       "        31.093,  31.725,  29.925,  28.114,  24.481,  23.899,  23.922,\n",
       "        24.553,  25.185,  28.254,  48.991,  68.51 ,  76.453,  65.508,\n",
       "        47.867,  44.838,  38.767,  34.531,  34.547,  35.179,  38.248,\n",
       "        44.368,  49.259,  65.128,  73.071,  54.815,  52.4  ,  53.641,\n",
       "        57.319,  67.09 ,  78.688,  85.418])"
      ]
     },
     "execution_count": 31,
     "metadata": {},
     "output_type": "execute_result"
    }
   ],
   "source": [
    "w.get_curve('GR', alias=alias)"
   ]
  },
  {
   "cell_type": "code",
   "execution_count": 124,
   "metadata": {},
   "outputs": [
    {
     "name": "stdout",
     "output_type": "stream",
     "text": [
      "[142218, 144992, 153654]\n",
      "00-12-08-067-01W4-0\n"
     ]
    }
   ],
   "source": [
    "tracks = ['TVD'] + ['GR']#, 'ILD', 'NPHI', 'DPHI'] #+ ['CALI']\n",
    "tracks_n = ['GR']\n",
    "\n",
    "sitIDs = [142218, 144992, 153654]\n",
    "print(sitIDs[:])\n",
    "tw = wells[:10]\n",
    "print(tw[['SitID', 'UWI']].iloc[0][1])\n",
    "tw\n",
    "# print([[x.UWI] for x in wells if x.SitID in sisIDs])\n",
    "# [[w.upper(), w.lower(), len(w)] for w in words]\n",
    "\n",
    "for x in wells:\n",
    "    pass"
   ]
  },
  {
   "cell_type": "code",
   "execution_count": 32,
   "metadata": {},
   "outputs": [],
   "source": [
    "    \n",
    "#     w = Well.from_las('./SPE_006_originalData/OilSandsDB/Logs/' + wells[wells.SitID == sid].UWI + '.LAS')\n",
    "#     track_plots = []\n",
    "#     track_plots.append(r.plot(tracks=tracks))\n",
    "#     r = Well.from_las('./SPE_006_originalData/OilSandsDB/Logs/' + [wells.iloc[i].SitID] + '.LAS')\n",
    "\n",
    "\n",
    "\n",
    "# r.plot(tracks=tracks)\n",
    "\n",
    "\n",
    "# fig = plt.figure()\n",
    "# fig.subplots_adjust()\n",
    "# for i in range(1, 11):\n",
    "#     r.plot(tracks=tracks)\n",
    "#     ax = fig.add_subplot(2, 5, i)\n",
    "\n",
    "\n",
    "# print(i, (wells.iloc[i].UWI, wells.iloc[i].SitID))\n",
    "# l2 = get_sids(wells.iloc[i].SitID, sites_id_cols)\n",
    "# print(l2)\n",
    "\n",
    "\n",
    "# i = 0\n",
    "# r = Well.from_las('./SPE_006_originalData/OilSandsDB/Logs/' + wells.iloc[i].UWI + '.LAS')\n",
    "# r.plot(tracks=tracks)\n",
    "# offset_col = 3\n",
    "# r.data['GR'].plot_2d(cmap='viridis')"
   ]
  },
  {
   "cell_type": "code",
   "execution_count": null,
   "metadata": {},
   "outputs": [],
   "source": [
    "# import csv\n",
    "# # fname = env['HOME'] + '/Dropbox/dev/recipes/data/Nova_Scotia_wells_2015.csv'\n",
    "# fname = './SPE_006_originalData/OilSandsDB/Logs/'\n",
    "# reader = csv.DictReader(open(fname))"
   ]
  },
  {
   "cell_type": "code",
   "execution_count": null,
   "metadata": {},
   "outputs": [],
   "source": [
    "# import fiona\n",
    "# Install a pip package in the current Jupyter kernel\n",
    "# import sys\n",
    "# !{sys.executable} -m pip install xgboost.sklearn --user"
   ]
  },
  {
   "cell_type": "code",
   "execution_count": null,
   "metadata": {},
   "outputs": [],
   "source": [
    "# import sys\n",
    "# !conda install --yes --prefix {sys.prefix} xgboost"
   ]
  },
  {
   "cell_type": "code",
   "execution_count": 13,
   "metadata": {},
   "outputs": [
    {
     "name": "stdout",
     "output_type": "stream",
     "text": [
      "(0, 598, [142218, 142218])\n",
      "(1, 598, [142218, 142218])\n",
      "(2, 598, [142218, 142218])\n",
      "(3, 598, [142218, 142218])\n",
      "(4, 598, [142218, 142218])\n",
      "(5, 598, [142218, 142218])\n",
      "(6, 598, [142218, 142218])\n",
      "(7, 598, [142218, 142218])\n",
      "(8, 2041, [144992, 144992])\n",
      "(9, 2041, [144992, 144992])\n",
      "(10, 2041, [144992, 144992])\n",
      "(11, 2041, [144992, 144992])\n",
      "(12, 2041, [144992, 144992])\n",
      "(13, 2041, [144992, 144992])\n",
      "(14, 765, [153654, 153654])\n",
      "(15, 765, [153654, 153654])\n",
      "(16, 765, [153654, 153654])\n",
      "(17, 765, [153654, 153654])\n",
      "(18, 765, [153654, 153654])\n",
      "(19, 765, [153654, 153654])\n",
      "(20, 765, [153654, 153654])\n",
      "(21, 765, [153654, 153654])\n",
      "(22, 765, [153654, 153654])\n",
      "(23, 765, [153654, 153654])\n",
      "(24, 765, [153654, 153654])\n"
     ]
    }
   ],
   "source": [
    "for i in range(25): #len(ds)\n",
    "    for j in range(2050): #len(wells)\n",
    "        if (ds.iloc[i].SitID.astype(int) == wells.iloc[j].SitID):\n",
    "            print((i, j, [ds.iloc[i].SitID.astype(int), wells.iloc[j].SitID]))"
   ]
  },
  {
   "cell_type": "code",
   "execution_count": null,
   "metadata": {},
   "outputs": [],
   "source": [
    "\n",
    "# print(len(mask))\n",
    "# print(len(ds))\n",
    "# print(len(wells))\n",
    "#     if is not (mask):\n",
    "#         print((j, mask))\n",
    "\n",
    "# [ds.iloc[0].SitID == wells.iloc[1].SitID]\n",
    "\n",
    "\n",
    "#     print(mask)\n",
    "#     print(ds[ds[mask], offset_col + j])\n",
    "#     f = ds[ds[mask], [offset_col + j]]\n",
    "#     print(f)\n",
    "#     r = Well.from_las('./SPE_006_originalData/OilSandsDB/Logs/' + f + '.LAS')\n",
    "#     r.plot(tracks=tracks['GR'])"
   ]
  },
  {
   "cell_type": "code",
   "execution_count": null,
   "metadata": {},
   "outputs": [],
   "source": [
    "# Install a pip package in the current Jupyter kernel\n",
    "import sys\n",
    "!{sys.executable} -m pip install cairosvg --user"
   ]
  }
 ],
 "metadata": {
  "kernelspec": {
   "display_name": "Python 3",
   "language": "python",
   "name": "python3"
  },
  "language_info": {
   "codemirror_mode": {
    "name": "ipython",
    "version": 3
   },
   "file_extension": ".py",
   "mimetype": "text/x-python",
   "name": "python",
   "nbconvert_exporter": "python",
   "pygments_lexer": "ipython3",
   "version": "3.6.3"
  }
 },
 "nbformat": 4,
 "nbformat_minor": 2
}
