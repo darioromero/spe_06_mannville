{
 "cells": [
  {
   "cell_type": "code",
   "execution_count": null,
   "metadata": {},
   "outputs": [],
   "source": [
    "# concatenate results for 20 knn of interest per well\n",
    "\n",
    "# read file 'left' of the join\n",
    "file_path <- \"../neighbors/\"\n",
    "file_extn <- \".csv\"\n",
    "file_name <- \"neighbors_10aroundPlus3Near_20toModelingNoSitID\"\n",
    "\n",
    "# subset of data of interest\n",
    "ds_left <- get_dataset(file_path, file_name, file_extn)"
   ]
  },
  {
   "cell_type": "code",
   "execution_count": null,
   "metadata": {},
   "outputs": [],
   "source": [
    "# read file 'right' of the join\n",
    "file_path <- \"../\"\n",
    "file_extn <- \".csv\"\n",
    "file_name <- \"10aroundPlus3Near_toModeling\"\n",
    "\n",
    "# subset of data of interest\n",
    "ds_right <- get_dataset(file_path, file_name, file_extn) %>% \n",
    "  select(SitID, HorID, lng, lat) %>% filter(complete.cases(.))"
   ]
  },
  {
   "cell_type": "code",
   "execution_count": null,
   "metadata": {},
   "outputs": [],
   "source": [
    "# left join on SitID using ds_left and ds_right dataframes \n",
    "ds <- dplyr::left_join(x = ds_left, y = ds_right, by = 'SitID')\n",
    "\n",
    "# show column names\n",
    "colnames(ds)"
   ]
  },
  {
   "cell_type": "code",
   "execution_count": null,
   "metadata": {},
   "outputs": [],
   "source": [
    "# initialize variables\n",
    "col_shift <- 1 # skip first 4 columns\n",
    "c_col <- 1 # column for SitID\n",
    "n_rows <- nrow(ds)\n",
    "\n",
    "# create 10 new variables of neighbors SitID's around each SitID location\n",
    "for (i in seq(1:n_rows)) {\n",
    "    for (j in seq(1:20)) {\n",
    "        c_row <- as.integer(ds[i, col_shift + j] + 1)\n",
    "        ds[i, paste0(\"SitID\", j, sep = \"\")] <- \n",
    "            assign(paste0(\"SitID\", j, sep = \"\"), ds[c_row, 'SitID'])\n",
    "    }\n",
    "    print(paste0('row [', i, '] out of ', n_rows))\n",
    "}"
   ]
  },
  {
   "cell_type": "code",
   "execution_count": null,
   "metadata": {},
   "outputs": [],
   "source": [
    "# write resultant dataframe\n",
    "print(paste('writing file', paste0(file_path, \"/\", file_name, \"_extnd\", file_extn))) \n",
    "write.csv(x = ds, file = paste0(file_path, \"/\", \"ds\", \"_extnd\", file_extn), \n",
    "          row.names = FALSE)"
   ]
  }
 ],
 "metadata": {
  "kernelspec": {
   "display_name": "R",
   "language": "R",
   "name": "ir"
  },
  "language_info": {
   "codemirror_mode": "r",
   "file_extension": ".r",
   "mimetype": "text/x-r-source",
   "name": "R",
   "pygments_lexer": "r",
   "version": "3.4.3"
  }
 },
 "nbformat": 4,
 "nbformat_minor": 2
}
