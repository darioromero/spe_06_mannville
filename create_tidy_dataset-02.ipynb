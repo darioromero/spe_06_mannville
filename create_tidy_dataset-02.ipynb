{
 "cells": [
  {
   "cell_type": "code",
   "execution_count": 1,
   "metadata": {
    "collapsed": false
   },
   "outputs": [
    {
     "name": "stdout",
     "output_type": "stream",
     "text": [
      "D:\\Users\\drome\\gitrepos\\spe 06\\MannvilleGroup_Strat_Hackathon\n"
     ]
    }
   ],
   "source": [
    "!pwd"
   ]
  },
  {
   "cell_type": "code",
   "execution_count": 2,
   "metadata": {
    "collapsed": false
   },
   "outputs": [
    {
     "data": {
      "text/plain": [
       "'0.19'"
      ]
     },
     "execution_count": 2,
     "metadata": {},
     "output_type": "execute_result"
    }
   ],
   "source": [
    "import os\n",
    "import glob\n",
    "import pandas as pd\n",
    "import numpy as np\n",
    "import holoviews as hv\n",
    "import matplotlib.pyplot as plt\n",
    "%matplotlib inline\n",
    "import lasio\n",
    "lasio.__version__"
   ]
  },
  {
   "cell_type": "code",
   "execution_count": 3,
   "metadata": {
    "collapsed": false
   },
   "outputs": [],
   "source": [
    "home = \"./SPE_006_originalData/OilSandsDB\""
   ]
  },
  {
   "cell_type": "code",
   "execution_count": 4,
   "metadata": {
    "collapsed": false
   },
   "outputs": [
    {
     "data": {
      "text/html": [
       "<div>\n",
       "<table border=\"1\" class=\"dataframe\">\n",
       "  <thead>\n",
       "    <tr style=\"text-align: right;\">\n",
       "      <th></th>\n",
       "      <th>HorID</th>\n",
       "      <th>Descriptopn</th>\n",
       "    </tr>\n",
       "  </thead>\n",
       "  <tbody>\n",
       "    <tr>\n",
       "      <th>0</th>\n",
       "      <td>1000</td>\n",
       "      <td>mannville</td>\n",
       "    </tr>\n",
       "    <tr>\n",
       "      <th>1</th>\n",
       "      <td>2000</td>\n",
       "      <td>t61</td>\n",
       "    </tr>\n",
       "    <tr>\n",
       "      <th>2</th>\n",
       "      <td>3000</td>\n",
       "      <td>t51</td>\n",
       "    </tr>\n",
       "    <tr>\n",
       "      <th>3</th>\n",
       "      <td>4000</td>\n",
       "      <td>t41</td>\n",
       "    </tr>\n",
       "    <tr>\n",
       "      <th>4</th>\n",
       "      <td>5000</td>\n",
       "      <td>t31</td>\n",
       "    </tr>\n",
       "  </tbody>\n",
       "</table>\n",
       "</div>"
      ],
      "text/plain": [
       "   HorID Descriptopn\n",
       "0   1000   mannville\n",
       "1   2000         t61\n",
       "2   3000         t51\n",
       "3   4000         t41\n",
       "4   5000         t31"
      ]
     },
     "execution_count": 4,
     "metadata": {},
     "output_type": "execute_result"
    }
   ],
   "source": [
    "# describe the stratigraphic picks used in Picks\n",
    "picks_dicts = pd.read_table(home + \"/PICKS_DIC.TXT\", delimiter='\\t')\n",
    "picks_dicts.head()"
   ]
  },
  {
   "cell_type": "code",
   "execution_count": 5,
   "metadata": {
    "collapsed": false
   },
   "outputs": [
    {
     "data": {
      "text/html": [
       "<div>\n",
       "<table border=\"1\" class=\"dataframe\">\n",
       "  <thead>\n",
       "    <tr style=\"text-align: right;\">\n",
       "      <th></th>\n",
       "      <th>SitID</th>\n",
       "      <th>HorID</th>\n",
       "      <th>Pick</th>\n",
       "      <th>Quality</th>\n",
       "    </tr>\n",
       "  </thead>\n",
       "  <tbody>\n",
       "    <tr>\n",
       "      <th>0</th>\n",
       "      <td>102496</td>\n",
       "      <td>1000</td>\n",
       "      <td>321</td>\n",
       "      <td>1</td>\n",
       "    </tr>\n",
       "    <tr>\n",
       "      <th>1</th>\n",
       "      <td>102496</td>\n",
       "      <td>2000</td>\n",
       "      <td></td>\n",
       "      <td>-1</td>\n",
       "    </tr>\n",
       "    <tr>\n",
       "      <th>2</th>\n",
       "      <td>102496</td>\n",
       "      <td>3000</td>\n",
       "      <td></td>\n",
       "      <td>-1</td>\n",
       "    </tr>\n",
       "    <tr>\n",
       "      <th>3</th>\n",
       "      <td>102496</td>\n",
       "      <td>4000</td>\n",
       "      <td></td>\n",
       "      <td>-1</td>\n",
       "    </tr>\n",
       "    <tr>\n",
       "      <th>4</th>\n",
       "      <td>102496</td>\n",
       "      <td>5000</td>\n",
       "      <td>438</td>\n",
       "      <td>2</td>\n",
       "    </tr>\n",
       "  </tbody>\n",
       "</table>\n",
       "</div>"
      ],
      "text/plain": [
       "    SitID  HorID      Pick  Quality\n",
       "0  102496   1000       321        1\n",
       "1  102496   2000                 -1\n",
       "2  102496   3000                 -1\n",
       "3  102496   4000                 -1\n",
       "4  102496   5000       438        2"
      ]
     },
     "execution_count": 5,
     "metadata": {},
     "output_type": "execute_result"
    }
   ],
   "source": [
    "# stratigraphic picks\n",
    "picks = pd.read_table(home + \"/PICKS.TXT\", delimiter='\\t')\n",
    "picks.head()"
   ]
  },
  {
   "cell_type": "code",
   "execution_count": 158,
   "metadata": {
    "collapsed": false
   },
   "outputs": [
    {
     "data": {
      "text/html": [
       "<div>\n",
       "<table border=\"1\" class=\"dataframe\">\n",
       "  <thead>\n",
       "    <tr style=\"text-align: right;\">\n",
       "      <th></th>\n",
       "      <th>SitID</th>\n",
       "      <th>UWI (AGS)</th>\n",
       "      <th>UWI</th>\n",
       "    </tr>\n",
       "  </thead>\n",
       "  <tbody>\n",
       "    <tr>\n",
       "      <th>0</th>\n",
       "      <td>102496</td>\n",
       "      <td>0674010812000</td>\n",
       "      <td>00/12-08-067-01W4/0</td>\n",
       "    </tr>\n",
       "    <tr>\n",
       "      <th>1</th>\n",
       "      <td>102497</td>\n",
       "      <td>0674020807000</td>\n",
       "      <td>00/07-08-067-02W4/0</td>\n",
       "    </tr>\n",
       "    <tr>\n",
       "      <th>2</th>\n",
       "      <td>102498</td>\n",
       "      <td>0674021109000</td>\n",
       "      <td>00/09-11-067-02W4/0</td>\n",
       "    </tr>\n",
       "    <tr>\n",
       "      <th>3</th>\n",
       "      <td>102500</td>\n",
       "      <td>0674022910000</td>\n",
       "      <td>00/10-29-067-02W4/0</td>\n",
       "    </tr>\n",
       "    <tr>\n",
       "      <th>4</th>\n",
       "      <td>102501</td>\n",
       "      <td>0674023406000</td>\n",
       "      <td>00/06-34-067-02W4/0</td>\n",
       "    </tr>\n",
       "  </tbody>\n",
       "</table>\n",
       "</div>"
      ],
      "text/plain": [
       "    SitID      UWI (AGS)                  UWI\n",
       "0  102496  0674010812000  00/12-08-067-01W4/0\n",
       "1  102497  0674020807000  00/07-08-067-02W4/0\n",
       "2  102498  0674021109000  00/09-11-067-02W4/0\n",
       "3  102500  0674022910000  00/10-29-067-02W4/0\n",
       "4  102501  0674023406000  00/06-34-067-02W4/0"
      ]
     },
     "execution_count": 158,
     "metadata": {},
     "output_type": "execute_result"
    }
   ],
   "source": [
    "# list of wells\n",
    "wellst = pd.read_csv(home + \"/WELLS.TXT\", delimiter= '\\t', dtype=str)\n",
    "wellst.head()"
   ]
  },
  {
   "cell_type": "code",
   "execution_count": 7,
   "metadata": {
    "collapsed": false
   },
   "outputs": [
    {
     "data": {
      "text/html": [
       "<div>\n",
       "<table border=\"1\" class=\"dataframe\">\n",
       "  <thead>\n",
       "    <tr style=\"text-align: right;\">\n",
       "      <th></th>\n",
       "      <th>SitID</th>\n",
       "      <th>UWI (AGS)</th>\n",
       "      <th>UWI</th>\n",
       "    </tr>\n",
       "  </thead>\n",
       "  <tbody>\n",
       "    <tr>\n",
       "      <th>2188</th>\n",
       "      <td>126239</td>\n",
       "      <td>1014133011AA0</td>\n",
       "      <td>AA/11-30-101-13W4/0</td>\n",
       "    </tr>\n",
       "    <tr>\n",
       "      <th>2189</th>\n",
       "      <td>126240</td>\n",
       "      <td>1014140811AA0</td>\n",
       "      <td>AA/11-08-101-14W4/0</td>\n",
       "    </tr>\n",
       "    <tr>\n",
       "      <th>2190</th>\n",
       "      <td>126241</td>\n",
       "      <td>1014141414AA0</td>\n",
       "      <td>AA/14-14-101-14W4/0</td>\n",
       "    </tr>\n",
       "    <tr>\n",
       "      <th>2191</th>\n",
       "      <td>126243</td>\n",
       "      <td>1014142906AA0</td>\n",
       "      <td>AA/06-29-101-14W4/0</td>\n",
       "    </tr>\n",
       "    <tr>\n",
       "      <th>2192</th>\n",
       "      <td>126244</td>\n",
       "      <td>1014143506AA0</td>\n",
       "      <td>AA/06-35-101-14W4/0</td>\n",
       "    </tr>\n",
       "  </tbody>\n",
       "</table>\n",
       "</div>"
      ],
      "text/plain": [
       "       SitID      UWI (AGS)                  UWI\n",
       "2188  126239  1014133011AA0  AA/11-30-101-13W4/0\n",
       "2189  126240  1014140811AA0  AA/11-08-101-14W4/0\n",
       "2190  126241  1014141414AA0  AA/14-14-101-14W4/0\n",
       "2191  126243  1014142906AA0  AA/06-29-101-14W4/0\n",
       "2192  126244  1014143506AA0  AA/06-35-101-14W4/0"
      ]
     },
     "execution_count": 7,
     "metadata": {},
     "output_type": "execute_result"
    }
   ],
   "source": [
    "wellst.tail()"
   ]
  },
  {
   "cell_type": "code",
   "execution_count": null,
   "metadata": {
    "collapsed": false
   },
   "outputs": [],
   "source": [
    "wellst.iloc[2192].UWI[9:12] + \"-\" + wellst.iloc[2192].UWI[16:17] + \"-\" + wellst.iloc[2192].UWI[13:15] + \"-\" + \\\n",
    "wellst.iloc[2192].UWI[6:8] + \"-\" + wellst.iloc[2192].UWI[3:5] + \"-\" + wellst.iloc[2192].UWI[0:2] + \"-\" + \\\n",
    "wellst.iloc[2192].UWI[18:19]"
   ]
  },
  {
   "cell_type": "code",
   "execution_count": 8,
   "metadata": {
    "collapsed": false
   },
   "outputs": [
    {
     "name": "stdout",
     "output_type": "stream",
     "text": [
      "# LAS files: 2171\n"
     ]
    }
   ],
   "source": [
    "# las files\n",
    "path_logs = home + \"/Logs\"\n",
    "las = [x for x in os.listdir(path_logs + \"/\") if x.endswith(\".LAS\")]\n",
    "print(\"# LAS files: \" + str(len(las)))"
   ]
  },
  {
   "cell_type": "code",
   "execution_count": 9,
   "metadata": {
    "collapsed": false
   },
   "outputs": [
    {
     "data": {
      "text/html": [
       "<div>\n",
       "<table border=\"1\" class=\"dataframe\">\n",
       "  <thead>\n",
       "    <tr style=\"text-align: right;\">\n",
       "      <th></th>\n",
       "      <th>ILD</th>\n",
       "      <th>GR</th>\n",
       "      <th>CALI</th>\n",
       "      <th>NPHI</th>\n",
       "    </tr>\n",
       "    <tr>\n",
       "      <th>DEPT</th>\n",
       "      <th></th>\n",
       "      <th></th>\n",
       "      <th></th>\n",
       "      <th></th>\n",
       "    </tr>\n",
       "  </thead>\n",
       "  <tbody>\n",
       "    <tr>\n",
       "      <th>3.00</th>\n",
       "      <td>4.785</td>\n",
       "      <td>40.188</td>\n",
       "      <td>318.972</td>\n",
       "      <td>0.532</td>\n",
       "    </tr>\n",
       "    <tr>\n",
       "      <th>3.25</th>\n",
       "      <td>4.277</td>\n",
       "      <td>42.542</td>\n",
       "      <td>320.911</td>\n",
       "      <td>0.563</td>\n",
       "    </tr>\n",
       "    <tr>\n",
       "      <th>3.50</th>\n",
       "      <td>6.303</td>\n",
       "      <td>43.705</td>\n",
       "      <td>320.850</td>\n",
       "      <td>0.547</td>\n",
       "    </tr>\n",
       "    <tr>\n",
       "      <th>3.75</th>\n",
       "      <td>3.963</td>\n",
       "      <td>40.679</td>\n",
       "      <td>321.774</td>\n",
       "      <td>0.467</td>\n",
       "    </tr>\n",
       "    <tr>\n",
       "      <th>4.00</th>\n",
       "      <td>3.413</td>\n",
       "      <td>31.046</td>\n",
       "      <td>322.714</td>\n",
       "      <td>0.481</td>\n",
       "    </tr>\n",
       "  </tbody>\n",
       "</table>\n",
       "</div>"
      ],
      "text/plain": [
       "        ILD      GR     CALI   NPHI\n",
       "DEPT                               \n",
       "3.00  4.785  40.188  318.972  0.532\n",
       "3.25  4.277  42.542  320.911  0.563\n",
       "3.50  6.303  43.705  320.850  0.547\n",
       "3.75  3.963  40.679  321.774  0.467\n",
       "4.00  3.413  31.046  322.714  0.481"
      ]
     },
     "execution_count": 9,
     "metadata": {},
     "output_type": "execute_result"
    }
   ],
   "source": [
    "wellname = 'AB-07-12-093-10W4-0'\n",
    "lasio.read(path_logs + \"/\" + wellname + \".LAS\").df().head()"
   ]
  },
  {
   "cell_type": "markdown",
   "metadata": {},
   "source": [
    "### Reading LAS Files with lasio"
   ]
  },
  {
   "cell_type": "code",
   "execution_count": 10,
   "metadata": {
    "collapsed": false
   },
   "outputs": [
    {
     "name": "stderr",
     "output_type": "stream",
     "text": [
      "Header section Parameter regexp=~P was not found.\n"
     ]
    },
    {
     "data": {
      "text/plain": [
       "(list, lasio.las.LASFile)"
      ]
     },
     "execution_count": 10,
     "metadata": {},
     "output_type": "execute_result"
    }
   ],
   "source": [
    "las = [lasio.read(path_logs + \"/\" + filename) for filename in os.listdir(path_logs) if filename.endswith(\".LAS\")]\n",
    "type(las), type(las[0])"
   ]
  },
  {
   "cell_type": "code",
   "execution_count": 11,
   "metadata": {
    "collapsed": false
   },
   "outputs": [
    {
     "data": {
      "text/plain": [
       "[HeaderItem(mnemonic=WELL, unit=, value=AMOCO AOSTRA GLISPLH1, descr=Well_nam...),\n",
       " HeaderItem(mnemonic=LOC, unit=, value=AB/05-02-086-07W4/0, descr=Location   ...),\n",
       " HeaderItem(mnemonic=UWI, unit=, value=AB/05-02-086-07W400, descr=Uwi        ...),\n",
       " HeaderItem(mnemonic=ENTR, unit=, value=KATHY, descr=Entered      - ENTERED BY),\n",
       " HeaderItem(mnemonic=SRVC, unit=, value=SCHLUMBERGER, descr=Scn          - SE...),\n",
       " HeaderItem(mnemonic=STRT, unit=M, value=160, descr=top_depth    - START DEPTH),\n",
       " HeaderItem(mnemonic=STOP, unit=M, value=235.001, descr=bot_depth    - STOP D...),\n",
       " HeaderItem(mnemonic=STEP, unit=M, value=0.3, descr=increment    - STEP LENGTH),\n",
       " HeaderItem(mnemonic=NULL, unit=, value=-999.25, descr=NULL Value)]"
      ]
     },
     "execution_count": 11,
     "metadata": {},
     "output_type": "execute_result"
    }
   ],
   "source": [
    "las[2153].header['Well']"
   ]
  },
  {
   "cell_type": "code",
   "execution_count": 12,
   "metadata": {
    "collapsed": false
   },
   "outputs": [
    {
     "data": {
      "text/plain": [
       "[HeaderItem(mnemonic=GL, unit=M, value=478.6, descr=gl           - GROUND LEV...),\n",
       " HeaderItem(mnemonic=EREF, unit=M, value=480, descr=kb           - ELEVATION ...),\n",
       " HeaderItem(mnemonic=DATM, unit=M, value=480, descr=datum        - DATUM ELEV...),\n",
       " HeaderItem(mnemonic=TDD, unit=M, value=241, descr=tdd          - TOTAL DEPTH...),\n",
       " HeaderItem(mnemonic=RUN, unit=, value=ONE, descr=Run          - RUN NUMBER),\n",
       " HeaderItem(mnemonic=ENG, unit=, value=BILL, descr=Engineer     - RECORDING E...),\n",
       " HeaderItem(mnemonic=WIT, unit=, value=JIM, descr=Witness      - WITNESSED BY),\n",
       " HeaderItem(mnemonic=MUD, unit=, value=GEL, descr=Mud_type     - MUD TYPE),\n",
       " HeaderItem(mnemonic=MATR:1, unit=, value=LIMESTONE, descr=Logunit      - NEU...),\n",
       " HeaderItem(mnemonic=TMAX, unit=C, value=60, descr=BHT          - MAXIMUM REC...),\n",
       " HeaderItem(mnemonic=BHTD, unit=M, value=241, descr=BHTDEP       - MAXIMUM RE...),\n",
       " HeaderItem(mnemonic=MATR:2, unit=, value=1, descr=LOGUNIT      - NEUTRON MATRIX),\n",
       " HeaderItem(mnemonic=RMT, unit=C, value=25, descr=MDTP         - TEMPERATURE ...),\n",
       " HeaderItem(mnemonic=NEUT, unit=, value=1, descr=NEUTRON      - NEUTRON TYPE),\n",
       " HeaderItem(mnemonic=RESI, unit=, value=0, descr=RESIST       - RESISTIVITY TYPE),\n",
       " HeaderItem(mnemonic=RMC, unit=OHMM, value=0.25, descr=RMC          - RESISTI...),\n",
       " HeaderItem(mnemonic=RMF, unit=OHMM, value=0.25, descr=RMF          - RESISTI...),\n",
       " HeaderItem(mnemonic=SUFT, unit=C, value=5, descr=SUFT         - SURFACE TEMP...)]"
      ]
     },
     "execution_count": 12,
     "metadata": {},
     "output_type": "execute_result"
    }
   ],
   "source": [
    "las[2153].header['Parameter']"
   ]
  },
  {
   "cell_type": "code",
   "execution_count": 13,
   "metadata": {
    "collapsed": false
   },
   "outputs": [
    {
     "data": {
      "text/plain": [
       "[HeaderItem(mnemonic=VERS, unit=, value=2.0, descr=CWLS LOG ASCII STANDARD -V...),\n",
       " HeaderItem(mnemonic=WRAP, unit=, value=NO, descr=ONE LINE PER DEPTH STEP)]"
      ]
     },
     "execution_count": 13,
     "metadata": {},
     "output_type": "execute_result"
    }
   ],
   "source": [
    "las[2153].header['Version']"
   ]
  },
  {
   "cell_type": "code",
   "execution_count": 14,
   "metadata": {
    "collapsed": false
   },
   "outputs": [
    {
     "data": {
      "text/plain": [
       "[CurveItem(mnemonic=DEPT, unit=M, value=00 001 00 00, descr=DEPTH        - DEPTH, original_mnemonic=DEPT, data.shape=(251,)),\n",
       " CurveItem(mnemonic=GR:1, unit=API, value=00 310 00 00, descr=GR           - GAMMA RAY, original_mnemonic=GR, data.shape=(251,)),\n",
       " CurveItem(mnemonic=DPHI:1, unit=V/V, value=00 890 00 00, descr=PHID         - DENSITY POROSITY (LIMESTONE), original_mnemonic=DPHI, data.shape=(251,)),\n",
       " CurveItem(mnemonic=ILD:1, unit=OHMM, value=00 120 00 00, descr=RESD         - DEEP RESISTIVITY (DIL), original_mnemonic=ILD, data.shape=(251,)),\n",
       " CurveItem(mnemonic=GR:2, unit=API, value=00 310 00 00, descr=GR           - GAMMA RAY, original_mnemonic=GR, data.shape=(251,)),\n",
       " CurveItem(mnemonic=DPHI:2, unit=V/V, value=00 890 00 00, descr=PHID         - DENSITY POROSITY (LIMESTONE), original_mnemonic=DPHI, data.shape=(251,)),\n",
       " CurveItem(mnemonic=ILD:2, unit=OHMM, value=00 120 00 00, descr=RESD         - DEEP RESISTIVITY (DIL), original_mnemonic=ILD, data.shape=(251,))]"
      ]
     },
     "execution_count": 14,
     "metadata": {},
     "output_type": "execute_result"
    }
   ],
   "source": [
    "las[2153].header['Curves']"
   ]
  },
  {
   "cell_type": "code",
   "execution_count": 15,
   "metadata": {
    "collapsed": false
   },
   "outputs": [
    {
     "data": {
      "text/plain": [
       "251"
      ]
     },
     "execution_count": 15,
     "metadata": {},
     "output_type": "execute_result"
    }
   ],
   "source": [
    "len(las[2153].header['Curves']['DEPT'].data)"
   ]
  },
  {
   "cell_type": "code",
   "execution_count": 93,
   "metadata": {
    "collapsed": false
   },
   "outputs": [
    {
     "data": {
      "text/plain": [
       "array([ 160. ,  160.3,  160.6,  160.9,  161.2,  161.5,  161.8,  162.1,\n",
       "        162.4,  162.7])"
      ]
     },
     "execution_count": 93,
     "metadata": {},
     "output_type": "execute_result"
    }
   ],
   "source": [
    "las[2153].header['Curves']['DEPT'].data[0:10]"
   ]
  },
  {
   "cell_type": "code",
   "execution_count": 17,
   "metadata": {
    "collapsed": false
   },
   "outputs": [
    {
     "data": {
      "text/plain": [
       "['DEPT', 'GR:1', 'DPHI:1', 'ILD:1', 'GR:2', 'DPHI:2', 'ILD:2']"
      ]
     },
     "execution_count": 17,
     "metadata": {},
     "output_type": "execute_result"
    }
   ],
   "source": [
    "las[2153].header['Curves'].keys()"
   ]
  },
  {
   "cell_type": "code",
   "execution_count": 18,
   "metadata": {
    "collapsed": true
   },
   "outputs": [],
   "source": [
    "# function to retrieve UWI (location may vary within LAS file)\n",
    "keywds = ['UWI', 'UWI:1', 'UWI:2', 'UWI:3']\n",
    "def getKeyValue(idx, keywds):\n",
    "    for keywd in keywds:\n",
    "        if (keywd) not in las[idx].header[\"Well\"]:\n",
    "            pass\n",
    "        else:\n",
    "            return [keywd, las[idx].header[\"Well\"][keywd].value]"
   ]
  },
  {
   "cell_type": "code",
   "execution_count": 19,
   "metadata": {
    "collapsed": false
   },
   "outputs": [],
   "source": [
    "# counting more common curves\n",
    "curves = []\n",
    "for i in range(len(las)):\n",
    "    df_las = las[i].df()\n",
    "    curves.extend(list(df_las.columns))"
   ]
  },
  {
   "cell_type": "code",
   "execution_count": null,
   "metadata": {
    "collapsed": false
   },
   "outputs": [],
   "source": [
    "# print all possible curves in the dataset, independent if they are repeated with an index :1, :2\n",
    "print(curves)"
   ]
  },
  {
   "cell_type": "code",
   "execution_count": 21,
   "metadata": {
    "collapsed": false
   },
   "outputs": [
    {
     "name": "stdout",
     "output_type": "stream",
     "text": [
      "dict_keys(['SFLU', 'LITH', 'GR:2', 'GR:1', 'DPHI:1', 'NPHI', 'ILD', 'DPHI', 'SP', 'LLD', 'SN', 'ILD:2', 'SFL', 'SNP', 'CALI', 'LLS', 'COND', 'DENS', 'ILD:1', 'DELT', 'IL', 'RT', 'GR', 'PHIN', 'RESD', 'ILM', 'RHOB', 'DT', 'PHID', 'DPHI:2'])\n",
      "dict_values([6, 1, 1, 1, 1, 2008, 2154, 1917, 14, 2, 1, 1, 3, 2, 783, 1, 3, 4, 1, 98, 2, 1, 2169, 4, 6, 6, 132, 14, 8, 1])\n"
     ]
    }
   ],
   "source": [
    "import collections\n",
    "counter = collections.Counter(curves)\n",
    "print(counter.keys())\n",
    "print(counter.values())"
   ]
  },
  {
   "cell_type": "code",
   "execution_count": 22,
   "metadata": {
    "collapsed": false
   },
   "outputs": [
    {
     "name": "stdout",
     "output_type": "stream",
     "text": [
      "odict_keys(['CALI', 'COND', 'DELT', 'DENS', 'DPHI', 'DPHI:1', 'DPHI:2', 'DT', 'GR', 'GR:1', 'GR:2', 'IL', 'ILD', 'ILD:1', 'ILD:2', 'ILM', 'LITH', 'LLD', 'LLS', 'NPHI', 'PHID', 'PHIN', 'RESD', 'RHOB', 'RT', 'SFL', 'SFLU', 'SN', 'SNP', 'SP'])\n",
      "odict_values([783, 3, 98, 4, 1917, 1, 1, 14, 2169, 1, 1, 2, 2154, 1, 1, 6, 1, 2, 1, 2008, 8, 4, 6, 132, 1, 3, 6, 1, 2, 14])\n"
     ]
    }
   ],
   "source": [
    "counter = collections.OrderedDict(sorted(counter.items()))\n",
    "print(counter.keys())\n",
    "print(counter.values())"
   ]
  },
  {
   "cell_type": "code",
   "execution_count": 23,
   "metadata": {
    "collapsed": false
   },
   "outputs": [
    {
     "data": {
      "text/plain": [
       "'AB/05-02-086-07W400'"
      ]
     },
     "execution_count": 23,
     "metadata": {},
     "output_type": "execute_result"
    }
   ],
   "source": [
    "las[2153].header['Well']['UWI'].value"
   ]
  },
  {
   "cell_type": "code",
   "execution_count": 24,
   "metadata": {
    "collapsed": false
   },
   "outputs": [
    {
     "data": {
      "text/plain": [
       "['DEPT', 'GR:1', 'DPHI:1', 'ILD:1', 'GR:2', 'DPHI:2', 'ILD:2']"
      ]
     },
     "execution_count": 24,
     "metadata": {},
     "output_type": "execute_result"
    }
   ],
   "source": [
    "las[2153].header['Curves'].keys()"
   ]
  },
  {
   "cell_type": "code",
   "execution_count": 48,
   "metadata": {
    "collapsed": false
   },
   "outputs": [
    {
     "data": {
      "text/plain": [
       "[CurveItem(mnemonic=DEPT, unit=M, value=00 001 00 00, descr=DEPTH        - DEPTH, original_mnemonic=DEPT, data.shape=(251,)),\n",
       " CurveItem(mnemonic=GR:1, unit=API, value=00 310 00 00, descr=GR           - GAMMA RAY, original_mnemonic=GR, data.shape=(251,)),\n",
       " CurveItem(mnemonic=DPHI:1, unit=V/V, value=00 890 00 00, descr=PHID         - DENSITY POROSITY (LIMESTONE), original_mnemonic=DPHI, data.shape=(251,)),\n",
       " CurveItem(mnemonic=ILD:1, unit=OHMM, value=00 120 00 00, descr=RESD         - DEEP RESISTIVITY (DIL), original_mnemonic=ILD, data.shape=(251,)),\n",
       " CurveItem(mnemonic=GR:2, unit=API, value=00 310 00 00, descr=GR           - GAMMA RAY, original_mnemonic=GR, data.shape=(251,)),\n",
       " CurveItem(mnemonic=DPHI:2, unit=V/V, value=00 890 00 00, descr=PHID         - DENSITY POROSITY (LIMESTONE), original_mnemonic=DPHI, data.shape=(251,)),\n",
       " CurveItem(mnemonic=ILD:2, unit=OHMM, value=00 120 00 00, descr=RESD         - DEEP RESISTIVITY (DIL), original_mnemonic=ILD, data.shape=(251,))]"
      ]
     },
     "execution_count": 48,
     "metadata": {},
     "output_type": "execute_result"
    }
   ],
   "source": [
    "las[2153].header['Curves']"
   ]
  },
  {
   "cell_type": "code",
   "execution_count": 25,
   "metadata": {
    "collapsed": false
   },
   "outputs": [],
   "source": [
    "# Selecting only 1919 wells which have common curves: DEPT; DPHI; GR; ILD; NPHI\n",
    "keys = ['DEPT', 'DPHI', 'DPHI:1', 'DPHI:2', 'GR', 'GR:1', 'GR:2', 'ILD', 'ILD:1', 'ILD:2', \\\n",
    "        'NPHI', 'NPHI:1', 'NPHI:2', 'PHIN', 'PHIN:1', 'PHIN:2']\n",
    "values = ['DEPT', 'DPHI', 'DPHI', 'DPHI', 'GR', 'GR', 'GR', 'ILD', 'ILD', 'ILD', \\\n",
    "          'NPHI', 'NPHI', 'NPHI', 'NPHI', 'NPHI', 'NPHI']\n",
    "dictOfCurves = dict(zip(keys, values))\n",
    "\n",
    "columns = ['i', 'key_uwi', 'uwi', 'curvesNew', 'curvesOld']\n",
    "rows = []"
   ]
  },
  {
   "cell_type": "code",
   "execution_count": null,
   "metadata": {
    "collapsed": true
   },
   "outputs": [],
   "source": [
    "# find ':' on curve header name\n",
    "import re\n",
    "def findColon(name):\n",
    "    m = re.search(\"\\:\", name)\n",
    "    if (m is not None):\n",
    "        return m.span()[0]"
   ]
  },
  {
   "cell_type": "code",
   "execution_count": null,
   "metadata": {
    "collapsed": false
   },
   "outputs": [],
   "source": [
    "# create dataframe with normalized curves' names\n",
    "for i in range(len(las)):\n",
    "    las_curves = las[i].header['Curves'].keys()\n",
    "    c = [str(dictOfCurves[c]) for c in keys if c in las_curves]\n",
    "    key_uwi, uwi = getKeyValue(i, keywds)\n",
    "    rows.append([i, key_uwi, uwi, list(set(c)), las_curves])\n",
    "    \n",
    "df = pd.DataFrame(rows, columns=columns)\n",
    "rows = []\n",
    "df = df.reset_index(drop=True)"
   ]
  },
  {
   "cell_type": "code",
   "execution_count": 92,
   "metadata": {
    "collapsed": false
   },
   "outputs": [
    {
     "data": {
      "text/html": [
       "<div>\n",
       "<table border=\"1\" class=\"dataframe\">\n",
       "  <thead>\n",
       "    <tr style=\"text-align: right;\">\n",
       "      <th></th>\n",
       "      <th>i</th>\n",
       "      <th>key_uwi</th>\n",
       "      <th>uwi</th>\n",
       "      <th>curvesNew</th>\n",
       "      <th>curvesOld</th>\n",
       "    </tr>\n",
       "  </thead>\n",
       "  <tbody>\n",
       "    <tr>\n",
       "      <th>0</th>\n",
       "      <td>0</td>\n",
       "      <td>UWI</td>\n",
       "      <td>00/01-01-073-05W5/0</td>\n",
       "      <td>[DPHI, DEPT, ILD, GR, NPHI]</td>\n",
       "      <td>[DEPT, DPHI, NPHI, GR, CALI, ILD]</td>\n",
       "    </tr>\n",
       "    <tr>\n",
       "      <th>1</th>\n",
       "      <td>1</td>\n",
       "      <td>UWI</td>\n",
       "      <td>00/01-01-095-19W4/0</td>\n",
       "      <td>[DPHI, DEPT, ILD, GR, NPHI]</td>\n",
       "      <td>[DEPT, GR, CALI, NPHI, DPHI, ILD]</td>\n",
       "    </tr>\n",
       "    <tr>\n",
       "      <th>2</th>\n",
       "      <td>2</td>\n",
       "      <td>UWI</td>\n",
       "      <td>00/01-03-085-15W400</td>\n",
       "      <td>[DPHI, DEPT, ILD, GR, NPHI]</td>\n",
       "      <td>[DEPT, DPHI, NPHI, GR, ILD]</td>\n",
       "    </tr>\n",
       "    <tr>\n",
       "      <th>3</th>\n",
       "      <td>3</td>\n",
       "      <td>UWI</td>\n",
       "      <td>00/01-04-075-23W4/0</td>\n",
       "      <td>[DPHI, DEPT, ILD, GR, NPHI]</td>\n",
       "      <td>[DEPT, ILD, NPHI, DPHI, GR, CALI]</td>\n",
       "    </tr>\n",
       "    <tr>\n",
       "      <th>4</th>\n",
       "      <td>4</td>\n",
       "      <td>UWI</td>\n",
       "      <td>00/01-05-085-15W400</td>\n",
       "      <td>[DPHI, DEPT, ILD, GR, NPHI]</td>\n",
       "      <td>[DEPT, GR, NPHI, DPHI, ILD]</td>\n",
       "    </tr>\n",
       "  </tbody>\n",
       "</table>\n",
       "</div>"
      ],
      "text/plain": [
       "   i key_uwi                  uwi                    curvesNew  \\\n",
       "0  0     UWI  00/01-01-073-05W5/0  [DPHI, DEPT, ILD, GR, NPHI]   \n",
       "1  1     UWI  00/01-01-095-19W4/0  [DPHI, DEPT, ILD, GR, NPHI]   \n",
       "2  2     UWI  00/01-03-085-15W400  [DPHI, DEPT, ILD, GR, NPHI]   \n",
       "3  3     UWI  00/01-04-075-23W4/0  [DPHI, DEPT, ILD, GR, NPHI]   \n",
       "4  4     UWI  00/01-05-085-15W400  [DPHI, DEPT, ILD, GR, NPHI]   \n",
       "\n",
       "                           curvesOld  \n",
       "0  [DEPT, DPHI, NPHI, GR, CALI, ILD]  \n",
       "1  [DEPT, GR, CALI, NPHI, DPHI, ILD]  \n",
       "2        [DEPT, DPHI, NPHI, GR, ILD]  \n",
       "3  [DEPT, ILD, NPHI, DPHI, GR, CALI]  \n",
       "4        [DEPT, GR, NPHI, DPHI, ILD]  "
      ]
     },
     "execution_count": 92,
     "metadata": {},
     "output_type": "execute_result"
    }
   ],
   "source": [
    "df.head()"
   ]
  },
  {
   "cell_type": "code",
   "execution_count": 27,
   "metadata": {
    "collapsed": false
   },
   "outputs": [
    {
     "data": {
      "text/plain": [
       "2171"
      ]
     },
     "execution_count": 27,
     "metadata": {},
     "output_type": "execute_result"
    }
   ],
   "source": [
    "len(df)"
   ]
  },
  {
   "cell_type": "code",
   "execution_count": 28,
   "metadata": {
    "collapsed": false
   },
   "outputs": [],
   "source": [
    "# drop rows with less than 5 curves including DEPT\n",
    "dfl = df[df['curvesNew'].map(len) > 4]\n",
    "dfl = dfl.reset_index(drop=True)"
   ]
  },
  {
   "cell_type": "code",
   "execution_count": 29,
   "metadata": {
    "collapsed": false
   },
   "outputs": [
    {
     "data": {
      "text/plain": [
       "1848"
      ]
     },
     "execution_count": 29,
     "metadata": {},
     "output_type": "execute_result"
    }
   ],
   "source": [
    "len(dfl)"
   ]
  },
  {
   "cell_type": "code",
   "execution_count": 91,
   "metadata": {
    "collapsed": false
   },
   "outputs": [
    {
     "data": {
      "text/html": [
       "<div>\n",
       "<table border=\"1\" class=\"dataframe\">\n",
       "  <thead>\n",
       "    <tr style=\"text-align: right;\">\n",
       "      <th></th>\n",
       "      <th>i</th>\n",
       "      <th>key_uwi</th>\n",
       "      <th>uwi</th>\n",
       "      <th>curvesNew</th>\n",
       "      <th>curvesOld</th>\n",
       "    </tr>\n",
       "  </thead>\n",
       "  <tbody>\n",
       "    <tr>\n",
       "      <th>0</th>\n",
       "      <td>0</td>\n",
       "      <td>UWI</td>\n",
       "      <td>00/01-01-073-05W5/0</td>\n",
       "      <td>[DPHI, DEPT, ILD, GR, NPHI]</td>\n",
       "      <td>[DEPT, DPHI, NPHI, GR, CALI, ILD]</td>\n",
       "    </tr>\n",
       "    <tr>\n",
       "      <th>1</th>\n",
       "      <td>1</td>\n",
       "      <td>UWI</td>\n",
       "      <td>00/01-01-095-19W4/0</td>\n",
       "      <td>[DPHI, DEPT, ILD, GR, NPHI]</td>\n",
       "      <td>[DEPT, GR, CALI, NPHI, DPHI, ILD]</td>\n",
       "    </tr>\n",
       "    <tr>\n",
       "      <th>2</th>\n",
       "      <td>2</td>\n",
       "      <td>UWI</td>\n",
       "      <td>00/01-03-085-15W400</td>\n",
       "      <td>[DPHI, DEPT, ILD, GR, NPHI]</td>\n",
       "      <td>[DEPT, DPHI, NPHI, GR, ILD]</td>\n",
       "    </tr>\n",
       "    <tr>\n",
       "      <th>3</th>\n",
       "      <td>3</td>\n",
       "      <td>UWI</td>\n",
       "      <td>00/01-04-075-23W4/0</td>\n",
       "      <td>[DPHI, DEPT, ILD, GR, NPHI]</td>\n",
       "      <td>[DEPT, ILD, NPHI, DPHI, GR, CALI]</td>\n",
       "    </tr>\n",
       "    <tr>\n",
       "      <th>4</th>\n",
       "      <td>4</td>\n",
       "      <td>UWI</td>\n",
       "      <td>00/01-05-085-15W400</td>\n",
       "      <td>[DPHI, DEPT, ILD, GR, NPHI]</td>\n",
       "      <td>[DEPT, GR, NPHI, DPHI, ILD]</td>\n",
       "    </tr>\n",
       "  </tbody>\n",
       "</table>\n",
       "</div>"
      ],
      "text/plain": [
       "   i key_uwi                  uwi                    curvesNew  \\\n",
       "0  0     UWI  00/01-01-073-05W5/0  [DPHI, DEPT, ILD, GR, NPHI]   \n",
       "1  1     UWI  00/01-01-095-19W4/0  [DPHI, DEPT, ILD, GR, NPHI]   \n",
       "2  2     UWI  00/01-03-085-15W400  [DPHI, DEPT, ILD, GR, NPHI]   \n",
       "3  3     UWI  00/01-04-075-23W4/0  [DPHI, DEPT, ILD, GR, NPHI]   \n",
       "4  4     UWI  00/01-05-085-15W400  [DPHI, DEPT, ILD, GR, NPHI]   \n",
       "\n",
       "                           curvesOld  \n",
       "0  [DEPT, DPHI, NPHI, GR, CALI, ILD]  \n",
       "1  [DEPT, GR, CALI, NPHI, DPHI, ILD]  \n",
       "2        [DEPT, DPHI, NPHI, GR, ILD]  \n",
       "3  [DEPT, ILD, NPHI, DPHI, GR, CALI]  \n",
       "4        [DEPT, GR, NPHI, DPHI, ILD]  "
      ]
     },
     "execution_count": 91,
     "metadata": {},
     "output_type": "execute_result"
    }
   ],
   "source": [
    "dfl.head()"
   ]
  },
  {
   "cell_type": "code",
   "execution_count": null,
   "metadata": {
    "collapsed": false
   },
   "outputs": [],
   "source": [
    "dl = pd.DataFrame([], columns=['UWI', 'DEPT', 'DPHI', 'GR', 'ILD', 'NPHI'])\n",
    "dl.columns\n",
    "\n",
    "for i in range(len(dfl)):\n",
    "    well_num = dfl.iloc[i]['i']\n",
    "    uwi_type = dfl.iloc[i]['key_uwi']\n",
    "    uwi = las[well_num].header['Well'][uwi_type].value\n",
    "\n",
    "    nrecords = len(las[well_num].header['Curves']['DEPT'].data)\n",
    "\n",
    "    UWI = pd.Series([uwi] * nrecords)\n",
    "    DEPT = pd.Series(las[well_num].header['Curves']['DEPT'].data)\n",
    "    DPHI = pd.Series(las[well_num].header['Curves']['DPHI'].data)\n",
    "    GR = pd.Series(las[well_num].header['Curves']['GR'].data)\n",
    "    ILD = pd.Series(las[well_num].header['Curves']['ILD'].data)\n",
    "    NPHI = pd.Series(las[well_num].header['Curves']['NPHI'].data)\n",
    "\n",
    "    d = {\n",
    "        'UWI': UWI,\n",
    "        'DEPT': DEPT,\n",
    "        'DPHI': DPHI,\n",
    "        'GR': GR,\n",
    "        'ILD': ILD,\n",
    "        'NPHI': NPHI\n",
    "    }\n",
    "    dl = dl.append(pd.DataFrame(d), ignore_index=True)"
   ]
  },
  {
   "cell_type": "code",
   "execution_count": 122,
   "metadata": {
    "collapsed": false
   },
   "outputs": [
    {
     "data": {
      "text/html": [
       "<div>\n",
       "<table border=\"1\" class=\"dataframe\">\n",
       "  <thead>\n",
       "    <tr style=\"text-align: right;\">\n",
       "      <th></th>\n",
       "      <th>DEPT</th>\n",
       "      <th>DPHI</th>\n",
       "      <th>GR</th>\n",
       "      <th>ILD</th>\n",
       "      <th>NPHI</th>\n",
       "      <th>UWI</th>\n",
       "      <th>UWI_AGS</th>\n",
       "    </tr>\n",
       "  </thead>\n",
       "  <tbody>\n",
       "    <tr>\n",
       "      <th>0</th>\n",
       "      <td>390.00</td>\n",
       "      <td>0.199</td>\n",
       "      <td>82.478</td>\n",
       "      <td>2.923</td>\n",
       "      <td>0.457</td>\n",
       "      <td>00/01-01-073-05W5/0</td>\n",
       "      <td>0735050101000</td>\n",
       "    </tr>\n",
       "    <tr>\n",
       "      <th>1</th>\n",
       "      <td>390.25</td>\n",
       "      <td>0.208</td>\n",
       "      <td>86.413</td>\n",
       "      <td>2.925</td>\n",
       "      <td>0.456</td>\n",
       "      <td>00/01-01-073-05W5/0</td>\n",
       "      <td>0735050101000</td>\n",
       "    </tr>\n",
       "    <tr>\n",
       "      <th>2</th>\n",
       "      <td>390.50</td>\n",
       "      <td>0.246</td>\n",
       "      <td>90.229</td>\n",
       "      <td>2.917</td>\n",
       "      <td>0.452</td>\n",
       "      <td>00/01-01-073-05W5/0</td>\n",
       "      <td>0735050101000</td>\n",
       "    </tr>\n",
       "    <tr>\n",
       "      <th>3</th>\n",
       "      <td>390.75</td>\n",
       "      <td>0.266</td>\n",
       "      <td>90.944</td>\n",
       "      <td>2.898</td>\n",
       "      <td>0.475</td>\n",
       "      <td>00/01-01-073-05W5/0</td>\n",
       "      <td>0735050101000</td>\n",
       "    </tr>\n",
       "    <tr>\n",
       "      <th>4</th>\n",
       "      <td>391.00</td>\n",
       "      <td>0.287</td>\n",
       "      <td>88.866</td>\n",
       "      <td>2.890</td>\n",
       "      <td>0.484</td>\n",
       "      <td>00/01-01-073-05W5/0</td>\n",
       "      <td>0735050101000</td>\n",
       "    </tr>\n",
       "  </tbody>\n",
       "</table>\n",
       "</div>"
      ],
      "text/plain": [
       "     DEPT   DPHI      GR    ILD   NPHI                  UWI        UWI_AGS\n",
       "0  390.00  0.199  82.478  2.923  0.457  00/01-01-073-05W5/0  0735050101000\n",
       "1  390.25  0.208  86.413  2.925  0.456  00/01-01-073-05W5/0  0735050101000\n",
       "2  390.50  0.246  90.229  2.917  0.452  00/01-01-073-05W5/0  0735050101000\n",
       "3  390.75  0.266  90.944  2.898  0.475  00/01-01-073-05W5/0  0735050101000\n",
       "4  391.00  0.287  88.866  2.890  0.484  00/01-01-073-05W5/0  0735050101000"
      ]
     },
     "execution_count": 122,
     "metadata": {},
     "output_type": "execute_result"
    }
   ],
   "source": [
    "dl.head()"
   ]
  },
  {
   "cell_type": "code",
   "execution_count": 94,
   "metadata": {
    "collapsed": true
   },
   "outputs": [],
   "source": [
    "# fix some wrong UWI using UWI (AGS)\n",
    "def getUWIAGS(wrongUWI):\n",
    "\n",
    "    s1 = wrongUWI[9:12]\n",
    "    s2 = wrongUWI[16:17]\n",
    "    s3 = wrongUWI[13:15]\n",
    "    s4 = wrongUWI[6:8]\n",
    "    s5 = wrongUWI[3:5]\n",
    "    s6 = wrongUWI[0:2]\n",
    "    s7 = wrongUWI[18:19]\n",
    "    \n",
    "    return(s1 + s2 + s3 + s4 + s5 + s6 + s7)"
   ]
  },
  {
   "cell_type": "code",
   "execution_count": 96,
   "metadata": {
    "collapsed": false
   },
   "outputs": [
    {
     "data": {
      "text/plain": [
       "'0884081505AD0'"
      ]
     },
     "execution_count": 96,
     "metadata": {},
     "output_type": "execute_result"
    }
   ],
   "source": [
    "getUWIAGS('AD/05-15-088-08W400')"
   ]
  },
  {
   "cell_type": "code",
   "execution_count": 111,
   "metadata": {
    "collapsed": false
   },
   "outputs": [
    {
     "data": {
      "text/plain": [
       "1474751"
      ]
     },
     "execution_count": 111,
     "metadata": {},
     "output_type": "execute_result"
    }
   ],
   "source": [
    "len(dl)"
   ]
  },
  {
   "cell_type": "code",
   "execution_count": 119,
   "metadata": {
    "collapsed": false
   },
   "outputs": [
    {
     "data": {
      "text/plain": [
       "('AD/05-15-088-08W400', '0884081505AD0')"
      ]
     },
     "execution_count": 119,
     "metadata": {},
     "output_type": "execute_result"
    }
   ],
   "source": [
    "(dl.iloc[1474750].UWI, getUWIAGS(dl.iloc[1474750].UWI))"
   ]
  },
  {
   "cell_type": "code",
   "execution_count": 118,
   "metadata": {
    "collapsed": false
   },
   "outputs": [],
   "source": [
    "# adding UWI_AGS column to join table Wellst which has the SitID. SitID is common to all data tables\n",
    "dl['UWI_AGS'] = [getUWIAGS(dl.iloc[i].UWI) for i in range(len(dl))]"
   ]
  },
  {
   "cell_type": "code",
   "execution_count": 121,
   "metadata": {
    "collapsed": false
   },
   "outputs": [
    {
     "data": {
      "text/html": [
       "<div>\n",
       "<table border=\"1\" class=\"dataframe\">\n",
       "  <thead>\n",
       "    <tr style=\"text-align: right;\">\n",
       "      <th></th>\n",
       "      <th>DEPT</th>\n",
       "      <th>DPHI</th>\n",
       "      <th>GR</th>\n",
       "      <th>ILD</th>\n",
       "      <th>NPHI</th>\n",
       "      <th>UWI</th>\n",
       "      <th>UWI_AGS</th>\n",
       "    </tr>\n",
       "  </thead>\n",
       "  <tbody>\n",
       "    <tr>\n",
       "      <th>0</th>\n",
       "      <td>390.00</td>\n",
       "      <td>0.199</td>\n",
       "      <td>82.478</td>\n",
       "      <td>2.923</td>\n",
       "      <td>0.457</td>\n",
       "      <td>00/01-01-073-05W5/0</td>\n",
       "      <td>0735050101000</td>\n",
       "    </tr>\n",
       "    <tr>\n",
       "      <th>1</th>\n",
       "      <td>390.25</td>\n",
       "      <td>0.208</td>\n",
       "      <td>86.413</td>\n",
       "      <td>2.925</td>\n",
       "      <td>0.456</td>\n",
       "      <td>00/01-01-073-05W5/0</td>\n",
       "      <td>0735050101000</td>\n",
       "    </tr>\n",
       "    <tr>\n",
       "      <th>2</th>\n",
       "      <td>390.50</td>\n",
       "      <td>0.246</td>\n",
       "      <td>90.229</td>\n",
       "      <td>2.917</td>\n",
       "      <td>0.452</td>\n",
       "      <td>00/01-01-073-05W5/0</td>\n",
       "      <td>0735050101000</td>\n",
       "    </tr>\n",
       "    <tr>\n",
       "      <th>3</th>\n",
       "      <td>390.75</td>\n",
       "      <td>0.266</td>\n",
       "      <td>90.944</td>\n",
       "      <td>2.898</td>\n",
       "      <td>0.475</td>\n",
       "      <td>00/01-01-073-05W5/0</td>\n",
       "      <td>0735050101000</td>\n",
       "    </tr>\n",
       "    <tr>\n",
       "      <th>4</th>\n",
       "      <td>391.00</td>\n",
       "      <td>0.287</td>\n",
       "      <td>88.866</td>\n",
       "      <td>2.890</td>\n",
       "      <td>0.484</td>\n",
       "      <td>00/01-01-073-05W5/0</td>\n",
       "      <td>0735050101000</td>\n",
       "    </tr>\n",
       "  </tbody>\n",
       "</table>\n",
       "</div>"
      ],
      "text/plain": [
       "     DEPT   DPHI      GR    ILD   NPHI                  UWI        UWI_AGS\n",
       "0  390.00  0.199  82.478  2.923  0.457  00/01-01-073-05W5/0  0735050101000\n",
       "1  390.25  0.208  86.413  2.925  0.456  00/01-01-073-05W5/0  0735050101000\n",
       "2  390.50  0.246  90.229  2.917  0.452  00/01-01-073-05W5/0  0735050101000\n",
       "3  390.75  0.266  90.944  2.898  0.475  00/01-01-073-05W5/0  0735050101000\n",
       "4  391.00  0.287  88.866  2.890  0.484  00/01-01-073-05W5/0  0735050101000"
      ]
     },
     "execution_count": 121,
     "metadata": {},
     "output_type": "execute_result"
    }
   ],
   "source": [
    "dl.head()"
   ]
  },
  {
   "cell_type": "code",
   "execution_count": 120,
   "metadata": {
    "collapsed": false
   },
   "outputs": [
    {
     "data": {
      "text/html": [
       "<div>\n",
       "<table border=\"1\" class=\"dataframe\">\n",
       "  <thead>\n",
       "    <tr style=\"text-align: right;\">\n",
       "      <th></th>\n",
       "      <th>DEPT</th>\n",
       "      <th>DPHI</th>\n",
       "      <th>GR</th>\n",
       "      <th>ILD</th>\n",
       "      <th>NPHI</th>\n",
       "      <th>UWI</th>\n",
       "      <th>UWI_AGS</th>\n",
       "    </tr>\n",
       "  </thead>\n",
       "  <tbody>\n",
       "    <tr>\n",
       "      <th>1474746</th>\n",
       "      <td>142.00</td>\n",
       "      <td>0.039</td>\n",
       "      <td>64.370</td>\n",
       "      <td>50.572</td>\n",
       "      <td>0.149</td>\n",
       "      <td>AD/05-15-088-08W400</td>\n",
       "      <td>0884081505AD0</td>\n",
       "    </tr>\n",
       "    <tr>\n",
       "      <th>1474747</th>\n",
       "      <td>142.25</td>\n",
       "      <td>0.034</td>\n",
       "      <td>64.406</td>\n",
       "      <td>51.559</td>\n",
       "      <td>0.152</td>\n",
       "      <td>AD/05-15-088-08W400</td>\n",
       "      <td>0884081505AD0</td>\n",
       "    </tr>\n",
       "    <tr>\n",
       "      <th>1474748</th>\n",
       "      <td>142.50</td>\n",
       "      <td>0.032</td>\n",
       "      <td>60.770</td>\n",
       "      <td>56.706</td>\n",
       "      <td>0.156</td>\n",
       "      <td>AD/05-15-088-08W400</td>\n",
       "      <td>0884081505AD0</td>\n",
       "    </tr>\n",
       "    <tr>\n",
       "      <th>1474749</th>\n",
       "      <td>142.75</td>\n",
       "      <td>0.039</td>\n",
       "      <td>53.479</td>\n",
       "      <td>61.181</td>\n",
       "      <td>0.148</td>\n",
       "      <td>AD/05-15-088-08W400</td>\n",
       "      <td>0884081505AD0</td>\n",
       "    </tr>\n",
       "    <tr>\n",
       "      <th>1474750</th>\n",
       "      <td>143.00</td>\n",
       "      <td>0.030</td>\n",
       "      <td>48.631</td>\n",
       "      <td>61.220</td>\n",
       "      <td>0.150</td>\n",
       "      <td>AD/05-15-088-08W400</td>\n",
       "      <td>0884081505AD0</td>\n",
       "    </tr>\n",
       "  </tbody>\n",
       "</table>\n",
       "</div>"
      ],
      "text/plain": [
       "           DEPT   DPHI      GR     ILD   NPHI                  UWI  \\\n",
       "1474746  142.00  0.039  64.370  50.572  0.149  AD/05-15-088-08W400   \n",
       "1474747  142.25  0.034  64.406  51.559  0.152  AD/05-15-088-08W400   \n",
       "1474748  142.50  0.032  60.770  56.706  0.156  AD/05-15-088-08W400   \n",
       "1474749  142.75  0.039  53.479  61.181  0.148  AD/05-15-088-08W400   \n",
       "1474750  143.00  0.030  48.631  61.220  0.150  AD/05-15-088-08W400   \n",
       "\n",
       "               UWI_AGS  \n",
       "1474746  0884081505AD0  \n",
       "1474747  0884081505AD0  \n",
       "1474748  0884081505AD0  \n",
       "1474749  0884081505AD0  \n",
       "1474750  0884081505AD0  "
      ]
     },
     "execution_count": 120,
     "metadata": {},
     "output_type": "execute_result"
    }
   ],
   "source": [
    "dl.tail()"
   ]
  },
  {
   "cell_type": "code",
   "execution_count": 123,
   "metadata": {
    "collapsed": false
   },
   "outputs": [
    {
     "data": {
      "text/plain": [
       "Index(['SitID', 'UWI (AGS)', 'UWI'], dtype='object')"
      ]
     },
     "execution_count": 123,
     "metadata": {},
     "output_type": "execute_result"
    }
   ],
   "source": [
    "wellst.columns"
   ]
  },
  {
   "cell_type": "code",
   "execution_count": 163,
   "metadata": {
    "collapsed": false
   },
   "outputs": [
    {
     "data": {
      "text/html": [
       "<div>\n",
       "<table border=\"1\" class=\"dataframe\">\n",
       "  <thead>\n",
       "    <tr style=\"text-align: right;\">\n",
       "      <th></th>\n",
       "      <th>SitID</th>\n",
       "      <th>DEPT</th>\n",
       "      <th>DPHI</th>\n",
       "      <th>GR</th>\n",
       "      <th>ILD</th>\n",
       "      <th>NPHI</th>\n",
       "    </tr>\n",
       "  </thead>\n",
       "  <tbody>\n",
       "    <tr>\n",
       "      <th>1474746</th>\n",
       "      <td>117119</td>\n",
       "      <td>142.00</td>\n",
       "      <td>0.039</td>\n",
       "      <td>64.370</td>\n",
       "      <td>50.572</td>\n",
       "      <td>0.149</td>\n",
       "    </tr>\n",
       "    <tr>\n",
       "      <th>1474747</th>\n",
       "      <td>117119</td>\n",
       "      <td>142.25</td>\n",
       "      <td>0.034</td>\n",
       "      <td>64.406</td>\n",
       "      <td>51.559</td>\n",
       "      <td>0.152</td>\n",
       "    </tr>\n",
       "    <tr>\n",
       "      <th>1474748</th>\n",
       "      <td>117119</td>\n",
       "      <td>142.50</td>\n",
       "      <td>0.032</td>\n",
       "      <td>60.770</td>\n",
       "      <td>56.706</td>\n",
       "      <td>0.156</td>\n",
       "    </tr>\n",
       "    <tr>\n",
       "      <th>1474749</th>\n",
       "      <td>117119</td>\n",
       "      <td>142.75</td>\n",
       "      <td>0.039</td>\n",
       "      <td>53.479</td>\n",
       "      <td>61.181</td>\n",
       "      <td>0.148</td>\n",
       "    </tr>\n",
       "    <tr>\n",
       "      <th>1474750</th>\n",
       "      <td>117119</td>\n",
       "      <td>143.00</td>\n",
       "      <td>0.030</td>\n",
       "      <td>48.631</td>\n",
       "      <td>61.220</td>\n",
       "      <td>0.150</td>\n",
       "    </tr>\n",
       "  </tbody>\n",
       "</table>\n",
       "</div>"
      ],
      "text/plain": [
       "          SitID    DEPT   DPHI      GR     ILD   NPHI\n",
       "1474746  117119  142.00  0.039  64.370  50.572  0.149\n",
       "1474747  117119  142.25  0.034  64.406  51.559  0.152\n",
       "1474748  117119  142.50  0.032  60.770  56.706  0.156\n",
       "1474749  117119  142.75  0.039  53.479  61.181  0.148\n",
       "1474750  117119  143.00  0.030  48.631  61.220  0.150"
      ]
     },
     "execution_count": 163,
     "metadata": {},
     "output_type": "execute_result"
    }
   ],
   "source": [
    "# drinks['beer_servings'] = drinks.beer_servings.astype(float)\n",
    "dl = pd.merge(dl, wellst[['SitID', 'UWI (AGS)']], left_on='UWI_AGS', right_on='UWI (AGS)', how='left')\n",
    "dt = dl[['SitID', 'DEPT', 'DPHI', 'GR', 'ILD', 'NPHI']]\n",
    "dt.head()"
   ]
  },
  {
   "cell_type": "code",
   "execution_count": null,
   "metadata": {
    "collapsed": true
   },
   "outputs": [],
   "source": [
    "dt.tail()"
   ]
  }
 ],
 "metadata": {
  "anaconda-cloud": {},
  "kernelspec": {
   "display_name": "Python [conda root]",
   "language": "python",
   "name": "conda-root-py"
  },
  "language_info": {
   "codemirror_mode": {
    "name": "ipython",
    "version": 3
   },
   "file_extension": ".py",
   "mimetype": "text/x-python",
   "name": "python",
   "nbconvert_exporter": "python",
   "pygments_lexer": "ipython3",
   "version": "3.5.2"
  }
 },
 "nbformat": 4,
 "nbformat_minor": 1
}
