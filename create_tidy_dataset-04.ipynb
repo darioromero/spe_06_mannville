{
 "cells": [
  {
   "cell_type": "code",
   "execution_count": 1,
   "metadata": {
    "collapsed": false
   },
   "outputs": [
    {
     "name": "stdout",
     "output_type": "stream",
     "text": [
      "D:\\Users\\drome\\gitrepos\\spe 06\\MannvilleGroup_Strat_Hackathon\n"
     ]
    }
   ],
   "source": [
    "!pwd"
   ]
  },
  {
   "cell_type": "code",
   "execution_count": 2,
   "metadata": {
    "collapsed": false
   },
   "outputs": [],
   "source": [
    "# !pip install holoviews\n",
    "# !pip install lasio"
   ]
  },
  {
   "cell_type": "code",
   "execution_count": 3,
   "metadata": {
    "collapsed": false
   },
   "outputs": [
    {
     "data": {
      "text/plain": [
       "'0.19'"
      ]
     },
     "execution_count": 3,
     "metadata": {},
     "output_type": "execute_result"
    }
   ],
   "source": [
    "import os\n",
    "import glob\n",
    "import pandas as pd\n",
    "import numpy as np\n",
    "import holoviews as hv\n",
    "import collections\n",
    "import matplotlib.pyplot as plt\n",
    "%matplotlib inline\n",
    "import lasio\n",
    "lasio.__version__"
   ]
  },
  {
   "cell_type": "code",
   "execution_count": 4,
   "metadata": {
    "collapsed": false
   },
   "outputs": [],
   "source": [
    "home = \"./SPE_006_originalData/OilSandsDB\""
   ]
  },
  {
   "cell_type": "code",
   "execution_count": 5,
   "metadata": {
    "collapsed": false
   },
   "outputs": [
    {
     "data": {
      "text/html": [
       "<div>\n",
       "<table border=\"1\" class=\"dataframe\">\n",
       "  <thead>\n",
       "    <tr style=\"text-align: right;\">\n",
       "      <th></th>\n",
       "      <th>SitID</th>\n",
       "      <th>lng</th>\n",
       "      <th>lat</th>\n",
       "    </tr>\n",
       "  </thead>\n",
       "  <tbody>\n",
       "    <tr>\n",
       "      <th>0</th>\n",
       "      <td>102496</td>\n",
       "      <td>-110.12932</td>\n",
       "      <td>54.785907</td>\n",
       "    </tr>\n",
       "    <tr>\n",
       "      <th>1</th>\n",
       "      <td>102497</td>\n",
       "      <td>-110.269446</td>\n",
       "      <td>54.782284</td>\n",
       "    </tr>\n",
       "    <tr>\n",
       "      <th>2</th>\n",
       "      <td>102498</td>\n",
       "      <td>-110.186851</td>\n",
       "      <td>54.785892</td>\n",
       "    </tr>\n",
       "    <tr>\n",
       "      <th>3</th>\n",
       "      <td>102500</td>\n",
       "      <td>-110.269422</td>\n",
       "      <td>54.829624</td>\n",
       "    </tr>\n",
       "    <tr>\n",
       "      <th>4</th>\n",
       "      <td>102501</td>\n",
       "      <td>-110.224832</td>\n",
       "      <td>54.840471</td>\n",
       "    </tr>\n",
       "  </tbody>\n",
       "</table>\n",
       "</div>"
      ],
      "text/plain": [
       "    SitID          lng        lat\n",
       "0  102496   -110.12932  54.785907\n",
       "1  102497  -110.269446  54.782284\n",
       "2  102498  -110.186851  54.785892\n",
       "3  102500  -110.269422  54.829624\n",
       "4  102501  -110.224832  54.840471"
      ]
     },
     "execution_count": 5,
     "metadata": {},
     "output_type": "execute_result"
    }
   ],
   "source": [
    "# read wells with lat and long coordinates\n",
    "locations = pd.read_csv(\"./well_lat_lng.csv\", delimiter=',', dtype=str)\n",
    "locations = locations[['SitID', 'lng', 'lat']]\n",
    "# df[['color', 'food', 'score']]\n",
    "locations.head()"
   ]
  },
  {
   "cell_type": "code",
   "execution_count": 6,
   "metadata": {
    "collapsed": false
   },
   "outputs": [
    {
     "data": {
      "text/html": [
       "<div>\n",
       "<table border=\"1\" class=\"dataframe\">\n",
       "  <thead>\n",
       "    <tr style=\"text-align: right;\">\n",
       "      <th></th>\n",
       "      <th>HorID</th>\n",
       "      <th>Description</th>\n",
       "    </tr>\n",
       "  </thead>\n",
       "  <tbody>\n",
       "    <tr>\n",
       "      <th>0</th>\n",
       "      <td>1000</td>\n",
       "      <td>mannville</td>\n",
       "    </tr>\n",
       "    <tr>\n",
       "      <th>1</th>\n",
       "      <td>2000</td>\n",
       "      <td>t61</td>\n",
       "    </tr>\n",
       "    <tr>\n",
       "      <th>2</th>\n",
       "      <td>3000</td>\n",
       "      <td>t51</td>\n",
       "    </tr>\n",
       "    <tr>\n",
       "      <th>3</th>\n",
       "      <td>4000</td>\n",
       "      <td>t41</td>\n",
       "    </tr>\n",
       "    <tr>\n",
       "      <th>4</th>\n",
       "      <td>5000</td>\n",
       "      <td>t31</td>\n",
       "    </tr>\n",
       "  </tbody>\n",
       "</table>\n",
       "</div>"
      ],
      "text/plain": [
       "  HorID Description\n",
       "0  1000   mannville\n",
       "1  2000         t61\n",
       "2  3000         t51\n",
       "3  4000         t41\n",
       "4  5000         t31"
      ]
     },
     "execution_count": 6,
     "metadata": {},
     "output_type": "execute_result"
    }
   ],
   "source": [
    "# describe the stratigraphic picks used in Picks\n",
    "picks_dicts = pd.read_csv(home + \"/PICKS_DIC.TXT\", delimiter='\\t', dtype=str)\n",
    "picks_dicts.columns = ['HorID', 'Description']\n",
    "picks_dicts.head()"
   ]
  },
  {
   "cell_type": "code",
   "execution_count": 7,
   "metadata": {
    "collapsed": false
   },
   "outputs": [
    {
     "data": {
      "text/html": [
       "<div>\n",
       "<table border=\"1\" class=\"dataframe\">\n",
       "  <thead>\n",
       "    <tr style=\"text-align: right;\">\n",
       "      <th></th>\n",
       "      <th>SitID</th>\n",
       "      <th>HorID</th>\n",
       "      <th>Pick</th>\n",
       "      <th>Quality</th>\n",
       "    </tr>\n",
       "  </thead>\n",
       "  <tbody>\n",
       "    <tr>\n",
       "      <th>0</th>\n",
       "      <td>102496</td>\n",
       "      <td>1000</td>\n",
       "      <td>321.0</td>\n",
       "      <td>1</td>\n",
       "    </tr>\n",
       "    <tr>\n",
       "      <th>4</th>\n",
       "      <td>102496</td>\n",
       "      <td>5000</td>\n",
       "      <td>438.0</td>\n",
       "      <td>2</td>\n",
       "    </tr>\n",
       "    <tr>\n",
       "      <th>6</th>\n",
       "      <td>102496</td>\n",
       "      <td>7000</td>\n",
       "      <td>458.0</td>\n",
       "      <td>3</td>\n",
       "    </tr>\n",
       "    <tr>\n",
       "      <th>7</th>\n",
       "      <td>102496</td>\n",
       "      <td>9000</td>\n",
       "      <td>468.0</td>\n",
       "      <td>3</td>\n",
       "    </tr>\n",
       "    <tr>\n",
       "      <th>8</th>\n",
       "      <td>102496</td>\n",
       "      <td>9500</td>\n",
       "      <td>468.0</td>\n",
       "      <td>3</td>\n",
       "    </tr>\n",
       "  </tbody>\n",
       "</table>\n",
       "</div>"
      ],
      "text/plain": [
       "    SitID HorID   Pick  Quality\n",
       "0  102496  1000  321.0        1\n",
       "4  102496  5000  438.0        2\n",
       "6  102496  7000  458.0        3\n",
       "7  102496  9000  468.0        3\n",
       "8  102496  9500  468.0        3"
      ]
     },
     "execution_count": 7,
     "metadata": {},
     "output_type": "execute_result"
    }
   ],
   "source": [
    "# stratigraphic picks and dropping NaN values\n",
    "picks = pd.read_csv(home + \"/PICKS.TXT\", delimiter='\\t')\n",
    "picks['SitID'] = picks['SitID'].astype(str)\n",
    "picks['HorID'] = picks['HorID'].astype(str)\n",
    "picks['Pick'] = picks['Pick'].str.strip()\n",
    "picks['Pick'] = pd.to_numeric(picks['Pick'])\n",
    "picks = picks.dropna()\n",
    "# picks.columns = ['SitID', 'HorID', 'DEPT', 'Quality']\n",
    "picks.head()"
   ]
  },
  {
   "cell_type": "code",
   "execution_count": 8,
   "metadata": {
    "collapsed": false
   },
   "outputs": [
    {
     "name": "stdout",
     "output_type": "stream",
     "text": [
      "<class 'pandas.core.frame.DataFrame'>\n",
      "Int64Index: 20327 entries, 0 to 30701\n",
      "Data columns (total 4 columns):\n",
      "SitID      20327 non-null object\n",
      "HorID      20327 non-null object\n",
      "Pick       20327 non-null float64\n",
      "Quality    20327 non-null int64\n",
      "dtypes: float64(1), int64(1), object(2)\n",
      "memory usage: 794.0+ KB\n"
     ]
    }
   ],
   "source": [
    "picks.info()"
   ]
  },
  {
   "cell_type": "code",
   "execution_count": 9,
   "metadata": {
    "collapsed": false
   },
   "outputs": [
    {
     "data": {
      "text/html": [
       "<div>\n",
       "<table border=\"1\" class=\"dataframe\">\n",
       "  <thead>\n",
       "    <tr style=\"text-align: right;\">\n",
       "      <th></th>\n",
       "      <th>SitID</th>\n",
       "      <th>UWI (AGS)</th>\n",
       "      <th>UWI</th>\n",
       "    </tr>\n",
       "  </thead>\n",
       "  <tbody>\n",
       "    <tr>\n",
       "      <th>0</th>\n",
       "      <td>102496</td>\n",
       "      <td>0674010812000</td>\n",
       "      <td>00/12-08-067-01W4/0</td>\n",
       "    </tr>\n",
       "    <tr>\n",
       "      <th>1</th>\n",
       "      <td>102497</td>\n",
       "      <td>0674020807000</td>\n",
       "      <td>00/07-08-067-02W4/0</td>\n",
       "    </tr>\n",
       "    <tr>\n",
       "      <th>2</th>\n",
       "      <td>102498</td>\n",
       "      <td>0674021109000</td>\n",
       "      <td>00/09-11-067-02W4/0</td>\n",
       "    </tr>\n",
       "    <tr>\n",
       "      <th>3</th>\n",
       "      <td>102500</td>\n",
       "      <td>0674022910000</td>\n",
       "      <td>00/10-29-067-02W4/0</td>\n",
       "    </tr>\n",
       "    <tr>\n",
       "      <th>4</th>\n",
       "      <td>102501</td>\n",
       "      <td>0674023406000</td>\n",
       "      <td>00/06-34-067-02W4/0</td>\n",
       "    </tr>\n",
       "  </tbody>\n",
       "</table>\n",
       "</div>"
      ],
      "text/plain": [
       "    SitID      UWI (AGS)                  UWI\n",
       "0  102496  0674010812000  00/12-08-067-01W4/0\n",
       "1  102497  0674020807000  00/07-08-067-02W4/0\n",
       "2  102498  0674021109000  00/09-11-067-02W4/0\n",
       "3  102500  0674022910000  00/10-29-067-02W4/0\n",
       "4  102501  0674023406000  00/06-34-067-02W4/0"
      ]
     },
     "execution_count": 9,
     "metadata": {},
     "output_type": "execute_result"
    }
   ],
   "source": [
    "# list of wells\n",
    "wellst = pd.read_csv(home + \"/WELLS.TXT\", delimiter= '\\t', dtype=str)\n",
    "wellst.head()"
   ]
  },
  {
   "cell_type": "code",
   "execution_count": 10,
   "metadata": {
    "collapsed": false
   },
   "outputs": [
    {
     "data": {
      "text/plain": [
       "SitID        object\n",
       "UWI (AGS)    object\n",
       "UWI          object\n",
       "dtype: object"
      ]
     },
     "execution_count": 10,
     "metadata": {},
     "output_type": "execute_result"
    }
   ],
   "source": [
    "wellst.dtypes"
   ]
  },
  {
   "cell_type": "code",
   "execution_count": 11,
   "metadata": {
    "collapsed": false
   },
   "outputs": [
    {
     "data": {
      "text/plain": [
       "Index([u'SitID', u'HorID', u'Pick', u'Quality', u'UWI (AGS)', u'UWI', u'lng',\n",
       "       u'lat'],\n",
       "      dtype='object')"
      ]
     },
     "execution_count": 11,
     "metadata": {},
     "output_type": "execute_result"
    }
   ],
   "source": [
    "# merge wellst, locations, and picks in one dataframe\n",
    "wl = pd.merge(left=wellst, right=locations, left_on=['SitID'], right_on=['SitID'], how='left')\n",
    "wlp = pd.merge(left=picks, right=wl, left_on=['SitID'], right_on=['SitID'], how='left')\n",
    "wlp.columns"
   ]
  },
  {
   "cell_type": "code",
   "execution_count": 12,
   "metadata": {
    "collapsed": false
   },
   "outputs": [
    {
     "name": "stdout",
     "output_type": "stream",
     "text": [
      "<class 'pandas.core.frame.DataFrame'>\n",
      "Int64Index: 20327 entries, 0 to 20326\n",
      "Data columns (total 8 columns):\n",
      "SitID        20327 non-null object\n",
      "HorID        20327 non-null object\n",
      "Pick         20327 non-null float64\n",
      "Quality      20327 non-null int64\n",
      "UWI (AGS)    20327 non-null object\n",
      "UWI          20327 non-null object\n",
      "lng          20327 non-null object\n",
      "lat          20327 non-null object\n",
      "dtypes: float64(1), int64(1), object(6)\n",
      "memory usage: 1.4+ MB\n"
     ]
    }
   ],
   "source": [
    "wlp.info()"
   ]
  },
  {
   "cell_type": "code",
   "execution_count": 13,
   "metadata": {
    "collapsed": false
   },
   "outputs": [
    {
     "data": {
      "text/html": [
       "<div>\n",
       "<table border=\"1\" class=\"dataframe\">\n",
       "  <thead>\n",
       "    <tr style=\"text-align: right;\">\n",
       "      <th></th>\n",
       "      <th>SitID</th>\n",
       "      <th>HorID</th>\n",
       "      <th>Pick</th>\n",
       "      <th>Quality</th>\n",
       "      <th>UWI (AGS)</th>\n",
       "      <th>UWI</th>\n",
       "      <th>lng</th>\n",
       "      <th>lat</th>\n",
       "    </tr>\n",
       "  </thead>\n",
       "  <tbody>\n",
       "    <tr>\n",
       "      <th>0</th>\n",
       "      <td>102496</td>\n",
       "      <td>1000</td>\n",
       "      <td>321.0</td>\n",
       "      <td>1</td>\n",
       "      <td>0674010812000</td>\n",
       "      <td>00/12-08-067-01W4/0</td>\n",
       "      <td>-110.12932</td>\n",
       "      <td>54.785907</td>\n",
       "    </tr>\n",
       "    <tr>\n",
       "      <th>1</th>\n",
       "      <td>102496</td>\n",
       "      <td>5000</td>\n",
       "      <td>438.0</td>\n",
       "      <td>2</td>\n",
       "      <td>0674010812000</td>\n",
       "      <td>00/12-08-067-01W4/0</td>\n",
       "      <td>-110.12932</td>\n",
       "      <td>54.785907</td>\n",
       "    </tr>\n",
       "    <tr>\n",
       "      <th>2</th>\n",
       "      <td>102496</td>\n",
       "      <td>7000</td>\n",
       "      <td>458.0</td>\n",
       "      <td>3</td>\n",
       "      <td>0674010812000</td>\n",
       "      <td>00/12-08-067-01W4/0</td>\n",
       "      <td>-110.12932</td>\n",
       "      <td>54.785907</td>\n",
       "    </tr>\n",
       "    <tr>\n",
       "      <th>3</th>\n",
       "      <td>102496</td>\n",
       "      <td>9000</td>\n",
       "      <td>468.0</td>\n",
       "      <td>3</td>\n",
       "      <td>0674010812000</td>\n",
       "      <td>00/12-08-067-01W4/0</td>\n",
       "      <td>-110.12932</td>\n",
       "      <td>54.785907</td>\n",
       "    </tr>\n",
       "    <tr>\n",
       "      <th>4</th>\n",
       "      <td>102496</td>\n",
       "      <td>9500</td>\n",
       "      <td>468.0</td>\n",
       "      <td>3</td>\n",
       "      <td>0674010812000</td>\n",
       "      <td>00/12-08-067-01W4/0</td>\n",
       "      <td>-110.12932</td>\n",
       "      <td>54.785907</td>\n",
       "    </tr>\n",
       "  </tbody>\n",
       "</table>\n",
       "</div>"
      ],
      "text/plain": [
       "    SitID HorID   Pick  Quality      UWI (AGS)                  UWI  \\\n",
       "0  102496  1000  321.0        1  0674010812000  00/12-08-067-01W4/0   \n",
       "1  102496  5000  438.0        2  0674010812000  00/12-08-067-01W4/0   \n",
       "2  102496  7000  458.0        3  0674010812000  00/12-08-067-01W4/0   \n",
       "3  102496  9000  468.0        3  0674010812000  00/12-08-067-01W4/0   \n",
       "4  102496  9500  468.0        3  0674010812000  00/12-08-067-01W4/0   \n",
       "\n",
       "          lng        lat  \n",
       "0  -110.12932  54.785907  \n",
       "1  -110.12932  54.785907  \n",
       "2  -110.12932  54.785907  \n",
       "3  -110.12932  54.785907  \n",
       "4  -110.12932  54.785907  "
      ]
     },
     "execution_count": 13,
     "metadata": {},
     "output_type": "execute_result"
    }
   ],
   "source": [
    "wlp.head()"
   ]
  },
  {
   "cell_type": "code",
   "execution_count": 14,
   "metadata": {
    "collapsed": false
   },
   "outputs": [
    {
     "name": "stdout",
     "output_type": "stream",
     "text": [
      "# LAS files: 2171\n"
     ]
    }
   ],
   "source": [
    "# las files\n",
    "path_logs = home + \"/Logs\"\n",
    "las = [x for x in os.listdir(path_logs + \"/\") if x.endswith(\".LAS\")]\n",
    "print(\"# LAS files: \" + str(len(las)))"
   ]
  },
  {
   "cell_type": "code",
   "execution_count": 15,
   "metadata": {
    "collapsed": false
   },
   "outputs": [
    {
     "data": {
      "text/html": [
       "<div>\n",
       "<table border=\"1\" class=\"dataframe\">\n",
       "  <thead>\n",
       "    <tr style=\"text-align: right;\">\n",
       "      <th></th>\n",
       "      <th>ILD</th>\n",
       "      <th>GR</th>\n",
       "      <th>CALI</th>\n",
       "      <th>NPHI</th>\n",
       "    </tr>\n",
       "    <tr>\n",
       "      <th>DEPT</th>\n",
       "      <th></th>\n",
       "      <th></th>\n",
       "      <th></th>\n",
       "      <th></th>\n",
       "    </tr>\n",
       "  </thead>\n",
       "  <tbody>\n",
       "    <tr>\n",
       "      <th>3.00</th>\n",
       "      <td>4.785</td>\n",
       "      <td>40.188</td>\n",
       "      <td>318.972</td>\n",
       "      <td>0.532</td>\n",
       "    </tr>\n",
       "    <tr>\n",
       "      <th>3.25</th>\n",
       "      <td>4.277</td>\n",
       "      <td>42.542</td>\n",
       "      <td>320.911</td>\n",
       "      <td>0.563</td>\n",
       "    </tr>\n",
       "    <tr>\n",
       "      <th>3.50</th>\n",
       "      <td>6.303</td>\n",
       "      <td>43.705</td>\n",
       "      <td>320.850</td>\n",
       "      <td>0.547</td>\n",
       "    </tr>\n",
       "    <tr>\n",
       "      <th>3.75</th>\n",
       "      <td>3.963</td>\n",
       "      <td>40.679</td>\n",
       "      <td>321.774</td>\n",
       "      <td>0.467</td>\n",
       "    </tr>\n",
       "    <tr>\n",
       "      <th>4.00</th>\n",
       "      <td>3.413</td>\n",
       "      <td>31.046</td>\n",
       "      <td>322.714</td>\n",
       "      <td>0.481</td>\n",
       "    </tr>\n",
       "  </tbody>\n",
       "</table>\n",
       "</div>"
      ],
      "text/plain": [
       "        ILD      GR     CALI   NPHI\n",
       "DEPT                               \n",
       "3.00  4.785  40.188  318.972  0.532\n",
       "3.25  4.277  42.542  320.911  0.563\n",
       "3.50  6.303  43.705  320.850  0.547\n",
       "3.75  3.963  40.679  321.774  0.467\n",
       "4.00  3.413  31.046  322.714  0.481"
      ]
     },
     "execution_count": 15,
     "metadata": {},
     "output_type": "execute_result"
    }
   ],
   "source": [
    "# a sample of curves from a log file\n",
    "wellname = 'AB-07-12-093-10W4-0'\n",
    "lasio.read(path_logs + \"/\" + wellname + \".LAS\").df().head()"
   ]
  },
  {
   "cell_type": "markdown",
   "metadata": {},
   "source": [
    "### Reading LAS Files with lasio"
   ]
  },
  {
   "cell_type": "code",
   "execution_count": 16,
   "metadata": {
    "collapsed": false
   },
   "outputs": [
    {
     "name": "stderr",
     "output_type": "stream",
     "text": [
      "No handlers could be found for logger \"lasio.las\"\n"
     ]
    },
    {
     "data": {
      "text/plain": [
       "(list, lasio.las.LASFile)"
      ]
     },
     "execution_count": 16,
     "metadata": {},
     "output_type": "execute_result"
    }
   ],
   "source": [
    "las = [lasio.read(path_logs + \"/\" + filename) for filename in os.listdir(path_logs) if filename.endswith(\".LAS\")]\n",
    "type(las), type(las[0])"
   ]
  },
  {
   "cell_type": "code",
   "execution_count": 17,
   "metadata": {
    "collapsed": false
   },
   "outputs": [
    {
     "data": {
      "text/plain": [
       "[HeaderItem(mnemonic=WELL, unit=, value=AMOCO AOSTRA GLISPLH1, descr=Well_nam...),\n",
       " HeaderItem(mnemonic=LOC, unit=, value=AB/05-02-086-07W4/0, descr=Location   ...),\n",
       " HeaderItem(mnemonic=UWI, unit=, value=AB/05-02-086-07W400, descr=Uwi        ...),\n",
       " HeaderItem(mnemonic=ENTR, unit=, value=KATHY, descr=Entered      - ENTERED BY),\n",
       " HeaderItem(mnemonic=SRVC, unit=, value=SCHLUMBERGER, descr=Scn          - SE...),\n",
       " HeaderItem(mnemonic=STRT, unit=M, value=160, descr=top_depth    - START DEPTH),\n",
       " HeaderItem(mnemonic=STOP, unit=M, value=235.001, descr=bot_depth    - STOP D...),\n",
       " HeaderItem(mnemonic=STEP, unit=M, value=0.3, descr=increment    - STEP LENGTH),\n",
       " HeaderItem(mnemonic=NULL, unit=, value=-999.25, descr=NULL Value)]"
      ]
     },
     "execution_count": 17,
     "metadata": {},
     "output_type": "execute_result"
    }
   ],
   "source": [
    "las[2153].header['Well']"
   ]
  },
  {
   "cell_type": "code",
   "execution_count": 18,
   "metadata": {
    "collapsed": false
   },
   "outputs": [
    {
     "data": {
      "text/plain": [
       "[HeaderItem(mnemonic=GL, unit=M, value=478.6, descr=gl           - GROUND LEV...),\n",
       " HeaderItem(mnemonic=EREF, unit=M, value=480, descr=kb           - ELEVATION ...),\n",
       " HeaderItem(mnemonic=DATM, unit=M, value=480, descr=datum        - DATUM ELEV...),\n",
       " HeaderItem(mnemonic=TDD, unit=M, value=241, descr=tdd          - TOTAL DEPTH...),\n",
       " HeaderItem(mnemonic=RUN, unit=, value=ONE, descr=Run          - RUN NUMBER),\n",
       " HeaderItem(mnemonic=ENG, unit=, value=BILL, descr=Engineer     - RECORDING E...),\n",
       " HeaderItem(mnemonic=WIT, unit=, value=JIM, descr=Witness      - WITNESSED BY),\n",
       " HeaderItem(mnemonic=MUD, unit=, value=GEL, descr=Mud_type     - MUD TYPE),\n",
       " HeaderItem(mnemonic=MATR:1, unit=, value=LIMESTONE, descr=Logunit      - NEU...),\n",
       " HeaderItem(mnemonic=TMAX, unit=C, value=60, descr=BHT          - MAXIMUM REC...),\n",
       " HeaderItem(mnemonic=BHTD, unit=M, value=241, descr=BHTDEP       - MAXIMUM RE...),\n",
       " HeaderItem(mnemonic=MATR:2, unit=, value=1, descr=LOGUNIT      - NEUTRON MATRIX),\n",
       " HeaderItem(mnemonic=RMT, unit=C, value=25, descr=MDTP         - TEMPERATURE ...),\n",
       " HeaderItem(mnemonic=NEUT, unit=, value=1, descr=NEUTRON      - NEUTRON TYPE),\n",
       " HeaderItem(mnemonic=RESI, unit=, value=0, descr=RESIST       - RESISTIVITY TYPE),\n",
       " HeaderItem(mnemonic=RMC, unit=OHMM, value=0.25, descr=RMC          - RESISTI...),\n",
       " HeaderItem(mnemonic=RMF, unit=OHMM, value=0.25, descr=RMF          - RESISTI...),\n",
       " HeaderItem(mnemonic=SUFT, unit=C, value=5, descr=SUFT         - SURFACE TEMP...)]"
      ]
     },
     "execution_count": 18,
     "metadata": {},
     "output_type": "execute_result"
    }
   ],
   "source": [
    "las[2153].header['Parameter']"
   ]
  },
  {
   "cell_type": "code",
   "execution_count": 19,
   "metadata": {
    "collapsed": false
   },
   "outputs": [
    {
     "data": {
      "text/plain": [
       "[HeaderItem(mnemonic=VERS, unit=, value=2.0, descr=CWLS LOG ASCII STANDARD -V...),\n",
       " HeaderItem(mnemonic=WRAP, unit=, value=NO, descr=ONE LINE PER DEPTH STEP)]"
      ]
     },
     "execution_count": 19,
     "metadata": {},
     "output_type": "execute_result"
    }
   ],
   "source": [
    "las[2153].header['Version']"
   ]
  },
  {
   "cell_type": "code",
   "execution_count": 20,
   "metadata": {
    "collapsed": false
   },
   "outputs": [
    {
     "data": {
      "text/plain": [
       "[CurveItem(mnemonic=DEPT, unit=M, value=00 001 00 00, descr=DEPTH        - DEPTH, original_mnemonic=DEPT, data.shape=(251L,)),\n",
       " CurveItem(mnemonic=GR:1, unit=API, value=00 310 00 00, descr=GR           - GAMMA RAY, original_mnemonic=GR, data.shape=(251L,)),\n",
       " CurveItem(mnemonic=DPHI:1, unit=V/V, value=00 890 00 00, descr=PHID         - DENSITY POROSITY (LIMESTONE), original_mnemonic=DPHI, data.shape=(251L,)),\n",
       " CurveItem(mnemonic=ILD:1, unit=OHMM, value=00 120 00 00, descr=RESD         - DEEP RESISTIVITY (DIL), original_mnemonic=ILD, data.shape=(251L,)),\n",
       " CurveItem(mnemonic=GR:2, unit=API, value=00 310 00 00, descr=GR           - GAMMA RAY, original_mnemonic=GR, data.shape=(251L,)),\n",
       " CurveItem(mnemonic=DPHI:2, unit=V/V, value=00 890 00 00, descr=PHID         - DENSITY POROSITY (LIMESTONE), original_mnemonic=DPHI, data.shape=(251L,)),\n",
       " CurveItem(mnemonic=ILD:2, unit=OHMM, value=00 120 00 00, descr=RESD         - DEEP RESISTIVITY (DIL), original_mnemonic=ILD, data.shape=(251L,))]"
      ]
     },
     "execution_count": 20,
     "metadata": {},
     "output_type": "execute_result"
    }
   ],
   "source": [
    "las[2153].header['Curves']"
   ]
  },
  {
   "cell_type": "code",
   "execution_count": 21,
   "metadata": {
    "collapsed": false
   },
   "outputs": [
    {
     "data": {
      "text/plain": [
       "251"
      ]
     },
     "execution_count": 21,
     "metadata": {},
     "output_type": "execute_result"
    }
   ],
   "source": [
    "len(las[2153].header['Curves']['DEPT'].data)"
   ]
  },
  {
   "cell_type": "code",
   "execution_count": 22,
   "metadata": {
    "collapsed": false
   },
   "outputs": [
    {
     "data": {
      "text/plain": [
       "array([ 160. ,  160.3,  160.6,  160.9,  161.2,  161.5,  161.8,  162.1,\n",
       "        162.4,  162.7])"
      ]
     },
     "execution_count": 22,
     "metadata": {},
     "output_type": "execute_result"
    }
   ],
   "source": [
    "las[2153].header['Curves']['DEPT'].data[0:10]"
   ]
  },
  {
   "cell_type": "code",
   "execution_count": 23,
   "metadata": {
    "collapsed": false
   },
   "outputs": [
    {
     "data": {
      "text/plain": [
       "[u'DEPT', u'GR:1', u'DPHI:1', u'ILD:1', u'GR:2', u'DPHI:2', u'ILD:2']"
      ]
     },
     "execution_count": 23,
     "metadata": {},
     "output_type": "execute_result"
    }
   ],
   "source": [
    "# type of curves (logs) present in the las file\n",
    "las[2153].header['Curves'].keys()"
   ]
  },
  {
   "cell_type": "code",
   "execution_count": 24,
   "metadata": {
    "collapsed": true
   },
   "outputs": [],
   "source": [
    "# function to retrieve UWI (location of the UWI may vary within the LAS file)\n",
    "keywds = ['UWI', 'UWI:1', 'UWI:2', 'UWI:3']\n",
    "def getKeyValue(idx, keywds):\n",
    "    for keywd in keywds:\n",
    "        if (keywd) not in las[idx].header[\"Well\"]:\n",
    "            pass\n",
    "        else:\n",
    "            return [keywd, las[idx].header[\"Well\"][keywd].value]"
   ]
  },
  {
   "cell_type": "code",
   "execution_count": 25,
   "metadata": {
    "collapsed": false
   },
   "outputs": [],
   "source": [
    "# counting more common curves\n",
    "curves = []\n",
    "for i in range(len(las)):\n",
    "    df_las = las[i].df()\n",
    "    curves.extend(list(df_las.columns))"
   ]
  },
  {
   "cell_type": "code",
   "execution_count": 26,
   "metadata": {
    "collapsed": false
   },
   "outputs": [
    {
     "name": "stdout",
     "output_type": "stream",
     "text": [
      "[u'CALI', u'COND', u'DELT', u'DENS', u'DPHI', u'DPHI:1', u'DPHI:2', u'DT', u'GR', u'GR:1', u'GR:2', u'IL', u'ILD', u'ILD:1', u'ILD:2', u'ILM', u'LITH', u'LLD', u'LLS', u'NPHI', u'PHID', u'PHIN', u'RESD', u'RHOB', u'RT', u'SFL', u'SFLU', u'SN', u'SNP', u'SP']\n",
      "[783, 3, 98, 4, 1917, 1, 1, 14, 2169, 1, 1, 2, 2154, 1, 1, 6, 1, 2, 1, 2008, 8, 4, 6, 132, 1, 3, 6, 1, 2, 14]\n"
     ]
    }
   ],
   "source": [
    "# ordered set of curves across all logs files\n",
    "counter = collections.Counter(curves)\n",
    "counter = collections.OrderedDict(sorted(counter.items()))\n",
    "print(counter.keys())\n",
    "print(counter.values())"
   ]
  },
  {
   "cell_type": "code",
   "execution_count": 27,
   "metadata": {
    "collapsed": false
   },
   "outputs": [
    {
     "data": {
      "text/plain": [
       "u'AB/05-02-086-07W400'"
      ]
     },
     "execution_count": 27,
     "metadata": {},
     "output_type": "execute_result"
    }
   ],
   "source": [
    "las[2153].header['Well']['UWI'].value"
   ]
  },
  {
   "cell_type": "code",
   "execution_count": 28,
   "metadata": {
    "collapsed": false
   },
   "outputs": [
    {
     "data": {
      "text/plain": [
       "[u'DEPT', u'GR:1', u'DPHI:1', u'ILD:1', u'GR:2', u'DPHI:2', u'ILD:2']"
      ]
     },
     "execution_count": 28,
     "metadata": {},
     "output_type": "execute_result"
    }
   ],
   "source": [
    "las[2153].header['Curves'].keys()"
   ]
  },
  {
   "cell_type": "code",
   "execution_count": 29,
   "metadata": {
    "collapsed": false
   },
   "outputs": [
    {
     "data": {
      "text/plain": [
       "[CurveItem(mnemonic=DEPT, unit=M, value=00 001 00 00, descr=DEPTH        - DEPTH, original_mnemonic=DEPT, data.shape=(251L,)),\n",
       " CurveItem(mnemonic=GR:1, unit=API, value=00 310 00 00, descr=GR           - GAMMA RAY, original_mnemonic=GR, data.shape=(251L,)),\n",
       " CurveItem(mnemonic=DPHI:1, unit=V/V, value=00 890 00 00, descr=PHID         - DENSITY POROSITY (LIMESTONE), original_mnemonic=DPHI, data.shape=(251L,)),\n",
       " CurveItem(mnemonic=ILD:1, unit=OHMM, value=00 120 00 00, descr=RESD         - DEEP RESISTIVITY (DIL), original_mnemonic=ILD, data.shape=(251L,)),\n",
       " CurveItem(mnemonic=GR:2, unit=API, value=00 310 00 00, descr=GR           - GAMMA RAY, original_mnemonic=GR, data.shape=(251L,)),\n",
       " CurveItem(mnemonic=DPHI:2, unit=V/V, value=00 890 00 00, descr=PHID         - DENSITY POROSITY (LIMESTONE), original_mnemonic=DPHI, data.shape=(251L,)),\n",
       " CurveItem(mnemonic=ILD:2, unit=OHMM, value=00 120 00 00, descr=RESD         - DEEP RESISTIVITY (DIL), original_mnemonic=ILD, data.shape=(251L,))]"
      ]
     },
     "execution_count": 29,
     "metadata": {},
     "output_type": "execute_result"
    }
   ],
   "source": [
    "las[2153].header['Curves']"
   ]
  },
  {
   "cell_type": "code",
   "execution_count": 30,
   "metadata": {
    "collapsed": false
   },
   "outputs": [],
   "source": [
    "# Selecting only those wells which have common curves: DEPT; DPHI; GR; ILD; NPHI\n",
    "keys = ['DEPT', 'DPHI', 'DPHI:1', 'DPHI:2', 'GR', 'GR:1', 'GR:2', 'ILD', 'ILD:1', 'ILD:2', \\\n",
    "        'NPHI', 'NPHI:1', 'NPHI:2', 'PHIN', 'PHIN:1', 'PHIN:2']\n",
    "values = ['DEPT', 'DPHI', 'DPHI', 'DPHI', 'GR', 'GR', 'GR', 'ILD', 'ILD', 'ILD', \\\n",
    "          'NPHI', 'NPHI', 'NPHI', 'NPHI', 'NPHI', 'NPHI']\n",
    "dictOfCurves = dict(zip(keys, values))\n",
    "\n",
    "columns = ['i', 'key_uwi', 'uwi', 'curvesNew', 'curvesOld']\n",
    "rows = []"
   ]
  },
  {
   "cell_type": "code",
   "execution_count": 31,
   "metadata": {
    "collapsed": true
   },
   "outputs": [],
   "source": [
    "# find ':' on curve header name (Note: maybe not required)\n",
    "import re\n",
    "def findColon(name):\n",
    "    m = re.search(\"\\:\", name)\n",
    "    if (m is not None):\n",
    "        return m.span()[0]"
   ]
  },
  {
   "cell_type": "code",
   "execution_count": 32,
   "metadata": {
    "collapsed": false
   },
   "outputs": [],
   "source": [
    "# create dataframe with standardized set of curves [GR, DPHI, ILD, DEPT, NPHI]\n",
    "for i in range(len(las)):\n",
    "    las_curves = las[i].header['Curves'].keys()\n",
    "    c = [str(dictOfCurves[c]) for c in keys if c in las_curves]\n",
    "    key_uwi, uwi = getKeyValue(i, keywds)\n",
    "    rows.append([i, key_uwi, uwi, list(set(c)), las_curves])\n",
    "    \n",
    "df = pd.DataFrame(rows, columns=columns)\n",
    "rows = []\n",
    "df = df.reset_index(drop=True)"
   ]
  },
  {
   "cell_type": "code",
   "execution_count": 33,
   "metadata": {
    "collapsed": false
   },
   "outputs": [
    {
     "data": {
      "text/html": [
       "<div>\n",
       "<table border=\"1\" class=\"dataframe\">\n",
       "  <thead>\n",
       "    <tr style=\"text-align: right;\">\n",
       "      <th></th>\n",
       "      <th>i</th>\n",
       "      <th>key_uwi</th>\n",
       "      <th>uwi</th>\n",
       "      <th>curvesNew</th>\n",
       "      <th>curvesOld</th>\n",
       "    </tr>\n",
       "  </thead>\n",
       "  <tbody>\n",
       "    <tr>\n",
       "      <th>0</th>\n",
       "      <td>0</td>\n",
       "      <td>UWI</td>\n",
       "      <td>00/01-01-073-05W5/0</td>\n",
       "      <td>[DEPT, ILD, NPHI, GR, DPHI]</td>\n",
       "      <td>[DEPT, DPHI, NPHI, GR, CALI, ILD]</td>\n",
       "    </tr>\n",
       "    <tr>\n",
       "      <th>1</th>\n",
       "      <td>1</td>\n",
       "      <td>UWI</td>\n",
       "      <td>00/01-01-095-19W4/0</td>\n",
       "      <td>[DEPT, ILD, NPHI, GR, DPHI]</td>\n",
       "      <td>[DEPT, GR, CALI, NPHI, DPHI, ILD]</td>\n",
       "    </tr>\n",
       "    <tr>\n",
       "      <th>2</th>\n",
       "      <td>2</td>\n",
       "      <td>UWI</td>\n",
       "      <td>00/01-03-085-15W400</td>\n",
       "      <td>[DEPT, ILD, NPHI, GR, DPHI]</td>\n",
       "      <td>[DEPT, DPHI, NPHI, GR, ILD]</td>\n",
       "    </tr>\n",
       "    <tr>\n",
       "      <th>3</th>\n",
       "      <td>3</td>\n",
       "      <td>UWI</td>\n",
       "      <td>00/01-04-075-23W4/0</td>\n",
       "      <td>[DEPT, ILD, NPHI, GR, DPHI]</td>\n",
       "      <td>[DEPT, ILD, NPHI, DPHI, GR, CALI]</td>\n",
       "    </tr>\n",
       "    <tr>\n",
       "      <th>4</th>\n",
       "      <td>4</td>\n",
       "      <td>UWI</td>\n",
       "      <td>00/01-05-085-15W400</td>\n",
       "      <td>[DEPT, ILD, NPHI, GR, DPHI]</td>\n",
       "      <td>[DEPT, GR, NPHI, DPHI, ILD]</td>\n",
       "    </tr>\n",
       "  </tbody>\n",
       "</table>\n",
       "</div>"
      ],
      "text/plain": [
       "   i key_uwi                  uwi                    curvesNew  \\\n",
       "0  0     UWI  00/01-01-073-05W5/0  [DEPT, ILD, NPHI, GR, DPHI]   \n",
       "1  1     UWI  00/01-01-095-19W4/0  [DEPT, ILD, NPHI, GR, DPHI]   \n",
       "2  2     UWI  00/01-03-085-15W400  [DEPT, ILD, NPHI, GR, DPHI]   \n",
       "3  3     UWI  00/01-04-075-23W4/0  [DEPT, ILD, NPHI, GR, DPHI]   \n",
       "4  4     UWI  00/01-05-085-15W400  [DEPT, ILD, NPHI, GR, DPHI]   \n",
       "\n",
       "                           curvesOld  \n",
       "0  [DEPT, DPHI, NPHI, GR, CALI, ILD]  \n",
       "1  [DEPT, GR, CALI, NPHI, DPHI, ILD]  \n",
       "2        [DEPT, DPHI, NPHI, GR, ILD]  \n",
       "3  [DEPT, ILD, NPHI, DPHI, GR, CALI]  \n",
       "4        [DEPT, GR, NPHI, DPHI, ILD]  "
      ]
     },
     "execution_count": 33,
     "metadata": {},
     "output_type": "execute_result"
    }
   ],
   "source": [
    "df.head()"
   ]
  },
  {
   "cell_type": "code",
   "execution_count": 34,
   "metadata": {
    "collapsed": false
   },
   "outputs": [
    {
     "data": {
      "text/plain": [
       "2171"
      ]
     },
     "execution_count": 34,
     "metadata": {},
     "output_type": "execute_result"
    }
   ],
   "source": [
    "len(df)"
   ]
  },
  {
   "cell_type": "code",
   "execution_count": 35,
   "metadata": {
    "collapsed": false
   },
   "outputs": [],
   "source": [
    "# drop rows with less than 5 curves including DEPT\n",
    "dfl = df[df['curvesNew'].map(len) > 4]\n",
    "dfl = dfl.reset_index(drop=True)"
   ]
  },
  {
   "cell_type": "code",
   "execution_count": 36,
   "metadata": {
    "collapsed": false
   },
   "outputs": [
    {
     "data": {
      "text/plain": [
       "1848"
      ]
     },
     "execution_count": 36,
     "metadata": {},
     "output_type": "execute_result"
    }
   ],
   "source": [
    "len(dfl)"
   ]
  },
  {
   "cell_type": "code",
   "execution_count": 37,
   "metadata": {
    "collapsed": false
   },
   "outputs": [
    {
     "data": {
      "text/html": [
       "<div>\n",
       "<table border=\"1\" class=\"dataframe\">\n",
       "  <thead>\n",
       "    <tr style=\"text-align: right;\">\n",
       "      <th></th>\n",
       "      <th>i</th>\n",
       "      <th>key_uwi</th>\n",
       "      <th>uwi</th>\n",
       "      <th>curvesNew</th>\n",
       "      <th>curvesOld</th>\n",
       "    </tr>\n",
       "  </thead>\n",
       "  <tbody>\n",
       "    <tr>\n",
       "      <th>0</th>\n",
       "      <td>0</td>\n",
       "      <td>UWI</td>\n",
       "      <td>00/01-01-073-05W5/0</td>\n",
       "      <td>[DEPT, ILD, NPHI, GR, DPHI]</td>\n",
       "      <td>[DEPT, DPHI, NPHI, GR, CALI, ILD]</td>\n",
       "    </tr>\n",
       "    <tr>\n",
       "      <th>1</th>\n",
       "      <td>1</td>\n",
       "      <td>UWI</td>\n",
       "      <td>00/01-01-095-19W4/0</td>\n",
       "      <td>[DEPT, ILD, NPHI, GR, DPHI]</td>\n",
       "      <td>[DEPT, GR, CALI, NPHI, DPHI, ILD]</td>\n",
       "    </tr>\n",
       "    <tr>\n",
       "      <th>2</th>\n",
       "      <td>2</td>\n",
       "      <td>UWI</td>\n",
       "      <td>00/01-03-085-15W400</td>\n",
       "      <td>[DEPT, ILD, NPHI, GR, DPHI]</td>\n",
       "      <td>[DEPT, DPHI, NPHI, GR, ILD]</td>\n",
       "    </tr>\n",
       "    <tr>\n",
       "      <th>3</th>\n",
       "      <td>3</td>\n",
       "      <td>UWI</td>\n",
       "      <td>00/01-04-075-23W4/0</td>\n",
       "      <td>[DEPT, ILD, NPHI, GR, DPHI]</td>\n",
       "      <td>[DEPT, ILD, NPHI, DPHI, GR, CALI]</td>\n",
       "    </tr>\n",
       "    <tr>\n",
       "      <th>4</th>\n",
       "      <td>4</td>\n",
       "      <td>UWI</td>\n",
       "      <td>00/01-05-085-15W400</td>\n",
       "      <td>[DEPT, ILD, NPHI, GR, DPHI]</td>\n",
       "      <td>[DEPT, GR, NPHI, DPHI, ILD]</td>\n",
       "    </tr>\n",
       "  </tbody>\n",
       "</table>\n",
       "</div>"
      ],
      "text/plain": [
       "   i key_uwi                  uwi                    curvesNew  \\\n",
       "0  0     UWI  00/01-01-073-05W5/0  [DEPT, ILD, NPHI, GR, DPHI]   \n",
       "1  1     UWI  00/01-01-095-19W4/0  [DEPT, ILD, NPHI, GR, DPHI]   \n",
       "2  2     UWI  00/01-03-085-15W400  [DEPT, ILD, NPHI, GR, DPHI]   \n",
       "3  3     UWI  00/01-04-075-23W4/0  [DEPT, ILD, NPHI, GR, DPHI]   \n",
       "4  4     UWI  00/01-05-085-15W400  [DEPT, ILD, NPHI, GR, DPHI]   \n",
       "\n",
       "                           curvesOld  \n",
       "0  [DEPT, DPHI, NPHI, GR, CALI, ILD]  \n",
       "1  [DEPT, GR, CALI, NPHI, DPHI, ILD]  \n",
       "2        [DEPT, DPHI, NPHI, GR, ILD]  \n",
       "3  [DEPT, ILD, NPHI, DPHI, GR, CALI]  \n",
       "4        [DEPT, GR, NPHI, DPHI, ILD]  "
      ]
     },
     "execution_count": 37,
     "metadata": {},
     "output_type": "execute_result"
    }
   ],
   "source": [
    "dfl.head()"
   ]
  },
  {
   "cell_type": "code",
   "execution_count": 38,
   "metadata": {
    "collapsed": false
   },
   "outputs": [],
   "source": [
    "# final dataframe with wells having these curves [DEPT, DPHI, GR, ILD, NPHI]\n",
    "dl = pd.DataFrame([], columns=['UWI', 'DEPT', 'DPHI', 'GR', 'ILD', 'NPHI'])\n",
    "dl.columns\n",
    "\n",
    "for i in range(len(dfl)):\n",
    "    well_num = dfl.iloc[i]['i']\n",
    "    uwi_type = dfl.iloc[i]['key_uwi']\n",
    "    uwi = las[well_num].header['Well'][uwi_type].value\n",
    "\n",
    "    nrecords = len(las[well_num].header['Curves']['DEPT'].data)\n",
    "\n",
    "    UWI = pd.Series([uwi] * nrecords)\n",
    "    DEPT = pd.Series(las[well_num].header['Curves']['DEPT'].data)\n",
    "    DPHI = pd.Series(las[well_num].header['Curves']['DPHI'].data)\n",
    "    GR = pd.Series(las[well_num].header['Curves']['GR'].data)\n",
    "    ILD = pd.Series(las[well_num].header['Curves']['ILD'].data)\n",
    "    NPHI = pd.Series(las[well_num].header['Curves']['NPHI'].data)\n",
    "\n",
    "    d = {\n",
    "        'UWI': UWI,\n",
    "        'DEPT': DEPT,\n",
    "        'DPHI': DPHI,\n",
    "        'GR': GR,\n",
    "        'ILD': ILD,\n",
    "        'NPHI': NPHI\n",
    "    }\n",
    "    dl = dl.append(pd.DataFrame(d), ignore_index=True)"
   ]
  },
  {
   "cell_type": "code",
   "execution_count": 39,
   "metadata": {
    "collapsed": false
   },
   "outputs": [
    {
     "data": {
      "text/html": [
       "<div>\n",
       "<table border=\"1\" class=\"dataframe\">\n",
       "  <thead>\n",
       "    <tr style=\"text-align: right;\">\n",
       "      <th></th>\n",
       "      <th>DEPT</th>\n",
       "      <th>DPHI</th>\n",
       "      <th>GR</th>\n",
       "      <th>ILD</th>\n",
       "      <th>NPHI</th>\n",
       "      <th>UWI</th>\n",
       "    </tr>\n",
       "  </thead>\n",
       "  <tbody>\n",
       "    <tr>\n",
       "      <th>0</th>\n",
       "      <td>390.00</td>\n",
       "      <td>0.199</td>\n",
       "      <td>82.478</td>\n",
       "      <td>2.923</td>\n",
       "      <td>0.457</td>\n",
       "      <td>00/01-01-073-05W5/0</td>\n",
       "    </tr>\n",
       "    <tr>\n",
       "      <th>1</th>\n",
       "      <td>390.25</td>\n",
       "      <td>0.208</td>\n",
       "      <td>86.413</td>\n",
       "      <td>2.925</td>\n",
       "      <td>0.456</td>\n",
       "      <td>00/01-01-073-05W5/0</td>\n",
       "    </tr>\n",
       "    <tr>\n",
       "      <th>2</th>\n",
       "      <td>390.50</td>\n",
       "      <td>0.246</td>\n",
       "      <td>90.229</td>\n",
       "      <td>2.917</td>\n",
       "      <td>0.452</td>\n",
       "      <td>00/01-01-073-05W5/0</td>\n",
       "    </tr>\n",
       "    <tr>\n",
       "      <th>3</th>\n",
       "      <td>390.75</td>\n",
       "      <td>0.266</td>\n",
       "      <td>90.944</td>\n",
       "      <td>2.898</td>\n",
       "      <td>0.475</td>\n",
       "      <td>00/01-01-073-05W5/0</td>\n",
       "    </tr>\n",
       "    <tr>\n",
       "      <th>4</th>\n",
       "      <td>391.00</td>\n",
       "      <td>0.287</td>\n",
       "      <td>88.866</td>\n",
       "      <td>2.890</td>\n",
       "      <td>0.484</td>\n",
       "      <td>00/01-01-073-05W5/0</td>\n",
       "    </tr>\n",
       "  </tbody>\n",
       "</table>\n",
       "</div>"
      ],
      "text/plain": [
       "     DEPT   DPHI      GR    ILD   NPHI                  UWI\n",
       "0  390.00  0.199  82.478  2.923  0.457  00/01-01-073-05W5/0\n",
       "1  390.25  0.208  86.413  2.925  0.456  00/01-01-073-05W5/0\n",
       "2  390.50  0.246  90.229  2.917  0.452  00/01-01-073-05W5/0\n",
       "3  390.75  0.266  90.944  2.898  0.475  00/01-01-073-05W5/0\n",
       "4  391.00  0.287  88.866  2.890  0.484  00/01-01-073-05W5/0"
      ]
     },
     "execution_count": 39,
     "metadata": {},
     "output_type": "execute_result"
    }
   ],
   "source": [
    "dl.head()"
   ]
  },
  {
   "cell_type": "code",
   "execution_count": 40,
   "metadata": {
    "collapsed": true
   },
   "outputs": [],
   "source": [
    "# get UWI (AGS) using a not-well-formed  UWI\n",
    "def getUWIAGS(wrongUWI):\n",
    "\n",
    "    s1 = wrongUWI[9:12]\n",
    "    s2 = wrongUWI[16:17]\n",
    "    s3 = wrongUWI[13:15]\n",
    "    s4 = wrongUWI[6:8]\n",
    "    s5 = wrongUWI[3:5]\n",
    "    s6 = wrongUWI[0:2]\n",
    "    s7 = wrongUWI[18:19]\n",
    "    \n",
    "    return(s1 + s2 + s3 + s4 + s5 + s6 + s7)"
   ]
  },
  {
   "cell_type": "code",
   "execution_count": 41,
   "metadata": {
    "collapsed": false
   },
   "outputs": [
    {
     "data": {
      "text/plain": [
       "'0884081505AD0'"
      ]
     },
     "execution_count": 41,
     "metadata": {},
     "output_type": "execute_result"
    }
   ],
   "source": [
    "getUWIAGS('AD/05-15-088-08W400')"
   ]
  },
  {
   "cell_type": "code",
   "execution_count": 42,
   "metadata": {
    "collapsed": false
   },
   "outputs": [
    {
     "data": {
      "text/plain": [
       "1474751"
      ]
     },
     "execution_count": 42,
     "metadata": {},
     "output_type": "execute_result"
    }
   ],
   "source": [
    "len(dl)"
   ]
  },
  {
   "cell_type": "code",
   "execution_count": 43,
   "metadata": {
    "collapsed": false
   },
   "outputs": [
    {
     "data": {
      "text/plain": [
       "(u'AD/05-15-088-08W400', u'0884081505AD0')"
      ]
     },
     "execution_count": 43,
     "metadata": {},
     "output_type": "execute_result"
    }
   ],
   "source": [
    "(dl.iloc[1474750].UWI, getUWIAGS(dl.iloc[1474750].UWI))"
   ]
  },
  {
   "cell_type": "code",
   "execution_count": 44,
   "metadata": {
    "collapsed": false
   },
   "outputs": [],
   "source": [
    "# adding UWI_AGS column to join table Wellst which has the SitID. SitID is common to all data tables\n",
    "dl['UWI_AGS'] = [getUWIAGS(dl.iloc[i].UWI) for i in range(len(dl))]"
   ]
  },
  {
   "cell_type": "code",
   "execution_count": 45,
   "metadata": {
    "collapsed": false
   },
   "outputs": [
    {
     "data": {
      "text/html": [
       "<div>\n",
       "<table border=\"1\" class=\"dataframe\">\n",
       "  <thead>\n",
       "    <tr style=\"text-align: right;\">\n",
       "      <th></th>\n",
       "      <th>DEPT</th>\n",
       "      <th>DPHI</th>\n",
       "      <th>GR</th>\n",
       "      <th>ILD</th>\n",
       "      <th>NPHI</th>\n",
       "      <th>UWI</th>\n",
       "      <th>UWI_AGS</th>\n",
       "    </tr>\n",
       "  </thead>\n",
       "  <tbody>\n",
       "    <tr>\n",
       "      <th>0</th>\n",
       "      <td>390.00</td>\n",
       "      <td>0.199</td>\n",
       "      <td>82.478</td>\n",
       "      <td>2.923</td>\n",
       "      <td>0.457</td>\n",
       "      <td>00/01-01-073-05W5/0</td>\n",
       "      <td>0735050101000</td>\n",
       "    </tr>\n",
       "    <tr>\n",
       "      <th>1</th>\n",
       "      <td>390.25</td>\n",
       "      <td>0.208</td>\n",
       "      <td>86.413</td>\n",
       "      <td>2.925</td>\n",
       "      <td>0.456</td>\n",
       "      <td>00/01-01-073-05W5/0</td>\n",
       "      <td>0735050101000</td>\n",
       "    </tr>\n",
       "    <tr>\n",
       "      <th>2</th>\n",
       "      <td>390.50</td>\n",
       "      <td>0.246</td>\n",
       "      <td>90.229</td>\n",
       "      <td>2.917</td>\n",
       "      <td>0.452</td>\n",
       "      <td>00/01-01-073-05W5/0</td>\n",
       "      <td>0735050101000</td>\n",
       "    </tr>\n",
       "    <tr>\n",
       "      <th>3</th>\n",
       "      <td>390.75</td>\n",
       "      <td>0.266</td>\n",
       "      <td>90.944</td>\n",
       "      <td>2.898</td>\n",
       "      <td>0.475</td>\n",
       "      <td>00/01-01-073-05W5/0</td>\n",
       "      <td>0735050101000</td>\n",
       "    </tr>\n",
       "    <tr>\n",
       "      <th>4</th>\n",
       "      <td>391.00</td>\n",
       "      <td>0.287</td>\n",
       "      <td>88.866</td>\n",
       "      <td>2.890</td>\n",
       "      <td>0.484</td>\n",
       "      <td>00/01-01-073-05W5/0</td>\n",
       "      <td>0735050101000</td>\n",
       "    </tr>\n",
       "  </tbody>\n",
       "</table>\n",
       "</div>"
      ],
      "text/plain": [
       "     DEPT   DPHI      GR    ILD   NPHI                  UWI        UWI_AGS\n",
       "0  390.00  0.199  82.478  2.923  0.457  00/01-01-073-05W5/0  0735050101000\n",
       "1  390.25  0.208  86.413  2.925  0.456  00/01-01-073-05W5/0  0735050101000\n",
       "2  390.50  0.246  90.229  2.917  0.452  00/01-01-073-05W5/0  0735050101000\n",
       "3  390.75  0.266  90.944  2.898  0.475  00/01-01-073-05W5/0  0735050101000\n",
       "4  391.00  0.287  88.866  2.890  0.484  00/01-01-073-05W5/0  0735050101000"
      ]
     },
     "execution_count": 45,
     "metadata": {},
     "output_type": "execute_result"
    }
   ],
   "source": [
    "dl.head()"
   ]
  },
  {
   "cell_type": "code",
   "execution_count": 46,
   "metadata": {
    "collapsed": false
   },
   "outputs": [
    {
     "data": {
      "text/html": [
       "<div>\n",
       "<table border=\"1\" class=\"dataframe\">\n",
       "  <thead>\n",
       "    <tr style=\"text-align: right;\">\n",
       "      <th></th>\n",
       "      <th>DEPT</th>\n",
       "      <th>DPHI</th>\n",
       "      <th>GR</th>\n",
       "      <th>ILD</th>\n",
       "      <th>NPHI</th>\n",
       "      <th>UWI</th>\n",
       "      <th>UWI_AGS</th>\n",
       "    </tr>\n",
       "  </thead>\n",
       "  <tbody>\n",
       "    <tr>\n",
       "      <th>1474746</th>\n",
       "      <td>142.00</td>\n",
       "      <td>0.039</td>\n",
       "      <td>64.370</td>\n",
       "      <td>50.572</td>\n",
       "      <td>0.149</td>\n",
       "      <td>AD/05-15-088-08W400</td>\n",
       "      <td>0884081505AD0</td>\n",
       "    </tr>\n",
       "    <tr>\n",
       "      <th>1474747</th>\n",
       "      <td>142.25</td>\n",
       "      <td>0.034</td>\n",
       "      <td>64.406</td>\n",
       "      <td>51.559</td>\n",
       "      <td>0.152</td>\n",
       "      <td>AD/05-15-088-08W400</td>\n",
       "      <td>0884081505AD0</td>\n",
       "    </tr>\n",
       "    <tr>\n",
       "      <th>1474748</th>\n",
       "      <td>142.50</td>\n",
       "      <td>0.032</td>\n",
       "      <td>60.770</td>\n",
       "      <td>56.706</td>\n",
       "      <td>0.156</td>\n",
       "      <td>AD/05-15-088-08W400</td>\n",
       "      <td>0884081505AD0</td>\n",
       "    </tr>\n",
       "    <tr>\n",
       "      <th>1474749</th>\n",
       "      <td>142.75</td>\n",
       "      <td>0.039</td>\n",
       "      <td>53.479</td>\n",
       "      <td>61.181</td>\n",
       "      <td>0.148</td>\n",
       "      <td>AD/05-15-088-08W400</td>\n",
       "      <td>0884081505AD0</td>\n",
       "    </tr>\n",
       "    <tr>\n",
       "      <th>1474750</th>\n",
       "      <td>143.00</td>\n",
       "      <td>0.030</td>\n",
       "      <td>48.631</td>\n",
       "      <td>61.220</td>\n",
       "      <td>0.150</td>\n",
       "      <td>AD/05-15-088-08W400</td>\n",
       "      <td>0884081505AD0</td>\n",
       "    </tr>\n",
       "  </tbody>\n",
       "</table>\n",
       "</div>"
      ],
      "text/plain": [
       "           DEPT   DPHI      GR     ILD   NPHI                  UWI  \\\n",
       "1474746  142.00  0.039  64.370  50.572  0.149  AD/05-15-088-08W400   \n",
       "1474747  142.25  0.034  64.406  51.559  0.152  AD/05-15-088-08W400   \n",
       "1474748  142.50  0.032  60.770  56.706  0.156  AD/05-15-088-08W400   \n",
       "1474749  142.75  0.039  53.479  61.181  0.148  AD/05-15-088-08W400   \n",
       "1474750  143.00  0.030  48.631  61.220  0.150  AD/05-15-088-08W400   \n",
       "\n",
       "               UWI_AGS  \n",
       "1474746  0884081505AD0  \n",
       "1474747  0884081505AD0  \n",
       "1474748  0884081505AD0  \n",
       "1474749  0884081505AD0  \n",
       "1474750  0884081505AD0  "
      ]
     },
     "execution_count": 46,
     "metadata": {},
     "output_type": "execute_result"
    }
   ],
   "source": [
    "# see how this 'not-well-formed UWI': AD/05-15-088-08W400, should be this: AD/05-15-088-08W4/0\n",
    "dl.tail()"
   ]
  },
  {
   "cell_type": "code",
   "execution_count": 47,
   "metadata": {
    "collapsed": false
   },
   "outputs": [
    {
     "name": "stdout",
     "output_type": "stream",
     "text": [
      "<class 'pandas.core.frame.DataFrame'>\n",
      "RangeIndex: 2193 entries, 0 to 2192\n",
      "Data columns (total 3 columns):\n",
      "SitID        2193 non-null object\n",
      "UWI (AGS)    2193 non-null object\n",
      "UWI          2193 non-null object\n",
      "dtypes: object(3)\n",
      "memory usage: 51.5+ KB\n"
     ]
    },
    {
     "data": {
      "text/plain": [
       "(Index([u'SitID', u'UWI (AGS)', u'UWI'], dtype='object'), None)"
      ]
     },
     "execution_count": 47,
     "metadata": {},
     "output_type": "execute_result"
    }
   ],
   "source": [
    "(wellst.columns, wellst.info())"
   ]
  },
  {
   "cell_type": "code",
   "execution_count": 48,
   "metadata": {
    "collapsed": false
   },
   "outputs": [
    {
     "data": {
      "text/html": [
       "<div>\n",
       "<table border=\"1\" class=\"dataframe\">\n",
       "  <thead>\n",
       "    <tr style=\"text-align: right;\">\n",
       "      <th></th>\n",
       "      <th>SitID</th>\n",
       "      <th>DEPT</th>\n",
       "      <th>DPHI</th>\n",
       "      <th>GR</th>\n",
       "      <th>ILD</th>\n",
       "      <th>NPHI</th>\n",
       "    </tr>\n",
       "  </thead>\n",
       "  <tbody>\n",
       "    <tr>\n",
       "      <th>0</th>\n",
       "      <td>142218</td>\n",
       "      <td>390.00</td>\n",
       "      <td>0.199</td>\n",
       "      <td>82.478</td>\n",
       "      <td>2.923</td>\n",
       "      <td>0.457</td>\n",
       "    </tr>\n",
       "    <tr>\n",
       "      <th>1</th>\n",
       "      <td>142218</td>\n",
       "      <td>390.25</td>\n",
       "      <td>0.208</td>\n",
       "      <td>86.413</td>\n",
       "      <td>2.925</td>\n",
       "      <td>0.456</td>\n",
       "    </tr>\n",
       "    <tr>\n",
       "      <th>2</th>\n",
       "      <td>142218</td>\n",
       "      <td>390.50</td>\n",
       "      <td>0.246</td>\n",
       "      <td>90.229</td>\n",
       "      <td>2.917</td>\n",
       "      <td>0.452</td>\n",
       "    </tr>\n",
       "    <tr>\n",
       "      <th>3</th>\n",
       "      <td>142218</td>\n",
       "      <td>390.75</td>\n",
       "      <td>0.266</td>\n",
       "      <td>90.944</td>\n",
       "      <td>2.898</td>\n",
       "      <td>0.475</td>\n",
       "    </tr>\n",
       "    <tr>\n",
       "      <th>4</th>\n",
       "      <td>142218</td>\n",
       "      <td>391.00</td>\n",
       "      <td>0.287</td>\n",
       "      <td>88.866</td>\n",
       "      <td>2.890</td>\n",
       "      <td>0.484</td>\n",
       "    </tr>\n",
       "  </tbody>\n",
       "</table>\n",
       "</div>"
      ],
      "text/plain": [
       "    SitID    DEPT   DPHI      GR    ILD   NPHI\n",
       "0  142218  390.00  0.199  82.478  2.923  0.457\n",
       "1  142218  390.25  0.208  86.413  2.925  0.456\n",
       "2  142218  390.50  0.246  90.229  2.917  0.452\n",
       "3  142218  390.75  0.266  90.944  2.898  0.475\n",
       "4  142218  391.00  0.287  88.866  2.890  0.484"
      ]
     },
     "execution_count": 48,
     "metadata": {},
     "output_type": "execute_result"
    }
   ],
   "source": [
    "# merging dataframe 'dl' with logs and wells table (wellst) to get SitID  \n",
    "dl = pd.merge(dl, wellst[['SitID', 'UWI (AGS)']], left_on='UWI_AGS', right_on='UWI (AGS)', how='left')\n",
    "dt = dl[['SitID', 'DEPT', 'DPHI', 'GR', 'ILD', 'NPHI']]\n",
    "dt.head()"
   ]
  },
  {
   "cell_type": "code",
   "execution_count": 49,
   "metadata": {
    "collapsed": false
   },
   "outputs": [
    {
     "data": {
      "text/html": [
       "<div>\n",
       "<table border=\"1\" class=\"dataframe\">\n",
       "  <thead>\n",
       "    <tr style=\"text-align: right;\">\n",
       "      <th></th>\n",
       "      <th>SitID</th>\n",
       "      <th>DEPT</th>\n",
       "      <th>DPHI</th>\n",
       "      <th>GR</th>\n",
       "      <th>ILD</th>\n",
       "      <th>NPHI</th>\n",
       "    </tr>\n",
       "  </thead>\n",
       "  <tbody>\n",
       "    <tr>\n",
       "      <th>1474746</th>\n",
       "      <td>117119</td>\n",
       "      <td>142.00</td>\n",
       "      <td>0.039</td>\n",
       "      <td>64.370</td>\n",
       "      <td>50.572</td>\n",
       "      <td>0.149</td>\n",
       "    </tr>\n",
       "    <tr>\n",
       "      <th>1474747</th>\n",
       "      <td>117119</td>\n",
       "      <td>142.25</td>\n",
       "      <td>0.034</td>\n",
       "      <td>64.406</td>\n",
       "      <td>51.559</td>\n",
       "      <td>0.152</td>\n",
       "    </tr>\n",
       "    <tr>\n",
       "      <th>1474748</th>\n",
       "      <td>117119</td>\n",
       "      <td>142.50</td>\n",
       "      <td>0.032</td>\n",
       "      <td>60.770</td>\n",
       "      <td>56.706</td>\n",
       "      <td>0.156</td>\n",
       "    </tr>\n",
       "    <tr>\n",
       "      <th>1474749</th>\n",
       "      <td>117119</td>\n",
       "      <td>142.75</td>\n",
       "      <td>0.039</td>\n",
       "      <td>53.479</td>\n",
       "      <td>61.181</td>\n",
       "      <td>0.148</td>\n",
       "    </tr>\n",
       "    <tr>\n",
       "      <th>1474750</th>\n",
       "      <td>117119</td>\n",
       "      <td>143.00</td>\n",
       "      <td>0.030</td>\n",
       "      <td>48.631</td>\n",
       "      <td>61.220</td>\n",
       "      <td>0.150</td>\n",
       "    </tr>\n",
       "  </tbody>\n",
       "</table>\n",
       "</div>"
      ],
      "text/plain": [
       "          SitID    DEPT   DPHI      GR     ILD   NPHI\n",
       "1474746  117119  142.00  0.039  64.370  50.572  0.149\n",
       "1474747  117119  142.25  0.034  64.406  51.559  0.152\n",
       "1474748  117119  142.50  0.032  60.770  56.706  0.156\n",
       "1474749  117119  142.75  0.039  53.479  61.181  0.148\n",
       "1474750  117119  143.00  0.030  48.631  61.220  0.150"
      ]
     },
     "execution_count": 49,
     "metadata": {},
     "output_type": "execute_result"
    }
   ],
   "source": [
    "dt.tail()"
   ]
  },
  {
   "cell_type": "code",
   "execution_count": 70,
   "metadata": {
    "collapsed": false
   },
   "outputs": [
    {
     "data": {
      "text/html": [
       "<div>\n",
       "<table border=\"1\" class=\"dataframe\">\n",
       "  <thead>\n",
       "    <tr style=\"text-align: right;\">\n",
       "      <th></th>\n",
       "      <th>SitID</th>\n",
       "      <th>DEPT</th>\n",
       "      <th>DPHI</th>\n",
       "      <th>GR</th>\n",
       "      <th>ILD</th>\n",
       "      <th>NPHI</th>\n",
       "      <th>HorID</th>\n",
       "      <th>Pick</th>\n",
       "      <th>Quality</th>\n",
       "      <th>UWI (AGS)</th>\n",
       "      <th>UWI</th>\n",
       "      <th>lng</th>\n",
       "      <th>lat</th>\n",
       "    </tr>\n",
       "  </thead>\n",
       "  <tbody>\n",
       "    <tr>\n",
       "      <th>12</th>\n",
       "      <td>142218</td>\n",
       "      <td>393.0</td>\n",
       "      <td>0.299</td>\n",
       "      <td>72.249</td>\n",
       "      <td>3.338</td>\n",
       "      <td>0.429</td>\n",
       "      <td>1000</td>\n",
       "      <td>393.0</td>\n",
       "      <td>1.0</td>\n",
       "      <td>0735050101000</td>\n",
       "      <td>00/01-01-073-05W5/0</td>\n",
       "      <td>-114.620656</td>\n",
       "      <td>55.288691</td>\n",
       "    </tr>\n",
       "    <tr>\n",
       "      <th>636</th>\n",
       "      <td>142218</td>\n",
       "      <td>549.0</td>\n",
       "      <td>0.247</td>\n",
       "      <td>76.644</td>\n",
       "      <td>4.313</td>\n",
       "      <td>0.427</td>\n",
       "      <td>4000</td>\n",
       "      <td>549.0</td>\n",
       "      <td>1.0</td>\n",
       "      <td>0735050101000</td>\n",
       "      <td>00/01-01-073-05W5/0</td>\n",
       "      <td>-114.620656</td>\n",
       "      <td>55.288691</td>\n",
       "    </tr>\n",
       "    <tr>\n",
       "      <th>776</th>\n",
       "      <td>142218</td>\n",
       "      <td>584.0</td>\n",
       "      <td>0.184</td>\n",
       "      <td>72.472</td>\n",
       "      <td>5.379</td>\n",
       "      <td>0.357</td>\n",
       "      <td>5000</td>\n",
       "      <td>584.0</td>\n",
       "      <td>1.0</td>\n",
       "      <td>0735050101000</td>\n",
       "      <td>00/01-01-073-05W5/0</td>\n",
       "      <td>-114.620656</td>\n",
       "      <td>55.288691</td>\n",
       "    </tr>\n",
       "    <tr>\n",
       "      <th>828</th>\n",
       "      <td>142218</td>\n",
       "      <td>597.0</td>\n",
       "      <td>0.180</td>\n",
       "      <td>69.942</td>\n",
       "      <td>4.265</td>\n",
       "      <td>0.367</td>\n",
       "      <td>7000</td>\n",
       "      <td>597.0</td>\n",
       "      <td>1.0</td>\n",
       "      <td>0735050101000</td>\n",
       "      <td>00/01-01-073-05W5/0</td>\n",
       "      <td>-114.620656</td>\n",
       "      <td>55.288691</td>\n",
       "    </tr>\n",
       "    <tr>\n",
       "      <th>868</th>\n",
       "      <td>142218</td>\n",
       "      <td>607.0</td>\n",
       "      <td>0.191</td>\n",
       "      <td>57.457</td>\n",
       "      <td>9.279</td>\n",
       "      <td>0.312</td>\n",
       "      <td>11000</td>\n",
       "      <td>607.0</td>\n",
       "      <td>1.0</td>\n",
       "      <td>0735050101000</td>\n",
       "      <td>00/01-01-073-05W5/0</td>\n",
       "      <td>-114.620656</td>\n",
       "      <td>55.288691</td>\n",
       "    </tr>\n",
       "  </tbody>\n",
       "</table>\n",
       "</div>"
      ],
      "text/plain": [
       "      SitID   DEPT   DPHI      GR    ILD   NPHI  HorID   Pick  Quality  \\\n",
       "12   142218  393.0  0.299  72.249  3.338  0.429   1000  393.0      1.0   \n",
       "636  142218  549.0  0.247  76.644  4.313  0.427   4000  549.0      1.0   \n",
       "776  142218  584.0  0.184  72.472  5.379  0.357   5000  584.0      1.0   \n",
       "828  142218  597.0  0.180  69.942  4.265  0.367   7000  597.0      1.0   \n",
       "868  142218  607.0  0.191  57.457  9.279  0.312  11000  607.0      1.0   \n",
       "\n",
       "         UWI (AGS)                  UWI          lng        lat  \n",
       "12   0735050101000  00/01-01-073-05W5/0  -114.620656  55.288691  \n",
       "636  0735050101000  00/01-01-073-05W5/0  -114.620656  55.288691  \n",
       "776  0735050101000  00/01-01-073-05W5/0  -114.620656  55.288691  \n",
       "828  0735050101000  00/01-01-073-05W5/0  -114.620656  55.288691  \n",
       "868  0735050101000  00/01-01-073-05W5/0  -114.620656  55.288691  "
      ]
     },
     "execution_count": 70,
     "metadata": {},
     "output_type": "execute_result"
    }
   ],
   "source": [
    "# merging dataframe 'dt' with 'wlp' on SitID and [DEPT/Pick]\n",
    "m = pd.merge(left=dt, right=wlp, left_on=['SitID', 'DEPT'], right_on=['SitID', 'Pick'], how='left')\n",
    "# change HorID to string\n",
    "m['HorID'] = m['HorID'].astype(str)\n",
    "# drop NA values\n",
    "m = m.dropna()\n",
    "m.head()"
   ]
  },
  {
   "cell_type": "code",
   "execution_count": 69,
   "metadata": {
    "collapsed": false
   },
   "outputs": [],
   "source": [
    "m = m.reset_index(drop=True)\n",
    "m['Id'] = m.index.values\n",
    "m = m[['Id', 'SitID', 'DPHI', 'GR', 'ILD', 'NPHI', 'lng', 'lat', 'HorID', 'Pick']]\n",
    "m.to_csv('m_out.csv', sep=\"\\t\", index=None)"
   ]
  },
  {
   "cell_type": "markdown",
   "metadata": {
    "collapsed": false
   },
   "source": [
    "### end of Create tidy dataset"
   ]
  }
 ],
 "metadata": {
  "anaconda-cloud": {},
  "kernelspec": {
   "display_name": "Python [conda root]",
   "language": "python",
   "name": "conda-root-py"
  },
  "language_info": {
   "codemirror_mode": {
    "name": "ipython",
    "version": 2
   },
   "file_extension": ".py",
   "mimetype": "text/x-python",
   "name": "python",
   "nbconvert_exporter": "python",
   "pygments_lexer": "ipython2",
   "version": "2.7.12"
  }
 },
 "nbformat": 4,
 "nbformat_minor": 1
}
