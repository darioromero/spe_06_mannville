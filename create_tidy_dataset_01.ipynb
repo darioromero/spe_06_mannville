{
 "cells": [
  {
   "cell_type": "code",
   "execution_count": 1,
   "metadata": {
    "collapsed": false
   },
   "outputs": [
    {
     "name": "stdout",
     "output_type": "stream",
     "text": [
      "D:\\Users\\drome\\gitrepos\\spe 06\\MannvilleGroup_Strat_Hackathon\n"
     ]
    }
   ],
   "source": [
    "!pwd"
   ]
  },
  {
   "cell_type": "code",
   "execution_count": 234,
   "metadata": {
    "collapsed": false
   },
   "outputs": [],
   "source": [
    "import os\n",
    "import glob\n",
    "import lasio\n",
    "lasio.__version__\n",
    "import pandas as pd\n",
    "import numpy as np\n",
    "import geopandas\n",
    "from functools import reduce\n",
    "import welly\n",
    "welly.__version__\n",
    "from welly import Well\n",
    "import matplotlib.pyplot as plt\n",
    "%matplotlib inline"
   ]
  },
  {
   "cell_type": "code",
   "execution_count": 36,
   "metadata": {
    "collapsed": false
   },
   "outputs": [],
   "source": [
    "home = \"./SPE_006_originalData/OilSandsDB\""
   ]
  },
  {
   "cell_type": "code",
   "execution_count": 38,
   "metadata": {
    "collapsed": false
   },
   "outputs": [
    {
     "data": {
      "text/html": [
       "<div>\n",
       "<table border=\"1\" class=\"dataframe\">\n",
       "  <thead>\n",
       "    <tr style=\"text-align: right;\">\n",
       "      <th></th>\n",
       "      <th>HorID</th>\n",
       "      <th>Descriptopn</th>\n",
       "    </tr>\n",
       "  </thead>\n",
       "  <tbody>\n",
       "    <tr>\n",
       "      <th>0</th>\n",
       "      <td>1000</td>\n",
       "      <td>mannville</td>\n",
       "    </tr>\n",
       "    <tr>\n",
       "      <th>1</th>\n",
       "      <td>2000</td>\n",
       "      <td>t61</td>\n",
       "    </tr>\n",
       "    <tr>\n",
       "      <th>2</th>\n",
       "      <td>3000</td>\n",
       "      <td>t51</td>\n",
       "    </tr>\n",
       "    <tr>\n",
       "      <th>3</th>\n",
       "      <td>4000</td>\n",
       "      <td>t41</td>\n",
       "    </tr>\n",
       "    <tr>\n",
       "      <th>4</th>\n",
       "      <td>5000</td>\n",
       "      <td>t31</td>\n",
       "    </tr>\n",
       "  </tbody>\n",
       "</table>\n",
       "</div>"
      ],
      "text/plain": [
       "   HorID Descriptopn\n",
       "0   1000   mannville\n",
       "1   2000         t61\n",
       "2   3000         t51\n",
       "3   4000         t41\n",
       "4   5000         t31"
      ]
     },
     "execution_count": 38,
     "metadata": {},
     "output_type": "execute_result"
    }
   ],
   "source": [
    "picks_dicts = pd.read_table(home + \"/PICKS_DIC.TXT\", delimiter='\\t')\n",
    "picks_dicts.head()"
   ]
  },
  {
   "cell_type": "code",
   "execution_count": 39,
   "metadata": {
    "collapsed": false
   },
   "outputs": [
    {
     "data": {
      "text/html": [
       "<div>\n",
       "<table border=\"1\" class=\"dataframe\">\n",
       "  <thead>\n",
       "    <tr style=\"text-align: right;\">\n",
       "      <th></th>\n",
       "      <th>SitID</th>\n",
       "      <th>HorID</th>\n",
       "      <th>Pick</th>\n",
       "      <th>Quality</th>\n",
       "    </tr>\n",
       "  </thead>\n",
       "  <tbody>\n",
       "    <tr>\n",
       "      <th>0</th>\n",
       "      <td>102496</td>\n",
       "      <td>1000</td>\n",
       "      <td>321</td>\n",
       "      <td>1</td>\n",
       "    </tr>\n",
       "    <tr>\n",
       "      <th>1</th>\n",
       "      <td>102496</td>\n",
       "      <td>2000</td>\n",
       "      <td></td>\n",
       "      <td>-1</td>\n",
       "    </tr>\n",
       "    <tr>\n",
       "      <th>2</th>\n",
       "      <td>102496</td>\n",
       "      <td>3000</td>\n",
       "      <td></td>\n",
       "      <td>-1</td>\n",
       "    </tr>\n",
       "    <tr>\n",
       "      <th>3</th>\n",
       "      <td>102496</td>\n",
       "      <td>4000</td>\n",
       "      <td></td>\n",
       "      <td>-1</td>\n",
       "    </tr>\n",
       "    <tr>\n",
       "      <th>4</th>\n",
       "      <td>102496</td>\n",
       "      <td>5000</td>\n",
       "      <td>438</td>\n",
       "      <td>2</td>\n",
       "    </tr>\n",
       "  </tbody>\n",
       "</table>\n",
       "</div>"
      ],
      "text/plain": [
       "    SitID  HorID      Pick  Quality\n",
       "0  102496   1000       321        1\n",
       "1  102496   2000                 -1\n",
       "2  102496   3000                 -1\n",
       "3  102496   4000                 -1\n",
       "4  102496   5000       438        2"
      ]
     },
     "execution_count": 39,
     "metadata": {},
     "output_type": "execute_result"
    }
   ],
   "source": [
    "picks = pd.read_table(home + \"/PICKS.TXT\", delimiter='\\t')\n",
    "picks.head()"
   ]
  },
  {
   "cell_type": "code",
   "execution_count": 146,
   "metadata": {
    "collapsed": false
   },
   "outputs": [
    {
     "data": {
      "text/html": [
       "<div>\n",
       "<table border=\"1\" class=\"dataframe\">\n",
       "  <thead>\n",
       "    <tr style=\"text-align: right;\">\n",
       "      <th></th>\n",
       "      <th>SitID</th>\n",
       "      <th>UWI (AGS)</th>\n",
       "      <th>UWI</th>\n",
       "    </tr>\n",
       "  </thead>\n",
       "  <tbody>\n",
       "    <tr>\n",
       "      <th>0</th>\n",
       "      <td>102496</td>\n",
       "      <td>0674010812000</td>\n",
       "      <td>00/12-08-067-01W4/0</td>\n",
       "    </tr>\n",
       "    <tr>\n",
       "      <th>1</th>\n",
       "      <td>102497</td>\n",
       "      <td>0674020807000</td>\n",
       "      <td>00/07-08-067-02W4/0</td>\n",
       "    </tr>\n",
       "    <tr>\n",
       "      <th>2</th>\n",
       "      <td>102498</td>\n",
       "      <td>0674021109000</td>\n",
       "      <td>00/09-11-067-02W4/0</td>\n",
       "    </tr>\n",
       "    <tr>\n",
       "      <th>3</th>\n",
       "      <td>102500</td>\n",
       "      <td>0674022910000</td>\n",
       "      <td>00/10-29-067-02W4/0</td>\n",
       "    </tr>\n",
       "    <tr>\n",
       "      <th>4</th>\n",
       "      <td>102501</td>\n",
       "      <td>0674023406000</td>\n",
       "      <td>00/06-34-067-02W4/0</td>\n",
       "    </tr>\n",
       "  </tbody>\n",
       "</table>\n",
       "</div>"
      ],
      "text/plain": [
       "    SitID      UWI (AGS)                  UWI\n",
       "0  102496  0674010812000  00/12-08-067-01W4/0\n",
       "1  102497  0674020807000  00/07-08-067-02W4/0\n",
       "2  102498  0674021109000  00/09-11-067-02W4/0\n",
       "3  102500  0674022910000  00/10-29-067-02W4/0\n",
       "4  102501  0674023406000  00/06-34-067-02W4/0"
      ]
     },
     "execution_count": 146,
     "metadata": {},
     "output_type": "execute_result"
    }
   ],
   "source": [
    "wellst = pd.read_table(home + \"/WELLS.TXT\", delimiter= '\\t')\n",
    "wellst.head()"
   ]
  },
  {
   "cell_type": "code",
   "execution_count": 147,
   "metadata": {
    "collapsed": false
   },
   "outputs": [
    {
     "data": {
      "text/html": [
       "<div>\n",
       "<table border=\"1\" class=\"dataframe\">\n",
       "  <thead>\n",
       "    <tr style=\"text-align: right;\">\n",
       "      <th></th>\n",
       "      <th>SitID</th>\n",
       "      <th>UWI (AGS)</th>\n",
       "      <th>UWI</th>\n",
       "    </tr>\n",
       "  </thead>\n",
       "  <tbody>\n",
       "    <tr>\n",
       "      <th>2188</th>\n",
       "      <td>126239</td>\n",
       "      <td>1014133011AA0</td>\n",
       "      <td>AA/11-30-101-13W4/0</td>\n",
       "    </tr>\n",
       "    <tr>\n",
       "      <th>2189</th>\n",
       "      <td>126240</td>\n",
       "      <td>1014140811AA0</td>\n",
       "      <td>AA/11-08-101-14W4/0</td>\n",
       "    </tr>\n",
       "    <tr>\n",
       "      <th>2190</th>\n",
       "      <td>126241</td>\n",
       "      <td>1014141414AA0</td>\n",
       "      <td>AA/14-14-101-14W4/0</td>\n",
       "    </tr>\n",
       "    <tr>\n",
       "      <th>2191</th>\n",
       "      <td>126243</td>\n",
       "      <td>1014142906AA0</td>\n",
       "      <td>AA/06-29-101-14W4/0</td>\n",
       "    </tr>\n",
       "    <tr>\n",
       "      <th>2192</th>\n",
       "      <td>126244</td>\n",
       "      <td>1014143506AA0</td>\n",
       "      <td>AA/06-35-101-14W4/0</td>\n",
       "    </tr>\n",
       "  </tbody>\n",
       "</table>\n",
       "</div>"
      ],
      "text/plain": [
       "       SitID      UWI (AGS)                  UWI\n",
       "2188  126239  1014133011AA0  AA/11-30-101-13W4/0\n",
       "2189  126240  1014140811AA0  AA/11-08-101-14W4/0\n",
       "2190  126241  1014141414AA0  AA/14-14-101-14W4/0\n",
       "2191  126243  1014142906AA0  AA/06-29-101-14W4/0\n",
       "2192  126244  1014143506AA0  AA/06-35-101-14W4/0"
      ]
     },
     "execution_count": 147,
     "metadata": {},
     "output_type": "execute_result"
    }
   ],
   "source": [
    "wellst.tail()"
   ]
  },
  {
   "cell_type": "code",
   "execution_count": 339,
   "metadata": {
    "collapsed": false
   },
   "outputs": [
    {
     "data": {
      "text/plain": [
       "'101-4-14-35-06-AA-0'"
      ]
     },
     "execution_count": 339,
     "metadata": {},
     "output_type": "execute_result"
    }
   ],
   "source": [
    "wellst.iloc[2192].UWI[9:12] + \"-\" + wellst.iloc[2192].UWI[16:17] + \"-\" + wellst.iloc[2192].UWI[13:15] + \"-\" + \\\n",
    "wellst.iloc[2192].UWI[6:8] + \"-\" + wellst.iloc[2192].UWI[3:5] + \"-\" + wellst.iloc[2192].UWI[0:2] + \"-\" + \\\n",
    "wellst.iloc[2192].UWI[18:19]"
   ]
  },
  {
   "cell_type": "code",
   "execution_count": 47,
   "metadata": {
    "collapsed": false
   },
   "outputs": [
    {
     "name": "stdout",
     "output_type": "stream",
     "text": [
      "# LAS files: 2171\n"
     ]
    }
   ],
   "source": [
    "# las files\n",
    "path_logs = home + \"/Logs\"\n",
    "las = [x for x in os.listdir(path_logs + \"/\") if x.endswith(\".LAS\")]\n",
    "print(\"# LAS files: \" + str(len(las)))"
   ]
  },
  {
   "cell_type": "code",
   "execution_count": null,
   "metadata": {
    "collapsed": false
   },
   "outputs": [],
   "source": [
    "wellname = 'AB-07-12-093-10W4-0'\n",
    "lasio.read(path_logs + \"/\" + wellname + \".LAS\").df()"
   ]
  },
  {
   "cell_type": "markdown",
   "metadata": {},
   "source": [
    "### Reading LAS Files with lasio"
   ]
  },
  {
   "cell_type": "code",
   "execution_count": null,
   "metadata": {
    "collapsed": true
   },
   "outputs": [],
   "source": [
    "las = [lasio.read(path_logs + \"/\" + filename) for filename in os.listdir(path_logs) if filename.endswith(\".LAS\")]\n",
    "type(las)"
   ]
  },
  {
   "cell_type": "markdown",
   "metadata": {},
   "source": [
    "### Reading LAS Files with welly"
   ]
  },
  {
   "cell_type": "code",
   "execution_count": 189,
   "metadata": {
    "collapsed": false
   },
   "outputs": [
    {
     "name": "stderr",
     "output_type": "stream",
     "text": [
      "Header section Parameter regexp=~P was not found.\n"
     ]
    }
   ],
   "source": [
    "# from welly import Well\n",
    "wells_las = [Well.from_las(path_logs + \"/\" + file) for file in os.listdir(path_logs) if file.endswith(\".LAS\")]"
   ]
  },
  {
   "cell_type": "code",
   "execution_count": 287,
   "metadata": {
    "collapsed": false
   },
   "outputs": [
    {
     "data": {
      "text/plain": [
       "welly.well.Well"
      ]
     },
     "execution_count": 287,
     "metadata": {},
     "output_type": "execute_result"
    }
   ],
   "source": [
    "type(wells_las[0])"
   ]
  },
  {
   "cell_type": "code",
   "execution_count": 286,
   "metadata": {
    "collapsed": false
   },
   "outputs": [
    {
     "data": {
      "text/plain": [
       "welly.well.Well"
      ]
     },
     "execution_count": 286,
     "metadata": {},
     "output_type": "execute_result"
    }
   ],
   "source": [
    "w = wells_las[2153]\n",
    "type(w)"
   ]
  },
  {
   "cell_type": "code",
   "execution_count": 338,
   "metadata": {
    "collapsed": false
   },
   "outputs": [
    {
     "data": {
      "text/plain": [
       "[HeaderItem(mnemonic=WELL, unit=, value=AMOCO AOSTRA GLISPLH1, descr=Well_nam...),\n",
       " HeaderItem(mnemonic=LOC, unit=, value=AB/05-02-086-07W4/0, descr=Location   ...),\n",
       " HeaderItem(mnemonic=UWI, unit=, value=AB/05-02-086-07W400, descr=Uwi        ...),\n",
       " HeaderItem(mnemonic=ENTR, unit=, value=KATHY, descr=Entered      - ENTERED BY),\n",
       " HeaderItem(mnemonic=SRVC, unit=, value=SCHLUMBERGER, descr=Scn          - SE...),\n",
       " HeaderItem(mnemonic=STRT, unit=M, value=160, descr=top_depth    - START DEPTH),\n",
       " HeaderItem(mnemonic=STOP, unit=M, value=235.001, descr=bot_depth    - STOP D...),\n",
       " HeaderItem(mnemonic=STEP, unit=M, value=0.3, descr=increment    - STEP LENGTH),\n",
       " HeaderItem(mnemonic=NULL, unit=, value=-999.25, descr=NULL Value)]"
      ]
     },
     "execution_count": 338,
     "metadata": {},
     "output_type": "execute_result"
    }
   ],
   "source": [
    "las[2153].header['Well']"
   ]
  },
  {
   "cell_type": "code",
   "execution_count": 332,
   "metadata": {
    "collapsed": false
   },
   "outputs": [
    {
     "data": {
      "text/plain": [
       "[HeaderItem(mnemonic=GL, unit=M, value=478.6, descr=gl           - GROUND LEV...),\n",
       " HeaderItem(mnemonic=EREF, unit=M, value=480, descr=kb           - ELEVATION ...),\n",
       " HeaderItem(mnemonic=DATM, unit=M, value=480, descr=datum        - DATUM ELEV...),\n",
       " HeaderItem(mnemonic=TDD, unit=M, value=241, descr=tdd          - TOTAL DEPTH...),\n",
       " HeaderItem(mnemonic=RUN, unit=, value=ONE, descr=Run          - RUN NUMBER),\n",
       " HeaderItem(mnemonic=ENG, unit=, value=BILL, descr=Engineer     - RECORDING E...),\n",
       " HeaderItem(mnemonic=WIT, unit=, value=JIM, descr=Witness      - WITNESSED BY),\n",
       " HeaderItem(mnemonic=MUD, unit=, value=GEL, descr=Mud_type     - MUD TYPE),\n",
       " HeaderItem(mnemonic=MATR:1, unit=, value=LIMESTONE, descr=Logunit      - NEU...),\n",
       " HeaderItem(mnemonic=TMAX, unit=C, value=60, descr=BHT          - MAXIMUM REC...),\n",
       " HeaderItem(mnemonic=BHTD, unit=M, value=241, descr=BHTDEP       - MAXIMUM RE...),\n",
       " HeaderItem(mnemonic=MATR:2, unit=, value=1, descr=LOGUNIT      - NEUTRON MATRIX),\n",
       " HeaderItem(mnemonic=RMT, unit=C, value=25, descr=MDTP         - TEMPERATURE ...),\n",
       " HeaderItem(mnemonic=NEUT, unit=, value=1, descr=NEUTRON      - NEUTRON TYPE),\n",
       " HeaderItem(mnemonic=RESI, unit=, value=0, descr=RESIST       - RESISTIVITY TYPE),\n",
       " HeaderItem(mnemonic=RMC, unit=OHMM, value=0.25, descr=RMC          - RESISTI...),\n",
       " HeaderItem(mnemonic=RMF, unit=OHMM, value=0.25, descr=RMF          - RESISTI...),\n",
       " HeaderItem(mnemonic=SUFT, unit=C, value=5, descr=SUFT         - SURFACE TEMP...)]"
      ]
     },
     "execution_count": 332,
     "metadata": {},
     "output_type": "execute_result"
    }
   ],
   "source": [
    "las[2153].header['Parameter']"
   ]
  },
  {
   "cell_type": "code",
   "execution_count": 291,
   "metadata": {
    "collapsed": false
   },
   "outputs": [
    {
     "data": {
      "text/plain": [
       "[HeaderItem(mnemonic=VERS, unit=, value=2.0, descr=CWLS LOG ASCII STANDARD -V...),\n",
       " HeaderItem(mnemonic=WRAP, unit=, value=NO, descr=ONE LINE PER DEPTH STEP)]"
      ]
     },
     "execution_count": 291,
     "metadata": {},
     "output_type": "execute_result"
    }
   ],
   "source": [
    "las[2153].header['Version']"
   ]
  },
  {
   "cell_type": "code",
   "execution_count": 299,
   "metadata": {
    "collapsed": false
   },
   "outputs": [
    {
     "data": {
      "text/plain": [
       "[CurveItem(mnemonic=DEPT, unit=M, value=00 001 00 00, descr=DEPTH        - DEPTH, original_mnemonic=DEPT, data.shape=(251,)),\n",
       " CurveItem(mnemonic=GR:1, unit=API, value=00 310 00 00, descr=GR           - GAMMA RAY, original_mnemonic=GR, data.shape=(251,)),\n",
       " CurveItem(mnemonic=DPHI:1, unit=V/V, value=00 890 00 00, descr=PHID         - DENSITY POROSITY (LIMESTONE), original_mnemonic=DPHI, data.shape=(251,)),\n",
       " CurveItem(mnemonic=ILD:1, unit=OHMM, value=00 120 00 00, descr=RESD         - DEEP RESISTIVITY (DIL), original_mnemonic=ILD, data.shape=(251,)),\n",
       " CurveItem(mnemonic=GR:2, unit=API, value=00 310 00 00, descr=GR           - GAMMA RAY, original_mnemonic=GR, data.shape=(251,)),\n",
       " CurveItem(mnemonic=DPHI:2, unit=V/V, value=00 890 00 00, descr=PHID         - DENSITY POROSITY (LIMESTONE), original_mnemonic=DPHI, data.shape=(251,)),\n",
       " CurveItem(mnemonic=ILD:2, unit=OHMM, value=00 120 00 00, descr=RESD         - DEEP RESISTIVITY (DIL), original_mnemonic=ILD, data.shape=(251,))]"
      ]
     },
     "execution_count": 299,
     "metadata": {},
     "output_type": "execute_result"
    }
   ],
   "source": [
    "las[2153].header['Curves']"
   ]
  },
  {
   "cell_type": "code",
   "execution_count": 305,
   "metadata": {
    "collapsed": false
   },
   "outputs": [
    {
     "data": {
      "text/plain": [
       "array([ 160.   ,  160.3  ,  160.6  ,  160.9  ,  161.2  ,  161.5  ,\n",
       "        161.8  ,  162.1  ,  162.4  ,  162.7  ,  163.   ,  163.3  ,\n",
       "        163.6  ,  163.9  ,  164.2  ,  164.5  ,  164.8  ,  165.1  ,\n",
       "        165.4  ,  165.7  ,  166.   ,  166.3  ,  166.6  ,  166.9  ,\n",
       "        167.2  ,  167.5  ,  167.8  ,  168.1  ,  168.4  ,  168.7  ,\n",
       "        169.   ,  169.3  ,  169.6  ,  169.9  ,  170.2  ,  170.5  ,\n",
       "        170.8  ,  171.1  ,  171.4  ,  171.7  ,  172.   ,  172.3  ,\n",
       "        172.6  ,  172.9  ,  173.2  ,  173.5  ,  173.8  ,  174.1  ,\n",
       "        174.4  ,  174.7  ,  175.   ,  175.3  ,  175.6  ,  175.9  ,\n",
       "        176.2  ,  176.5  ,  176.8  ,  177.1  ,  177.4  ,  177.7  ,\n",
       "        178.   ,  178.3  ,  178.6  ,  178.9  ,  179.2  ,  179.5  ,\n",
       "        179.8  ,  180.1  ,  180.4  ,  180.7  ,  181.   ,  181.3  ,\n",
       "        181.6  ,  181.9  ,  182.2  ,  182.5  ,  182.8  ,  183.1  ,\n",
       "        183.4  ,  183.7  ,  184.   ,  184.3  ,  184.6  ,  184.9  ,\n",
       "        185.2  ,  185.5  ,  185.8  ,  186.1  ,  186.4  ,  186.7  ,\n",
       "        187.   ,  187.3  ,  187.6  ,  187.9  ,  188.2  ,  188.5  ,\n",
       "        188.8  ,  189.1  ,  189.4  ,  189.7  ,  190.   ,  190.3  ,\n",
       "        190.6  ,  190.9  ,  191.2  ,  191.5  ,  191.8  ,  192.1  ,\n",
       "        192.4  ,  192.7  ,  193.   ,  193.3  ,  193.6  ,  193.9  ,\n",
       "        194.2  ,  194.5  ,  194.8  ,  195.1  ,  195.4  ,  195.7  ,\n",
       "        196.   ,  196.3  ,  196.6  ,  196.9  ,  197.2  ,  197.5  ,\n",
       "        197.8  ,  198.1  ,  198.4  ,  198.7  ,  199.   ,  199.3  ,\n",
       "        199.6  ,  199.9  ,  200.2  ,  200.5  ,  200.8  ,  201.1  ,\n",
       "        201.4  ,  201.7  ,  202.   ,  202.3  ,  202.6  ,  202.9  ,\n",
       "        203.2  ,  203.5  ,  203.8  ,  204.1  ,  204.4  ,  204.7  ,\n",
       "        205.   ,  205.3  ,  205.6  ,  205.9  ,  206.2  ,  206.5  ,\n",
       "        206.8  ,  207.1  ,  207.4  ,  207.7  ,  208.   ,  208.3  ,\n",
       "        208.6  ,  208.9  ,  209.201,  209.501,  209.801,  210.101,\n",
       "        210.401,  210.701,  211.001,  211.301,  211.601,  211.901,\n",
       "        212.201,  212.501,  212.801,  213.101,  213.401,  213.701,\n",
       "        214.001,  214.301,  214.601,  214.901,  215.201,  215.501,\n",
       "        215.801,  216.101,  216.401,  216.701,  217.001,  217.301,\n",
       "        217.601,  217.901,  218.201,  218.501,  218.801,  219.101,\n",
       "        219.401,  219.701,  220.001,  220.301,  220.601,  220.901,\n",
       "        221.201,  221.501,  221.801,  222.101,  222.401,  222.701,\n",
       "        223.001,  223.301,  223.601,  223.901,  224.201,  224.501,\n",
       "        224.801,  225.101,  225.401,  225.701,  226.001,  226.301,\n",
       "        226.601,  226.901,  227.201,  227.501,  227.801,  228.101,\n",
       "        228.401,  228.701,  229.001,  229.301,  229.601,  229.901,\n",
       "        230.201,  230.501,  230.801,  231.101,  231.401,  231.701,\n",
       "        232.001,  232.301,  232.601,  232.901,  233.201,  233.501,\n",
       "        233.801,  234.101,  234.401,  234.701,  235.001])"
      ]
     },
     "execution_count": 305,
     "metadata": {},
     "output_type": "execute_result"
    }
   ],
   "source": [
    "las[2153].header['Curves']['DEPT'].data"
   ]
  },
  {
   "cell_type": "code",
   "execution_count": 326,
   "metadata": {
    "collapsed": false
   },
   "outputs": [
    {
     "data": {
      "text/plain": [
       "['DEPT', 'GR:1', 'DPHI:1', 'ILD:1', 'GR:2', 'DPHI:2', 'ILD:2']"
      ]
     },
     "execution_count": 326,
     "metadata": {},
     "output_type": "execute_result"
    }
   ],
   "source": [
    "las[2153].header['Curves'].keys()"
   ]
  },
  {
   "cell_type": "code",
   "execution_count": 209,
   "metadata": {
    "collapsed": false
   },
   "outputs": [
    {
     "data": {
      "text/plain": [
       "('AB/05-02-086-07W4/0', 241, 241)"
      ]
     },
     "execution_count": 209,
     "metadata": {},
     "output_type": "execute_result"
    }
   ],
   "source": [
    "wells_las[2153].location.location, wells_las[2153].location.td, wells_las[2153].location.tdd"
   ]
  },
  {
   "cell_type": "code",
   "execution_count": 232,
   "metadata": {
    "collapsed": false
   },
   "outputs": [
    {
     "data": {
      "image/png": "[encoded data removed]",
      "text/plain": [
       "<matplotlib.figure.Figure at 0x1beade12a90>"
      ]
     },
     "metadata": {},
     "output_type": "display_data"
    }
   ],
   "source": [
    "wells_las[2153].plot()"
   ]
  },
  {
   "cell_type": "code",
   "execution_count": 210,
   "metadata": {
    "collapsed": false
   },
   "outputs": [
    {
     "data": {
      "text/plain": [
       "range(0, 2171)"
      ]
     },
     "execution_count": 210,
     "metadata": {},
     "output_type": "execute_result"
    }
   ],
   "source": [
    "range(len(wells_las))"
   ]
  },
  {
   "cell_type": "code",
   "execution_count": null,
   "metadata": {
    "collapsed": false
   },
   "outputs": [],
   "source": [
    "# d = [x.data.keys() for x in wells] # list(d.items())\n",
    "# d\n",
    "# pd.DataFrame(d)\n",
    "# pd.DataFrame(d).to_csv('curves.csv', sep='\\t')"
   ]
  },
  {
   "cell_type": "code",
   "execution_count": null,
   "metadata": {
    "collapsed": false
   },
   "outputs": [],
   "source": [
    "# [x.data.keys() for x in wells]"
   ]
  },
  {
   "cell_type": "code",
   "execution_count": 176,
   "metadata": {
    "collapsed": true
   },
   "outputs": [],
   "source": [
    "# function to retrieve UWI which location may vary within LAS file\n",
    "keywds = ['UWI', 'UWI:1', 'UWI:2', 'UWI:3']\n",
    "def getKeyValue(idx, keywds):\n",
    "    for keywd in keywds:\n",
    "        if (keywd) not in las[idx].header[\"Well\"]:\n",
    "            pass\n",
    "        else:\n",
    "            return las[idx].header[\"Well\"][keywd].value"
   ]
  },
  {
   "cell_type": "code",
   "execution_count": 177,
   "metadata": {
    "collapsed": false
   },
   "outputs": [],
   "source": [
    "# counting more common curves\n",
    "curves = []\n",
    "for i in range(len(las)):\n",
    "    df_las = las[i].df()\n",
    "    curves.extend(list(df_las.columns))"
   ]
  },
  {
   "cell_type": "code",
   "execution_count": null,
   "metadata": {
    "collapsed": false
   },
   "outputs": [],
   "source": [
    "# print all possible curves in the dataset, independent if they are repeated with an index :1, :2\n",
    "print(curves)"
   ]
  },
  {
   "cell_type": "code",
   "execution_count": 186,
   "metadata": {
    "collapsed": false
   },
   "outputs": [
    {
     "name": "stdout",
     "output_type": "stream",
     "text": [
      "dict_keys(['RHOB', 'NPHI', 'ILD:1', 'IL', 'SFLU', 'RT', 'LLD', 'LLS', 'LITH', 'DPHI:2', 'PHIN', 'GR:1', 'SN', 'PHID', 'DPHI', 'DELT', 'ILD', 'ILM', 'SNP', 'SFL', 'COND', 'DPHI:1', 'DT', 'RESD', 'GR:2', 'DENS', 'GR', 'SP', 'ILD:2', 'CALI'])\n",
      "dict_values([132, 2008, 1, 2, 6, 1, 2, 1, 1, 1, 4, 1, 1, 8, 1917, 98, 2154, 6, 2, 3, 3, 1, 14, 6, 1, 4, 2169, 14, 1, 783])\n"
     ]
    }
   ],
   "source": [
    "import collections\n",
    "counter = collections.Counter(curves)\n",
    "print(counter.keys())\n",
    "print(counter.values())"
   ]
  },
  {
   "cell_type": "code",
   "execution_count": 187,
   "metadata": {
    "collapsed": false
   },
   "outputs": [
    {
     "name": "stdout",
     "output_type": "stream",
     "text": [
      "odict_keys(['CALI', 'COND', 'DELT', 'DENS', 'DPHI', 'DPHI:1', 'DPHI:2', 'DT', 'GR', 'GR:1', 'GR:2', 'IL', 'ILD', 'ILD:1', 'ILD:2', 'ILM', 'LITH', 'LLD', 'LLS', 'NPHI', 'PHID', 'PHIN', 'RESD', 'RHOB', 'RT', 'SFL', 'SFLU', 'SN', 'SNP', 'SP'])\n",
      "odict_values([783, 3, 98, 4, 1917, 1, 1, 14, 2169, 1, 1, 2, 2154, 1, 1, 6, 1, 2, 1, 2008, 8, 4, 6, 132, 1, 3, 6, 1, 2, 14])\n"
     ]
    }
   ],
   "source": [
    "counter = collections.OrderedDict(sorted(counter.items()))\n",
    "print(counter.keys())\n",
    "print(counter.values())"
   ]
  },
  {
   "cell_type": "code",
   "execution_count": null,
   "metadata": {
    "collapsed": false
   },
   "outputs": [],
   "source": [
    "# Selecting only 1919 wells which have common curves: DPHI; GR; ILD; NPHI\n",
    "# DPHI; DPHI:1;DPHI:2\t1919\n",
    "# GR; GR:1; GR:2\t2171\n",
    "# ILD; ILD:1; ILD:2\t2158\n",
    "# NPHI; PHIN\t2012\n",
    "curvesList = ['DPHI', 'DPHI:1', 'DPHI:2', 'GR', 'GR:1', 'GR:2', 'ILD', 'ILD:1', 'ILD:2', 'NPHI', 'PHIN']\n",
    "curvesDict = {'DPHI:1': 'DPHI', 'DPHI:2': 'DPHI', 'GR:1': 'GR', 'GR:2': 'GR', \\\n",
    "              'ILD:1': 'ILD', 'ILD:2': 'ILD', 'PHIN': 'NPHI'}\n",
    "dataset = pd.DataFrame()\n",
    "for i in range(len(las)):\n",
    "    df_las = las[i].df()\n",
    "    \n",
    "    if len(df_las.columns) >= 4:\n",
    "        if df_las.columns.any() in curvesList:\n",
    "            for \n",
    "            print(df_las.columns)\n",
    "    \n",
    "#     # get UWI from the las file\n",
    "#     uwi = getKeyValue(i, keywds)\n",
    "    \n",
    "#     # add DEPT index as a column to df_las\n",
    "#     df_las['DEPT'] = df_las.index\n",
    "    \n",
    "#     # generate a column with the uwi to merge into a dataframe\n",
    "#     len([uwi] * len(df_las))\n",
    "#     left = pd.DataFrame([uwi] * len(df_las), index=df_las.index, columns=['UWI'])\n",
    "\n",
    "#     frame = [left, df_las]\n",
    "#     dataset.append(pd.concat(frame, axis=1))"
   ]
  }
 ],
 "metadata": {
  "anaconda-cloud": {},
  "kernelspec": {
   "display_name": "Python [conda root]",
   "language": "python",
   "name": "conda-root-py"
  },
  "language_info": {
   "codemirror_mode": {
    "name": "ipython",
    "version": 3
   },
   "file_extension": ".py",
   "mimetype": "text/x-python",
   "name": "python",
   "nbconvert_exporter": "python",
   "pygments_lexer": "ipython3",
   "version": "3.5.2"
  }
 },
 "nbformat": 4,
 "nbformat_minor": 1
}
