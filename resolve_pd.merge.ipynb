{
 "cells": [
  {
   "cell_type": "code",
   "execution_count": 2,
   "metadata": {
    "collapsed": true
   },
   "outputs": [],
   "source": [
    "import pandas as pd\n",
    "import numpy as np"
   ]
  },
  {
   "cell_type": "code",
   "execution_count": 3,
   "metadata": {
    "collapsed": false
   },
   "outputs": [
    {
     "data": {
      "text/html": [
       "<div>\n",
       "<table border=\"1\" class=\"dataframe\">\n",
       "  <thead>\n",
       "    <tr style=\"text-align: right;\">\n",
       "      <th></th>\n",
       "      <th>SitID</th>\n",
       "      <th>DEPT</th>\n",
       "      <th>DPHI</th>\n",
       "      <th>HorID</th>\n",
       "      <th>Pick</th>\n",
       "    </tr>\n",
       "  </thead>\n",
       "  <tbody>\n",
       "    <tr>\n",
       "      <th>0</th>\n",
       "      <td>142218</td>\n",
       "      <td>390.00</td>\n",
       "      <td>0.199</td>\n",
       "      <td>NaN</td>\n",
       "      <td>NaN</td>\n",
       "    </tr>\n",
       "    <tr>\n",
       "      <th>1</th>\n",
       "      <td>142218</td>\n",
       "      <td>390.25</td>\n",
       "      <td>0.208</td>\n",
       "      <td>9000</td>\n",
       "      <td>390.25</td>\n",
       "    </tr>\n",
       "    <tr>\n",
       "      <th>2</th>\n",
       "      <td>142218</td>\n",
       "      <td>390.50</td>\n",
       "      <td>0.246</td>\n",
       "      <td>10000</td>\n",
       "      <td>390.50</td>\n",
       "    </tr>\n",
       "    <tr>\n",
       "      <th>3</th>\n",
       "      <td>142218</td>\n",
       "      <td>390.75</td>\n",
       "      <td>0.266</td>\n",
       "      <td>11000</td>\n",
       "      <td>390.75</td>\n",
       "    </tr>\n",
       "    <tr>\n",
       "      <th>4</th>\n",
       "      <td>142235</td>\n",
       "      <td>399.75</td>\n",
       "      <td>0.468</td>\n",
       "      <td>11000</td>\n",
       "      <td>399.75</td>\n",
       "    </tr>\n",
       "    <tr>\n",
       "      <th>5</th>\n",
       "      <td>142235</td>\n",
       "      <td>400.00</td>\n",
       "      <td>0.471</td>\n",
       "      <td>12000</td>\n",
       "      <td>400.00</td>\n",
       "    </tr>\n",
       "    <tr>\n",
       "      <th>6</th>\n",
       "      <td>142235</td>\n",
       "      <td>400.25</td>\n",
       "      <td>0.448</td>\n",
       "      <td>13000</td>\n",
       "      <td>400.25</td>\n",
       "    </tr>\n",
       "    <tr>\n",
       "      <th>7</th>\n",
       "      <td>142235</td>\n",
       "      <td>400.50</td>\n",
       "      <td>0.478</td>\n",
       "      <td>NaN</td>\n",
       "      <td>NaN</td>\n",
       "    </tr>\n",
       "  </tbody>\n",
       "</table>\n",
       "</div>"
      ],
      "text/plain": [
       "    SitID    DEPT   DPHI  HorID    Pick\n",
       "0  142218  390.00  0.199    NaN     NaN\n",
       "1  142218  390.25  0.208   9000  390.25\n",
       "2  142218  390.50  0.246  10000  390.50\n",
       "3  142218  390.75  0.266  11000  390.75\n",
       "4  142235  399.75  0.468  11000  399.75\n",
       "5  142235  400.00  0.471  12000  400.00\n",
       "6  142235  400.25  0.448  13000  400.25\n",
       "7  142235  400.50  0.478    NaN     NaN"
      ]
     },
     "execution_count": 3,
     "metadata": {},
     "output_type": "execute_result"
    }
   ],
   "source": [
    "# ============= dataframe ==============\n",
    "dt1 = pd.DataFrame({'SitID': ['142218', '142218', '142218', '142218', '142235', '142235', '142235', '142235'], \\\n",
    "                    'DEPT': [390.00, 390.25, 390.50, 390.75, 399.75, 400.00, 400.25, 400.50], \\\n",
    "                    'DPHI': [0.199, 0.208, 0.246, 0.266, 0.468, 0.471, 0.448, 0.478]}, \\\n",
    "                   columns=['SitID', 'DEPT', 'DPHI'])\n",
    "\n",
    "picks1 = pd.DataFrame({'SitID': ['142218', '142218', '142218', '142218', '142235', '142235', '142235', '142235'], \\\n",
    "                       'HorID': ['9000', '10000', '11000', '12000', '10000', '11000', '12000', '13000'], \\\n",
    "                       'Pick': [390.25, 390.50, 390.75, 400.00, 399.50, 399.75, 400.00, 400.25]}, \\\n",
    "                      columns=['SitID', 'HorID', 'Pick'])\n",
    "pd.merge(left=dt1, right=picks1, left_on=['SitID', 'DEPT'], right_on=['SitID', 'Pick'], how='left')"
   ]
  }
 ],
 "metadata": {
  "kernelspec": {
   "display_name": "Python [conda root]",
   "language": "python",
   "name": "conda-root-py"
  },
  "language_info": {
   "codemirror_mode": {
    "name": "ipython",
    "version": 3
   },
   "file_extension": ".py",
   "mimetype": "text/x-python",
   "name": "python",
   "nbconvert_exporter": "python",
   "pygments_lexer": "ipython3",
   "version": "3.5.2"
  }
 },
 "nbformat": 4,
 "nbformat_minor": 1
}
