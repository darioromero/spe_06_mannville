{
 "cells": [
  {
   "cell_type": "code",
   "execution_count": 17,
   "metadata": {},
   "outputs": [],
   "source": [
    "# set random seed for reproducibility\n",
    "from numpy.random import seed\n",
    "seed(1)\n",
    "from tensorflow import set_random_seed\n",
    "set_random_seed(2)"
   ]
  },
  {
   "cell_type": "code",
   "execution_count": 18,
   "metadata": {},
   "outputs": [],
   "source": [
    "import pandas as pd\n",
    "import tensorflow as tf\n",
    "import numpy as np\n",
    "from numpy.random import seed\n",
    "from pandas import read_csv \n",
    "from keras.models import Sequential \n",
    "from keras.layers import Dense \n",
    "from keras.wrappers.scikit_learn import KerasClassifier \n",
    "from keras.utils import np_utils \n",
    "from sklearn.model_selection import cross_val_score \n",
    "from sklearn.model_selection import KFold \n",
    "from sklearn.metrics import mean_squared_error\n",
    "from sklearn.preprocessing import LabelEncoder \n",
    "from sklearn.pipeline import Pipeline"
   ]
  },
  {
   "cell_type": "code",
   "execution_count": 2,
   "metadata": {},
   "outputs": [],
   "source": [
    "# Install a pip package in the current Jupyter kernel\n",
    "# import sys\n",
    "# !{sys.executable} -m pip install keras --user"
   ]
  },
  {
   "cell_type": "code",
   "execution_count": 19,
   "metadata": {},
   "outputs": [],
   "source": [
    "# create sequence\n",
    "length = 10\n",
    "sequence = [i/float(length) for i in range(length)]\n",
    "# create X/y pairs\n",
    "df = pd.DataFrame(sequence)\n",
    "df = pd.concat([df.shift(1), df], axis=1)\n",
    "df.dropna(inplace=True)\n",
    "# convert to MLPfriendly format\n",
    "values = df.values\n",
    "X, y = values[:,0], values[:,1]"
   ]
  },
  {
   "cell_type": "code",
   "execution_count": 20,
   "metadata": {},
   "outputs": [
    {
     "data": {
      "text/plain": [
       "(array([0. , 0.1, 0.2, 0.3, 0.4, 0.5, 0.6, 0.7, 0.8]),\n",
       " array([0.1, 0.2, 0.3, 0.4, 0.5, 0.6, 0.7, 0.8, 0.9]))"
      ]
     },
     "execution_count": 20,
     "metadata": {},
     "output_type": "execute_result"
    }
   ],
   "source": [
    "X, y"
   ]
  },
  {
   "cell_type": "code",
   "execution_count": 27,
   "metadata": {},
   "outputs": [
    {
     "name": "stdout",
     "output_type": "stream",
     "text": [
      "0.05135208\n"
     ]
    }
   ],
   "source": [
    "# design network\n",
    "model = Sequential()\n",
    "model.add(Dense(10, input_dim=1))\n",
    "model.add(Dense(1))\n",
    "model.compile(loss='mean_squared_error', optimizer='adam')\n",
    "# fit network\n",
    "model.fit(X, y, epochs=100, batch_size=len(X), verbose=0)\n",
    "# forecast\n",
    "yhat = model.predict(X, verbose=0)\n",
    "print(np.round(mean_squared_error(y, yhat[:,0]), decimals=8))"
   ]
  },
  {
   "cell_type": "code",
   "execution_count": 22,
   "metadata": {},
   "outputs": [],
   "source": [
    "# fit MLP to dataset and print error\n",
    "def fit_model(X, y):\n",
    "    # design network\n",
    "    model = Sequential()\n",
    "    model.add(Dense(10, input_dim=1))\n",
    "    model.add(Dense(1))\n",
    "    model.compile(loss='mean_squared_error', optimizer='adam')\n",
    "    # fit network\n",
    "    model.fit(X, y, epochs=100, batch_size=len(X), verbose=0)\n",
    "    # forecast\n",
    "    yhat = model.predict(X, verbose=0)\n",
    "    print(mean_squared_error(y, yhat[:,0]))"
   ]
  },
  {
   "cell_type": "code",
   "execution_count": 28,
   "metadata": {},
   "outputs": [
    {
     "name": "stdout",
     "output_type": "stream",
     "text": [
      "0.0001178424391213826\n",
      "0.034961894836870164\n",
      "0.03116471194443206\n",
      "0.005133248980840814\n",
      "0.02527912757659748\n",
      "0.01990979007163255\n",
      "0.0792100519339179\n",
      "0.05088476624420747\n",
      "0.014599483766209077\n",
      "4.543357691784893e-06\n",
      "finished!\n"
     ]
    }
   ],
   "source": [
    "# create sequence\n",
    "length = 10\n",
    "sequence = [i/float(length) for i in range(length)]\n",
    "# create X/y pairs\n",
    "df = pd.DataFrame(sequence)\n",
    "df = pd.concat([df.shift(1), df], axis=1)\n",
    "df.dropna(inplace=True)\n",
    "# convert to MLP friendly format\n",
    "values = df.values\n",
    "X, y = values[:,0], values[:,1]\n",
    "# repeat experiment\n",
    "repeats = 10\n",
    "for _ in range(repeats):\n",
    "    fit_model(X, y)\n",
    "print('finished!')"
   ]
  }
 ],
 "metadata": {
  "kernelspec": {
   "display_name": "Python 3",
   "language": "python",
   "name": "python3"
  },
  "language_info": {
   "codemirror_mode": {
    "name": "ipython",
    "version": 3
   },
   "file_extension": ".py",
   "mimetype": "text/x-python",
   "name": "python",
   "nbconvert_exporter": "python",
   "pygments_lexer": "ipython3",
   "version": "3.6.3"
  }
 },
 "nbformat": 4,
 "nbformat_minor": 2
}
