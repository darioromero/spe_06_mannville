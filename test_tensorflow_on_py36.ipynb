{
 "cells": [
  {
   "cell_type": "code",
   "execution_count": 3,
   "metadata": {},
   "outputs": [
    {
     "name": "stderr",
     "output_type": "stream",
     "text": [
      "Python 3.6.3 :: Anaconda custom (64-bit)\n"
     ]
    }
   ],
   "source": [
    "!python -V"
   ]
  },
  {
   "cell_type": "code",
   "execution_count": null,
   "metadata": {},
   "outputs": [],
   "source": [
    "# !pip install tensorflow-gpu"
   ]
  },
  {
   "cell_type": "code",
   "execution_count": 2,
   "metadata": {},
   "outputs": [],
   "source": [
    "import tensorflow as tf"
   ]
  },
  {
   "cell_type": "code",
   "execution_count": 4,
   "metadata": {},
   "outputs": [],
   "source": [
    "import pandas as pd\n",
    "import numpy as np"
   ]
  },
  {
   "cell_type": "code",
   "execution_count": 5,
   "metadata": {},
   "outputs": [],
   "source": [
    "L1 = ['A', 'A', 'A', 'A', 'A', 'A', 'A', 'A', 'A', 'A', 'A', 'A', 'A', 'A', 'C', 'C', 'C', 'C', 'C', 'C', 'C']\n",
    "L2 = [15.64, 48.61, 52.55, 10.86, 46.95, 69.71, 39.75, 66.81, 68.11, \\\n",
    "      26.04, 80.23, 56.01, 26.43, 64.53, 42.44,  9.37, 47.41, 42.42, \\\n",
    "      87.77, 47.27, 15.02]\n",
    "X = [0.76737065, 0.37262098, 0.77949884, 0.2010819 , 0.45119033, \\\n",
    "     0.31415268, 0.57146618, 0.72827904, 0.8682373 , 0.10409761, \\\n",
    "     0.23388043, 0.21963463, 0.95470272, 0.51036359, 0.40584822, \\\n",
    "     0.77598244, 0.21928165, 0.97861107, 0.08981522, 0.45325325, \\\n",
    "     0.21536018]\n",
    "# Y = [0.98183842, 0.98061985, 0.86655134, 0.52254501, 0.76089453, \\\n",
    "#      0.73183496, 0.67529114, 0.52863092, 0.07035535, 0.69897242, \\\n",
    "#      0.73385255, 0.39399209, 0.24091486, 0.53669936, 0.80958593, \\\n",
    "#      0.80679457, 0.95086572, 0.06040778, 0.23175234, 0.02148437, \\\n",
    "#      0.94728914]\n",
    "# Z = [0.78685999, 0.34003929, 0.10679708, 0.07822647, 0.72405963, \\\n",
    "#      0.88941531, 0.42737683, 0.32759782, 0.08717753, 0.09018296, \\\n",
    "#      0.88655664, 0.75499916, 0.59637861, 0.01925546, 0.5426709 , \\\n",
    "#      0.8194985 , 0.30075265, 0.86956156, 0.17491197, 0.3505722 , \\\n",
    "#      0.51643771]\n",
    "# P = [0.09517944, 0.08604814, 0.40881282, 0.07114712, 0.55050158, \\\n",
    "#      0.92561772, 0.99025644, 0.72997158, 0.52222031, 0.8445995 , \\\n",
    "#      0.32791337, 0.41555842, 0.81213603, 0.49849028, 0.55571563, \\\n",
    "#      0.42184218, 0.58919304, 0.46465246, 0.19070682, 0.41856319, \\\n",
    "#      0.94152159]"
   ]
  },
  {
   "cell_type": "code",
   "execution_count": 6,
   "metadata": {},
   "outputs": [],
   "source": [
    "d = {'L1': L1, 'L2': L2, 'X': X}\n",
    "df = pd.DataFrame(data=d)\n",
    "df.set_index(['L1', 'L2'], inplace = True)"
   ]
  },
  {
   "cell_type": "code",
   "execution_count": 7,
   "metadata": {},
   "outputs": [
    {
     "data": {
      "text/html": [
       "<div>\n",
       "<style>\n",
       "    .dataframe thead tr:only-child th {\n",
       "        text-align: right;\n",
       "    }\n",
       "\n",
       "    .dataframe thead th {\n",
       "        text-align: left;\n",
       "    }\n",
       "\n",
       "    .dataframe tbody tr th {\n",
       "        vertical-align: top;\n",
       "    }\n",
       "</style>\n",
       "<table border=\"1\" class=\"dataframe\">\n",
       "  <thead>\n",
       "    <tr style=\"text-align: right;\">\n",
       "      <th></th>\n",
       "      <th></th>\n",
       "      <th>X</th>\n",
       "    </tr>\n",
       "    <tr>\n",
       "      <th>L1</th>\n",
       "      <th>L2</th>\n",
       "      <th></th>\n",
       "    </tr>\n",
       "  </thead>\n",
       "  <tbody>\n",
       "    <tr>\n",
       "      <th rowspan=\"14\" valign=\"top\">A</th>\n",
       "      <th>15.64</th>\n",
       "      <td>0.767371</td>\n",
       "    </tr>\n",
       "    <tr>\n",
       "      <th>48.61</th>\n",
       "      <td>0.372621</td>\n",
       "    </tr>\n",
       "    <tr>\n",
       "      <th>52.55</th>\n",
       "      <td>0.779499</td>\n",
       "    </tr>\n",
       "    <tr>\n",
       "      <th>10.86</th>\n",
       "      <td>0.201082</td>\n",
       "    </tr>\n",
       "    <tr>\n",
       "      <th>46.95</th>\n",
       "      <td>0.451190</td>\n",
       "    </tr>\n",
       "    <tr>\n",
       "      <th>69.71</th>\n",
       "      <td>0.314153</td>\n",
       "    </tr>\n",
       "    <tr>\n",
       "      <th>39.75</th>\n",
       "      <td>0.571466</td>\n",
       "    </tr>\n",
       "    <tr>\n",
       "      <th>66.81</th>\n",
       "      <td>0.728279</td>\n",
       "    </tr>\n",
       "    <tr>\n",
       "      <th>68.11</th>\n",
       "      <td>0.868237</td>\n",
       "    </tr>\n",
       "    <tr>\n",
       "      <th>26.04</th>\n",
       "      <td>0.104098</td>\n",
       "    </tr>\n",
       "    <tr>\n",
       "      <th>80.23</th>\n",
       "      <td>0.233880</td>\n",
       "    </tr>\n",
       "    <tr>\n",
       "      <th>56.01</th>\n",
       "      <td>0.219635</td>\n",
       "    </tr>\n",
       "    <tr>\n",
       "      <th>26.43</th>\n",
       "      <td>0.954703</td>\n",
       "    </tr>\n",
       "    <tr>\n",
       "      <th>64.53</th>\n",
       "      <td>0.510364</td>\n",
       "    </tr>\n",
       "    <tr>\n",
       "      <th rowspan=\"7\" valign=\"top\">C</th>\n",
       "      <th>42.44</th>\n",
       "      <td>0.405848</td>\n",
       "    </tr>\n",
       "    <tr>\n",
       "      <th>9.37</th>\n",
       "      <td>0.775982</td>\n",
       "    </tr>\n",
       "    <tr>\n",
       "      <th>47.41</th>\n",
       "      <td>0.219282</td>\n",
       "    </tr>\n",
       "    <tr>\n",
       "      <th>42.42</th>\n",
       "      <td>0.978611</td>\n",
       "    </tr>\n",
       "    <tr>\n",
       "      <th>87.77</th>\n",
       "      <td>0.089815</td>\n",
       "    </tr>\n",
       "    <tr>\n",
       "      <th>47.27</th>\n",
       "      <td>0.453253</td>\n",
       "    </tr>\n",
       "    <tr>\n",
       "      <th>15.02</th>\n",
       "      <td>0.215360</td>\n",
       "    </tr>\n",
       "  </tbody>\n",
       "</table>\n",
       "</div>"
      ],
      "text/plain": [
       "                 X\n",
       "L1 L2             \n",
       "A  15.64  0.767371\n",
       "   48.61  0.372621\n",
       "   52.55  0.779499\n",
       "   10.86  0.201082\n",
       "   46.95  0.451190\n",
       "   69.71  0.314153\n",
       "   39.75  0.571466\n",
       "   66.81  0.728279\n",
       "   68.11  0.868237\n",
       "   26.04  0.104098\n",
       "   80.23  0.233880\n",
       "   56.01  0.219635\n",
       "   26.43  0.954703\n",
       "   64.53  0.510364\n",
       "C  42.44  0.405848\n",
       "   9.37   0.775982\n",
       "   47.41  0.219282\n",
       "   42.42  0.978611\n",
       "   87.77  0.089815\n",
       "   47.27  0.453253\n",
       "   15.02  0.215360"
      ]
     },
     "execution_count": 7,
     "metadata": {},
     "output_type": "execute_result"
    }
   ],
   "source": [
    "df[:30]"
   ]
  },
  {
   "cell_type": "code",
   "execution_count": 10,
   "metadata": {},
   "outputs": [
    {
     "data": {
      "text/plain": [
       "<bound method MultiIndex.slice_locs of MultiIndex(levels=[['A', 'C'], [9.37, 10.86, 15.02, 15.64, 26.04, 26.43, 39.75, 42.42, 42.44, 46.95, 47.27, 47.41, 48.61, 52.55, 56.01, 64.53, 66.81, 68.11, 69.71, 80.23, 87.77]],\n",
       "           labels=[[0, 0, 0, 0, 0, 0, 0, 0, 0, 0, 0, 0, 0, 0, 1, 1, 1, 1, 1, 1, 1], [3, 12, 13, 1, 9, 18, 6, 16, 17, 4, 19, 14, 5, 15, 8, 0, 11, 7, 20, 10, 2]],\n",
       "           names=['L1', 'L2'])>"
      ]
     },
     "execution_count": 10,
     "metadata": {},
     "output_type": "execute_result"
    }
   ],
   "source": [
    "df.index.slice_locs"
   ]
  },
  {
   "cell_type": "code",
   "execution_count": 11,
   "metadata": {},
   "outputs": [
    {
     "data": {
      "text/plain": [
       "5"
      ]
     },
     "execution_count": 11,
     "metadata": {},
     "output_type": "execute_result"
    }
   ],
   "source": [
    "idx = df.index.get_loc(('A', 69.71))\n",
    "idx"
   ]
  },
  {
   "cell_type": "code",
   "execution_count": 12,
   "metadata": {},
   "outputs": [
    {
     "data": {
      "text/html": [
       "<div>\n",
       "<style>\n",
       "    .dataframe thead tr:only-child th {\n",
       "        text-align: right;\n",
       "    }\n",
       "\n",
       "    .dataframe thead th {\n",
       "        text-align: left;\n",
       "    }\n",
       "\n",
       "    .dataframe tbody tr th {\n",
       "        vertical-align: top;\n",
       "    }\n",
       "</style>\n",
       "<table border=\"1\" class=\"dataframe\">\n",
       "  <thead>\n",
       "    <tr>\n",
       "      <th>L1</th>\n",
       "      <th colspan=\"5\" halign=\"left\">A</th>\n",
       "    </tr>\n",
       "    <tr>\n",
       "      <th>L2</th>\n",
       "      <th>15.64</th>\n",
       "      <th>48.61</th>\n",
       "      <th>52.55</th>\n",
       "      <th>10.86</th>\n",
       "      <th>46.95</th>\n",
       "    </tr>\n",
       "  </thead>\n",
       "  <tbody>\n",
       "    <tr>\n",
       "      <th>X</th>\n",
       "      <td>0.767371</td>\n",
       "      <td>0.372621</td>\n",
       "      <td>0.779499</td>\n",
       "      <td>0.201082</td>\n",
       "      <td>0.45119</td>\n",
       "    </tr>\n",
       "  </tbody>\n",
       "</table>\n",
       "</div>"
      ],
      "text/plain": [
       "L1         A                                       \n",
       "L2     15.64     48.61     52.55     10.86    46.95\n",
       "X   0.767371  0.372621  0.779499  0.201082  0.45119"
      ]
     },
     "execution_count": 12,
     "metadata": {},
     "output_type": "execute_result"
    }
   ],
   "source": [
    "df.iloc[idx-5:idx].transpose()"
   ]
  },
  {
   "cell_type": "code",
   "execution_count": 13,
   "metadata": {},
   "outputs": [
    {
     "data": {
      "text/html": [
       "<div>\n",
       "<style>\n",
       "    .dataframe thead tr:only-child th {\n",
       "        text-align: right;\n",
       "    }\n",
       "\n",
       "    .dataframe thead th {\n",
       "        text-align: left;\n",
       "    }\n",
       "\n",
       "    .dataframe tbody tr th {\n",
       "        vertical-align: top;\n",
       "    }\n",
       "</style>\n",
       "<table border=\"1\" class=\"dataframe\">\n",
       "  <thead>\n",
       "    <tr>\n",
       "      <th>L1</th>\n",
       "      <th colspan=\"5\" halign=\"left\">A</th>\n",
       "    </tr>\n",
       "    <tr>\n",
       "      <th>L2</th>\n",
       "      <th>39.75</th>\n",
       "      <th>66.81</th>\n",
       "      <th>68.11</th>\n",
       "      <th>26.04</th>\n",
       "      <th>80.23</th>\n",
       "    </tr>\n",
       "  </thead>\n",
       "  <tbody>\n",
       "    <tr>\n",
       "      <th>X</th>\n",
       "      <td>0.571466</td>\n",
       "      <td>0.728279</td>\n",
       "      <td>0.868237</td>\n",
       "      <td>0.104098</td>\n",
       "      <td>0.23388</td>\n",
       "    </tr>\n",
       "  </tbody>\n",
       "</table>\n",
       "</div>"
      ],
      "text/plain": [
       "L1         A                                       \n",
       "L2     39.75     66.81     68.11     26.04    80.23\n",
       "X   0.571466  0.728279  0.868237  0.104098  0.23388"
      ]
     },
     "execution_count": 13,
     "metadata": {},
     "output_type": "execute_result"
    }
   ],
   "source": [
    "df.iloc[idx+1:idx+6].transpose()"
   ]
  },
  {
   "cell_type": "code",
   "execution_count": null,
   "metadata": {},
   "outputs": [],
   "source": [
    "# ==========================================================================================="
   ]
  },
  {
   "cell_type": "code",
   "execution_count": 47,
   "metadata": {},
   "outputs": [],
   "source": [
    "df = pd.DataFrame(data=d, \n",
    "     index=pd.date_range('2015-01-01','2015-03-31'),columns=['A', 'B'])"
   ]
  },
  {
   "cell_type": "code",
   "execution_count": 49,
   "metadata": {},
   "outputs": [
    {
     "data": {
      "text/plain": [
       "90"
      ]
     },
     "execution_count": 49,
     "metadata": {},
     "output_type": "execute_result"
    }
   ],
   "source": [
    "len(df)"
   ]
  },
  {
   "cell_type": "code",
   "execution_count": null,
   "metadata": {},
   "outputs": [],
   "source": [
    "idx = df.index.get_loc('2015-01-17')\n",
    "df.iloc[idx - 10 : idx].transpose() # 10 observations before"
   ]
  },
  {
   "cell_type": "code",
   "execution_count": null,
   "metadata": {},
   "outputs": [],
   "source": [
    "dft = df.iloc[idx - 10 : idx].transpose()\n",
    "dft.iloc[:, :].values"
   ]
  },
  {
   "cell_type": "code",
   "execution_count": null,
   "metadata": {},
   "outputs": [],
   "source": [
    "df.iloc[idx + 1 : idx + 11].transpose() # 10 observations after"
   ]
  },
  {
   "cell_type": "code",
   "execution_count": null,
   "metadata": {},
   "outputs": [],
   "source": [
    "df.index.names"
   ]
  },
  {
   "cell_type": "code",
   "execution_count": null,
   "metadata": {},
   "outputs": [],
   "source": [
    "# ============================================================================================="
   ]
  },
  {
   "cell_type": "code",
   "execution_count": 74,
   "metadata": {},
   "outputs": [],
   "source": [
    "buckets = np.repeat(['a','b','c'], [3,5,1])\n",
    "# buckets = ['a', 'a', 'a', 'b', 'b', 'b', 'b', 'b', 'c']\n",
    "sequence = [0,1,5,0,1,2,4,50,0]"
   ]
  },
  {
   "cell_type": "code",
   "execution_count": 81,
   "metadata": {},
   "outputs": [],
   "source": [
    "p = np.random.randn(len(sequence))\n",
    "p = [ 0.13547333,  0.12050318,  0.79667741,  1.13154469, -0.76221231,\n",
    "        0.48011912,  1.00599401, -1.04893034, -0.29903331]\n",
    "# q = [ 1.14128175, -0.93151794, -0.04459442,  0.83357158,  0.247773  ,\n",
    "#        -0.71857894, -0.12140772, -0.41506347,  0.33243907]"
   ]
  },
  {
   "cell_type": "code",
   "execution_count": 87,
   "metadata": {},
   "outputs": [
    {
     "data": {
      "text/plain": [
       "MultiIndex(levels=[['a', 'b', 'c'], [0, 1, 2, 4, 5, 50]],\n",
       "           labels=[[0, 0, 0, 1, 1, 1, 1, 1, 2], [0, 1, 4, 0, 1, 2, 3, 5, 0]])"
      ]
     },
     "execution_count": 87,
     "metadata": {},
     "output_type": "execute_result"
    }
   ],
   "source": [
    "# pd.MultiIndex.from_tuples(list(zip(buckets, sequence)))\n",
    "s = pd.Series(p, index=pd.MultiIndex.from_tuples(list(zip(buckets, sequence))))\n",
    "# t = pd.Series(q, index=pd.MultiIndex.from_tuples(list(zip(buckets, sequence))))"
   ]
  },
  {
   "cell_type": "code",
   "execution_count": 88,
   "metadata": {},
   "outputs": [
    {
     "data": {
      "text/plain": [
       "a  0     0.135473\n",
       "   1     0.120503\n",
       "   5     0.796677\n",
       "b  0     1.131545\n",
       "   1    -0.762212\n",
       "   2     0.480119\n",
       "   4     1.005994\n",
       "   50   -1.048930\n",
       "c  0    -0.299033\n",
       "dtype: float64"
      ]
     },
     "execution_count": 88,
     "metadata": {},
     "output_type": "execute_result"
    }
   ],
   "source": [
    "# m = pd.DataFrame([s, t], index=pd.MultiIndex.from_tuples(list(zip(buckets, sequence))))\n",
    "s"
   ]
  },
  {
   "cell_type": "code",
   "execution_count": 79,
   "metadata": {},
   "outputs": [
    {
     "data": {
      "text/plain": [
       "0     1.131545\n",
       "1    -0.762212\n",
       "2     0.480119\n",
       "4     1.005994\n",
       "50   -1.048930\n",
       "dtype: float64"
      ]
     },
     "execution_count": 79,
     "metadata": {},
     "output_type": "execute_result"
    }
   ],
   "source": [
    "s['b']"
   ]
  },
  {
   "cell_type": "code",
   "execution_count": 107,
   "metadata": {},
   "outputs": [
    {
     "data": {
      "text/plain": [
       "a  0    0.135473\n",
       "   1    0.120503\n",
       "   5    0.796677\n",
       "dtype: float64"
      ]
     },
     "execution_count": 107,
     "metadata": {},
     "output_type": "execute_result"
    }
   ],
   "source": [
    "L1 = 'a'\n",
    "low = 0\n",
    "hig = 5\n",
    "L2 = slice(low, hig)\n",
    "# s.loc[('b', slice(2, 5))]\n",
    "s.loc[(L1, L2)]"
   ]
  }
 ],
 "metadata": {
  "anaconda-cloud": {},
  "kernelspec": {
   "display_name": "Python 3",
   "language": "python",
   "name": "python3"
  },
  "language_info": {
   "codemirror_mode": {
    "name": "ipython",
    "version": 3
   },
   "file_extension": ".py",
   "mimetype": "text/x-python",
   "name": "python",
   "nbconvert_exporter": "python",
   "pygments_lexer": "ipython3",
   "version": "3.6.3"
  }
 },
 "nbformat": 4,
 "nbformat_minor": 1
}
